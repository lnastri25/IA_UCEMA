{
  "cells": [
    {
      "cell_type": "code",
      "execution_count": 1,
      "metadata": {
        "id": "_t111MxS4geu"
      },
      "outputs": [],
      "source": [
        "from numpy.random import randint\n",
        "from numpy.random import rand\n",
        "import random"
      ]
    },
    {
      "cell_type": "markdown",
      "metadata": {
        "id": "vxXufzWEGs21"
      },
      "source": [
        "#### Creamos nuestro genoma y la población"
      ]
    },
    {
      "cell_type": "markdown",
      "metadata": {
        "id": "UZIlh45oHl74"
      },
      "source": [
        "######Genoma:"
      ]
    },
    {
      "cell_type": "code",
      "execution_count": 2,
      "metadata": {
        "id": "2W8S4IHvGxq-"
      },
      "outputs": [],
      "source": [
        "#genoma --> La sucesión de números, letras, elementos, etc que conforman nuestro objetivo\n",
        "\n",
        "genoma_1 = \"ser o no ser\"\n",
        "genoma_2 = [1,2,3,4,5,6,7,8,9,10]\n",
        "genoma_3 = \"juan@gmail.com\"\n",
        "genoma_4 = [0.5, 1.2, 0.3, 0.8]\n",
        "genoma_5 = [random.choice([1,2,3,4,5,6,7,8]) for _ in range(6)]\n"
      ]
    },
    {
      "cell_type": "code",
      "execution_count": 3,
      "metadata": {
        "colab": {
          "base_uri": "https://localhost:8080/"
        },
        "id": "08ayRiq21LWj",
        "outputId": "956feefc-1bcd-4ae4-d2d7-98eb4f1a9153"
      },
      "outputs": [
        {
          "data": {
            "text/plain": [
              "[5, 5, 6, 1, 3, 1]"
            ]
          },
          "execution_count": 3,
          "metadata": {},
          "output_type": "execute_result"
        }
      ],
      "source": [
        "genoma_5"
      ]
    },
    {
      "cell_type": "code",
      "execution_count": 4,
      "metadata": {
        "id": "9VuaN1d_2Ap7"
      },
      "outputs": [],
      "source": [
        "def generateGenome(largo_genoma, valores):\n",
        "    # Función para crear genomas\n",
        "    return [random.choice(valores) for _ in range(largo_genoma)]\n",
        "\n",
        "largo_genoma = len(genoma_1)"
      ]
    },
    {
      "cell_type": "markdown",
      "metadata": {
        "id": "H3FL77V849w2"
      },
      "source": [
        "¿Cómo armarían la lista valores si utilizamos genoma_1? ¿Qué debe tener dentro?"
      ]
    },
    {
      "cell_type": "code",
      "execution_count": 5,
      "metadata": {
        "colab": {
          "base_uri": "https://localhost:8080/"
        },
        "id": "4dgvxCSX3NtI",
        "outputId": "cebc8477-6fa6-4d97-c1b2-ed778202afa0"
      },
      "outputs": [
        {
          "name": "stdout",
          "output_type": "stream",
          "text": [
            "['a', 'b', 'c', 'd', 'e', 'f', 'g', 'h', 'i', 'j', 'k', 'l', 'm', 'n', 'o', 'p', 'q', 'r', 's', 't', 'u', 'v', 'w', 'x', 'y', 'z', 'A', 'B', 'C', 'D', 'E', 'F', 'G', 'H', 'I', 'J', 'K', 'L', 'M', 'N', 'O', 'P', 'Q', 'R', 'S', 'T', 'U', 'V', 'W', 'X', 'Y', 'Z', ' ']\n"
          ]
        }
      ],
      "source": [
        "valores = list(\"abcdefghijklmnopqrstuvwxyzABCDEFGHIJKLMNOPQRSTUVWXYZ \")\n",
        "print(valores)"
      ]
    },
    {
      "cell_type": "code",
      "execution_count": 6,
      "metadata": {
        "colab": {
          "base_uri": "https://localhost:8080/"
        },
        "id": "FjZ2ZgLn4iSt",
        "outputId": "1342696d-a4d3-46e2-c28c-b65e3e6549a6"
      },
      "outputs": [
        {
          "name": "stdout",
          "output_type": "stream",
          "text": [
            " \n",
            "a\n"
          ]
        },
        {
          "data": {
            "text/plain": [
              "['a',\n",
              " 'b',\n",
              " 'c',\n",
              " 'd',\n",
              " 'e',\n",
              " 'f',\n",
              " 'g',\n",
              " 'h',\n",
              " 'i',\n",
              " 'j',\n",
              " 'k',\n",
              " 'l',\n",
              " 'm',\n",
              " 'n',\n",
              " 'o',\n",
              " 'p',\n",
              " 'q',\n",
              " 'r',\n",
              " 's',\n",
              " 't',\n",
              " 'u',\n",
              " 'v',\n",
              " 'w',\n",
              " 'x',\n",
              " 'y',\n",
              " 'z',\n",
              " ' ']"
            ]
          },
          "execution_count": 6,
          "metadata": {},
          "output_type": "execute_result"
        }
      ],
      "source": [
        "import string\n",
        "\n",
        "valores = list(string.ascii_lowercase + \" \")\n",
        "print(valores[-1])\n",
        "print(valores[0])\n",
        "valores"
      ]
    },
    {
      "cell_type": "markdown",
      "metadata": {
        "id": "7Z2dLrgq4bqe"
      },
      "source": [
        ">>> help(string)\n",
        "\n",
        "    ascii_letters = 'abcdefghijklmnopqrstuvwxyzABCDEFGHIJKLMNOPQRSTUVWXYZ'\n",
        "    ascii_lowercase = 'abcdefghijklmnopqrstuvwxyz'\n",
        "    ascii_uppercase = 'ABCDEFGHIJKLMNOPQRSTUVWXYZ'\n",
        "    digits = '0123456789'\n",
        "    hexdigits = '0123456789abcdefABCDEF'\n",
        "    octdigits = '01234567'\n",
        "    printable = '0123456789abcdefghijklmnopqrstuvwxyzABCDEFGHIJKLMNOPQRSTUVWXYZ!\"#$%&\\'()*+,-./:;<=>?@[\\\\]^_`{|}~ \\t\\n\\r\\x0b\\x0c'\n",
        "    punctuation = '!\"#$%&\\'()*+,-./:;<=>?@[\\\\]^_`{|}~'\n",
        "    whitespace = ' \\t\\n\\r\\x0b\\x0c'"
      ]
    },
    {
      "cell_type": "markdown",
      "metadata": {
        "id": "Kh2L1GyT1tih"
      },
      "source": [
        "###### Population:"
      ]
    },
    {
      "cell_type": "code",
      "execution_count": 7,
      "metadata": {
        "colab": {
          "base_uri": "https://localhost:8080/"
        },
        "id": "ZZ-sT2p0Hpue",
        "outputId": "9ac4834f-4ffa-4d7d-d51c-b1d45bebed39"
      },
      "outputs": [
        {
          "data": {
            "text/plain": [
              "[['z', 'h', 'h', 'l', 'p', 'g', 'j', 'q', 'f', 'j', ' ', 'f'],\n",
              " ['b', 'z', 'c', 'n', 'p', 'c', 'b', 's', 'w', 'p', 'f', 'p'],\n",
              " ['r', 'p', 'd', 'r', 'k', 'x', 'r', 'f', 'g', 'w', 'i', 'a'],\n",
              " ['z', 'f', 'l', 'z', 'j', 'm', 'p', 'p', 'a', 'v', 'b', 'm'],\n",
              " ['t', 'd', 'i', 'i', 'o', 'k', 't', 'y', 'u', 'b', 'i', 'p'],\n",
              " ['v', 'v', 'h', 's', 'r', 'y', 'z', 'w', 'g', ' ', 'u', 'g'],\n",
              " ['m', 'n', 'f', 'r', 'l', 'p', 's', 'q', 'x', 'h', 'o', 'm'],\n",
              " ['p', 'd', 'i', 't', 'g', ' ', 'p', 't', 'h', 'o', 'f', 'a'],\n",
              " ['a', 'm', 'q', 'l', ' ', ' ', 'v', 'c', 'd', 'd', 'n', 'h'],\n",
              " ['d', 'i', 'e', 'a', 'p', 'e', 'd', 'j', 'j', 'w', 'p', 'a'],\n",
              " ['h', 'l', 's', 's', 'g', 'h', 'c', 'g', 'm', 'd', 'z', 't'],\n",
              " ['n', 'e', 'g', ' ', 'j', 't', 'a', 'm', 'v', 'o', 'd', 'y'],\n",
              " ['w', 'h', ' ', 'z', 'i', 'j', 'z', 'k', 'i', 'm', 'w', ' '],\n",
              " ['y', 'e', 'b', 'x', 'o', 'b', 'l', 'w', 'k', 'c', 'z', 'z'],\n",
              " ['t', 'j', 'm', 'm', 'o', 'o', 'f', 'r', 'l', 'm', 'q', 'e'],\n",
              " ['y', 'v', 'o', 'm', 'w', 'y', 'd', 'i', 'f', 'y', 's', 't'],\n",
              " ['b', 'e', 'c', 'q', 'b', 'w', 'g', 'f', 'f', 'i', 'h', 'z'],\n",
              " ['g', 'c', 'o', 'f', 'w', 'j', 'o', 'v', 'c', 'l', 'h', 't'],\n",
              " ['s', 'h', 'c', 'g', 'k', 'w', 'b', 'r', 'o', 'l', 'p', 'm'],\n",
              " ['v', 'j', 'i', 'w', 'q', 'q', 'h', 'x', 'y', 'r', 'h', 'q'],\n",
              " ['y', 'p', 'v', 'y', ' ', 'x', 'w', 'h', 'g', 'a', 'y', 'd'],\n",
              " ['r', 'x', 'd', 'd', 'x', 'd', 'd', 't', 'e', 't', 'o', 'z'],\n",
              " ['e', 'q', 'n', 'w', 't', 'e', 'z', 's', 'y', 'y', 'w', 'o'],\n",
              " ['t', 'f', 'r', 'g', 'l', 'r', 'x', 'j', 's', 'i', 'y', 'f'],\n",
              " ['l', 'o', 'h', 'n', 'm', 'i', 'p', 'q', 's', 'u', 'y', 'r'],\n",
              " ['x', 'b', 'k', 'k', 'e', 't', 's', 'c', 'r', 'h', 'o', 'w'],\n",
              " ['e', 'c', 'u', 'c', 'g', 'e', 'w', 'e', 's', 'l', 'd', 'o'],\n",
              " ['s', 'b', 'v', 'h', 'v', 'r', 'e', 'k', 'p', 'f', 'e', 'e'],\n",
              " ['o', 'w', 'v', 't', 'c', 'l', 'g', 'f', 'q', 'i', 'd', 'n'],\n",
              " ['q', 's', 'l', 'g', 'q', 'e', 'r', 'w', 'o', 'u', 'o', 'x'],\n",
              " ['c', 'i', ' ', 'e', 'q', 's', 's', 'j', 'z', 'p', 'v', 'l'],\n",
              " ['x', 'x', 'i', 'y', 'v', 'z', 'i', 'f', 'w', 'k', 'i', 'c'],\n",
              " ['g', 'h', 'n', 'r', 'v', 'i', 'a', 'p', 'g', 'c', 's', 'r'],\n",
              " ['y', 'w', 'i', 'y', 'c', 'h', 'w', 'r', ' ', 'o', 's', 'n'],\n",
              " ['b', 'r', 'h', 'm', 'y', 'x', 'k', 'd', 'z', 'c', 'b', 'j'],\n",
              " ['l', 's', 'j', 'x', 'd', 's', 'a', ' ', 'b', 'b', 't', 'i'],\n",
              " ['q', 'w', 'p', 'c', 'j', 'q', 'n', 'p', 'c', 'k', 'z', 'c'],\n",
              " ['a', 'k', 'f', ' ', 'k', 'j', 'r', 'y', 'x', 'r', 'w', 'g'],\n",
              " ['s', 'm', 'p', 'w', 'u', 'q', 'p', 'l', 'b', 'c', 't', 'w'],\n",
              " ['n', 't', 'b', 'y', 'b', 's', 't', 'g', 's', 'm', 'd', 'c'],\n",
              " ['x', 'g', 't', 'a', 'b', 'v', 'n', 'z', 'a', 'x', 'd', 'n'],\n",
              " ['y', 'p', 'b', 'p', 'e', 'a', 'n', 'e', 'x', 'j', 'p', 'i'],\n",
              " ['x', 'x', 'e', 'b', 'e', 'v', 'd', 'n', 'r', 'w', 'u', 'i'],\n",
              " ['z', 'z', 'c', 's', 'k', 'n', 'h', 'z', 'i', 'j', 's', 'k'],\n",
              " ['m', 'v', 'h', 'u', 'e', 'c', 'o', 'z', 'h', ' ', 'w', 'h'],\n",
              " ['n', 'w', 'r', 'o', 'm', 'p', 'd', 'e', 'm', 'q', 'j', 'j'],\n",
              " ['m', 'g', 'd', 'n', 's', 'i', 'z', 'v', 'i', 'j', 'b', 'a'],\n",
              " ['p', ' ', 'g', 'c', 'a', ' ', 'o', 'u', 'x', 'x', 'u', 'p'],\n",
              " [' ', 'd', 'k', 'k', 'w', 'p', 'p', 't', 'k', 'w', 'f', 'l'],\n",
              " ['n', 'x', 'n', 'f', 'c', 'x', 'v', 'h', 'v', 'i', 's', 'l'],\n",
              " ['t', 'v', 'n', 'c', 'v', 'x', 'b', 's', 'h', 'a', 's', 'j'],\n",
              " ['g', 'o', 'p', 'o', 'h', 'h', 'j', 'i', 'a', 'a', 'z', 'i'],\n",
              " ['c', 'c', 'a', 'l', 'a', 'o', 's', 'l', 'l', 'z', 'i', ' '],\n",
              " ['g', 'n', 't', 'g', 'r', 'u', 'u', ' ', 'y', 'c', 'h', ' '],\n",
              " ['k', 'q', 's', 'g', 'j', 's', 'o', 'p', 'r', 'q', 'x', 'b'],\n",
              " ['o', 'a', 'u', 'l', 'k', 'x', 'k', 'z', 'x', 'v', 'g', 't'],\n",
              " ['c', 's', 'x', 'f', 'c', 'n', 'g', 'g', 'p', 'm', 'u', 'p'],\n",
              " ['x', 'q', 'p', 'u', 'g', 'g', 'g', 'a', 'a', 'h', 'p', 'o'],\n",
              " ['g', 'h', 'z', 'p', 'o', 'n', 't', 'z', 'w', 'x', 'v', 'q'],\n",
              " ['g', 'l', 'g', 'e', 'm', 'k', 'r', 't', 'p', 'f', ' ', 'q'],\n",
              " ['c', 'm', 'j', ' ', ' ', 'j', 'w', 'i', 'k', 'u', 'q', 's'],\n",
              " [' ', 'f', 'f', 'p', 'b', ' ', 'b', 'p', 'z', 'm', ' ', 'j'],\n",
              " ['h', 'e', 'f', 'e', 'g', 't', 'a', 'i', 'z', 'f', 'q', 'm'],\n",
              " ['t', 'c', 'x', 'w', 'q', 'r', 'w', 'd', 'v', 'v', 'c', 'r'],\n",
              " ['b', 'c', 'g', 'u', 'k', 'v', 'l', 'h', 'f', 'c', 'y', ' '],\n",
              " ['d', 'l', 'j', 'k', 'v', 'a', 'r', ' ', 'j', 'm', 't', ' '],\n",
              " ['p', 'm', 'v', 'l', 'a', 'v', 'w', 'j', 'q', 'p', 'w', 'g'],\n",
              " ['v', 'x', 'g', 'c', 'z', 'c', 'g', 'h', 'n', 'k', 'x', 'x'],\n",
              " ['r', 'n', 'a', 's', 'x', 't', 'q', 'y', 'i', 's', 'p', 'm'],\n",
              " ['k', 'w', 'u', 'q', 'e', 'q', 'v', 'r', 'f', 'o', 'y', 'e'],\n",
              " ['z', 'i', 'j', 'e', 'u', 'p', 's', 'u', 'y', 'f', 'b', 'j'],\n",
              " ['u', 'k', 'j', 'u', 'q', 'd', 'j', 'q', 'h', 't', 'd', ' '],\n",
              " ['x', 'z', 'm', 'h', 'j', 'o', 'c', 't', 'm', 'k', 'b', 'n'],\n",
              " ['u', 'f', 'c', 'x', 'o', 's', 'q', 'l', 'f', 'r', 'g', 'l'],\n",
              " ['f', 'n', 's', 'p', 'h', 'r', 'q', 'n', 'b', 'e', 'e', 'p'],\n",
              " ['v', 'g', 'w', 'm', 's', 'a', 'a', 'k', 'q', 'q', 'g', 'l'],\n",
              " ['r', 'f', 'd', 'w', 'w', ' ', 'y', 's', 'm', 'c', 'x', 'b'],\n",
              " ['n', 'l', 'q', 'v', 'q', 'a', 't', 'p', 'q', 'e', 'v', 'u'],\n",
              " ['z', 'r', 'u', 'g', 'm', 'a', 'w', 'a', 'u', 'v', 'h', 'f'],\n",
              " ['c', 'y', 'a', 'e', 'i', 'b', 'g', 'i', 'b', 'n', 'a', 'v'],\n",
              " ['u', 'r', 'h', 'x', 'j', 'z', 'f', 'r', 'j', 'b', 'r', 'k'],\n",
              " ['o', 'x', 'e', 'i', 'v', 'p', 'o', 'a', 'd', 'k', 'd', 's'],\n",
              " ['u', 'h', 'd', 'q', 'g', 'n', 'v', 'c', 'u', 'h', 'w', 'a'],\n",
              " ['a', 'h', 'g', 'e', 'i', 'w', 'r', 't', 'x', 'a', 'j', 'k'],\n",
              " ['i', 'l', 'w', 's', 'g', 'l', 'a', 't', 'q', 'x', 'e', 'r'],\n",
              " ['x', 'c', 'f', 'm', 'i', 'w', 'a', 'x', 's', 'm', 'v', 'k'],\n",
              " ['f', 'b', 'p', 'e', 't', 'm', 'z', 't', 'j', 'p', 'z', 'u'],\n",
              " ['c', 'k', 'x', 'n', 'd', 'l', 'b', 'f', 'w', 'k', 'w', 'a'],\n",
              " ['q', 'u', 'u', 'g', 'k', 'z', 'g', 'x', 'z', 'x', 'l', 'h'],\n",
              " ['v', 'b', 'm', 'n', 'q', 'w', 'i', 'c', 'w', 'w', 's', 'm'],\n",
              " ['b', 'd', 'k', 'y', 'n', 'm', 'q', 'e', 'f', 'g', 'v', 'r'],\n",
              " ['f', 'd', 'o', 'j', 'y', 'h', ' ', 't', 'e', 'l', 'v', 'e'],\n",
              " ['f', 'd', 'm', 'c', 'c', 'd', 'm', 'd', 'x', 'p', 'k', 's'],\n",
              " ['n', 'n', 'w', 't', 'r', 'l', 'q', ' ', 'a', 'o', 'u', 'i'],\n",
              " ['a', 'q', 't', 'x', 'h', 'b', 'r', 'i', 'x', 'e', 'b', 'h'],\n",
              " ['g', 'b', 'u', 'z', 'i', 'r', 'u', 'c', 'c', 'v', 'o', 'i'],\n",
              " ['a', 'n', 'e', 't', 'e', 'b', 'h', 'w', 'y', 'i', 'h', 'o'],\n",
              " [' ', 'n', 'f', 'l', 'h', 'b', 't', 'u', 'u', 'f', 'o', 'v'],\n",
              " ['j', 'l', 'h', 'g', 'r', 's', 'b', 'h', 'd', 'n', 'z', 'd'],\n",
              " [' ', 'u', 'm', 'o', 'h', 'i', 'w', 'g', 't', 'h', 'b', 'h']]"
            ]
          },
          "execution_count": 7,
          "metadata": {},
          "output_type": "execute_result"
        }
      ],
      "source": [
        "# Población --> El número de genomas que voy a tener al trabajar con mi algoritmo genérico\n",
        "population_size = 100\n",
        "population = [generateGenome(largo_genoma, valores) for _ in range(population_size)]\n",
        "population"
      ]
    },
    {
      "cell_type": "code",
      "execution_count": 8,
      "metadata": {
        "id": "qWWug4da65UN"
      },
      "outputs": [],
      "source": [
        "def generatePopulation(population_size, largo_genoma, valores):\n",
        "    # Función para crear poblaciones\n",
        "    population = [generateGenome(largo_genoma, valores) for _ in range(population_size)]\n",
        "    return population"
      ]
    },
    {
      "cell_type": "code",
      "execution_count": 9,
      "metadata": {
        "colab": {
          "base_uri": "https://localhost:8080/"
        },
        "id": "VbXXDeAN9_VH",
        "outputId": "6f250bee-0045-4f1d-e28e-dfd2a84e46b4"
      },
      "outputs": [
        {
          "name": "stdout",
          "output_type": "stream",
          "text": [
            "['y', 'g', 'j', 'k', 'e', 'i', 'y', 'q', 'x', 'd', 'r', 'o']\n"
          ]
        },
        {
          "data": {
            "text/plain": [
              "[['y', 'g', 'j', 'k', 'e', 'i', 'y', 'q', 'x', 'd', 'r', 'o'],\n",
              " ['l', 'b', 's', 'b', 'h', 'a', 'm', 'k', 'w', 'f', 'j', 'o'],\n",
              " ['y', 'z', 'z', 'n', 'f', 'l', 'd', 'p', 'k', 'b', 'k', 'j'],\n",
              " ['i', 'f', 'n', 'b', ' ', 'p', 'o', 'j', 'g', 'a', 's', 'u'],\n",
              " ['a', 's', 'q', 'l', 'k', 'w', 'f', 'r', 'n', 'z', ' ', 'p'],\n",
              " ['g', 't', 'c', 'y', 'i', 'j', 't', 'y', 't', 's', 'g', 'y'],\n",
              " ['f', 'v', ' ', 'h', 'l', 'w', 'g', 'k', 'e', 'c', 'c', 'q'],\n",
              " ['e', 'i', 's', 'v', 'x', ' ', 'r', 'i', 'c', 'o', 'd', 'i'],\n",
              " ['w', 'g', 'g', 'h', 'b', 'w', 'q', 'd', 'i', 'u', 'q', 'w'],\n",
              " ['c', 'h', 'm', 'j', ' ', 'p', 'h', 'x', 'e', 'b', 'p', 'g'],\n",
              " ['e', 'u', 'd', 'q', 'f', 'm', 'o', 'g', 'l', 'a', 'd', 'f'],\n",
              " ['z', 'g', 'z', 'u', 'l', 'd', 'l', 'm', 'r', 'f', 'k', 'u'],\n",
              " ['n', 'b', 'z', 'v', 's', 'e', 's', 'j', 'k', 'y', 's', 'h'],\n",
              " ['x', 'r', 'h', 'x', 's', 'd', 'a', 'u', 's', 'y', 'w', 'j'],\n",
              " ['n', 'q', 't', 'a', 'n', 'p', 'o', 'x', 'm', 'i', 'o', 'c'],\n",
              " ['g', 'r', 'g', 't', 'c', 'm', 'l', 't', 'v', 'i', 'b', 'h'],\n",
              " ['y', 'i', 'o', 'q', 'c', 'g', 'o', 'o', 'e', 'x', ' ', ' '],\n",
              " ['h', 'v', 'm', 'z', 'u', 'c', 'k', 'r', 'z', 'm', 'w', 'g'],\n",
              " ['m', 'b', 'w', 'n', 'v', 'e', 'p', 'a', 'd', 'o', 'k', 'b'],\n",
              " ['w', ' ', 'y', 'o', 'r', 'i', 'j', 'x', 'q', 'j', 'o', 'b'],\n",
              " ['g', 'f', 'c', 'a', 'f', 'z', 'p', 'c', 'v', 'j', 'r', 'i'],\n",
              " ['v', 'n', 'e', 'q', 'v', 'a', 'z', 'r', ' ', 'j', 'c', 'l'],\n",
              " ['o', 'v', 'u', 'x', 'b', 'c', 's', 'm', 'j', 'q', 'm', 'o'],\n",
              " ['o', 'h', 'j', 'a', 'q', 'e', 'h', 's', 'i', 'c', 'd', 'h'],\n",
              " ['s', 'w', 'l', 'i', 'q', 'p', 't', 'h', 't', 'j', 'u', 'k'],\n",
              " ['j', 'y', 'm', 'w', 'u', 'z', 'd', 'y', 'x', 'f', 'm', 'f'],\n",
              " ['a', 'h', 's', 'f', 'l', 'p', 'r', 'v', 'a', 'o', 'o', 'h'],\n",
              " ['z', 'r', 'b', 'w', 'y', 'm', 's', 'h', 'i', 'b', 'z', 'g'],\n",
              " ['d', 'r', 'g', 'y', 'w', ' ', 'n', 'y', 'o', ' ', 'z', 's'],\n",
              " ['t', 'v', 'g', 'l', 'w', 'n', 'a', 'v', 'p', 's', 'k', 'd'],\n",
              " ['t', 'x', 'p', 'd', 'r', 'a', 'c', 'm', 't', 'l', 'j', 't'],\n",
              " ['v', 'o', 'p', 'u', 'c', 'g', 'd', 'c', 's', 'p', 'c', 'z'],\n",
              " ['g', 'c', 'e', ' ', 'x', 'h', 'b', 'd', 'z', 'q', 'o', 'm'],\n",
              " ['w', 't', 'v', 's', 'c', 'a', 'a', 'b', 'y', 'q', 'a', 'o'],\n",
              " ['j', 'w', 's', 'b', 'r', 'h', 'f', 'b', 'u', 'l', 'h', 'f'],\n",
              " ['o', 'i', 'l', 'u', 'j', 'r', 'l', 'o', 'm', 'm', 'k', 'k'],\n",
              " ['r', 'w', 'o', 'a', 'y', 'q', 's', 'e', 'm', 'b', 'p', 'p'],\n",
              " ['e', 'y', 'l', 'n', 'w', 'e', 'y', 'u', 'g', 'f', 'j', 'u'],\n",
              " ['r', 'a', 'w', 's', 'i', 'i', 't', 'i', 'u', 'f', 'd', 'b'],\n",
              " ['w', ' ', 'e', 'd', 'j', 'h', 's', 'd', 'k', 'o', 'i', 'o'],\n",
              " ['m', 'x', 'r', 'o', 'g', 'k', 'z', 'e', 'z', 'e', 't', 'z'],\n",
              " ['w', 'q', 'n', 'v', 'q', 'e', 'p', 'f', 'j', 's', 'g', 'a'],\n",
              " ['f', 'j', 'w', 'e', 'o', 'l', 'q', 'j', 'p', 'r', 's', 'p'],\n",
              " ['h', 'v', 'z', 'e', 'u', 'h', 'z', 'b', 'b', 'p', 'k', 'z'],\n",
              " ['o', 'p', 'g', 'f', 'y', 's', 'h', ' ', 'f', 'd', 't', 'i'],\n",
              " ['i', 'a', 'k', 'n', 'e', 'd', 'e', 'x', 'f', 'd', 'x', 'w'],\n",
              " ['v', 'x', ' ', 'q', 'l', 's', 'j', 'r', 'l', 'z', 'd', 'x'],\n",
              " ['q', 'b', 'd', 'l', 'y', 'e', 'g', 'd', 'j', 'k', 'v', 'y'],\n",
              " ['m', 'b', ' ', 'v', 'r', 'n', 'i', 's', 'x', 'l', 'd', 'w'],\n",
              " ['m', 'm', 'q', 'm', 'm', 'c', 'r', 'q', 'w', 'a', 'j', 'c'],\n",
              " ['f', 'c', 'i', 'a', ' ', 's', ' ', 'z', 'z', 'n', ' ', 'n'],\n",
              " ['f', 'd', 'm', 'n', 'z', 'y', 'v', 'i', 'h', 'o', 'n', 'a'],\n",
              " ['a', 'f', 'y', 'e', 'g', 'w', 'y', 'j', 'a', 'd', 'y', 'x'],\n",
              " ['i', 's', 'g', 'z', 'h', 'q', ' ', 'i', 'g', 'r', 's', 'b'],\n",
              " ['u', 'b', 'b', 'c', 'i', 'p', 'e', 'q', 'j', 'z', 'm', 'c'],\n",
              " ['h', 'n', 'u', 'a', 't', 'u', 'p', 'm', 'e', 'n', 's', 'r'],\n",
              " ['f', 'i', 'n', 'e', 'b', 'c', 'h', 'd', 'c', 'e', 'k', 'c'],\n",
              " ['r', 'd', 'k', 'y', 'h', 'm', 'z', 'x', 'e', 'z', 'y', 't'],\n",
              " ['v', 'v', 'z', 'b', 'z', 'j', 'z', 'v', 'k', ' ', 'e', 'f'],\n",
              " ['w', 'o', 'n', 'l', 'w', 'w', 'u', 'o', 'n', 'z', 'f', 'q'],\n",
              " ['k', 'y', 'l', 'x', 'c', 'b', 'n', 'k', 'b', 'y', 'w', 'n'],\n",
              " ['t', 'y', 'y', 'z', 'o', 'f', 'h', 'g', 'p', 'q', 'j', 'a'],\n",
              " ['u', ' ', 'q', 'u', 'q', 'f', 'p', 'e', 'j', 'm', 'c', 'q'],\n",
              " ['s', 'a', 'a', 'l', 'j', 't', 'f', 'd', 'n', 'k', 's', 'i'],\n",
              " ['u', 'k', 'd', 'l', 'k', 'v', 'g', 'e', 'v', 'x', 'o', 'l'],\n",
              " ['h', 'm', 'r', 'l', 'f', 'm', 'g', 'u', 'b', 't', 'g', 'k'],\n",
              " ['f', 'c', 'f', 's', 'v', 'u', 'b', 'r', 'y', 'k', 'w', 'r'],\n",
              " ['p', 'w', 'k', ' ', 'k', 'g', 'y', 'd', 'k', 'b', 'h', 'l'],\n",
              " ['d', 'f', 'g', 'r', 'f', 'm', 'p', 'a', 'r', 'b', 'd', 'l'],\n",
              " ['j', 'm', 'b', 'l', 'x', 'u', 'j', 'i', 'o', 'o', 'n', 'm'],\n",
              " ['q', 'g', 'x', 'y', 'o', 'w', 'q', 'm', 'm', 'g', 'b', 's'],\n",
              " ['o', 'z', 'c', 'l', 'a', 'n', ' ', 'l', 'c', 'k', 'i', 'z'],\n",
              " ['x', 'e', 'x', 'm', 'w', 'i', 'h', 'w', 's', 'q', 'd', 'i'],\n",
              " ['e', 'e', 'a', 'y', 'z', 's', 'm', 'o', 'p', 'q', 'm', 'b'],\n",
              " ['a', 'q', 'v', 'l', 'n', 'a', 'a', 'n', 'e', 'v', 'c', 'm'],\n",
              " ['x', 'b', 'v', 'e', 't', 'q', 's', 'r', 'g', 'e', 'i', 'p'],\n",
              " ['p', 'r', 'n', 't', 'i', 'i', 'c', 'v', 'e', 'z', 'w', 'c'],\n",
              " ['p', 'm', 'o', 'n', 'u', 'x', 'z', 'g', 'y', 'w', 't', 't'],\n",
              " ['i', ' ', 'w', 'm', 'o', 'i', 'z', 'z', 'p', 'v', 'm', ' '],\n",
              " ['y', 'v', 'v', 'g', 'a', 'b', 'j', 't', 'a', 'a', 'a', 'k'],\n",
              " ['p', 'j', 'f', ' ', 'x', 'w', 'i', 'c', 'v', 't', 'h', 'b'],\n",
              " ['g', 'f', 'c', 'y', 'j', 'v', 'k', ' ', 'b', ' ', ' ', 'c'],\n",
              " ['m', 'e', 'o', 'm', 'x', 'o', 's', 'e', 'o', 's', 'h', 'n'],\n",
              " ['v', 'm', ' ', 'k', 'j', 'e', 'd', 'y', 'w', 'd', 'q', 'r'],\n",
              " ['v', 'x', 'l', 'n', 'y', 'd', 'd', 'f', 'p', 'g', 'i', 'v'],\n",
              " ['i', ' ', 'c', 'm', 'o', 'f', 'v', 'c', ' ', 'e', 'e', 'f'],\n",
              " ['z', 'f', 'o', 'y', 'c', 't', 't', 'w', 'f', 'k', 'n', 'n'],\n",
              " ['r', 'v', 'b', 'n', 's', 'j', 'x', 's', 'o', 'n', 'q', 'u'],\n",
              " ['u', 'u', 'i', 'o', 'a', ' ', 'j', 's', 'o', ' ', 'd', 'b'],\n",
              " ['m', 'm', 'i', ' ', 'f', 'y', 'c', 'g', 'l', 'p', ' ', 'b'],\n",
              " ['m', 'l', 'r', 'c', 'h', ' ', 't', 'c', 'm', 'k', 'i', 'e'],\n",
              " ['d', 't', 'q', 'y', 'u', 'a', 'w', 'l', 'y', 'o', 'g', 'k'],\n",
              " ['o', 'o', 'm', 'j', 'o', 't', 'y', 'w', 'o', 't', 'j', 'v'],\n",
              " ['h', 'u', 'z', 's', 'y', 'p', 'j', 'w', 'j', 'a', 'o', 'q'],\n",
              " ['s', 'y', 'v', 't', 'p', 'o', 'q', 'j', 'g', ' ', 'n', 'e'],\n",
              " ['g', 'l', 'e', 't', 'z', 'c', 'f', 'x', 'e', 't', 'f', 'w'],\n",
              " ['t', 'a', 'g', 'd', 'y', 's', 'o', 'p', 'b', 'k', 'o', 'b'],\n",
              " ['c', 'k', 'r', 'y', 'a', 't', 'z', 'p', 'l', 't', 'p', 'g'],\n",
              " ['s', 'h', ' ', 's', 'w', 'f', 'c', 'k', 'm', 'o', 'z', 'i'],\n",
              " ['l', 'p', 'g', 'z', 'y', 'q', 'c', 'l', ' ', 'g', 'f', 'r']]"
            ]
          },
          "execution_count": 9,
          "metadata": {},
          "output_type": "execute_result"
        }
      ],
      "source": [
        "population =  generatePopulation(population_size, largo_genoma, valores)\n",
        "print(population[0])\n",
        "population"
      ]
    },
    {
      "cell_type": "markdown",
      "metadata": {
        "id": "eLhdDMf77P_e"
      },
      "source": [
        "#### Fitness, Parent Selection, Crossover y Mutation"
      ]
    },
    {
      "cell_type": "markdown",
      "metadata": {
        "id": "IBqtpiT06rvr"
      },
      "source": [
        "######Fitness Function:"
      ]
    },
    {
      "cell_type": "markdown",
      "metadata": {
        "id": "lp0iVXEl7ehY"
      },
      "source": [
        "¿Cuál puede ser mi función fitness para el caso del genoma_1?"
      ]
    },
    {
      "cell_type": "code",
      "execution_count": 10,
      "metadata": {
        "id": "lPvD5WAC7U4p"
      },
      "outputs": [],
      "source": [
        "def fitnessFunction(genome, objetivo):\n",
        "    score = sum(1 for i in range(largo_genoma) if genome[i] == objetivo[i])\n",
        "    fitness = score / len(objetivo)\n",
        "    return fitness"
      ]
    },
    {
      "cell_type": "code",
      "execution_count": 11,
      "metadata": {
        "colab": {
          "base_uri": "https://localhost:8080/"
        },
        "id": "XqoHANwN9cps",
        "outputId": "d18c00c6-a79d-4ea3-c9df-88f60492811d"
      },
      "outputs": [
        {
          "data": {
            "text/plain": [
              "[['i', ' ', 'c', 'm', 'o', 'f', 'v', 'c', ' ', 'e', 'e', 'f'],\n",
              " ['d', 'r', 'g', 'y', 'w', ' ', 'n', 'y', 'o', ' ', 'z', 's'],\n",
              " ['e', 'e', 'a', 'y', 'z', 's', 'm', 'o', 'p', 'q', 'm', 'b'],\n",
              " ['m', 'e', 'o', 'm', 'x', 'o', 's', 'e', 'o', 's', 'h', 'n'],\n",
              " ['m', 'l', 'r', 'c', 'h', ' ', 't', 'c', 'm', 'k', 'i', 'e'],\n",
              " ['l', 'p', 'g', 'z', 'y', 'q', 'c', 'l', ' ', 'g', 'f', 'r'],\n",
              " ['g', 't', 'c', 'y', 'i', 'j', 't', 'y', 't', 's', 'g', 'y'],\n",
              " ['e', 'i', 's', 'v', 'x', ' ', 'r', 'i', 'c', 'o', 'd', 'i'],\n",
              " ['y', 'i', 'o', 'q', 'c', 'g', 'o', 'o', 'e', 'x', ' ', ' '],\n",
              " ['v', 'n', 'e', 'q', 'v', 'a', 'z', 'r', ' ', 'j', 'c', 'l'],\n",
              " ['s', 'w', 'l', 'i', 'q', 'p', 't', 'h', 't', 'j', 'u', 'k'],\n",
              " ['t', 'v', 'g', 'l', 'w', 'n', 'a', 'v', 'p', 's', 'k', 'd'],\n",
              " ['g', 'c', 'e', ' ', 'x', 'h', 'b', 'd', 'z', 'q', 'o', 'm'],\n",
              " ['o', 'i', 'l', 'u', 'j', 'r', 'l', 'o', 'm', 'm', 'k', 'k'],\n",
              " ['m', 'x', 'r', 'o', 'g', 'k', 'z', 'e', 'z', 'e', 't', 'z'],\n",
              " ['w', 'q', 'n', 'v', 'q', 'e', 'p', 'f', 'j', 's', 'g', 'a'],\n",
              " ['f', 'j', 'w', 'e', 'o', 'l', 'q', 'j', 'p', 'r', 's', 'p'],\n",
              " ['h', 'n', 'u', 'a', 't', 'u', 'p', 'm', 'e', 'n', 's', 'r'],\n",
              " ['v', 'v', 'z', 'b', 'z', 'j', 'z', 'v', 'k', ' ', 'e', 'f'],\n",
              " ['w', 'o', 'n', 'l', 'w', 'w', 'u', 'o', 'n', 'z', 'f', 'q'],\n",
              " ['k', 'y', 'l', 'x', 'c', 'b', 'n', 'k', 'b', 'y', 'w', 'n'],\n",
              " ['t', 'y', 'y', 'z', 'o', 'f', 'h', 'g', 'p', 'q', 'j', 'a'],\n",
              " ['s', 'a', 'a', 'l', 'j', 't', 'f', 'd', 'n', 'k', 's', 'i'],\n",
              " ['h', 'm', 'r', 'l', 'f', 'm', 'g', 'u', 'b', 't', 'g', 'k'],\n",
              " ['f', 'c', 'f', 's', 'v', 'u', 'b', 'r', 'y', 'k', 'w', 'r'],\n",
              " ['p', 'w', 'k', ' ', 'k', 'g', 'y', 'd', 'k', 'b', 'h', 'l'],\n",
              " ['q', 'g', 'x', 'y', 'o', 'w', 'q', 'm', 'm', 'g', 'b', 's'],\n",
              " ['x', 'e', 'x', 'm', 'w', 'i', 'h', 'w', 's', 'q', 'd', 'i'],\n",
              " ['i', ' ', 'w', 'm', 'o', 'i', 'z', 'z', 'p', 'v', 'm', ' '],\n",
              " ['p', 'j', 'f', ' ', 'x', 'w', 'i', 'c', 'v', 't', 'h', 'b'],\n",
              " ['v', 'm', ' ', 'k', 'j', 'e', 'd', 'y', 'w', 'd', 'q', 'r'],\n",
              " ['u', 'u', 'i', 'o', 'a', ' ', 'j', 's', 'o', ' ', 'd', 'b'],\n",
              " ['m', 'm', 'i', ' ', 'f', 'y', 'c', 'g', 'l', 'p', ' ', 'b'],\n",
              " ['o', 'o', 'm', 'j', 'o', 't', 'y', 'w', 'o', 't', 'j', 'v'],\n",
              " ['s', 'y', 'v', 't', 'p', 'o', 'q', 'j', 'g', ' ', 'n', 'e'],\n",
              " ['c', 'k', 'r', 'y', 'a', 't', 'z', 'p', 'l', 't', 'p', 'g'],\n",
              " ['s', 'h', ' ', 's', 'w', 'f', 'c', 'k', 'm', 'o', 'z', 'i'],\n",
              " ['y', 'g', 'j', 'k', 'e', 'i', 'y', 'q', 'x', 'd', 'r', 'o'],\n",
              " ['l', 'b', 's', 'b', 'h', 'a', 'm', 'k', 'w', 'f', 'j', 'o'],\n",
              " ['y', 'z', 'z', 'n', 'f', 'l', 'd', 'p', 'k', 'b', 'k', 'j'],\n",
              " ['i', 'f', 'n', 'b', ' ', 'p', 'o', 'j', 'g', 'a', 's', 'u'],\n",
              " ['a', 's', 'q', 'l', 'k', 'w', 'f', 'r', 'n', 'z', ' ', 'p'],\n",
              " ['f', 'v', ' ', 'h', 'l', 'w', 'g', 'k', 'e', 'c', 'c', 'q'],\n",
              " ['w', 'g', 'g', 'h', 'b', 'w', 'q', 'd', 'i', 'u', 'q', 'w'],\n",
              " ['c', 'h', 'm', 'j', ' ', 'p', 'h', 'x', 'e', 'b', 'p', 'g'],\n",
              " ['e', 'u', 'd', 'q', 'f', 'm', 'o', 'g', 'l', 'a', 'd', 'f'],\n",
              " ['z', 'g', 'z', 'u', 'l', 'd', 'l', 'm', 'r', 'f', 'k', 'u'],\n",
              " ['n', 'b', 'z', 'v', 's', 'e', 's', 'j', 'k', 'y', 's', 'h'],\n",
              " ['x', 'r', 'h', 'x', 's', 'd', 'a', 'u', 's', 'y', 'w', 'j'],\n",
              " ['n', 'q', 't', 'a', 'n', 'p', 'o', 'x', 'm', 'i', 'o', 'c'],\n",
              " ['g', 'r', 'g', 't', 'c', 'm', 'l', 't', 'v', 'i', 'b', 'h'],\n",
              " ['h', 'v', 'm', 'z', 'u', 'c', 'k', 'r', 'z', 'm', 'w', 'g'],\n",
              " ['m', 'b', 'w', 'n', 'v', 'e', 'p', 'a', 'd', 'o', 'k', 'b'],\n",
              " ['w', ' ', 'y', 'o', 'r', 'i', 'j', 'x', 'q', 'j', 'o', 'b'],\n",
              " ['g', 'f', 'c', 'a', 'f', 'z', 'p', 'c', 'v', 'j', 'r', 'i'],\n",
              " ['o', 'v', 'u', 'x', 'b', 'c', 's', 'm', 'j', 'q', 'm', 'o'],\n",
              " ['o', 'h', 'j', 'a', 'q', 'e', 'h', 's', 'i', 'c', 'd', 'h'],\n",
              " ['j', 'y', 'm', 'w', 'u', 'z', 'd', 'y', 'x', 'f', 'm', 'f'],\n",
              " ['a', 'h', 's', 'f', 'l', 'p', 'r', 'v', 'a', 'o', 'o', 'h'],\n",
              " ['z', 'r', 'b', 'w', 'y', 'm', 's', 'h', 'i', 'b', 'z', 'g'],\n",
              " ['t', 'x', 'p', 'd', 'r', 'a', 'c', 'm', 't', 'l', 'j', 't'],\n",
              " ['v', 'o', 'p', 'u', 'c', 'g', 'd', 'c', 's', 'p', 'c', 'z'],\n",
              " ['w', 't', 'v', 's', 'c', 'a', 'a', 'b', 'y', 'q', 'a', 'o'],\n",
              " ['j', 'w', 's', 'b', 'r', 'h', 'f', 'b', 'u', 'l', 'h', 'f'],\n",
              " ['r', 'w', 'o', 'a', 'y', 'q', 's', 'e', 'm', 'b', 'p', 'p'],\n",
              " ['e', 'y', 'l', 'n', 'w', 'e', 'y', 'u', 'g', 'f', 'j', 'u'],\n",
              " ['r', 'a', 'w', 's', 'i', 'i', 't', 'i', 'u', 'f', 'd', 'b'],\n",
              " ['w', ' ', 'e', 'd', 'j', 'h', 's', 'd', 'k', 'o', 'i', 'o'],\n",
              " ['h', 'v', 'z', 'e', 'u', 'h', 'z', 'b', 'b', 'p', 'k', 'z'],\n",
              " ['o', 'p', 'g', 'f', 'y', 's', 'h', ' ', 'f', 'd', 't', 'i'],\n",
              " ['i', 'a', 'k', 'n', 'e', 'd', 'e', 'x', 'f', 'd', 'x', 'w'],\n",
              " ['v', 'x', ' ', 'q', 'l', 's', 'j', 'r', 'l', 'z', 'd', 'x'],\n",
              " ['q', 'b', 'd', 'l', 'y', 'e', 'g', 'd', 'j', 'k', 'v', 'y'],\n",
              " ['m', 'b', ' ', 'v', 'r', 'n', 'i', 's', 'x', 'l', 'd', 'w'],\n",
              " ['m', 'm', 'q', 'm', 'm', 'c', 'r', 'q', 'w', 'a', 'j', 'c'],\n",
              " ['f', 'c', 'i', 'a', ' ', 's', ' ', 'z', 'z', 'n', ' ', 'n'],\n",
              " ['f', 'd', 'm', 'n', 'z', 'y', 'v', 'i', 'h', 'o', 'n', 'a'],\n",
              " ['a', 'f', 'y', 'e', 'g', 'w', 'y', 'j', 'a', 'd', 'y', 'x'],\n",
              " ['i', 's', 'g', 'z', 'h', 'q', ' ', 'i', 'g', 'r', 's', 'b'],\n",
              " ['u', 'b', 'b', 'c', 'i', 'p', 'e', 'q', 'j', 'z', 'm', 'c'],\n",
              " ['f', 'i', 'n', 'e', 'b', 'c', 'h', 'd', 'c', 'e', 'k', 'c'],\n",
              " ['r', 'd', 'k', 'y', 'h', 'm', 'z', 'x', 'e', 'z', 'y', 't'],\n",
              " ['u', ' ', 'q', 'u', 'q', 'f', 'p', 'e', 'j', 'm', 'c', 'q'],\n",
              " ['u', 'k', 'd', 'l', 'k', 'v', 'g', 'e', 'v', 'x', 'o', 'l'],\n",
              " ['d', 'f', 'g', 'r', 'f', 'm', 'p', 'a', 'r', 'b', 'd', 'l'],\n",
              " ['j', 'm', 'b', 'l', 'x', 'u', 'j', 'i', 'o', 'o', 'n', 'm'],\n",
              " ['o', 'z', 'c', 'l', 'a', 'n', ' ', 'l', 'c', 'k', 'i', 'z'],\n",
              " ['a', 'q', 'v', 'l', 'n', 'a', 'a', 'n', 'e', 'v', 'c', 'm'],\n",
              " ['x', 'b', 'v', 'e', 't', 'q', 's', 'r', 'g', 'e', 'i', 'p'],\n",
              " ['p', 'r', 'n', 't', 'i', 'i', 'c', 'v', 'e', 'z', 'w', 'c'],\n",
              " ['p', 'm', 'o', 'n', 'u', 'x', 'z', 'g', 'y', 'w', 't', 't'],\n",
              " ['y', 'v', 'v', 'g', 'a', 'b', 'j', 't', 'a', 'a', 'a', 'k'],\n",
              " ['g', 'f', 'c', 'y', 'j', 'v', 'k', ' ', 'b', ' ', ' ', 'c'],\n",
              " ['v', 'x', 'l', 'n', 'y', 'd', 'd', 'f', 'p', 'g', 'i', 'v'],\n",
              " ['z', 'f', 'o', 'y', 'c', 't', 't', 'w', 'f', 'k', 'n', 'n'],\n",
              " ['r', 'v', 'b', 'n', 's', 'j', 'x', 's', 'o', 'n', 'q', 'u'],\n",
              " ['d', 't', 'q', 'y', 'u', 'a', 'w', 'l', 'y', 'o', 'g', 'k'],\n",
              " ['h', 'u', 'z', 's', 'y', 'p', 'j', 'w', 'j', 'a', 'o', 'q'],\n",
              " ['g', 'l', 'e', 't', 'z', 'c', 'f', 'x', 'e', 't', 'f', 'w'],\n",
              " ['t', 'a', 'g', 'd', 'y', 's', 'o', 'p', 'b', 'k', 'o', 'b']]"
            ]
          },
          "execution_count": 11,
          "metadata": {},
          "output_type": "execute_result"
        }
      ],
      "source": [
        "#La función fitness voy a utilizarla para evaluar cada genoma dentro de mi población\n",
        "population = sorted(population, key=lambda genome: fitnessFunction(genome, genoma_1), reverse=True)\n",
        "population"
      ]
    },
    {
      "cell_type": "code",
      "execution_count": 12,
      "metadata": {
        "colab": {
          "base_uri": "https://localhost:8080/"
        },
        "id": "82_l7Bme_gL0",
        "outputId": "bff74f6a-82a6-4078-82a3-64b577485b42"
      },
      "outputs": [
        {
          "name": "stdout",
          "output_type": "stream",
          "text": [
            "The score is 0.25 for: ['i', ' ', 'c', 'm', 'o', 'f', 'v', 'c', ' ', 'e', 'e', 'f']\n",
            "The score is 0.16666666666666666 for: ['d', 'r', 'g', 'y', 'w', ' ', 'n', 'y', 'o', ' ', 'z', 's']\n",
            "The score is 0.16666666666666666 for: ['e', 'e', 'a', 'y', 'z', 's', 'm', 'o', 'p', 'q', 'm', 'b']\n",
            "The score is 0.16666666666666666 for: ['m', 'e', 'o', 'm', 'x', 'o', 's', 'e', 'o', 's', 'h', 'n']\n",
            "The score is 0.16666666666666666 for: ['m', 'l', 'r', 'c', 'h', ' ', 't', 'c', 'm', 'k', 'i', 'e']\n",
            "The score is 0.16666666666666666 for: ['l', 'p', 'g', 'z', 'y', 'q', 'c', 'l', ' ', 'g', 'f', 'r']\n",
            "The score is 0.08333333333333333 for: ['g', 't', 'c', 'y', 'i', 'j', 't', 'y', 't', 's', 'g', 'y']\n",
            "The score is 0.08333333333333333 for: ['e', 'i', 's', 'v', 'x', ' ', 'r', 'i', 'c', 'o', 'd', 'i']\n",
            "The score is 0.08333333333333333 for: ['y', 'i', 'o', 'q', 'c', 'g', 'o', 'o', 'e', 'x', ' ', ' ']\n",
            "The score is 0.08333333333333333 for: ['v', 'n', 'e', 'q', 'v', 'a', 'z', 'r', ' ', 'j', 'c', 'l']\n",
            "The score is 0.08333333333333333 for: ['s', 'w', 'l', 'i', 'q', 'p', 't', 'h', 't', 'j', 'u', 'k']\n",
            "The score is 0.08333333333333333 for: ['t', 'v', 'g', 'l', 'w', 'n', 'a', 'v', 'p', 's', 'k', 'd']\n",
            "The score is 0.08333333333333333 for: ['g', 'c', 'e', ' ', 'x', 'h', 'b', 'd', 'z', 'q', 'o', 'm']\n",
            "The score is 0.08333333333333333 for: ['o', 'i', 'l', 'u', 'j', 'r', 'l', 'o', 'm', 'm', 'k', 'k']\n",
            "The score is 0.08333333333333333 for: ['m', 'x', 'r', 'o', 'g', 'k', 'z', 'e', 'z', 'e', 't', 'z']\n",
            "The score is 0.08333333333333333 for: ['w', 'q', 'n', 'v', 'q', 'e', 'p', 'f', 'j', 's', 'g', 'a']\n",
            "The score is 0.08333333333333333 for: ['f', 'j', 'w', 'e', 'o', 'l', 'q', 'j', 'p', 'r', 's', 'p']\n",
            "The score is 0.08333333333333333 for: ['h', 'n', 'u', 'a', 't', 'u', 'p', 'm', 'e', 'n', 's', 'r']\n",
            "The score is 0.08333333333333333 for: ['v', 'v', 'z', 'b', 'z', 'j', 'z', 'v', 'k', ' ', 'e', 'f']\n",
            "The score is 0.08333333333333333 for: ['w', 'o', 'n', 'l', 'w', 'w', 'u', 'o', 'n', 'z', 'f', 'q']\n",
            "The score is 0.08333333333333333 for: ['k', 'y', 'l', 'x', 'c', 'b', 'n', 'k', 'b', 'y', 'w', 'n']\n",
            "The score is 0.08333333333333333 for: ['t', 'y', 'y', 'z', 'o', 'f', 'h', 'g', 'p', 'q', 'j', 'a']\n",
            "The score is 0.08333333333333333 for: ['s', 'a', 'a', 'l', 'j', 't', 'f', 'd', 'n', 'k', 's', 'i']\n",
            "The score is 0.08333333333333333 for: ['h', 'm', 'r', 'l', 'f', 'm', 'g', 'u', 'b', 't', 'g', 'k']\n",
            "The score is 0.08333333333333333 for: ['f', 'c', 'f', 's', 'v', 'u', 'b', 'r', 'y', 'k', 'w', 'r']\n",
            "The score is 0.08333333333333333 for: ['p', 'w', 'k', ' ', 'k', 'g', 'y', 'd', 'k', 'b', 'h', 'l']\n",
            "The score is 0.08333333333333333 for: ['q', 'g', 'x', 'y', 'o', 'w', 'q', 'm', 'm', 'g', 'b', 's']\n",
            "The score is 0.08333333333333333 for: ['x', 'e', 'x', 'm', 'w', 'i', 'h', 'w', 's', 'q', 'd', 'i']\n",
            "The score is 0.08333333333333333 for: ['i', ' ', 'w', 'm', 'o', 'i', 'z', 'z', 'p', 'v', 'm', ' ']\n",
            "The score is 0.08333333333333333 for: ['p', 'j', 'f', ' ', 'x', 'w', 'i', 'c', 'v', 't', 'h', 'b']\n",
            "The score is 0.08333333333333333 for: ['v', 'm', ' ', 'k', 'j', 'e', 'd', 'y', 'w', 'd', 'q', 'r']\n",
            "The score is 0.08333333333333333 for: ['u', 'u', 'i', 'o', 'a', ' ', 'j', 's', 'o', ' ', 'd', 'b']\n",
            "The score is 0.08333333333333333 for: ['m', 'm', 'i', ' ', 'f', 'y', 'c', 'g', 'l', 'p', ' ', 'b']\n",
            "The score is 0.08333333333333333 for: ['o', 'o', 'm', 'j', 'o', 't', 'y', 'w', 'o', 't', 'j', 'v']\n",
            "The score is 0.08333333333333333 for: ['s', 'y', 'v', 't', 'p', 'o', 'q', 'j', 'g', ' ', 'n', 'e']\n",
            "The score is 0.08333333333333333 for: ['c', 'k', 'r', 'y', 'a', 't', 'z', 'p', 'l', 't', 'p', 'g']\n",
            "The score is 0.08333333333333333 for: ['s', 'h', ' ', 's', 'w', 'f', 'c', 'k', 'm', 'o', 'z', 'i']\n",
            "The score is 0.0 for: ['y', 'g', 'j', 'k', 'e', 'i', 'y', 'q', 'x', 'd', 'r', 'o']\n",
            "The score is 0.0 for: ['l', 'b', 's', 'b', 'h', 'a', 'm', 'k', 'w', 'f', 'j', 'o']\n",
            "The score is 0.0 for: ['y', 'z', 'z', 'n', 'f', 'l', 'd', 'p', 'k', 'b', 'k', 'j']\n",
            "The score is 0.0 for: ['i', 'f', 'n', 'b', ' ', 'p', 'o', 'j', 'g', 'a', 's', 'u']\n",
            "The score is 0.0 for: ['a', 's', 'q', 'l', 'k', 'w', 'f', 'r', 'n', 'z', ' ', 'p']\n",
            "The score is 0.0 for: ['f', 'v', ' ', 'h', 'l', 'w', 'g', 'k', 'e', 'c', 'c', 'q']\n",
            "The score is 0.0 for: ['w', 'g', 'g', 'h', 'b', 'w', 'q', 'd', 'i', 'u', 'q', 'w']\n",
            "The score is 0.0 for: ['c', 'h', 'm', 'j', ' ', 'p', 'h', 'x', 'e', 'b', 'p', 'g']\n",
            "The score is 0.0 for: ['e', 'u', 'd', 'q', 'f', 'm', 'o', 'g', 'l', 'a', 'd', 'f']\n",
            "The score is 0.0 for: ['z', 'g', 'z', 'u', 'l', 'd', 'l', 'm', 'r', 'f', 'k', 'u']\n",
            "The score is 0.0 for: ['n', 'b', 'z', 'v', 's', 'e', 's', 'j', 'k', 'y', 's', 'h']\n",
            "The score is 0.0 for: ['x', 'r', 'h', 'x', 's', 'd', 'a', 'u', 's', 'y', 'w', 'j']\n",
            "The score is 0.0 for: ['n', 'q', 't', 'a', 'n', 'p', 'o', 'x', 'm', 'i', 'o', 'c']\n",
            "The score is 0.0 for: ['g', 'r', 'g', 't', 'c', 'm', 'l', 't', 'v', 'i', 'b', 'h']\n",
            "The score is 0.0 for: ['h', 'v', 'm', 'z', 'u', 'c', 'k', 'r', 'z', 'm', 'w', 'g']\n",
            "The score is 0.0 for: ['m', 'b', 'w', 'n', 'v', 'e', 'p', 'a', 'd', 'o', 'k', 'b']\n",
            "The score is 0.0 for: ['w', ' ', 'y', 'o', 'r', 'i', 'j', 'x', 'q', 'j', 'o', 'b']\n",
            "The score is 0.0 for: ['g', 'f', 'c', 'a', 'f', 'z', 'p', 'c', 'v', 'j', 'r', 'i']\n",
            "The score is 0.0 for: ['o', 'v', 'u', 'x', 'b', 'c', 's', 'm', 'j', 'q', 'm', 'o']\n",
            "The score is 0.0 for: ['o', 'h', 'j', 'a', 'q', 'e', 'h', 's', 'i', 'c', 'd', 'h']\n",
            "The score is 0.0 for: ['j', 'y', 'm', 'w', 'u', 'z', 'd', 'y', 'x', 'f', 'm', 'f']\n",
            "The score is 0.0 for: ['a', 'h', 's', 'f', 'l', 'p', 'r', 'v', 'a', 'o', 'o', 'h']\n",
            "The score is 0.0 for: ['z', 'r', 'b', 'w', 'y', 'm', 's', 'h', 'i', 'b', 'z', 'g']\n",
            "The score is 0.0 for: ['t', 'x', 'p', 'd', 'r', 'a', 'c', 'm', 't', 'l', 'j', 't']\n",
            "The score is 0.0 for: ['v', 'o', 'p', 'u', 'c', 'g', 'd', 'c', 's', 'p', 'c', 'z']\n",
            "The score is 0.0 for: ['w', 't', 'v', 's', 'c', 'a', 'a', 'b', 'y', 'q', 'a', 'o']\n",
            "The score is 0.0 for: ['j', 'w', 's', 'b', 'r', 'h', 'f', 'b', 'u', 'l', 'h', 'f']\n",
            "The score is 0.0 for: ['r', 'w', 'o', 'a', 'y', 'q', 's', 'e', 'm', 'b', 'p', 'p']\n",
            "The score is 0.0 for: ['e', 'y', 'l', 'n', 'w', 'e', 'y', 'u', 'g', 'f', 'j', 'u']\n",
            "The score is 0.0 for: ['r', 'a', 'w', 's', 'i', 'i', 't', 'i', 'u', 'f', 'd', 'b']\n",
            "The score is 0.0 for: ['w', ' ', 'e', 'd', 'j', 'h', 's', 'd', 'k', 'o', 'i', 'o']\n",
            "The score is 0.0 for: ['h', 'v', 'z', 'e', 'u', 'h', 'z', 'b', 'b', 'p', 'k', 'z']\n",
            "The score is 0.0 for: ['o', 'p', 'g', 'f', 'y', 's', 'h', ' ', 'f', 'd', 't', 'i']\n",
            "The score is 0.0 for: ['i', 'a', 'k', 'n', 'e', 'd', 'e', 'x', 'f', 'd', 'x', 'w']\n",
            "The score is 0.0 for: ['v', 'x', ' ', 'q', 'l', 's', 'j', 'r', 'l', 'z', 'd', 'x']\n",
            "The score is 0.0 for: ['q', 'b', 'd', 'l', 'y', 'e', 'g', 'd', 'j', 'k', 'v', 'y']\n",
            "The score is 0.0 for: ['m', 'b', ' ', 'v', 'r', 'n', 'i', 's', 'x', 'l', 'd', 'w']\n",
            "The score is 0.0 for: ['m', 'm', 'q', 'm', 'm', 'c', 'r', 'q', 'w', 'a', 'j', 'c']\n",
            "The score is 0.0 for: ['f', 'c', 'i', 'a', ' ', 's', ' ', 'z', 'z', 'n', ' ', 'n']\n",
            "The score is 0.0 for: ['f', 'd', 'm', 'n', 'z', 'y', 'v', 'i', 'h', 'o', 'n', 'a']\n",
            "The score is 0.0 for: ['a', 'f', 'y', 'e', 'g', 'w', 'y', 'j', 'a', 'd', 'y', 'x']\n",
            "The score is 0.0 for: ['i', 's', 'g', 'z', 'h', 'q', ' ', 'i', 'g', 'r', 's', 'b']\n",
            "The score is 0.0 for: ['u', 'b', 'b', 'c', 'i', 'p', 'e', 'q', 'j', 'z', 'm', 'c']\n",
            "The score is 0.0 for: ['f', 'i', 'n', 'e', 'b', 'c', 'h', 'd', 'c', 'e', 'k', 'c']\n",
            "The score is 0.0 for: ['r', 'd', 'k', 'y', 'h', 'm', 'z', 'x', 'e', 'z', 'y', 't']\n",
            "The score is 0.0 for: ['u', ' ', 'q', 'u', 'q', 'f', 'p', 'e', 'j', 'm', 'c', 'q']\n",
            "The score is 0.0 for: ['u', 'k', 'd', 'l', 'k', 'v', 'g', 'e', 'v', 'x', 'o', 'l']\n",
            "The score is 0.0 for: ['d', 'f', 'g', 'r', 'f', 'm', 'p', 'a', 'r', 'b', 'd', 'l']\n",
            "The score is 0.0 for: ['j', 'm', 'b', 'l', 'x', 'u', 'j', 'i', 'o', 'o', 'n', 'm']\n",
            "The score is 0.0 for: ['o', 'z', 'c', 'l', 'a', 'n', ' ', 'l', 'c', 'k', 'i', 'z']\n",
            "The score is 0.0 for: ['a', 'q', 'v', 'l', 'n', 'a', 'a', 'n', 'e', 'v', 'c', 'm']\n",
            "The score is 0.0 for: ['x', 'b', 'v', 'e', 't', 'q', 's', 'r', 'g', 'e', 'i', 'p']\n",
            "The score is 0.0 for: ['p', 'r', 'n', 't', 'i', 'i', 'c', 'v', 'e', 'z', 'w', 'c']\n",
            "The score is 0.0 for: ['p', 'm', 'o', 'n', 'u', 'x', 'z', 'g', 'y', 'w', 't', 't']\n",
            "The score is 0.0 for: ['y', 'v', 'v', 'g', 'a', 'b', 'j', 't', 'a', 'a', 'a', 'k']\n",
            "The score is 0.0 for: ['g', 'f', 'c', 'y', 'j', 'v', 'k', ' ', 'b', ' ', ' ', 'c']\n",
            "The score is 0.0 for: ['v', 'x', 'l', 'n', 'y', 'd', 'd', 'f', 'p', 'g', 'i', 'v']\n",
            "The score is 0.0 for: ['z', 'f', 'o', 'y', 'c', 't', 't', 'w', 'f', 'k', 'n', 'n']\n",
            "The score is 0.0 for: ['r', 'v', 'b', 'n', 's', 'j', 'x', 's', 'o', 'n', 'q', 'u']\n",
            "The score is 0.0 for: ['d', 't', 'q', 'y', 'u', 'a', 'w', 'l', 'y', 'o', 'g', 'k']\n",
            "The score is 0.0 for: ['h', 'u', 'z', 's', 'y', 'p', 'j', 'w', 'j', 'a', 'o', 'q']\n",
            "The score is 0.0 for: ['g', 'l', 'e', 't', 'z', 'c', 'f', 'x', 'e', 't', 'f', 'w']\n",
            "The score is 0.0 for: ['t', 'a', 'g', 'd', 'y', 's', 'o', 'p', 'b', 'k', 'o', 'b']\n"
          ]
        }
      ],
      "source": [
        "for genome in population:\n",
        "  genome_score = fitnessFunction(genome, genoma_1)\n",
        "  print(\"The score is\", genome_score, \"for:\", genome)"
      ]
    },
    {
      "cell_type": "code",
      "execution_count": 13,
      "metadata": {
        "colab": {
          "base_uri": "https://localhost:8080/"
        },
        "id": "wuD4pCphBw0T",
        "outputId": "7b1a0d29-eb7d-46cd-eecc-eddad3c090da"
      },
      "outputs": [
        {
          "data": {
            "text/plain": [
              "[0.25,\n",
              " 0.16666666666666666,\n",
              " 0.16666666666666666,\n",
              " 0.16666666666666666,\n",
              " 0.16666666666666666,\n",
              " 0.16666666666666666,\n",
              " 0.08333333333333333,\n",
              " 0.08333333333333333,\n",
              " 0.08333333333333333,\n",
              " 0.08333333333333333,\n",
              " 0.08333333333333333,\n",
              " 0.08333333333333333,\n",
              " 0.08333333333333333,\n",
              " 0.08333333333333333,\n",
              " 0.08333333333333333,\n",
              " 0.08333333333333333,\n",
              " 0.08333333333333333,\n",
              " 0.08333333333333333,\n",
              " 0.08333333333333333,\n",
              " 0.08333333333333333,\n",
              " 0.08333333333333333,\n",
              " 0.08333333333333333,\n",
              " 0.08333333333333333,\n",
              " 0.08333333333333333,\n",
              " 0.08333333333333333,\n",
              " 0.08333333333333333,\n",
              " 0.08333333333333333,\n",
              " 0.08333333333333333,\n",
              " 0.08333333333333333,\n",
              " 0.08333333333333333,\n",
              " 0.08333333333333333,\n",
              " 0.08333333333333333,\n",
              " 0.08333333333333333,\n",
              " 0.08333333333333333,\n",
              " 0.08333333333333333,\n",
              " 0.08333333333333333,\n",
              " 0.08333333333333333,\n",
              " 0.0,\n",
              " 0.0,\n",
              " 0.0,\n",
              " 0.0,\n",
              " 0.0,\n",
              " 0.0,\n",
              " 0.0,\n",
              " 0.0,\n",
              " 0.0,\n",
              " 0.0,\n",
              " 0.0,\n",
              " 0.0,\n",
              " 0.0,\n",
              " 0.0,\n",
              " 0.0,\n",
              " 0.0,\n",
              " 0.0,\n",
              " 0.0,\n",
              " 0.0,\n",
              " 0.0,\n",
              " 0.0,\n",
              " 0.0,\n",
              " 0.0,\n",
              " 0.0,\n",
              " 0.0,\n",
              " 0.0,\n",
              " 0.0,\n",
              " 0.0,\n",
              " 0.0,\n",
              " 0.0,\n",
              " 0.0,\n",
              " 0.0,\n",
              " 0.0,\n",
              " 0.0,\n",
              " 0.0,\n",
              " 0.0,\n",
              " 0.0,\n",
              " 0.0,\n",
              " 0.0,\n",
              " 0.0,\n",
              " 0.0,\n",
              " 0.0,\n",
              " 0.0,\n",
              " 0.0,\n",
              " 0.0,\n",
              " 0.0,\n",
              " 0.0,\n",
              " 0.0,\n",
              " 0.0,\n",
              " 0.0,\n",
              " 0.0,\n",
              " 0.0,\n",
              " 0.0,\n",
              " 0.0,\n",
              " 0.0,\n",
              " 0.0,\n",
              " 0.0,\n",
              " 0.0,\n",
              " 0.0,\n",
              " 0.0,\n",
              " 0.0,\n",
              " 0.0,\n",
              " 0.0]"
            ]
          },
          "execution_count": 13,
          "metadata": {},
          "output_type": "execute_result"
        }
      ],
      "source": [
        "fitnessValues = [fitnessFunction(genome, genoma_1) for genome in population]\n",
        "fitnessValues"
      ]
    },
    {
      "cell_type": "markdown",
      "metadata": {
        "id": "KOsd37Pu7MXB"
      },
      "source": [
        "###### Parent Selection:"
      ]
    },
    {
      "cell_type": "markdown",
      "metadata": {
        "id": "45ckl1iXAM51"
      },
      "source": [
        "Para seleccionar los padres que daran vida a dos genomas de la siguiente generación, el método que conocemos es el mating pool. Este no es el único método posible, pero por hoy vamos a quedarnos con este."
      ]
    },
    {
      "cell_type": "code",
      "execution_count": 28,
      "metadata": {
        "id": "YkvY4QKz_4jg"
      },
      "outputs": [],
      "source": [
        "def selectParents(population, fitnessValues):\n",
        "\n",
        "    # Creamos el mating pool incluyendo a cada genoma \"count\" veces\n",
        "    # según corresponda\n",
        "    mating_pool = []\n",
        "    for genome, fitness in zip(population, fitnessValues):\n",
        "        count = int(fitness * 100)  # Scale up to create a larger mating pool\n",
        "        mating_pool.extend([genome] * count)\n",
        "\n",
        "    # Elegimos dos padres de manera random\n",
        "    parentA = random.choice(mating_pool)\n",
        "    parentB = random.choice(mating_pool)\n",
        "\n",
        "    return parentA, parentB"
      ]
    },
    {
      "cell_type": "code",
      "execution_count": 29,
      "metadata": {
        "colab": {
          "base_uri": "https://localhost:8080/"
        },
        "id": "nUTQ9QjnA_vd",
        "outputId": "a3cd5d13-41c5-4f89-fa53-e011af86f04e"
      },
      "outputs": [
        {
          "data": {
            "text/plain": [
              "(['i', ' ', 'w', 'm', 'o', 'i', 'z', 'z', 'p', 'v', 'm', ' '],\n",
              " ['m', 'x', 'r', 'o', 'g', 'k', 'z', 'e', 'z', 'e', 't', 'z'])"
            ]
          },
          "execution_count": 29,
          "metadata": {},
          "output_type": "execute_result"
        }
      ],
      "source": [
        "selectParents(population, fitnessValues)"
      ]
    },
    {
      "cell_type": "code",
      "execution_count": 30,
      "metadata": {
        "colab": {
          "base_uri": "https://localhost:8080/"
        },
        "id": "EBtutvXmEDys",
        "outputId": "4007d991-192a-4970-8446-90fedd0c3de4"
      },
      "outputs": [
        {
          "name": "stdout",
          "output_type": "stream",
          "text": [
            "['m', 'x', 'r', 'o', 'g', 'k', 'z', 'e', 'z', 'e', 't', 'z']\n",
            "['g', 'c', 'e', ' ', 'x', 'h', 'b', 'd', 'z', 'q', 'o', 'm']\n"
          ]
        }
      ],
      "source": [
        "parentA = selectParents(population, fitnessValues)[0]\n",
        "parentB = selectParents(population, fitnessValues)[1]\n",
        "print(parentA)\n",
        "print(parentB)"
      ]
    },
    {
      "cell_type": "markdown",
      "metadata": {
        "id": "4p5Ix0PtDUUb"
      },
      "source": [
        "###### Crossover:"
      ]
    },
    {
      "cell_type": "markdown",
      "metadata": {
        "id": "dezcIVV-DcVB"
      },
      "source": [
        "El método crossover nos permite hacer la combinación del genoma de cada padre. Podemos elegir que tome la mitad de cada padre o setear un número random que tomará de cada padre."
      ]
    },
    {
      "cell_type": "code",
      "execution_count": 17,
      "metadata": {
        "id": "vAZa9n3GDXVt"
      },
      "outputs": [],
      "source": [
        "def crossoverFunction(parentA, parentB):\n",
        "    # Usamos el single-point crossover\n",
        "\n",
        "    # Elegimos un número random entre 1 y la longitud del genoma\n",
        "    singlePoint = random.randint(1, len(parentA) - 1)\n",
        "    #print(singlePoint)\n",
        "\n",
        "    # Hacemos el crossover\n",
        "    childA = parentA[:singlePoint] + parentB[singlePoint:] #Tomamos hasta singlePoint del padreA y el resto del B\n",
        "    childB = parentB[:singlePoint] + parentA[singlePoint:] #Tomamos hasta singlePoint del padreB y el resto del A\n",
        "\n",
        "    return childA, childB"
      ]
    },
    {
      "cell_type": "code",
      "execution_count": 18,
      "metadata": {
        "colab": {
          "base_uri": "https://localhost:8080/"
        },
        "id": "A3rIDj_wD3m6",
        "outputId": "e2b59e5b-dd2a-487a-fffc-211f080f2876"
      },
      "outputs": [
        {
          "data": {
            "text/plain": [
              "(['o', 'o', 'm', 'j', 'o', 't', 'y', 'd', 'k', 'b', 'h', 'l'],\n",
              " ['p', 'w', 'k', ' ', 'k', 'g', 'y', 'w', 'o', 't', 'j', 'v'])"
            ]
          },
          "execution_count": 18,
          "metadata": {},
          "output_type": "execute_result"
        }
      ],
      "source": [
        "crossoverFunction(parentA, parentB)"
      ]
    },
    {
      "cell_type": "code",
      "execution_count": 19,
      "metadata": {
        "colab": {
          "base_uri": "https://localhost:8080/"
        },
        "id": "pG92uBcgFrbj",
        "outputId": "73e91ada-e6b4-4277-e6e3-8f0122fed779"
      },
      "outputs": [
        {
          "name": "stdout",
          "output_type": "stream",
          "text": [
            "['o', 'w', 'k', ' ', 'k', 'g', 'y', 'd', 'k', 'b', 'h', 'l']\n",
            "['p', 'w', 'k', ' ', 'k', 'g', 'y', 'd', 'k', 'b', 'h', 'v']\n"
          ]
        }
      ],
      "source": [
        "childA = crossoverFunction(parentA, parentB)[0]\n",
        "childB = crossoverFunction(parentA, parentB)[1]\n",
        "print(childA)\n",
        "print(childB)"
      ]
    },
    {
      "cell_type": "markdown",
      "metadata": {
        "id": "AinyhlYUEUbN"
      },
      "source": [
        "###### Mutation:"
      ]
    },
    {
      "cell_type": "markdown",
      "metadata": {
        "id": "TLQY5rhvEeRh"
      },
      "source": [
        "La mutación nos permite obtener variaciones aleatorias en los hijos que nos facilitarán la tarea a la hora de evolucionar y llegar a nuestro objetivo. Aquí debe establecerse como hiperparámetro la mutation_rate"
      ]
    },
    {
      "cell_type": "code",
      "execution_count": 20,
      "metadata": {
        "id": "1_VJ0PW1EXRy"
      },
      "outputs": [],
      "source": [
        "def mutateGenome(genome, mutationRate):\n",
        "    # Hacemos la mutación, teniendo en cuenta, la mutationRate\n",
        "    for i in range(largo_genoma):\n",
        "      # Si mi número random entre 0 y 1 es menor o igual a la mutation rate\n",
        "      # , hacemos el cambio\n",
        "        if random.uniform(0, 1) <= mutationRate:\n",
        "            genome[i] = random.choice(valores)\n",
        "    return genome"
      ]
    },
    {
      "cell_type": "code",
      "execution_count": 21,
      "metadata": {
        "colab": {
          "base_uri": "https://localhost:8080/"
        },
        "id": "dCn6HC5_FijF",
        "outputId": "6effc596-af73-47df-e2b5-1363377f7bc4"
      },
      "outputs": [
        {
          "name": "stdout",
          "output_type": "stream",
          "text": [
            "['o', 'w', 'k', ' ', 'k', 'g', 'y', 'd', 'k', 'b', 'h', 'l']\n",
            "['o', 'w', 'k', ' ', 'k', 'g', 'y', 'd', 'k', 'b', 'h', 'l']\n",
            "['p', 'w', 'k', ' ', 'k', 'g', 'y', 'd', 'k', 'b', 'h', 'v']\n",
            "['p', 'w', 'k', ' ', 'k', 'g', 'y', 'd', 'k', 'b', 'h', 'v']\n"
          ]
        }
      ],
      "source": [
        "mutationRate = 0.01\n",
        "print(childA)\n",
        "childA = mutateGenome(childA, mutationRate)\n",
        "print(childA)\n",
        "\n",
        "print(childB)\n",
        "childB = mutateGenome(childB, mutationRate)\n",
        "print(childB)"
      ]
    },
    {
      "cell_type": "markdown",
      "metadata": {
        "id": "bvlPGY2fGXnP"
      },
      "source": [
        "#### Corremos todo el modelo"
      ]
    },
    {
      "cell_type": "code",
      "execution_count": 31,
      "metadata": {
        "id": "OHU7zNBGK_fU"
      },
      "outputs": [],
      "source": [
        "def runEvolution(mutationRate, POPULATION_SIZE):\n",
        "    # Corremos el algoritmo genético hasta llegar al máx fitness\n",
        "\n",
        "    population = generatePopulation(POPULATION_SIZE, largo_genoma, valores)\n",
        "\n",
        "    fitness = 0\n",
        "    generation = 0\n",
        "\n",
        "    while fitness < 1:\n",
        "        population = sorted(population, key=lambda genome: fitnessFunction(genome, objetivo), reverse=True)\n",
        "\n",
        "        bestGenome = population[0]\n",
        "        fitness = fitnessFunction(bestGenome, objetivo)\n",
        "\n",
        "        print(\"The notes for the best song of generation\", generation, \"are:\", bestGenome, \"with a fitness of\", fitness)\n",
        "\n",
        "        nextGeneration = []\n",
        "\n",
        "        while len(nextGeneration) < POPULATION_SIZE:\n",
        "            fitnessValues = [fitnessFunction(genome, objetivo) for genome in population]\n",
        "            parentA, parentB = selectParents(population, fitnessValues)\n",
        "            childA, childB = crossoverFunction(parentA, parentB)\n",
        "\n",
        "            childA = mutateGenome(childA, mutationRate)\n",
        "            childB = mutateGenome(childB, mutationRate)\n",
        "\n",
        "            nextGeneration += [childA, childB]\n",
        "\n",
        "        population = nextGeneration\n",
        "        generation += 1\n",
        "\n",
        "    return bestGenome"
      ]
    },
    {
      "cell_type": "code",
      "execution_count": 42,
      "metadata": {
        "id": "ofqAm0V2GvNs"
      },
      "outputs": [],
      "source": [
        "objetivo = \"hola mi nombre es tomas\"\n",
        "largo_genoma = len(objetivo)\n",
        "valores = list(string.ascii_lowercase + \" \")"
      ]
    },
    {
      "cell_type": "code",
      "execution_count": 43,
      "metadata": {
        "id": "4DdjewvLGltn"
      },
      "outputs": [],
      "source": [
        "#Hiperparámetros\n",
        "population_size = 200\n",
        "mutation_rate = 0.01"
      ]
    },
    {
      "cell_type": "code",
      "execution_count": 44,
      "metadata": {
        "colab": {
          "base_uri": "https://localhost:8080/"
        },
        "id": "LpopHoguHOSk",
        "outputId": "fd6845be-2eb0-40fe-94cd-a18084e5c646"
      },
      "outputs": [
        {
          "name": "stdout",
          "output_type": "stream",
          "text": [
            "The notes for the best song of generation 0 are: ['h', 'b', 'k', ' ', ' ', 'x', 't', 'x', 'l', 'p', 'w', 'o', 'h', 'h', 'n', 'j', 's', ' ', 'a', ' ', ' ', 'l', 'b'] with a fitness of 0.17391304347826086\n",
            "The notes for the best song of generation 1 are: ['j', 'o', 'l', 'p', 'a', 'z', 'i', 'l', 't', 'l', 'o', 'a', 'm', 'z', 'y', ' ', 's', ' ', 'o', 'w', 'y', 'o', 'w'] with a fitness of 0.21739130434782608\n",
            "The notes for the best song of generation 2 are: ['j', 'o', 'l', 'p', 'a', 'z', 'i', 'l', 't', 'f', 'b', 'x', 'f', 'z', 'y', ' ', 's', ' ', 'o', 'w', 'y', 'o', 'w'] with a fitness of 0.21739130434782608\n",
            "The notes for the best song of generation 3 are: ['j', 'o', 'l', 'p', 'a', 'z', 'i', 'l', 't', 'l', 'o', 'a', 'm', 'z', 'y', ' ', 's', ' ', 'o', 'w', 'm', 'h', 's'] with a fitness of 0.30434782608695654\n",
            "The notes for the best song of generation 4 are: ['j', 'o', 'l', 'p', 'a', 'z', 'n', 'z', 'n', 'y', 't', 'q', 'r', 'g', 'a', 'e', 's', ' ', 'a', ' ', ' ', ' ', 'b'] with a fitness of 0.30434782608695654\n",
            "The notes for the best song of generation 5 are: ['j', 'o', 'l', 'p', 'a', 'z', 'n', 'z', 'n', 'w', 't', 'q', 'r', 'g', 'c', ' ', 's', ' ', 'o', 'w', 'm', 'h', 's'] with a fitness of 0.34782608695652173\n",
            "The notes for the best song of generation 6 are: ['j', 'o', 'l', 'p', 'a', 'z', 'i', 'l', 't', 'f', 'm', 'g', 'r', 'g', 'a', 'j', 's', 'a', 'z', 'e', 'm', 'j', 's'] with a fitness of 0.34782608695652173\n",
            "The notes for the best song of generation 7 are: ['j', 'e', ' ', 'a', 'h', 'x', 'm', 'l', 'o', 'o', 'm', 'd', 'r', 'g', 'a', 'e', 's', ' ', 'a', ' ', 'm', 'h', 's'] with a fitness of 0.391304347826087\n",
            "The notes for the best song of generation 8 are: ['j', 'o', 'l', 'p', 'a', 'o', 'i', 'z', 'n', 'y', 'm', 'g', 'r', 'g', 'a', 'j', 's', 'a', 'z', 'e', 'm', 'j', 's'] with a fitness of 0.391304347826087\n",
            "The notes for the best song of generation 9 are: ['s', 'h', 'l', 'i', 'k', 'm', 'i', 'z', 'n', 'y', 'm', 'g', 'r', 'g', 'a', 'j', 's', 'a', 'z', 'e', 'm', 'j', 's'] with a fitness of 0.391304347826087\n",
            "The notes for the best song of generation 10 are: ['j', 'o', 'l', 'p', 'a', 'h', 'i', 'l', 't', 'o', 'm', 'd', 'r', 'g', 'a', 'e', 's', ' ', 'o', 'w', 'm', 'h', 's'] with a fitness of 0.4782608695652174\n",
            "The notes for the best song of generation 11 are: ['j', 'o', 'l', 'p', 'a', 'h', 'i', 'l', 't', 'o', 'm', 'd', 'r', 'g', 'a', 'e', 's', ' ', 'h', 'o', ' ', 'a', 's'] with a fitness of 0.5217391304347826\n",
            "The notes for the best song of generation 12 are: ['h', 'b', 'l', 'g', 'b', 'p', 'c', 'd', 'f', 'o', 'm', 'd', 'r', 'g', 'a', 'e', 's', ' ', 'h', 'o', ' ', 'a', 's'] with a fitness of 0.4782608695652174\n",
            "The notes for the best song of generation 13 are: ['j', 'o', 'l', 'p', 'a', 'z', 'i', 'l', 't', 'f', 'm', 'd', 'r', 'g', 'a', 'e', 's', ' ', 'o', 'h', 'm', 'a', 's'] with a fitness of 0.4782608695652174\n",
            "The notes for the best song of generation 14 are: ['h', 'o', 'l', 'p', 'a', 'd', 'n', 'z', 'o', 'o', 'm', 'd', 'r', 'g', 'a', 'e', 's', ' ', 'h', 'o', ' ', 'a', 's'] with a fitness of 0.5217391304347826\n",
            "The notes for the best song of generation 15 are: ['h', 'h', 'l', 'c', 'd', 'x', 't', 'z', 'n', 'o', 'u', 'b', 'r', 'g', 't', 'e', 's', ' ', 'h', 'h', 'k', 'a', 's'] with a fitness of 0.4782608695652174\n",
            "The notes for the best song of generation 16 are: ['j', 'o', 'l', 'a', 'h', 'x', 'm', 'd', 'f', 'o', 'm', 'd', 'r', 'g', 'a', 'e', 's', ' ', 'h', 'h', 'm', 'a', 's'] with a fitness of 0.5217391304347826\n",
            "The notes for the best song of generation 17 are: ['h', 'o', 'l', 'g', 'b', 'p', 'c', 'd', 'f', 'o', 'm', 'd', 'r', 'g', 'a', 'e', 's', ' ', 'o', 'h', 'm', 'a', 's'] with a fitness of 0.5217391304347826\n",
            "The notes for the best song of generation 18 are: ['h', 'o', 'l', 'a', 'h', 'x', 'm', 'd', 'f', 'o', 'm', 'd', 'r', 'g', 'a', 'e', 's', 'j', 't', 'u', 'm', 'a', 's'] with a fitness of 0.5652173913043478\n",
            "The notes for the best song of generation 19 are: ['m', 'o', 'l', 'a', 'h', 'x', 'm', 'd', 'f', 'o', 'm', 'd', 'r', 'g', 'a', 'e', 's', 'j', 't', 'u', 'm', 'a', 's'] with a fitness of 0.5217391304347826\n",
            "The notes for the best song of generation 20 are: ['j', 'o', 'l', 'c', 'd', 'm', 'i', 'l', 't', 'o', 'm', 'a', 'r', 'q', 'a', 'e', 's', 'j', 't', 'u', 'm', 'a', 's'] with a fitness of 0.5652173913043478\n",
            "The notes for the best song of generation 21 are: ['h', 'o', 'e', 'c', ' ', 'z', 'a', 'd', 'f', 'o', 'm', 'd', 'r', 'g', 'a', 'e', 's', ' ', 'h', 'o', 'm', 'a', 's'] with a fitness of 0.5652173913043478\n",
            "The notes for the best song of generation 22 are: ['h', 'o', 'l', 'a', 'h', 'z', 'q', 'l', 't', 'f', 'm', 'g', 'r', 'e', 'a', 'e', 's', ' ', 't', 'u', 'm', 'j', 's'] with a fitness of 0.5652173913043478\n",
            "The notes for the best song of generation 23 are: ['h', 'o', 'l', 'a', 'h', 'x', 'm', 'd', 'n', 'o', 'm', 'n', 'r', 'g', 'a', 'e', 's', ' ', 'h', 'h', 'k', 'a', 's'] with a fitness of 0.5652173913043478\n",
            "The notes for the best song of generation 24 are: ['h', 'o', 'l', 'a', 'h', 'x', 'm', 'd', 'n', 'o', 'm', 'n', 'r', 'n', 'a', 'e', 's', 'a', 't', 'u', 'k', 'a', 's'] with a fitness of 0.5652173913043478\n",
            "The notes for the best song of generation 25 are: ['j', 'o', 'l', 'p', 'a', 'z', 'v', 'z', 'n', 'o', 'm', 'g', 'r', 'e', 'a', 'e', 's', ' ', 't', 'u', 'k', 'a', 's'] with a fitness of 0.5652173913043478\n",
            "The notes for the best song of generation 26 are: ['h', 'o', 'l', 'a', 'a', 'x', 'n', 'z', 'n', 'q', 'm', 'a', 'r', 'g', 'a', 'e', 's', ' ', 'm', 'u', 'm', 'a', 's'] with a fitness of 0.5652173913043478\n",
            "The notes for the best song of generation 27 are: ['i', 'o', 'l', 'a', 'h', 'x', 'i', 'l', 't', 'o', 'm', 'a', 'r', 'e', 'a', ' ', 's', ' ', 't', 'h', 'm', 'a', 's'] with a fitness of 0.6086956521739131\n",
            "The notes for the best song of generation 28 are: ['h', 'o', 'l', 'a', 'h', 'x', 'k', 'z', 'n', 'o', 'm', 'g', 'r', 'e', 'a', 'e', 's', ' ', 't', 'u', 'k', 'a', 's'] with a fitness of 0.6521739130434783\n",
            "The notes for the best song of generation 29 are: ['j', 'o', 'l', 'i', ' ', 'l', 'i', 'r', 'n', 'o', 'm', 'g', 'r', 'z', 'n', 'e', 's', ' ', 't', 'q', 'k', 'a', 's'] with a fitness of 0.6086956521739131\n",
            "The notes for the best song of generation 30 are: [' ', 'o', 'l', 'i', ' ', 'l', 'i', 'r', 'n', 'o', 'm', 'g', 'r', 'z', 'n', 'e', 's', ' ', 't', 'q', 'k', 'a', 's'] with a fitness of 0.6086956521739131\n",
            "The notes for the best song of generation 31 are: ['h', 'o', 'l', 'i', 'h', 'x', 'i', 'z', 'f', 'o', 'm', 'g', 'r', 'e', 'a', 'e', 's', ' ', 't', 'h', 'm', 'a', 's'] with a fitness of 0.6521739130434783\n",
            "The notes for the best song of generation 32 are: ['h', 'o', 'l', 'i', 'h', 'x', 'i', 'z', 'f', 'o', 'm', 's', 'r', 'e', 'a', 'e', 's', ' ', 't', 'h', 'm', 'a', 's'] with a fitness of 0.6521739130434783\n",
            "The notes for the best song of generation 33 are: ['m', 'o', 'l', 'a', 'h', 'x', 'i', 'z', 'f', 'o', 'm', 'g', 'r', 'e', 'a', 'e', 's', ' ', 't', 'h', 'm', 'a', 's'] with a fitness of 0.6521739130434783\n",
            "The notes for the best song of generation 34 are: ['h', 'o', 'l', 'a', 'h', 'h', 'i', 'l', 't', 'o', 'd', 'o', 'r', 'e', ' ', 'e', 's', 'j', 't', 'q', 'm', 'a', 's'] with a fitness of 0.6521739130434783\n",
            "The notes for the best song of generation 35 are: ['h', 'o', 'l', 'a', 'h', 'x', 'i', 'z', 'f', 'o', 'm', 'g', 'r', 'e', 'a', 'e', 's', 'j', 't', 'u', 'm', 'a', 's'] with a fitness of 0.6521739130434783\n",
            "The notes for the best song of generation 36 are: ['j', 'o', 'l', 'a', 'h', 'z', 'i', 'b', 'o', 'o', 'm', 'g', 'r', 'e', 'a', 'e', 's', 'j', 't', 'u', 'm', 'a', 's'] with a fitness of 0.6086956521739131\n",
            "The notes for the best song of generation 37 are: ['h', 'o', 'l', 'a', 'a', 'z', 'i', 'z', 'n', 'o', 'm', 'd', 'r', 'e', 'a', 'e', 's', 'j', 't', 'u', 'm', 'a', 's'] with a fitness of 0.6956521739130435\n",
            "The notes for the best song of generation 38 are: ['h', 'h', 'l', 'i', ' ', 'l', 'i', 's', 'n', 'o', 'm', 'u', 'r', 'e', ' ', 'e', 's', 'j', 't', 'q', 'm', 'a', 's'] with a fitness of 0.6956521739130435\n",
            "The notes for the best song of generation 39 are: ['h', 'o', 'l', 'a', 'h', 'z', 'i', 'b', 'q', 'o', 'm', 'g', 'r', 'e', ' ', 'e', 's', 'j', 'n', 'q', 'm', 'a', 's'] with a fitness of 0.6521739130434783\n",
            "The notes for the best song of generation 40 are: ['h', 'o', 'l', 'a', 'a', 'd', 'n', 'l', 't', 'o', 'm', 'g', 'r', 'e', ' ', 'e', 's', ' ', 't', 'u', 'm', 'a', 's'] with a fitness of 0.6956521739130435\n",
            "The notes for the best song of generation 41 are: ['u', 'e', 's', 'a', ' ', 'm', 'i', 's', 'n', 'o', 'm', 'u', 'r', 'e', ' ', 'e', 's', 'j', 't', 'u', 'm', 'a', 's'] with a fitness of 0.6956521739130435\n",
            "The notes for the best song of generation 42 are: ['u', 'e', 's', 'a', ' ', 'm', 'i', 's', 'n', 'o', 'm', 'u', 'r', 'e', ' ', 'e', 's', 'j', 't', 'u', 'm', 'a', 's'] with a fitness of 0.6956521739130435\n",
            "The notes for the best song of generation 43 are: ['h', 'o', 'l', 'a', 'a', 'z', 'i', 'z', 'n', 'o', 'm', 'd', 'r', 'e', 'a', 'e', 's', 'j', 't', 'q', 'm', 'a', 's'] with a fitness of 0.6956521739130435\n",
            "The notes for the best song of generation 44 are: ['h', 'o', 'l', 'a', 'v', 'z', 'i', 'z', 'n', 'o', 'm', 'a', 'r', 'e', 'h', 'e', 's', 'j', 't', 'c', 'm', 'a', 's'] with a fitness of 0.6956521739130435\n",
            "The notes for the best song of generation 45 are: ['h', 'o', 'l', 'a', 'v', 'z', 'i', 'z', 'n', 'o', 'm', 'a', 'r', 'e', 'a', 'e', 's', 'j', 't', 'u', 'm', 'a', 's'] with a fitness of 0.6956521739130435\n",
            "The notes for the best song of generation 46 are: ['h', 'o', 'l', 'a', 'a', 't', 'i', 'l', 'm', 'o', 'm', 's', 'r', 'e', ' ', 'e', 's', 'j', 'n', 'o', 'm', 'a', 's'] with a fitness of 0.6956521739130435\n",
            "The notes for the best song of generation 47 are: ['h', 'o', 'l', 'a', 'r', 'x', 'i', 'l', 'o', 'o', 'm', 'a', 'r', 'e', ' ', 'e', 's', ' ', 't', 'h', 'k', 'a', 's'] with a fitness of 0.6956521739130435\n",
            "The notes for the best song of generation 48 are: ['h', 'o', 'l', 'a', 'r', 'x', 'i', 'l', 'o', 'o', 'm', 'a', 'r', 'e', ' ', 'e', 's', ' ', 't', 'u', 'm', 'a', 's'] with a fitness of 0.7391304347826086\n",
            "The notes for the best song of generation 49 are: ['h', 'o', 'l', 'a', 'r', 'x', 'i', 'l', 'o', 'o', 'm', 'a', 'r', 'e', ' ', 'e', 's', ' ', 't', 'u', 'm', 'a', 's'] with a fitness of 0.7391304347826086\n",
            "The notes for the best song of generation 50 are: ['h', 'g', 'l', 'p', ' ', 'z', 'i', 'h', 'n', 'o', 'm', 'b', 'r', 'e', ' ', 'e', 's', 'j', 't', 'u', 'm', 'a', 's'] with a fitness of 0.7391304347826086\n",
            "The notes for the best song of generation 51 are: ['h', 'o', 'l', 'a', 'v', 'z', 'i', 'w', 'm', 'o', 'm', 's', 'r', 'e', ' ', 'e', 's', 'i', 't', 'u', 'm', 'a', 's'] with a fitness of 0.6956521739130435\n",
            "The notes for the best song of generation 52 are: ['h', 'o', 'l', 'a', 'a', 'd', 'i', 'z', 'k', 'o', 'm', 'u', 'r', 'e', ' ', 'e', 's', ' ', 't', 'u', 'm', 'a', 's'] with a fitness of 0.7391304347826086\n",
            "The notes for the best song of generation 53 are: ['j', 'o', 'l', 'a', 'a', 'z', 'i', 'z', 't', 'o', 'm', 'g', 'r', 'e', ' ', 'e', 's', ' ', 't', 'o', 'm', 'a', 's'] with a fitness of 0.7391304347826086\n",
            "The notes for the best song of generation 54 are: ['h', 'o', 'l', 'a', 'c', 'x', 'i', 'l', 't', 'o', 'm', 'o', 'r', 'e', ' ', 'e', 's', ' ', 't', 'o', 'm', 'a', 's'] with a fitness of 0.782608695652174\n",
            "The notes for the best song of generation 55 are: ['h', 'o', 'l', 'a', 'c', 'x', 'i', 'l', 't', 'o', 'm', 'o', 'r', 'e', ' ', 'e', 's', ' ', 't', 'o', 'm', 'a', 's'] with a fitness of 0.782608695652174\n",
            "The notes for the best song of generation 56 are: ['h', 'o', 'l', 'a', 'b', 'z', 'i', 'd', 'f', 'o', 'm', 'o', 'r', 'e', ' ', 'e', 's', ' ', 't', 'o', 'm', 'a', 's'] with a fitness of 0.782608695652174\n",
            "The notes for the best song of generation 57 are: ['h', 'o', 'l', 'a', 'a', 'z', 'i', 'z', 'k', 'o', 'm', 'r', 'r', 'e', ' ', 'e', 's', ' ', 't', 'u', 'm', 'a', 's'] with a fitness of 0.7391304347826086\n",
            "The notes for the best song of generation 58 are: ['j', 'o', 'l', 'a', 'v', 't', 'i', 'z', 'n', 'o', 'm', 'n', 'r', 'e', ' ', 'e', 's', 'j', 't', 'o', 'm', 'a', 's'] with a fitness of 0.7391304347826086\n",
            "The notes for the best song of generation 59 are: ['h', 'o', 'l', 'a', 'r', 'x', 'i', 'z', 'n', 'o', 'm', 'n', 'r', 'e', ' ', 'e', 's', 'j', 't', 'o', 'm', 'a', 's'] with a fitness of 0.782608695652174\n",
            "The notes for the best song of generation 60 are: ['h', 'o', 'l', 'a', 'r', 'x', 'i', 'z', 'n', 'o', 'm', 'n', 'r', 'e', ' ', 'e', 's', 'j', 't', 'o', 'm', 'a', 's'] with a fitness of 0.782608695652174\n",
            "The notes for the best song of generation 61 are: ['h', 'o', 'l', 'a', 'r', 'm', 'i', 'z', 'k', 'o', 'm', 'g', 'r', 'e', ' ', 'e', 's', 'j', 't', 'o', 'm', 'a', 's'] with a fitness of 0.782608695652174\n",
            "The notes for the best song of generation 62 are: ['h', 'o', 'l', 'a', 'r', 'x', 'i', 'l', 'm', 'o', 'm', 'b', 'r', 'e', ' ', 'e', 's', 'i', 't', 'q', 'm', 'a', 's'] with a fitness of 0.7391304347826086\n",
            "The notes for the best song of generation 63 are: ['h', 'o', 'l', 'a', 'r', 'x', 'i', 'l', 't', 'o', 'm', 'a', 'r', 'e', ' ', 'e', 's', 'i', 't', 'o', 'm', 'a', 's'] with a fitness of 0.7391304347826086\n",
            "The notes for the best song of generation 64 are: ['h', 'o', 'l', 'p', ' ', 'x', 'i', 'l', 'n', 'o', 'm', 'p', 'r', 'e', ' ', 'e', 's', ' ', 't', 'u', 'm', 'a', 's'] with a fitness of 0.782608695652174\n",
            "The notes for the best song of generation 65 are: ['h', 'o', 'l', 'a', ' ', 'x', 'i', 'z', 'n', 'o', 'm', 'n', 'r', 'e', ' ', 'e', 's', 'j', 't', 'u', 'm', 'a', 's'] with a fitness of 0.782608695652174\n",
            "The notes for the best song of generation 66 are: ['h', 'o', 'l', 'a', ' ', 'x', 'i', 'z', 'n', 'o', 'm', 'n', 'r', 'e', ' ', 'e', 's', 'j', 't', 'o', 'm', 'a', 's'] with a fitness of 0.8260869565217391\n",
            "The notes for the best song of generation 67 are: ['h', 'o', 'l', 'a', 'h', 'x', 'i', 'o', 'n', 'o', 'm', 'p', 'r', 'e', ' ', 'e', 's', ' ', 't', 'u', 'm', 'a', 's'] with a fitness of 0.782608695652174\n",
            "The notes for the best song of generation 68 are: ['h', 'o', 'l', 'a', ' ', 'x', 'i', 'z', 'o', 'o', 'm', 'b', 'i', 'e', ' ', 'e', 's', ' ', 't', 'l', 'm', 'a', 's'] with a fitness of 0.782608695652174\n",
            "The notes for the best song of generation 69 are: ['h', 'o', 'l', 'a', 'r', 'm', 'd', 'z', 'f', 'o', 'm', 'g', 'r', 'e', ' ', 'e', 's', ' ', 't', 'o', 'm', 'a', 's'] with a fitness of 0.782608695652174\n",
            "The notes for the best song of generation 70 are: ['h', 'o', 'l', 'a', 'q', 'x', 'i', 'z', 'n', 'o', 'm', 'g', 'r', 'e', ' ', 'e', 's', 'i', 't', 'o', 'm', 'a', 's'] with a fitness of 0.782608695652174\n",
            "The notes for the best song of generation 71 are: ['h', 'o', 'l', 'a', ' ', 'x', 'i', 'z', 'o', 'o', 'm', 'g', 'r', 'e', ' ', 'e', 's', ' ', 't', 'o', 'm', 'z', 's'] with a fitness of 0.782608695652174\n",
            "The notes for the best song of generation 72 are: ['h', 'o', 'l', 'j', 'r', 'd', 'i', 'n', 'n', 'o', 'm', 'd', 'r', 'e', ' ', 'e', 's', ' ', 't', 'o', 'm', 'a', 's'] with a fitness of 0.782608695652174\n",
            "The notes for the best song of generation 73 are: ['h', 'o', 'l', 'a', 'h', 'z', 'i', 'l', 'n', 'o', 'm', 'u', 'r', 'e', ' ', 'e', 's', 'j', 't', 'o', 'm', 'a', 's'] with a fitness of 0.782608695652174\n",
            "The notes for the best song of generation 74 are: ['h', 'o', 'l', 'a', 'h', 'z', 'i', 'l', 'n', 'o', 'm', 'u', 'r', 'e', ' ', 'e', 's', 'j', 't', 'o', 'm', 'a', 's'] with a fitness of 0.782608695652174\n",
            "The notes for the best song of generation 75 are: ['h', 'o', 'l', 'a', 'r', 'z', 'i', 'l', 'n', 'o', 'm', 'p', 'r', 'e', ' ', 'e', 's', 'e', 't', 'o', 'm', 'a', 's'] with a fitness of 0.782608695652174\n",
            "The notes for the best song of generation 76 are: ['h', 'o', 'l', 'a', 'q', 'x', 'i', 'z', 'n', 'o', 'm', 'g', 'r', 'e', 'y', 'e', 's', ' ', 't', 'o', 'm', 'a', 's'] with a fitness of 0.782608695652174\n",
            "The notes for the best song of generation 77 are: ['h', 'o', 'l', 'a', ' ', 'z', 'i', 'z', 'n', 'o', 'm', 'x', 'r', 'e', ' ', 'e', 's', ' ', 't', 'd', 'm', 'a', 's'] with a fitness of 0.8260869565217391\n",
            "The notes for the best song of generation 78 are: ['h', 'o', 'l', 'a', 'h', 'x', 'i', 'd', 'n', 'o', 'm', 'x', 'r', 'e', ' ', 'a', 's', ' ', 't', 'o', 'm', 'a', 's'] with a fitness of 0.782608695652174\n",
            "The notes for the best song of generation 79 are: ['h', 'o', 'l', 'a', 'e', 't', 'i', 'v', 'n', 'o', 'm', 'p', 'r', 'e', ' ', 'e', 's', ' ', 't', 'u', 'm', 'a', 's'] with a fitness of 0.782608695652174\n",
            "The notes for the best song of generation 80 are: ['h', 'o', 'p', 'a', ' ', 'z', 'i', 'z', 'm', 'o', 'm', 'b', 'r', 'f', ' ', 'e', 's', ' ', 't', 'o', 'm', 'a', 's'] with a fitness of 0.782608695652174\n",
            "The notes for the best song of generation 81 are: ['h', 'o', 'l', 'a', ' ', 'z', 'i', 'z', 'm', 'o', 'm', 'b', 'r', 'f', ' ', 'e', 's', ' ', 't', 'o', 'm', 'a', 's'] with a fitness of 0.8260869565217391\n",
            "The notes for the best song of generation 82 are: ['h', 'o', 'l', 'a', ' ', 'z', 'i', 'z', 'm', 'o', 'm', 'b', 'r', 'f', ' ', 'e', 's', ' ', 't', 'o', 'm', 'a', 's'] with a fitness of 0.8260869565217391\n",
            "The notes for the best song of generation 83 are: ['h', 'o', 'l', 'a', 'h', 'x', 'i', 'd', 'n', 'o', 'm', 'g', 'r', 'e', ' ', 'e', 's', ' ', 't', 'o', 'm', 'a', 's'] with a fitness of 0.8260869565217391\n",
            "The notes for the best song of generation 84 are: ['h', 'o', 'l', 'a', 'r', 'x', 'i', 'n', 'n', 'o', 'm', 'g', 'r', 'e', ' ', 'e', 's', ' ', 't', 'o', 'm', 'a', 's'] with a fitness of 0.8260869565217391\n",
            "The notes for the best song of generation 85 are: ['h', 'o', 'l', 'a', 'r', 'z', 'i', 'z', 'n', 'o', 'm', 'g', 'r', 'e', ' ', 'e', 's', ' ', 't', 'o', 'm', 'a', 's'] with a fitness of 0.8260869565217391\n",
            "The notes for the best song of generation 86 are: ['h', 'o', 'l', 'p', 'r', 'x', 'i', 'l', 'n', 'o', 'm', 'b', 'r', 'e', ' ', 'e', 's', ' ', 't', 'o', 'm', 'a', 's'] with a fitness of 0.8260869565217391\n",
            "The notes for the best song of generation 87 are: ['h', 'o', 'l', 'a', 'o', 'z', 'i', 'z', 'n', 'o', 'm', 'g', 'r', 'e', ' ', 'e', 's', ' ', 't', 'o', 'm', 'a', 's'] with a fitness of 0.8260869565217391\n",
            "The notes for the best song of generation 88 are: ['h', 'o', 'l', 'a', 'v', 'z', 'i', 'l', 'n', 'o', 'm', 'g', 'r', 'e', ' ', 'e', 's', ' ', 't', 'o', 'm', 'a', 's'] with a fitness of 0.8260869565217391\n",
            "The notes for the best song of generation 89 are: ['h', 'o', 'l', 'a', ' ', 'z', 'i', 'u', 'n', 'o', 'm', 'b', 'r', 'e', ' ', 'e', 's', ' ', 't', 'c', 'm', 'a', 's'] with a fitness of 0.8695652173913043\n",
            "The notes for the best song of generation 90 are: ['h', 'o', 'l', 'p', ' ', 't', 'i', 'h', 'n', 'o', 'm', 'p', 'r', 'e', ' ', 'e', 's', ' ', 't', 'u', 'm', 'a', 's'] with a fitness of 0.782608695652174\n",
            "The notes for the best song of generation 91 are: ['h', 'o', 'l', 'a', 'v', 'z', 'i', 'z', 'n', 'o', 'm', 'p', 'r', 'e', ' ', 'e', 's', ' ', 't', 'o', 'm', 'a', 's'] with a fitness of 0.8260869565217391\n",
            "The notes for the best song of generation 92 are: ['h', 'o', 'l', 'a', 'r', 'z', 'i', 'l', 'n', 'o', 'm', 'b', 'r', 'e', ' ', 'h', 's', ' ', 't', 'o', 'm', 'a', 's'] with a fitness of 0.8260869565217391\n",
            "The notes for the best song of generation 93 are: ['o', 'o', 'l', 'a', ' ', 'x', 'i', 'h', 'n', 'o', 'm', 'p', 'r', 'e', ' ', 'e', 's', ' ', 't', 'o', 'm', 'a', 's'] with a fitness of 0.8260869565217391\n",
            "The notes for the best song of generation 94 are: ['h', 'o', 'l', 'a', 'j', 'z', 'i', 'l', 'n', 'o', 'm', 'b', 'r', 'e', ' ', 'e', 's', ' ', 't', 'o', 'm', 'a', 's'] with a fitness of 0.8695652173913043\n",
            "The notes for the best song of generation 95 are: ['h', 'o', 'l', 'p', ' ', 'm', 'i', 'u', 'n', 'p', 'm', 'p', 'r', 'e', ' ', 'e', 's', ' ', 't', 'o', 'm', 'a', 's'] with a fitness of 0.8260869565217391\n",
            "The notes for the best song of generation 96 are: ['h', 'o', 'l', 'a', ' ', 'm', 'i', 'u', 'n', 'o', 'm', 'g', 'r', 'e', 'w', 'e', 's', ' ', 't', 'o', 'm', 'a', 's'] with a fitness of 0.8695652173913043\n",
            "The notes for the best song of generation 97 are: ['h', 'o', 'l', 'a', ' ', 'm', 'i', 'u', 'n', 'o', 'm', 's', 'r', 'e', ' ', 'e', 's', ' ', 't', 'o', 'm', 'a', 's'] with a fitness of 0.9130434782608695\n",
            "The notes for the best song of generation 98 are: ['h', 'o', 'l', 'a', ' ', 'm', 'i', 'u', 'n', 'o', 'm', 'b', 'r', 'e', ' ', 'e', 's', ' ', 't', 'q', 'm', 'a', 's'] with a fitness of 0.9130434782608695\n",
            "The notes for the best song of generation 99 are: ['h', 'o', 'l', 'a', ' ', 'm', 'i', 'u', 'n', 'o', 'm', 'o', 'r', 'e', ' ', 'e', 's', ' ', 't', 'q', 'm', 'a', 's'] with a fitness of 0.8695652173913043\n",
            "The notes for the best song of generation 100 are: ['h', 'o', 'l', 'a', ' ', 'm', 'i', 'n', 'n', 's', 'm', 'b', 'r', 'e', ' ', 'e', 's', ' ', 't', 'q', 'm', 'a', 's'] with a fitness of 0.8695652173913043\n",
            "The notes for the best song of generation 101 are: ['h', 'o', 'l', 'a', ' ', 'm', 'i', 'n', 'n', 's', 'm', 'b', 'r', 'e', ' ', 'e', 's', ' ', 't', 'q', 'm', 'a', 's'] with a fitness of 0.8695652173913043\n",
            "The notes for the best song of generation 102 are: ['h', 'o', 'l', 'a', ' ', 'm', 'i', 'n', 'n', 's', 'm', 'b', 'r', 'e', ' ', 'e', 's', ' ', 't', 'o', 'm', 'a', 's'] with a fitness of 0.9130434782608695\n",
            "The notes for the best song of generation 103 are: ['h', 'o', 'l', 'a', ' ', 'm', 'i', 'n', 'n', 's', 'm', 'b', 'r', 'e', ' ', 'e', 's', ' ', 't', 'o', 'm', 'a', 's'] with a fitness of 0.9130434782608695\n",
            "The notes for the best song of generation 104 are: ['h', 'o', 'l', 'a', ' ', 'm', 'i', 'i', 'n', 'o', 'm', 'b', 'r', 'e', ' ', 'e', 's', ' ', 't', 'o', 'm', 'a', 's'] with a fitness of 0.9565217391304348\n",
            "The notes for the best song of generation 105 are: ['h', 'o', 'l', 'a', ' ', 'z', 'i', 'l', 'q', 'o', 'm', 'b', 'r', 'e', ' ', 'e', 's', ' ', 't', 'o', 'm', 'a', 's'] with a fitness of 0.8695652173913043\n",
            "The notes for the best song of generation 106 are: ['h', 'o', 'l', 'a', ' ', 'd', 'i', 'j', 'n', 'o', 'm', 'b', 'r', 'e', ' ', 'e', 's', ' ', 't', 'o', 'm', 'a', 's'] with a fitness of 0.9130434782608695\n",
            "The notes for the best song of generation 107 are: ['h', 'o', 'l', 'a', ' ', 'z', 'i', 'l', 'n', 'o', 'm', 'b', 'r', 'e', ' ', 'e', 's', ' ', 't', 'o', 'm', 'a', 's'] with a fitness of 0.9130434782608695\n",
            "The notes for the best song of generation 108 are: ['h', 'o', 'l', 'a', 'v', 'm', 'i', 'n', 'n', 'o', 'm', 'b', 'r', 'e', ' ', 'e', 's', ' ', 't', 'o', 'm', 'a', 's'] with a fitness of 0.9130434782608695\n",
            "The notes for the best song of generation 109 are: ['h', 'o', 'l', 'a', 'r', 'd', 'i', 'l', 'n', 'o', 'm', 'b', 'r', 'e', ' ', 'e', 's', ' ', 't', 'o', 'm', 'a', 's'] with a fitness of 0.8695652173913043\n",
            "The notes for the best song of generation 110 are: ['h', 'o', 'l', 'a', ' ', 'd', 'i', 'j', 'n', 'o', 'm', 'b', 'r', 'e', ' ', 'e', 's', ' ', 't', 'o', 'm', 'a', 's'] with a fitness of 0.9130434782608695\n",
            "The notes for the best song of generation 111 are: ['o', 'o', 'l', 'a', ' ', 'd', 'i', 'j', 'n', 'o', 'm', 'b', 'r', 'e', ' ', 'e', 's', ' ', 't', 'o', 'm', 'a', 's'] with a fitness of 0.8695652173913043\n",
            "The notes for the best song of generation 112 are: ['h', 'o', 'l', 'a', ' ', 'd', 'i', 'j', 'n', 'o', 'm', 'b', 'r', 'e', ' ', 'e', 's', ' ', 't', 'o', 'm', 'a', 's'] with a fitness of 0.9130434782608695\n",
            "The notes for the best song of generation 113 are: ['h', 'o', 'l', 'a', ' ', 'z', 'i', 'l', 'l', 'o', 'm', 'b', 'r', 'e', ' ', 'e', 's', ' ', 't', 'o', 'm', 'a', 's'] with a fitness of 0.8695652173913043\n",
            "The notes for the best song of generation 114 are: ['h', 'o', 'l', 'a', ' ', 'z', 'i', 'z', 'n', 'o', 'm', 'b', 'r', 'e', 'y', 'e', 's', ' ', 't', 'o', 'm', 'a', 's'] with a fitness of 0.8695652173913043\n",
            "The notes for the best song of generation 115 are: ['h', 'o', 'l', 'a', ' ', 'x', 'i', 'u', 'n', 'o', 'm', 'b', 'r', 'e', ' ', 'e', 's', ' ', 't', 'o', 'm', 'a', 's'] with a fitness of 0.9130434782608695\n",
            "The notes for the best song of generation 116 are: ['h', 'o', 'l', 'a', ' ', 'z', 'i', 'u', 'n', 'o', 'm', 'b', 'r', 'e', ' ', 'e', 's', ' ', 't', 'o', 'm', 'a', 's'] with a fitness of 0.9130434782608695\n",
            "The notes for the best song of generation 117 are: ['h', 'o', 'l', 'a', 'r', 'd', 'i', 'u', 'n', 'o', 'm', 'b', 'r', 'e', ' ', 'e', 's', ' ', 't', 'o', 'm', 'a', 's'] with a fitness of 0.8695652173913043\n",
            "The notes for the best song of generation 118 are: ['h', 'o', 'l', 'a', ' ', 'm', 'o', 'u', 'n', 'o', 'm', 'b', 'r', 'e', ' ', 'e', 's', ' ', 't', 'o', 'm', 'a', 's'] with a fitness of 0.9130434782608695\n",
            "The notes for the best song of generation 119 are: ['h', 'o', 'l', 'a', ' ', 'm', 'i', 'l', 'n', 'o', 'm', 'b', 'r', 'e', 'y', 'e', 's', ' ', 't', 'o', 'm', 'a', 's'] with a fitness of 0.9130434782608695\n",
            "The notes for the best song of generation 120 are: ['h', 'o', 'l', 'a', ' ', 'm', 'o', 'u', 'n', 'o', 'm', 'b', 'r', 'e', ' ', 'e', 's', ' ', 't', 'o', 'm', 'a', 's'] with a fitness of 0.9130434782608695\n",
            "The notes for the best song of generation 121 are: ['h', 'o', 'l', 'a', ' ', 'd', 'i', 'l', 'n', 'o', 'm', 'b', 'r', 'e', ' ', 'e', 's', 'q', 't', 'o', 'm', 'a', 's'] with a fitness of 0.8695652173913043\n",
            "The notes for the best song of generation 122 are: ['h', 'o', 'l', 'a', ' ', 'd', 'i', 'l', 'n', 'o', 'm', 'b', 'r', 'e', ' ', 't', 's', ' ', 't', 'o', 'm', 'a', 's'] with a fitness of 0.8695652173913043\n",
            "The notes for the best song of generation 123 are: ['h', 'o', 'l', 'a', ' ', 'm', 'i', 'q', 'n', 'o', 'm', 'b', 'r', 'e', 'f', 'e', 's', ' ', 't', 'o', 'm', 'a', 's'] with a fitness of 0.9130434782608695\n",
            "The notes for the best song of generation 124 are: ['h', 'o', 'l', 'a', ' ', 'm', 'i', 'p', 'n', 'o', 'm', 'b', 'r', 'e', ' ', 'e', 's', ' ', 't', 'o', 'm', 'a', 's'] with a fitness of 0.9565217391304348\n",
            "The notes for the best song of generation 125 are: ['h', 'o', 'l', 'a', ' ', 'x', 'i', 'u', 'n', 'o', 'm', 'b', 'r', 'e', ' ', 'e', 's', ' ', 't', 'o', 'm', 'a', 's'] with a fitness of 0.9130434782608695\n",
            "The notes for the best song of generation 126 are: ['h', 'o', 'l', 'a', ' ', 'd', 'i', 'c', 'n', 'o', 'm', 'b', 'r', 'e', ' ', 'e', 's', ' ', 't', 'c', 'm', 'a', 's'] with a fitness of 0.8695652173913043\n",
            "The notes for the best song of generation 127 are: ['h', 'o', 'l', 'a', ' ', 'd', 'i', 'k', 'n', 'o', 'm', 'b', 'r', 'e', ' ', 'e', 's', ' ', 't', 'o', 'm', 'a', 's'] with a fitness of 0.9130434782608695\n",
            "The notes for the best song of generation 128 are: ['h', 'o', 'l', 'a', ' ', 'm', 'i', 'l', 'n', 'o', 'm', 'b', 'r', 'e', ' ', 'e', 's', ' ', 't', 'o', 'm', 'a', 's'] with a fitness of 0.9565217391304348\n",
            "The notes for the best song of generation 129 are: ['h', 'o', 'l', 'a', ' ', 'd', 'i', 'k', 'n', 'o', 'm', 'b', 'r', 'e', ' ', 'e', 's', ' ', 't', 'o', 'm', 'a', 's'] with a fitness of 0.9130434782608695\n",
            "The notes for the best song of generation 130 are: ['h', 'o', 'l', 'a', ' ', 'm', 'i', 'q', 'n', 'o', 'm', 'b', 'r', 'e', ' ', 'e', 's', ' ', 't', 'o', 'm', 'y', 's'] with a fitness of 0.9130434782608695\n",
            "The notes for the best song of generation 131 are: ['h', 'o', 'l', 'a', ' ', 'z', 'i', 'l', 'n', 'o', 'm', 'b', 'r', 'e', ' ', 'e', 's', ' ', 't', 'o', 'm', 'a', 's'] with a fitness of 0.9130434782608695\n",
            "The notes for the best song of generation 132 are: ['h', 'o', 'l', 'a', ' ', 'm', 'i', 'q', 'n', 'o', 'm', 'f', 'r', 'e', ' ', 'e', 's', ' ', 't', 'o', 'm', 'a', 's'] with a fitness of 0.9130434782608695\n",
            "The notes for the best song of generation 133 are: ['h', 'o', 'l', 'a', ' ', 'z', 'i', 'p', 'n', 'p', 'm', 'b', 'r', 'e', ' ', 'e', 's', ' ', 't', 'o', 'm', 'a', 's'] with a fitness of 0.8695652173913043\n",
            "The notes for the best song of generation 134 are: ['h', 'o', 'l', 'j', ' ', 'm', 'i', 'l', 'n', 'o', 'm', 'b', 'r', 'e', ' ', 'e', 's', ' ', 't', 'o', 'm', 'a', 's'] with a fitness of 0.9130434782608695\n",
            "The notes for the best song of generation 135 are: ['h', 'o', 'l', 'a', ' ', 'd', 'i', 'h', 'n', 'o', 'm', 'b', 'r', 'e', ' ', 'e', 's', ' ', 't', 'o', 'm', 'a', 's'] with a fitness of 0.9130434782608695\n",
            "The notes for the best song of generation 136 are: ['h', 'o', 'l', 'm', ' ', 'm', 'i', 'l', 'n', 'o', 'm', 'b', 'r', 'e', ' ', 'e', 's', ' ', 't', 'o', 'm', 'a', 's'] with a fitness of 0.9130434782608695\n",
            "The notes for the best song of generation 137 are: ['h', 'o', 'l', 'm', ' ', 'm', 'i', 'l', 'n', 'o', 'm', 'b', 'r', 'e', ' ', 'e', 's', ' ', 't', 'o', 'm', 'a', 's'] with a fitness of 0.9130434782608695\n",
            "The notes for the best song of generation 138 are: ['h', 'o', 'l', 'a', ' ', 'z', 'i', 'h', 'n', 'o', 'm', 'b', 'r', 'e', ' ', 'e', 's', ' ', 't', 'o', 'm', 'a', 's'] with a fitness of 0.9130434782608695\n",
            "The notes for the best song of generation 139 are: ['h', 'o', 'l', 'a', ' ', 'w', 'd', 'c', 'n', 'o', 'm', 'b', 'r', 'e', ' ', 'e', 's', ' ', 't', 'o', 'm', 'a', 's'] with a fitness of 0.8695652173913043\n",
            "The notes for the best song of generation 140 are: ['h', 'o', 'l', 'a', ' ', 'm', 'i', 'h', 'n', 'o', 'm', 'b', 'r', 'e', ' ', 'e', 's', ' ', 't', 'o', 'm', 'a', 's'] with a fitness of 0.9565217391304348\n",
            "The notes for the best song of generation 141 are: ['h', 'o', 'l', 'a', 'k', 'm', 'i', 'q', 'n', 'o', 'm', 'b', 'r', 'e', ' ', 'e', 's', ' ', 't', 'o', 'm', 'a', 's'] with a fitness of 0.9130434782608695\n",
            "The notes for the best song of generation 142 are: ['h', 'o', 'l', 'a', ' ', 'z', 'i', 'u', 'n', 'o', 'm', 'b', 'r', 'e', ' ', 'e', 's', ' ', 't', 'o', 'm', 'a', ' '] with a fitness of 0.8695652173913043\n",
            "The notes for the best song of generation 143 are: ['h', 'o', 'l', 'a', ' ', 'm', 'i', 'l', 'n', 'o', 'm', 'b', 'r', 'e', ' ', 'e', 's', ' ', 't', 'o', 'm', 'a', 's'] with a fitness of 0.9565217391304348\n",
            "The notes for the best song of generation 144 are: ['h', 'o', 'l', 'a', 'k', 'm', 'i', 'q', 'n', 'o', 'm', 'b', 'r', 'e', ' ', 'e', 's', ' ', 't', 'o', 'm', 'a', 's'] with a fitness of 0.9130434782608695\n",
            "The notes for the best song of generation 145 are: ['h', 'o', 'l', 'a', ' ', 'z', 'i', 'u', 'n', 'o', 'm', 'b', 'r', 'e', ' ', 'e', 's', ' ', 't', 'o', 'm', 'a', 's'] with a fitness of 0.9130434782608695\n",
            "The notes for the best song of generation 146 are: ['h', 'o', 'l', 'a', ' ', 'd', 'i', 'q', 'n', 'o', 'm', 'b', 'r', 'e', ' ', 'e', 's', ' ', 't', 'o', 'm', 'a', 's'] with a fitness of 0.9130434782608695\n",
            "The notes for the best song of generation 147 are: ['h', 'o', 'l', 'a', ' ', 'z', 'i', 'q', 'n', 'o', 'm', 'b', 'r', 'e', ' ', 'e', 's', ' ', 't', 'o', 'm', 'a', 's'] with a fitness of 0.9130434782608695\n",
            "The notes for the best song of generation 148 are: ['h', 'o', 'l', 'a', ' ', 'z', 'i', 'l', 'n', 'o', 'm', 'b', 'r', 'e', ' ', 'e', 's', ' ', 't', 'o', 'm', 'a', 's'] with a fitness of 0.9130434782608695\n",
            "The notes for the best song of generation 149 are: ['h', 'o', 'l', 'a', ' ', 'm', 'i', 'l', 'n', 'o', 'm', 'b', 'r', 'e', ' ', 'e', 's', ' ', 't', 'o', 'm', 'j', 's'] with a fitness of 0.9130434782608695\n",
            "The notes for the best song of generation 150 are: ['h', 'o', 'l', 'a', ' ', 'm', 'i', 'l', 'n', 'o', 'm', 'b', 'r', 'e', ' ', 'e', 's', ' ', 't', 'o', 'm', 'j', 's'] with a fitness of 0.9130434782608695\n",
            "The notes for the best song of generation 151 are: ['h', 'o', 'l', 'a', ' ', 'm', 'i', 'l', 'n', 'o', 'm', 'b', 'r', 'e', ' ', 'e', 's', ' ', 't', 'o', 'm', 'a', 's'] with a fitness of 0.9565217391304348\n",
            "The notes for the best song of generation 152 are: ['h', 'o', 'l', 'a', ' ', 'm', 'i', 'q', 'n', 'o', 'm', 'b', 'r', 'e', ' ', 'e', 's', ' ', 't', 'o', 'm', 'a', 's'] with a fitness of 0.9565217391304348\n",
            "The notes for the best song of generation 153 are: ['h', 'o', 'l', 'a', ' ', 'm', 'i', 'l', 'n', 'o', 'm', 'b', 'r', 'e', ' ', 'e', 's', ' ', 't', 'o', 'm', 'a', 's'] with a fitness of 0.9565217391304348\n",
            "The notes for the best song of generation 154 are: ['h', 'o', 'l', 'a', ' ', 'm', 'i', 'l', 'n', 'o', 'm', 'b', 'r', 'e', ' ', 'e', 's', ' ', 't', 'o', 'm', 'a', 's'] with a fitness of 0.9565217391304348\n",
            "The notes for the best song of generation 155 are: ['h', 'o', 'l', 'a', ' ', 'd', 'i', 'u', 'n', 'o', 'm', 'b', 'r', 'e', ' ', 'e', 's', ' ', 't', 'o', 'm', 'a', 's'] with a fitness of 0.9130434782608695\n",
            "The notes for the best song of generation 156 are: ['h', 'o', 'l', 'a', ' ', 'm', 'i', 'l', 'n', 'o', 'm', 'b', 'r', 'e', ' ', 'e', 's', ' ', 't', 'o', 'm', 'a', 's'] with a fitness of 0.9565217391304348\n",
            "The notes for the best song of generation 157 are: ['h', 'o', 'l', 'a', 'v', 'm', 'i', 'd', 'n', 'o', 'm', 'b', 'r', 'e', ' ', 'e', 's', ' ', 't', 'o', 'm', 'a', 's'] with a fitness of 0.9130434782608695\n",
            "The notes for the best song of generation 158 are: ['h', 'o', 'l', 'a', ' ', 'm', 'i', 'p', 'n', 'x', 'm', 'b', 'r', 'e', ' ', 'e', 's', ' ', 't', 'o', 'm', 'a', 's'] with a fitness of 0.9130434782608695\n",
            "The notes for the best song of generation 159 are: ['h', 'o', 'l', 'a', ' ', 'm', 'i', 'p', 'n', 'o', 'm', 'b', 'r', 'e', ' ', 'e', 's', ' ', 't', 'o', 'm', 'a', 's'] with a fitness of 0.9565217391304348\n",
            "The notes for the best song of generation 160 are: ['h', 'o', 'l', 'a', ' ', 'm', 'i', 'p', 'n', 'x', 'm', 'b', 'r', 'e', ' ', 'e', 's', ' ', 't', 'o', 'm', 'a', 's'] with a fitness of 0.9130434782608695\n",
            "The notes for the best song of generation 161 are: ['h', 'o', 'l', 'a', ' ', 'm', 'i', 'p', 'n', 'x', 'm', 'b', 'r', 'e', ' ', 'e', 's', ' ', 't', 'o', 'm', 'a', 's'] with a fitness of 0.9130434782608695\n",
            "The notes for the best song of generation 162 are: ['h', 'v', 'l', 'a', ' ', 'm', 'i', 'l', 'n', 'o', 'm', 'b', 'r', 'e', ' ', 'e', 's', ' ', 't', 'o', 'm', 'a', 's'] with a fitness of 0.9130434782608695\n",
            "The notes for the best song of generation 163 are: ['h', 'o', 'l', 'a', ' ', 'm', 'i', 'l', 'n', 'o', 'm', 'b', 'r', 'e', ' ', 'e', 's', ' ', 't', 'o', 'm', 'a', 's'] with a fitness of 0.9565217391304348\n",
            "The notes for the best song of generation 164 are: ['h', 'o', 'l', 'a', ' ', 'm', 'i', 'l', 'n', 'o', 'm', 'b', 'r', 'e', ' ', 'e', 's', ' ', 't', 'o', 'm', 'a', 's'] with a fitness of 0.9565217391304348\n",
            "The notes for the best song of generation 165 are: ['h', 'o', 'l', 'a', ' ', 'm', 'i', 'l', 'n', 'o', 'm', 'b', 'r', 'e', ' ', 'e', 's', ' ', 't', 'o', 'm', 'a', 's'] with a fitness of 0.9565217391304348\n",
            "The notes for the best song of generation 166 are: ['h', 'o', 'l', 'a', ' ', 'm', 'i', 'l', 'n', 'o', 'm', 'b', 'r', 'e', ' ', 'e', 's', ' ', 't', 'o', 'm', 'a', 's'] with a fitness of 0.9565217391304348\n",
            "The notes for the best song of generation 167 are: ['h', 'o', 'l', 'a', ' ', 'm', 'i', 'i', 'n', 'o', 'm', 'b', 'r', 'e', ' ', 'e', 's', ' ', 't', 'o', 'm', 'a', 's'] with a fitness of 0.9565217391304348\n",
            "The notes for the best song of generation 168 are: ['h', 'o', 'l', 'a', ' ', 'l', 'i', 'p', 'n', 'o', 'm', 'b', 'r', 'e', ' ', 'e', 's', ' ', 't', 'o', 'm', 'a', 's'] with a fitness of 0.9130434782608695\n",
            "The notes for the best song of generation 169 are: ['h', 'o', 'l', 'a', ' ', 'm', 'i', 'x', 'n', 'o', 'm', 'b', 'r', 'e', ' ', 'e', 's', ' ', 't', 'o', 'm', 'a', 's'] with a fitness of 0.9565217391304348\n",
            "The notes for the best song of generation 170 are: ['h', 'o', 'l', 'a', ' ', 'm', 'i', 'l', 'n', 'o', 'm', 'b', 'r', 'e', ' ', 'e', 's', ' ', 't', 'o', 'm', 'a', 's'] with a fitness of 0.9565217391304348\n",
            "The notes for the best song of generation 171 are: ['h', 'o', 'l', 'a', ' ', 'm', 'i', 'l', 'n', 'o', 'm', 'b', 'r', 'e', ' ', 'e', 's', ' ', 't', 'o', 'm', 'a', 's'] with a fitness of 0.9565217391304348\n",
            "The notes for the best song of generation 172 are: ['h', 'o', 'l', 'a', ' ', 'm', 'i', 'g', 'n', 'o', 'm', 'b', 'r', 'e', ' ', 'e', 's', ' ', 't', 'o', 'm', 'a', 's'] with a fitness of 0.9565217391304348\n",
            "The notes for the best song of generation 173 are: ['h', 'o', 'l', 'a', ' ', 'm', 'i', 'l', 'n', 'o', 'm', 'b', 'r', 'e', ' ', 'e', 's', ' ', 't', 'o', 'm', 'a', 's'] with a fitness of 0.9565217391304348\n",
            "The notes for the best song of generation 174 are: ['h', 'o', 'l', 'a', ' ', 'b', 'i', 'r', 'n', 'o', 'm', 'b', 'r', 'e', ' ', 'e', 's', ' ', 't', 'o', 'm', 'a', 's'] with a fitness of 0.9130434782608695\n",
            "The notes for the best song of generation 175 are: ['h', 'o', 'l', 'j', ' ', 'm', 'i', 'l', 'n', 'o', 'm', 'b', 'r', 'e', ' ', 'e', 's', ' ', 't', 'o', 'm', 'a', 's'] with a fitness of 0.9130434782608695\n",
            "The notes for the best song of generation 176 are: ['h', 'o', 'l', 'a', ' ', 'm', 'i', 'l', 'n', 'o', 'm', 'b', 'r', 'e', ' ', 'e', 's', ' ', 't', 'o', 'm', 'a', 's'] with a fitness of 0.9565217391304348\n",
            "The notes for the best song of generation 177 are: ['h', 'o', 'l', 'a', ' ', 'm', 'i', 'l', 'n', 'o', 'm', 'b', 'r', 'e', ' ', 'e', 's', ' ', 't', 'o', 'm', 'a', 's'] with a fitness of 0.9565217391304348\n",
            "The notes for the best song of generation 178 are: ['h', 'v', 'l', 'a', ' ', 'm', 'i', 'l', 'n', 'o', 'm', 'b', 'r', 'e', ' ', 'e', 's', ' ', 't', 'o', 'm', 'a', 's'] with a fitness of 0.9130434782608695\n",
            "The notes for the best song of generation 179 are: ['h', 'o', 'l', 'a', ' ', 'm', 'i', 'l', 'n', 'o', 'm', 'b', 'r', 'e', ' ', 'e', 's', ' ', 't', 'o', 'm', 'a', 's'] with a fitness of 0.9565217391304348\n",
            "The notes for the best song of generation 180 are: ['h', 'o', 'l', 'a', ' ', 'm', 'i', 'a', 'n', 'o', 'm', 'b', 'r', 'e', ' ', 'e', 's', ' ', 't', 'o', 'm', 'a', 's'] with a fitness of 0.9565217391304348\n",
            "The notes for the best song of generation 181 are: ['h', 'o', 'l', 'a', ' ', 'm', 'i', 'a', 'n', 'o', 'm', 'b', 'r', 'e', ' ', 'e', 's', ' ', 't', 'o', 'm', 'a', 's'] with a fitness of 0.9565217391304348\n",
            "The notes for the best song of generation 182 are: ['h', 'o', 'l', 'a', ' ', 'm', 'i', 'a', 'n', 'o', 'm', 'b', 'r', 'e', ' ', 'e', 's', ' ', 't', 'o', 'm', 'a', 's'] with a fitness of 0.9565217391304348\n",
            "The notes for the best song of generation 183 are: ['h', 'o', 'l', 'a', ' ', 'm', 'i', 'q', 'n', 'o', 'm', 'b', 'r', 'e', ' ', 'e', 's', ' ', 't', 'o', 'm', 'a', 's'] with a fitness of 0.9565217391304348\n",
            "The notes for the best song of generation 184 are: ['h', 'o', 'l', 'a', ' ', 'm', 'i', 'l', 'n', 'o', 'm', 'b', 'r', 'e', ' ', 'e', 's', ' ', 't', 'o', 'm', 'a', 's'] with a fitness of 0.9565217391304348\n",
            "The notes for the best song of generation 185 are: ['h', 'o', 'l', 'a', ' ', 'm', 'i', 'b', 'n', 'o', 'm', 'b', 'r', 'e', ' ', 'e', 's', ' ', 't', 'o', 'm', 'a', 's'] with a fitness of 0.9565217391304348\n",
            "The notes for the best song of generation 186 are: ['h', 'o', 'l', 'a', ' ', 'm', 'i', 'b', 'n', 'o', 'm', 'b', 'r', 'e', ' ', 'e', 's', ' ', 't', 'o', 'm', 'a', 's'] with a fitness of 0.9565217391304348\n",
            "The notes for the best song of generation 187 are: ['h', 'o', 'l', 'a', ' ', 'm', 'i', 'b', 'n', 'o', 'm', 'b', 'r', 'e', ' ', 'e', 's', ' ', 't', 'o', 'm', 'a', 's'] with a fitness of 0.9565217391304348\n",
            "The notes for the best song of generation 188 are: ['h', 'o', 'l', 'a', ' ', 'm', 'i', 'b', 'n', 'o', 'm', 'b', 'r', 'e', ' ', 'e', 's', ' ', 't', 'o', 'm', 'a', 's'] with a fitness of 0.9565217391304348\n",
            "The notes for the best song of generation 189 are: ['h', 'o', 'l', 'a', ' ', 'm', 'i', 'b', 'n', 'o', 'm', 'b', 'r', 'e', ' ', 'e', 's', ' ', 't', 'o', 'm', 'a', 's'] with a fitness of 0.9565217391304348\n",
            "The notes for the best song of generation 190 are: ['h', 'o', 'l', 'a', ' ', 'z', 'i', 'p', 'n', 'o', 'm', 'b', 'r', 'e', ' ', 'e', 's', ' ', 't', 'o', 'm', 'a', 's'] with a fitness of 0.9130434782608695\n",
            "The notes for the best song of generation 191 are: ['h', 'o', 'l', 'a', ' ', 'm', 'i', 'b', 'n', 'o', 'm', 'b', 'r', 'e', ' ', 'e', 's', ' ', 't', 'o', 'm', 'a', 's'] with a fitness of 0.9565217391304348\n",
            "The notes for the best song of generation 192 are: ['h', 'o', 'l', 'a', ' ', 'm', 'i', 'b', 'n', 'o', 'm', 'b', 'r', 'e', ' ', 'e', 's', ' ', 't', 'o', 'm', 'a', 's'] with a fitness of 0.9565217391304348\n",
            "The notes for the best song of generation 193 are: ['h', 'o', 'l', 'a', ' ', 'm', 'i', 'b', 'n', 'o', 'm', 'b', 'r', 'e', ' ', 'e', 's', ' ', 't', 'o', 'm', 'a', 's'] with a fitness of 0.9565217391304348\n",
            "The notes for the best song of generation 194 are: ['h', 'o', 'l', 'a', ' ', 'm', 'i', 'b', 'n', 'o', 'm', 'b', 'r', 'e', ' ', 'e', 's', ' ', 't', 'o', 'm', 'a', 's'] with a fitness of 0.9565217391304348\n",
            "The notes for the best song of generation 195 are: ['h', 'o', 'l', 'a', ' ', 'm', 'i', 'b', 'n', 'o', 'm', 'b', 'r', 'e', ' ', 'e', 's', ' ', 't', 'o', 'm', 'a', 's'] with a fitness of 0.9565217391304348\n",
            "The notes for the best song of generation 196 are: ['h', 'o', 'l', 'a', ' ', 'm', 'i', 'l', 'n', 'o', 'm', 'b', 'r', 'e', ' ', 'e', 's', ' ', 't', 'o', 'm', 'a', 's'] with a fitness of 0.9565217391304348\n",
            "The notes for the best song of generation 197 are: ['h', 'o', 'l', 'a', ' ', 'm', 'i', 'b', 'n', 'o', 'm', 'b', 'r', 'e', ' ', 'e', 's', ' ', 't', 'o', 'm', 'a', 's'] with a fitness of 0.9565217391304348\n",
            "The notes for the best song of generation 198 are: ['h', 'o', 'l', 'a', ' ', 'm', 'i', 'b', 'n', 'o', 'm', 'b', 'r', 'e', ' ', 'e', 's', ' ', 't', 'o', 'm', 'a', 's'] with a fitness of 0.9565217391304348\n",
            "The notes for the best song of generation 199 are: ['h', 'o', 'l', 'a', ' ', 'z', 'i', 'p', 'n', 'o', 'm', 'b', 'r', 'e', ' ', 'e', 's', ' ', 't', 'o', 'm', 'a', 's'] with a fitness of 0.9130434782608695\n",
            "The notes for the best song of generation 200 are: ['h', 'o', 'l', 'a', ' ', 'd', 'i', 'p', 'n', 'o', 'm', 'b', 'r', 'e', ' ', 'e', 's', ' ', 't', 'o', 'm', 'a', 's'] with a fitness of 0.9130434782608695\n",
            "The notes for the best song of generation 201 are: ['h', 'o', 'l', 'u', ' ', 'm', 'i', 'k', 'n', 'o', 'm', 'b', 'r', 'e', ' ', 'e', 's', ' ', 't', 'o', 'm', 'a', 's'] with a fitness of 0.9130434782608695\n",
            "The notes for the best song of generation 202 are: ['h', 'o', 'l', 'a', ' ', 't', 'i', 'l', 'n', 'o', 'm', 'b', 'r', 'e', ' ', 'e', 's', ' ', 't', 'o', 'm', 'a', 's'] with a fitness of 0.9130434782608695\n",
            "The notes for the best song of generation 203 are: ['h', 'o', 'l', 'a', ' ', 'd', 'i', 'p', 'n', 'o', 'm', 'b', 'r', 'e', ' ', 'e', 's', ' ', 't', 'o', 'm', 'a', 's'] with a fitness of 0.9130434782608695\n",
            "The notes for the best song of generation 204 are: ['h', 'o', 'l', 'a', ' ', 'm', 'i', 'n', 'n', 'o', 'm', 'b', 'r', 'e', ' ', 'e', 's', ' ', 't', 'o', 'm', 'a', 's'] with a fitness of 0.9565217391304348\n",
            "The notes for the best song of generation 205 are: ['h', 'o', 'l', 'a', ' ', 'm', 'i', 'n', 'n', 'o', 'm', 'b', 'r', 'e', ' ', 'e', 's', ' ', 't', 'o', 'm', 'a', 's'] with a fitness of 0.9565217391304348\n",
            "The notes for the best song of generation 206 are: ['h', 'o', 'l', 'a', ' ', 'm', 'i', 'n', 'n', 'o', 'm', 'b', 'r', 'e', ' ', 'e', 's', ' ', 't', 'o', 'm', 'a', 's'] with a fitness of 0.9565217391304348\n",
            "The notes for the best song of generation 207 are: ['h', 'o', 'l', 'a', ' ', 'm', 'i', 'n', 'n', 'o', 'm', 'b', 'r', 'e', ' ', 'e', 's', ' ', 't', 'o', 'm', 'y', 's'] with a fitness of 0.9130434782608695\n",
            "The notes for the best song of generation 208 are: ['h', 'o', 'l', 'a', ' ', 'm', 'i', 'p', 'n', 'o', 'm', 'b', 'r', 'e', 'q', 'e', 's', ' ', 't', 'o', 'm', 'a', 's'] with a fitness of 0.9130434782608695\n",
            "The notes for the best song of generation 209 are: ['h', 'o', 'l', 'a', ' ', 'b', 'i', 'l', 'n', 'o', 'm', 'b', 'r', 'e', ' ', 'e', 's', ' ', 't', 'o', 'm', 'a', 's'] with a fitness of 0.9130434782608695\n",
            "The notes for the best song of generation 210 are: ['h', 'o', 'l', 'a', ' ', 'm', 'i', 'p', 'm', 'o', 'm', 'b', 'r', 'e', ' ', 'e', 's', ' ', 't', 'o', 'm', 'a', 's'] with a fitness of 0.9130434782608695\n",
            "The notes for the best song of generation 211 are: ['h', 'o', 'l', 'a', ' ', 'm', 'i', 'p', 'n', 'o', 'm', 'b', 'r', 'e', ' ', 'e', 's', ' ', 't', 'o', 'm', 'w', 's'] with a fitness of 0.9130434782608695\n",
            "The notes for the best song of generation 212 are: ['h', 'o', 'l', 'a', ' ', 'm', 'i', 'p', 'n', 'o', 'm', 'b', 'r', 'e', ' ', 'e', 's', ' ', 't', 'o', 'm', 'a', 's'] with a fitness of 0.9565217391304348\n",
            "The notes for the best song of generation 213 are: ['h', 'o', 'l', 'a', ' ', 'm', 'i', 'p', 'n', 'o', 'm', 'b', 'r', 'e', ' ', 'e', 's', ' ', 't', 'o', 'm', 'a', 's'] with a fitness of 0.9565217391304348\n",
            "The notes for the best song of generation 214 are: ['h', 'o', 'l', 'a', ' ', 'm', 'i', 'l', 'n', 'o', 'm', 'b', 'r', 'e', ' ', 'e', 's', ' ', 't', 'o', 'm', 'a', 's'] with a fitness of 0.9565217391304348\n",
            "The notes for the best song of generation 215 are: ['h', 'o', 'l', 'a', ' ', 'm', 'i', 'n', 'n', 'o', 'm', 'b', 'r', 'e', ' ', 'e', 's', ' ', 't', 'o', 'm', 'a', 's'] with a fitness of 0.9565217391304348\n",
            "The notes for the best song of generation 216 are: ['h', 'o', 'l', 'a', ' ', 'm', 'i', 'n', 'n', 'o', 'm', 'b', 'r', 'e', ' ', 'e', 's', ' ', 't', 'o', 'm', 'a', 's'] with a fitness of 0.9565217391304348\n",
            "The notes for the best song of generation 217 are: ['h', 'o', 'l', 'a', ' ', 'm', 'i', 'n', 'n', 'o', 'm', 'b', 'r', 'e', ' ', 'e', 's', ' ', 't', 'o', 'm', 'a', 's'] with a fitness of 0.9565217391304348\n",
            "The notes for the best song of generation 218 are: ['h', 'o', 'l', 'a', ' ', 'm', 'i', 'n', 'n', 'o', 'm', 'b', 'r', 'e', ' ', 'e', 's', ' ', 't', 'o', 'm', 'a', 's'] with a fitness of 0.9565217391304348\n",
            "The notes for the best song of generation 219 are: ['h', 'o', 'l', 'a', ' ', 'm', 'i', 'l', 'n', 'o', 'm', 'b', 'r', 'e', ' ', 'e', 's', ' ', 't', 'o', 'm', 'a', 's'] with a fitness of 0.9565217391304348\n",
            "The notes for the best song of generation 220 are: ['h', 'o', 'l', 'a', ' ', 'm', 'i', 'l', 'n', 'o', 'm', 'b', 'r', 'e', ' ', 'e', 's', ' ', 't', 'o', 'm', 'a', 's'] with a fitness of 0.9565217391304348\n",
            "The notes for the best song of generation 221 are: ['h', 'o', 'l', 'a', ' ', 'm', 'i', 'n', 'n', 'o', 'm', 'b', 'r', 'e', ' ', 'e', 's', 't', 't', 'o', 'm', 'a', 's'] with a fitness of 0.9130434782608695\n",
            "The notes for the best song of generation 222 are: ['h', 'o', 'l', 'a', ' ', 'm', 'i', 'e', 'n', 'o', 'm', 'b', 'r', 'e', ' ', 'e', 's', ' ', 't', 'o', 'm', 'a', 's'] with a fitness of 0.9565217391304348\n",
            "The notes for the best song of generation 223 are: ['h', 'o', 'l', 'a', ' ', 'm', 'i', 'n', 'n', 'o', 'm', 'b', 'r', 'e', ' ', 'e', 's', ' ', 't', 'o', 'm', 'a', 's'] with a fitness of 0.9565217391304348\n",
            "The notes for the best song of generation 224 are: ['h', 'o', 'l', 'a', ' ', 'm', 'i', 'l', 'n', 'o', 'm', 'b', 'r', 'e', 'r', 'e', 's', ' ', 't', 'o', 'm', 'a', 's'] with a fitness of 0.9130434782608695\n",
            "The notes for the best song of generation 225 are: ['h', 'o', 'l', 'a', ' ', 'm', 'i', 'l', 'n', 'o', 'm', 'b', 'r', 'e', ' ', 'e', 's', ' ', 't', 'o', 'm', 'a', 's'] with a fitness of 0.9565217391304348\n",
            "The notes for the best song of generation 226 are: ['h', 'o', 'l', 'a', ' ', 'm', 'i', 'p', 'n', 'o', 'm', 'c', 'r', 'e', ' ', 'e', 's', ' ', 't', 'o', 'm', 'a', 's'] with a fitness of 0.9130434782608695\n",
            "The notes for the best song of generation 227 are: ['h', 'o', 'l', 'a', ' ', 'm', 'i', 'l', 'n', 'o', 'm', 'b', 'r', 'e', ' ', 'e', 's', ' ', 't', 'o', 'm', 'a', 's'] with a fitness of 0.9565217391304348\n",
            "The notes for the best song of generation 228 are: ['h', 'o', 'l', 'a', ' ', 'm', 'i', 'l', 'n', 'o', 'm', 'b', 'r', 'e', ' ', 'e', 's', ' ', 't', 'o', 'm', 'a', 's'] with a fitness of 0.9565217391304348\n",
            "The notes for the best song of generation 229 are: ['h', 'o', 'l', 'a', ' ', 'm', 'i', 'l', 'n', 'o', 'm', 'b', 'r', 'e', ' ', 'e', 's', ' ', 't', 'o', 'm', 'a', 's'] with a fitness of 0.9565217391304348\n",
            "The notes for the best song of generation 230 are: ['h', 'o', 'l', 'a', ' ', 'm', 'i', ' ', 'n', 'o', 'm', 'b', 'r', 'e', 'g', 'e', 's', ' ', 't', 'o', 'm', 'a', 's'] with a fitness of 0.9565217391304348\n",
            "The notes for the best song of generation 231 are: ['h', 'o', 'l', 'a', ' ', 'm', 'i', ' ', 'n', 'o', 'm', 'b', 'r', 'e', ' ', 'e', 's', ' ', 't', 'o', 'm', 'a', 's'] with a fitness of 1.0\n"
          ]
        },
        {
          "data": {
            "text/plain": [
              "['h',\n",
              " 'o',\n",
              " 'l',\n",
              " 'a',\n",
              " ' ',\n",
              " 'm',\n",
              " 'i',\n",
              " ' ',\n",
              " 'n',\n",
              " 'o',\n",
              " 'm',\n",
              " 'b',\n",
              " 'r',\n",
              " 'e',\n",
              " ' ',\n",
              " 'e',\n",
              " 's',\n",
              " ' ',\n",
              " 't',\n",
              " 'o',\n",
              " 'm',\n",
              " 'a',\n",
              " 's']"
            ]
          },
          "execution_count": 44,
          "metadata": {},
          "output_type": "execute_result"
        }
      ],
      "source": [
        "runEvolution(mutation_rate, population_size)"
      ]
    }
  ],
  "metadata": {
    "colab": {
      "collapsed_sections": [
        "vxXufzWEGs21",
        "UZIlh45oHl74",
        "Kh2L1GyT1tih",
        "eLhdDMf77P_e",
        "IBqtpiT06rvr",
        "KOsd37Pu7MXB",
        "4p5Ix0PtDUUb",
        "AinyhlYUEUbN",
        "bvlPGY2fGXnP"
      ],
      "provenance": []
    },
    "kernelspec": {
      "display_name": "POO-env",
      "language": "python",
      "name": "python3"
    },
    "language_info": {
      "name": "python",
      "version": "3.11.5"
    }
  },
  "nbformat": 4,
  "nbformat_minor": 0
}

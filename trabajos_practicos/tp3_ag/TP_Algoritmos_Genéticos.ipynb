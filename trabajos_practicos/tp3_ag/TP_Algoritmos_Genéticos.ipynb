{
  "cells": [
    {
      "cell_type": "markdown",
      "metadata": {
        "id": "klmCSjy4jaj4"
      },
      "source": [
        "## División de cursos mediante Algoritmos Genéticos"
      ]
    },
    {
      "cell_type": "markdown",
      "metadata": {
        "id": "d3xcJ9JRjdkY"
      },
      "source": [
        " **Contexto:**\n",
        "En una escuela secundaria, 60 alumnos pasaron exitosamente el curso de ingreso.Ahora deben ser asignados a 3 cursos de 20 alumnos cada uno. Cada alumno eligió dos compañeros con quienes le gustaría estar en el mismo curso.\n",
        "\n",
        "\n",
        "**Objetivo:**\n",
        "Construir una asignacion que maximice la utilidad total del grupo.\n",
        "\n",
        "**Reglas:**\n",
        "- Cada curso debe tener exactamente 20 alumnos.\n",
        "- Cada alumno debe pertenecer a un único curso.\n",
        "\n",
        "**Definiciones de utilidad (fitness):**\n",
        "- +1 punto por cada amigo elegido que este en el mismo curso (Osea + 2 si los 2 amigos están en el mismo curso)\n",
        "- -3 puntos si los dos amigos terminan juntos en otro curso.\n",
        "- -1 punto si el alumno y sus dos amigos terminan todos en cursos distintos."
      ]
    },
    {
      "cell_type": "code",
      "execution_count": 208,
      "metadata": {
        "id": "vAb0j-79g3gA"
      },
      "outputs": [],
      "source": [
        "# Listado de alumnos y sus preferencias\n",
        "alumnos_amigos = {\n",
        "    'Ana': ['Bruno', 'Camila'], 'Bruno': ['Ana', 'Diego'], 'Camila': ['Bruno', 'Elena'],\n",
        "    'Diego': ['Camila', 'Francisco'], 'Elena': ['Diego', 'Gabriela'], 'Francisco': ['Elena', 'Hugo'],\n",
        "    'Gabriela': ['Francisco', 'Isabel'], 'Hugo': ['Gabriela', 'Juan'], 'Isabel': ['Hugo', 'Karla'],\n",
        "    'Juan': ['Isabel', 'Leonardo'], 'Karla': ['Juan', 'Mariana'], 'Leonardo': ['Karla', 'Nicolas'],\n",
        "    'Mariana': ['Leonardo', 'Olivia'], 'Nicolas': ['Mariana', 'Pablo'], 'Olivia': ['Nicolas', 'Raul'],\n",
        "    'Pablo': ['Olivia', 'Sofia'], 'Raul': ['Pablo', 'Tomas'], 'Sofia': ['Raul', 'Ursula'],\n",
        "    'Tomas': ['Sofia', 'Valeria'], 'Ursula': ['Tomas', 'Walter'], 'Valeria': ['Ursula', 'Xavier'],\n",
        "    'Walter': ['Valeria', 'Yara'], 'Xavier': ['Walter', 'Zoe'], 'Yara': ['Xavier', 'Andres'],\n",
        "    'Zoe': ['Yara', 'Belen'], 'Andres': ['Zoe', 'Carlos'], 'Belen': ['Andres', 'Daniela'],\n",
        "    'Carlos': ['Belen', 'Esteban'], 'Daniela': ['Carlos', 'Fernanda'], 'Esteban': ['Daniela', 'Gustavo'],\n",
        "    'Fernanda': ['Esteban', 'Helena'], 'Gustavo': ['Fernanda', 'Ignacio'], 'Helena': ['Gustavo', 'Julieta'],\n",
        "    'Ignacio': ['Helena', 'Kevin'], 'Julieta': ['Ignacio', 'Laura'], 'Kevin': ['Julieta', 'Mateo'],\n",
        "    'Laura': ['Kevin', 'Natalia'], 'Mateo': ['Laura', 'Octavio'], 'Natalia': ['Mateo', 'Paula'],\n",
        "    'Octavio': ['Natalia', 'Ricardo'], 'Paula': ['Octavio', 'Sabrina'], 'Ricardo': ['Paula', 'Tadeo'],\n",
        "    'Sabrina': ['Ricardo', 'Ursula'], 'Tadeo': ['Sabrina', 'Victor'], 'Victor': ['Ursula', 'Ximena'],\n",
        "    'Wanda': ['Victor', 'Yamila'], 'Ximena': ['Wanda', 'Zoe'], 'Yamila': ['Ximena', 'Ana'], 'Zoe': ['Yamila', 'Bruno'],\n",
        "    'Beltran': ['Ana', 'Diego'], 'Catalina': ['Francisco', 'Gabriela'], 'Dario': ['Hugo', 'Isabel'],\n",
        "    'Emilia': ['Leonardo', 'Mariana'], 'Fabian': ['Nicolas', 'Olivia'], 'Gisela': ['Pablo', 'Raul'],\n",
        "    'Hernan': ['Sofia', 'Valeria'], 'Isidoro': ['Walter', 'Xavier'], 'Jimena': ['Yara', 'Andres'],\n",
        "    'Horacio': ['Belen', 'Carlos'], 'Luz': ['Daniela', 'Esteban'], 'Martin': ['Fernanda', 'Gustavo']\n",
        "}"
      ]
    },
    {
      "cell_type": "markdown",
      "metadata": {
        "id": "Z6dOLYwnkd96"
      },
      "source": [
        "**Entregables:**\n",
        "- 1. Código en Python con comentarios.\n",
        "- 2. Breve descripción sobre cómo definieron el genoma, la funcion de aptitud, el tamaño de la población inicial, la tasa de mutación y por qué eligieron un determinado método de selección de padres.\n",
        "- 3. División de cursos que maximiza la utilidad total y valor de esa utilidad total.\n",
        "\n",
        "**Bonus 1 (opcional):**\n",
        "Implementar elitismo:\n",
        "- Guardar el mejor individuo en cada generación y pasarlo directamente sin modificaciones.\n",
        "\n",
        "**Bonus 2 (opcional):**\n",
        "Por motivos personales los alumnos Xavier y Zoe deben compartir curso si o si con sus dos amigos (Walter y Zoe y Yara y Belen). Modifica el código para garantizar esto."
      ]
    },
    {
      "cell_type": "code",
      "execution_count": 209,
      "metadata": {},
      "outputs": [],
      "source": [
        "import random\n",
        "from copy import deepcopy"
      ]
    },
    {
      "cell_type": "markdown",
      "metadata": {},
      "source": [
        "### **Paso 1: Configuro los parametros del AG**"
      ]
    },
    {
      "cell_type": "code",
      "execution_count": 210,
      "metadata": {},
      "outputs": [],
      "source": [
        "alumnos = list(alumnos_amigos.keys()) # convierte el diccionario en una lista de nombres.\n",
        "cantidad_alumnos = len(alumnos) # cuenta cuántos alumnos hay.\n",
        "cantidad_cursos = 3 # vamos a dividir a los alumnos en 3 cursos."
      ]
    },
    {
      "cell_type": "code",
      "execution_count": 211,
      "metadata": {},
      "outputs": [],
      "source": [
        "# Capacidad por curso (distribución equitativa con resto)\n",
        "# Distribuye equitativamente a los alumnos entre los 3 cursos. Ejemplo: si hay 60 alumnos, cada curso tendrá 20.\n",
        "base = cantidad_alumnos // cantidad_cursos\n",
        "resto = cantidad_alumnos % cantidad_cursos\n",
        "capacidades = [base + (1 if i < resto else 0) for i in range(cantidad_cursos)]"
      ]
    },
    {
      "cell_type": "code",
      "execution_count": 212,
      "metadata": {},
      "outputs": [],
      "source": [
        "# Parámetros del algoritmo genético\n",
        "population_size = 100 # cuántas soluciones posibles vamos a mantener en cada generación.\n",
        "generations = 500 # cuántas veces repetimos el proceso para mejorar soluciones.\n",
        "mutation_rate = 0.1 # probabilidad de hacer un pequeño cambio aleatorio en una solución.\n",
        "tournament_size = 3 # cuántas soluciones se comparan en cada “torneo” para elegir padres.\n",
        "elitism = True # siempre conservamos la mejor solución."
      ]
    },
    {
      "cell_type": "code",
      "execution_count": 213,
      "metadata": {},
      "outputs": [],
      "source": [
        "# Alumnos que deben estar en el mismo curso sí o sí\n",
        "# fixed_block dice a qué curso va cada uno de ellos. Se guardan sus posiciones para usarlas más adelante.\n",
        "forced_block = ['Xavier', 'Walter', 'Zoe', 'Yara', 'Belen']\n",
        "block_indices = [alumnos.index(name) for name in forced_block]"
      ]
    },
    {
      "cell_type": "markdown",
      "metadata": {},
      "source": [
        "### **Paso 2: Create Population**"
      ]
    },
    {
      "cell_type": "code",
      "execution_count": 214,
      "metadata": {},
      "outputs": [],
      "source": [
        "# Crea una solución inicial aleatoria: asigna a cada alumno a uno de los 3 cursos.\n",
        "# Respeta el bloque de alumnos fijos y se asegura de no superar la capacidad de cada curso.\n",
        "# El resultado es una lista donde cada posición representa un alumno y su valor es su curso asignado."
      ]
    },
    {
      "cell_type": "code",
      "execution_count": 215,
      "metadata": {},
      "outputs": [],
      "source": [
        "def create_individual():\n",
        "    \"\"\"Crea un individuo válido respetando el bloque forzado y capacidades.\"\"\"\n",
        "    cursos = capacidades.copy()\n",
        "    block_course = random.randint(0, cantidad_cursos - 1)\n",
        "    cursos[block_course] -= len(block_indices)\n",
        "    \n",
        "    individual = [None] * cantidad_alumnos\n",
        "    for idx in block_indices:\n",
        "        individual[idx] = block_course\n",
        "\n",
        "    restantes = []\n",
        "    for c in range(cantidad_cursos):\n",
        "        restantes += [c] * cursos[c]\n",
        "    random.shuffle(restantes)\n",
        "\n",
        "    j = 0\n",
        "    for i in range(cantidad_alumnos):\n",
        "        if individual[i] is None:\n",
        "            individual[i] = restantes[j]\n",
        "            j += 1\n",
        "    return individual"
      ]
    },
    {
      "cell_type": "markdown",
      "metadata": {},
      "source": [
        "### **Paso 3: Fitness Function**"
      ]
    },
    {
      "cell_type": "code",
      "execution_count": 216,
      "metadata": {},
      "outputs": [],
      "source": [
        "# Mide qué tan buena es una solución. Recorre cada alumno y verifica:\n",
        "\n",
        "# +1 punto por cada amigo que está en el mismo curso.\n",
        "# –3 puntos si sus dos amigos están juntos pero sin él.\n",
        "# –1 punto si todos están separados.\n",
        "\n",
        "# Devuelve un número: cuanto más alto, mejor."
      ]
    },
    {
      "cell_type": "code",
      "execution_count": 217,
      "metadata": {},
      "outputs": [],
      "source": [
        "def fitness(individual):\n",
        "    \"\"\"Calcula la utilidad total según las reglas de amistad y penalizaciones.\"\"\"\n",
        "    total = 0\n",
        "    for i, alumno in enumerate(alumnos):\n",
        "        curso = individual[i]\n",
        "        amigo1, amigo2 = alumnos_amigos[alumno]\n",
        "        i1, i2 = alumnos.index(amigo1), alumnos.index(amigo2)\n",
        "        c1, c2 = individual[i1], individual[i2]\n",
        "        if c1 == curso: total += 1\n",
        "        if c2 == curso: total += 1\n",
        "        if c1 == c2 and c1 != curso: total -= 3\n",
        "        if curso != c1 and curso != c2 and c1 != c2: total -= 1\n",
        "    return total"
      ]
    },
    {
      "cell_type": "markdown",
      "metadata": {},
      "source": [
        "### **Paso 4: Parent Selection**"
      ]
    },
    {
      "cell_type": "code",
      "execution_count": 218,
      "metadata": {},
      "outputs": [],
      "source": [
        "def tournament_selection(population, fitnesses):\n",
        "    \"\"\"Selecciona al mejor individuo de un torneo de k aleatorios.\"\"\"\n",
        "    participants = random.sample(list(zip(population, fitnesses)), tournament_size)\n",
        "    participants.sort(key=lambda x: x[1], reverse=True)\n",
        "    return deepcopy(participants[0][0])"
      ]
    },
    {
      "cell_type": "markdown",
      "metadata": {},
      "source": [
        "## 🏆 Selección por Torneo (Tournament Selection)\n",
        "\n",
        "Este método se usa para elegir **quién va a reproducirse** (es decir, quién va a ser “padre” o “madre” de la próxima generación).\n",
        "\n",
        "---\n",
        "\n",
        "### 🔍 ¿Cómo funciona paso a paso?\n",
        "\n",
        "1. Elegimos al azar `k` individuos de la población (por ejemplo: `k = 3`).\n",
        "\n",
        "Imaginá que tenés una población con estos individuos y sus valores de fitness:\n",
        "\n",
        "| Individuo | Fitness |\n",
        "|-----------|---------|\n",
        "| A         | 12      |\n",
        "| B         | 40      |\n",
        "| C         | 25      |\n",
        "| D         | 60      |\n",
        "| E         | 33      |\n",
        "\n",
        "Supongamos que elegís **3 individuos al azar** → B, D, A\n",
        "\n",
        "2. Comparamos sus valores de fitness:\n",
        "\n",
        "| Seleccionado | Fitness |\n",
        "|--------------|---------|\n",
        "| B            | 40      |\n",
        "| D            | 60 ✅ mejor |\n",
        "| A            | 12      |\n",
        "\n",
        "3. El mejor del torneo gana.\n",
        "\n",
        "En este caso, el mejor es **D** (fitness 60), entonces se selecciona como padre.\n",
        "\n",
        "---\n",
        "\n",
        "### 🧠 ¿Por qué usar este método?\n",
        "\n",
        "#### ✅ Ventajas:\n",
        "- Evita elegir solo al mejor siempre, dando oportunidad a otros.\n",
        "- Controla la presión selectiva: si aumentás `k`, ganan más seguido los mejores.\n",
        "- No necesita normalizar los valores (como el método del dardo o accept-reject).\n",
        "\n",
        "#### ⚖️ Presión Selectiva:\n",
        "- `k` chico → más aleatoriedad (más diversidad)\n",
        "- `k` grande → más elitismo (menos diversidad)\n",
        "\n",
        "Es un **buen balance entre exploración y explotación**.\n"
      ]
    },
    {
      "cell_type": "markdown",
      "metadata": {},
      "source": [
        "### **Paso 5: Cruza (crossover) + reparación del bloque y capacidades**"
      ]
    },
    {
      "cell_type": "code",
      "execution_count": 219,
      "metadata": {},
      "outputs": [],
      "source": [
        "# Crea un hijo mezclando genes de los padres (cada posición puede venir de padre1 o padre2).\n",
        "# Luego usa repair() para corregir si algún curso tiene más alumnos de los que debería.\n",
        "# También fuerza que los alumnos fijos estén en el curso que les corresponde."
      ]
    },
    {
      "cell_type": "code",
      "execution_count": 220,
      "metadata": {},
      "outputs": [],
      "source": [
        "def crossover(parent1, parent2):\n",
        "    \"\"\"Cruza uniformemente dos padres y repara el resultado.\"\"\"\n",
        "    child = [parent1[i] if random.random() < 0.5 else parent2[i] for i in range(cantidad_alumnos)]\n",
        "    block_course = child[block_indices[0]]\n",
        "    for idx in block_indices:\n",
        "        child[idx] = block_course\n",
        "    return repair(child)\n",
        "\n",
        "def repair(child):\n",
        "    \"\"\"Ajusta para que cada curso tenga la cantidad justa de alumnos.\"\"\"\n",
        "    conteos = [child.count(c) for c in range(cantidad_cursos)]\n",
        "    for c in range(cantidad_cursos):\n",
        "        while conteos[c] > capacidades[c]:\n",
        "            idxs = [i for i in range(cantidad_alumnos) if child[i] == c and i not in block_indices]\n",
        "            idx = random.choice(idxs)\n",
        "            for d in range(cantidad_cursos):\n",
        "                if conteos[d] < capacidades[d]:\n",
        "                    child[idx] = d\n",
        "                    conteos[c] -= 1\n",
        "                    conteos[d] += 1\n",
        "                    break\n",
        "    return child"
      ]
    },
    {
      "cell_type": "markdown",
      "metadata": {},
      "source": [
        "### **Paso 6: Mutation**"
      ]
    },
    {
      "cell_type": "code",
      "execution_count": 221,
      "metadata": {},
      "outputs": [],
      "source": [
        "def mutate(child):\n",
        "    \"\"\"Intercambia dos posiciones aleatorias (que no pertenezcan al bloque).\"\"\"\n",
        "    if random.random() < mutation_rate:\n",
        "        i, j = random.sample([x for x in range(cantidad_alumnos) if x not in block_indices], 2)\n",
        "        child[i], child[j] = child[j], child[i]\n",
        "    return child"
      ]
    },
    {
      "cell_type": "markdown",
      "metadata": {},
      "source": [
        "### **Paso 7: Replacement + Main Loop**"
      ]
    },
    {
      "cell_type": "code",
      "execution_count": 222,
      "metadata": {},
      "outputs": [],
      "source": [
        "# En el loop principal se incluye la opción elitism = True y se copia el mejor individuo a la nueva población sin modificaciones -- BONUS 1"
      ]
    },
    {
      "cell_type": "code",
      "execution_count": 223,
      "metadata": {},
      "outputs": [],
      "source": [
        "# Inicializar población\n",
        "population = [create_individual() for _ in range(population_size)]\n",
        "fitnesses = [fitness(ind) for ind in population]\n",
        "\n",
        "# Bucle principal de evolución\n",
        "for _ in range(generations):\n",
        "    new_population = []\n",
        "    if elitism:\n",
        "        best_idx = max(range(population_size), key=lambda i: fitnesses[i])\n",
        "        new_population.append(deepcopy(population[best_idx]))\n",
        "    while len(new_population) < population_size:\n",
        "        p1 = tournament_selection(population, fitnesses)\n",
        "        p2 = tournament_selection(population, fitnesses)\n",
        "        child = crossover(p1, p2)\n",
        "        child = mutate(child)\n",
        "        new_population.append(child)\n",
        "    population = new_population\n",
        "    fitnesses = [fitness(ind) for ind in population]"
      ]
    },
    {
      "cell_type": "markdown",
      "metadata": {},
      "source": [
        "### **Paso 8: Muestro el Resultado Final**"
      ]
    },
    {
      "cell_type": "code",
      "execution_count": 224,
      "metadata": {},
      "outputs": [
        {
          "name": "stdout",
          "output_type": "stream",
          "text": [
            "Utilidad total mejor encontrada: 94\n",
            "\n",
            "Curso 1 (20 alumnos):\n",
            "['Elena', 'Francisco', 'Gabriela', 'Hugo', 'Isabel', 'Sofia', 'Tomas', 'Ursula', 'Valeria', 'Kevin', 'Laura', 'Mateo', 'Natalia', 'Victor', 'Wanda', 'Ximena', 'Yamila', 'Catalina', 'Dario', 'Hernan'] \n",
            "\n",
            "Curso 2 (20 alumnos):\n",
            "['Juan', 'Karla', 'Leonardo', 'Mariana', 'Nicolas', 'Olivia', 'Pablo', 'Raul', 'Daniela', 'Esteban', 'Fernanda', 'Gustavo', 'Helena', 'Ignacio', 'Julieta', 'Emilia', 'Fabian', 'Gisela', 'Luz', 'Martin'] \n",
            "\n",
            "Curso 3 (20 alumnos):\n",
            "['Ana', 'Bruno', 'Camila', 'Diego', 'Walter', 'Xavier', 'Yara', 'Zoe', 'Andres', 'Belen', 'Carlos', 'Octavio', 'Paula', 'Ricardo', 'Sabrina', 'Tadeo', 'Beltran', 'Isidoro', 'Jimena', 'Horacio'] \n",
            "\n"
          ]
        }
      ],
      "source": [
        "best = population[fitnesses.index(max(fitnesses))]\n",
        "best_value = max(fitnesses)\n",
        "\n",
        "print(f\"Utilidad total mejor encontrada: {best_value}\\n\")\n",
        "for c in range(cantidad_cursos):\n",
        "    grupo = [alumnos[i] for i in range(cantidad_alumnos) if best[i] == c]\n",
        "    print(f\"Curso {c+1} ({len(grupo)} alumnos):\")\n",
        "    print(grupo, \"\\n\")"
      ]
    }
  ],
  "metadata": {
    "colab": {
      "provenance": []
    },
    "kernelspec": {
      "display_name": "POO-env",
      "language": "python",
      "name": "python3"
    },
    "language_info": {
      "codemirror_mode": {
        "name": "ipython",
        "version": 3
      },
      "file_extension": ".py",
      "mimetype": "text/x-python",
      "name": "python",
      "nbconvert_exporter": "python",
      "pygments_lexer": "ipython3",
      "version": "3.11.5"
    }
  },
  "nbformat": 4,
  "nbformat_minor": 0
}

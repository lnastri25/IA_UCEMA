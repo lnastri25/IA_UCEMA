{
  "cells": [
    {
      "cell_type": "markdown",
      "metadata": {
        "id": "klmCSjy4jaj4"
      },
      "source": [
        "## División de cursos mediante Algoritmos Genéticos"
      ]
    },
    {
      "cell_type": "markdown",
      "metadata": {
        "id": "d3xcJ9JRjdkY"
      },
      "source": [
        " **Contexto:**\n",
        "En una escuela secundaria, 60 alumnos pasaron exitosamente el curso de ingreso.Ahora deben ser asignados a 3 cursos de 20 alumnos cada uno. Cada alumno eligió dos compañeros con quienes le gustaría estar en el mismo curso.\n",
        "\n",
        "\n",
        "**Objetivo:**\n",
        "Construir una asignacion que maximice la utilidad total del grupo.\n",
        "\n",
        "**Reglas:**\n",
        "- Cada curso debe tener exactamente 20 alumnos.\n",
        "- Cada alumno debe pertenecer a un único curso.\n",
        "- No pueden quedar cursos con más ni menos de 20 alumnos.\n",
        "\n",
        "**Definiciones de utilidad (fitness):**\n",
        "- +1 punto por cada amigo elegido que este en el mismo curso (Osea + 2 si los 2 amigos están en el mismo curso)\n",
        "- -3 puntos si los dos amigos terminan juntos en otro curso.\n",
        "- -1 punto si el alumno y sus dos amigos terminan todos en cursos distintos."
      ]
    },
    {
      "cell_type": "code",
      "execution_count": null,
      "metadata": {
        "id": "vAb0j-79g3gA"
      },
      "outputs": [],
      "source": [
        "# Listado de alumnos y sus preferencias\n",
        "alumnos_amigos = {\n",
        "    'Ana': ['Bruno', 'Camila'], 'Bruno': ['Ana', 'Diego'], 'Camila': ['Bruno', 'Elena'],\n",
        "    'Diego': ['Camila', 'Francisco'], 'Elena': ['Diego', 'Gabriela'], 'Francisco': ['Elena', 'Hugo'],\n",
        "    'Gabriela': ['Francisco', 'Isabel'], 'Hugo': ['Gabriela', 'Juan'], 'Isabel': ['Hugo', 'Karla'],\n",
        "    'Juan': ['Isabel', 'Leonardo'], 'Karla': ['Juan', 'Mariana'], 'Leonardo': ['Karla', 'Nicolas'],\n",
        "    'Mariana': ['Leonardo', 'Olivia'], 'Nicolas': ['Mariana', 'Pablo'], 'Olivia': ['Nicolas', 'Raul'],\n",
        "    'Pablo': ['Olivia', 'Sofia'], 'Raul': ['Pablo', 'Tomas'], 'Sofia': ['Raul', 'Ursula'],\n",
        "    'Tomas': ['Sofia', 'Valeria'], 'Ursula': ['Tomas', 'Walter'], 'Valeria': ['Ursula', 'Xavier'],\n",
        "    'Walter': ['Valeria', 'Yara'], 'Xavier': ['Walter', 'Zoe'], 'Yara': ['Xavier', 'Andres'],\n",
        "    'Zoe': ['Yara', 'Belen'], 'Andres': ['Zoe', 'Carlos'], 'Belen': ['Andres', 'Daniela'],\n",
        "    'Carlos': ['Belen', 'Esteban'], 'Daniela': ['Carlos', 'Fernanda'], 'Esteban': ['Daniela', 'Gustavo'],\n",
        "    'Fernanda': ['Esteban', 'Helena'], 'Gustavo': ['Fernanda', 'Ignacio'], 'Helena': ['Gustavo', 'Julieta'],\n",
        "    'Ignacio': ['Helena', 'Kevin'], 'Julieta': ['Ignacio', 'Laura'], 'Kevin': ['Julieta', 'Mateo'],\n",
        "    'Laura': ['Kevin', 'Natalia'], 'Mateo': ['Laura', 'Octavio'], 'Natalia': ['Mateo', 'Paula'],\n",
        "    'Octavio': ['Natalia', 'Ricardo'], 'Paula': ['Octavio', 'Sabrina'], 'Ricardo': ['Paula', 'Tadeo'],\n",
        "    'Sabrina': ['Ricardo', 'Ursula'], 'Tadeo': ['Sabrina', 'Victor'], 'Victor': ['Ursula', 'Ximena'],\n",
        "    'Wanda': ['Victor', 'Yamila'], 'Ximena': ['Wanda', 'Zoe'], 'Yamila': ['Ximena', 'Ana'], 'Zoe': ['Yamila', 'Bruno'],\n",
        "    'Beltran': ['Ana', 'Diego'], 'Catalina': ['Francisco', 'Gabriela'], 'Dario': ['Hugo', 'Isabel'],\n",
        "    'Emilia': ['Leonardo', 'Mariana'], 'Fabian': ['Nicolas', 'Olivia'], 'Gisela': ['Pablo', 'Raul'],\n",
        "    'Hernan': ['Sofia', 'Valeria'], 'Isidoro': ['Walter', 'Xavier'], 'Jimena': ['Yara', 'Andres'],\n",
        "    'Horacio': ['Belen', 'Carlos'], 'Luz': ['Daniela', 'Esteban'], 'Martin': ['Fernanda', 'Gustavo']\n",
        "}"
      ]
    },
    {
      "cell_type": "markdown",
      "metadata": {
        "id": "Z6dOLYwnkd96"
      },
      "source": [
        "**Entregables:**\n",
        "- 1. Código en Python con comentarios.\n",
        "- 2. Breve descripción sobre cómo definieron el genoma, la funcion de aptitud, el tamaño de la población inicial, la tasa de mutación y por qué eligieron un determinado método de selección de padres.\n",
        "- 3. División de cursos que maximiza la utilidad total y valor de esa utilidad total.\n",
        "\n",
        "**Bonus 1 (opcional):**\n",
        "Implementar elitismo:\n",
        "- Guardar el mejor individuo en cada generación y pasarlo directamente sin modificaciones.\n",
        "\n",
        "**Bonus 2 (opcional):**\n",
        "Por motivos personales los alumnos Xavier y Zoe deben compartir curso si o si con sus dos amigos (Walter y Zoe y Yara y Belen). Modifica el código para garantizar esto."
      ]
    }
  ],
  "metadata": {
    "colab": {
      "provenance": []
    },
    "kernelspec": {
      "display_name": "POO-env",
      "language": "python",
      "name": "python3"
    },
    "language_info": {
      "name": "python",
      "version": "3.11.5"
    }
  },
  "nbformat": 4,
  "nbformat_minor": 0
}

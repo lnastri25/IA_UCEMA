{
  "cells": [
    {
      "cell_type": "markdown",
      "metadata": {
        "id": "klmCSjy4jaj4"
      },
      "source": [
        "## División de cursos mediante Algoritmos Genéticos"
      ]
    },
    {
      "cell_type": "markdown",
      "metadata": {
        "id": "d3xcJ9JRjdkY"
      },
      "source": [
        " **Contexto:**\n",
        "En una escuela secundaria, 60 alumnos pasaron exitosamente el curso de ingreso.Ahora deben ser asignados a 3 cursos de 20 alumnos cada uno. Cada alumno eligió dos compañeros con quienes le gustaría estar en el mismo curso.\n",
        "\n",
        "\n",
        "**Objetivo:**\n",
        "Construir una asignacion que maximice la utilidad total del grupo.\n",
        "\n",
        "**Reglas:**\n",
        "- Cada curso debe tener exactamente 20 alumnos.\n",
        "- Cada alumno debe pertenecer a un único curso.\n",
        "\n",
        "**Definiciones de utilidad (fitness):**\n",
        "- +1 punto por cada amigo elegido que este en el mismo curso (Osea + 2 si los 2 amigos están en el mismo curso)\n",
        "- -3 puntos si los dos amigos terminan juntos en otro curso.\n",
        "- -1 punto si el alumno y sus dos amigos terminan todos en cursos distintos."
      ]
    },
    {
      "cell_type": "code",
      "execution_count": 125,
      "metadata": {
        "id": "vAb0j-79g3gA"
      },
      "outputs": [],
      "source": [
        "# Listado de alumnos y sus preferencias\n",
        "alumnos_amigos = {\n",
        "    'Ana': ['Bruno', 'Camila'], 'Bruno': ['Ana', 'Diego'], 'Camila': ['Bruno', 'Elena'],\n",
        "    'Diego': ['Camila', 'Francisco'], 'Elena': ['Diego', 'Gabriela'], 'Francisco': ['Elena', 'Hugo'],\n",
        "    'Gabriela': ['Francisco', 'Isabel'], 'Hugo': ['Gabriela', 'Juan'], 'Isabel': ['Hugo', 'Karla'],\n",
        "    'Juan': ['Isabel', 'Leonardo'], 'Karla': ['Juan', 'Mariana'], 'Leonardo': ['Karla', 'Nicolas'],\n",
        "    'Mariana': ['Leonardo', 'Olivia'], 'Nicolas': ['Mariana', 'Pablo'], 'Olivia': ['Nicolas', 'Raul'],\n",
        "    'Pablo': ['Olivia', 'Sofia'], 'Raul': ['Pablo', 'Tomas'], 'Sofia': ['Raul', 'Ursula'],\n",
        "    'Tomas': ['Sofia', 'Valeria'], 'Ursula': ['Tomas', 'Walter'], 'Valeria': ['Ursula', 'Xavier'],\n",
        "    'Walter': ['Valeria', 'Yara'], 'Xavier': ['Walter', 'Zoe'], 'Yara': ['Xavier', 'Andres'],\n",
        "    'Zoe': ['Yara', 'Belen'], 'Andres': ['Zoe', 'Carlos'], 'Belen': ['Andres', 'Daniela'],\n",
        "    'Carlos': ['Belen', 'Esteban'], 'Daniela': ['Carlos', 'Fernanda'], 'Esteban': ['Daniela', 'Gustavo'],\n",
        "    'Fernanda': ['Esteban', 'Helena'], 'Gustavo': ['Fernanda', 'Ignacio'], 'Helena': ['Gustavo', 'Julieta'],\n",
        "    'Ignacio': ['Helena', 'Kevin'], 'Julieta': ['Ignacio', 'Laura'], 'Kevin': ['Julieta', 'Mateo'],\n",
        "    'Laura': ['Kevin', 'Natalia'], 'Mateo': ['Laura', 'Octavio'], 'Natalia': ['Mateo', 'Paula'],\n",
        "    'Octavio': ['Natalia', 'Ricardo'], 'Paula': ['Octavio', 'Sabrina'], 'Ricardo': ['Paula', 'Tadeo'],\n",
        "    'Sabrina': ['Ricardo', 'Ursula'], 'Tadeo': ['Sabrina', 'Victor'], 'Victor': ['Ursula', 'Ximena'],\n",
        "    'Wanda': ['Victor', 'Yamila'], 'Ximena': ['Wanda', 'Zoe'], 'Yamila': ['Ximena', 'Ana'], 'Zoe': ['Yamila', 'Bruno'],\n",
        "    'Beltran': ['Ana', 'Diego'], 'Catalina': ['Francisco', 'Gabriela'], 'Dario': ['Hugo', 'Isabel'],\n",
        "    'Emilia': ['Leonardo', 'Mariana'], 'Fabian': ['Nicolas', 'Olivia'], 'Gisela': ['Pablo', 'Raul'],\n",
        "    'Hernan': ['Sofia', 'Valeria'], 'Isidoro': ['Walter', 'Xavier'], 'Jimena': ['Yara', 'Andres'],\n",
        "    'Horacio': ['Belen', 'Carlos'], 'Luz': ['Daniela', 'Esteban'], 'Martin': ['Fernanda', 'Gustavo']\n",
        "}"
      ]
    },
    {
      "cell_type": "markdown",
      "metadata": {
        "id": "Z6dOLYwnkd96"
      },
      "source": [
        "**Entregables:**\n",
        "- 1. Código en Python con comentarios.\n",
        "- 2. Breve descripción sobre cómo definieron el genoma, la funcion de aptitud, el tamaño de la población inicial, la tasa de mutación y por qué eligieron un determinado método de selección de padres.\n",
        "- 3. División de cursos que maximiza la utilidad total y valor de esa utilidad total.\n",
        "\n",
        "**Bonus 1 (opcional):**\n",
        "Implementar elitismo:\n",
        "- Guardar el mejor individuo en cada generación y pasarlo directamente sin modificaciones.\n",
        "\n",
        "**Bonus 2 (opcional):**\n",
        "Por motivos personales los alumnos Xavier y Zoe deben compartir curso si o si con sus dos amigos (Walter y Zoe y Yara y Belen). Modifica el código para garantizar esto."
      ]
    },
    {
      "cell_type": "code",
      "execution_count": 126,
      "metadata": {},
      "outputs": [],
      "source": [
        "import random\n",
        "from copy import deepcopy"
      ]
    },
    {
      "cell_type": "markdown",
      "metadata": {},
      "source": [
        "### **Paso 1: Configuro los parametros del AG**"
      ]
    },
    {
      "cell_type": "code",
      "execution_count": 127,
      "metadata": {},
      "outputs": [],
      "source": [
        "# Lista de alumnos y sus amigos (input original)\n",
        "alumnos = list(alumnos_amigos.keys())\n",
        "cantidad_alumnos = len(alumnos)\n",
        "cantidad_cursos = 3"
      ]
    },
    {
      "cell_type": "code",
      "execution_count": 128,
      "metadata": {},
      "outputs": [],
      "source": [
        "# Capacidad por curso (distribución equitativa con resto)\n",
        "base = cantidad_alumnos // cantidad_cursos\n",
        "resto = cantidad_alumnos % cantidad_cursos\n",
        "capacidades = [base + (1 if i < resto else 0) for i in range(cantidad_cursos)]"
      ]
    },
    {
      "cell_type": "code",
      "execution_count": 129,
      "metadata": {},
      "outputs": [],
      "source": [
        "# Parámetros del algoritmo genético\n",
        "population_size = 100\n",
        "generations = 500\n",
        "mutation_rate = 0.1\n",
        "tournament_size = 3\n",
        "elitism = True"
      ]
    },
    {
      "cell_type": "code",
      "execution_count": 130,
      "metadata": {},
      "outputs": [],
      "source": [
        "# Alumnos que deben estar en el mismo curso sí o sí\n",
        "fixed_block = {'Ana': 3, 'Martin': 2, 'Horacio': 1}\n",
        "block_indices = [alumnos.index(name) for name in fixed_block]"
      ]
    },
    {
      "cell_type": "markdown",
      "metadata": {},
      "source": [
        "### **Paso 2: Create Population**"
      ]
    },
    {
      "cell_type": "code",
      "execution_count": null,
      "metadata": {},
      "outputs": [],
      "source": [
        "def create_individual():\n",
        "    \"\"\"Crea un individuo válido respetando el bloque forzado y capacidades.\"\"\"\n",
        "    cursos = capacidades.copy()\n",
        "    block_course = random.randint(0, cantidad_cursos - 1)\n",
        "    cursos[block_course] -= len(block_indices)\n",
        "    \n",
        "    individual = [None] * cantidad_alumnos\n",
        "    for idx in block_indices:\n",
        "        individual[idx] = block_course\n",
        "\n",
        "    restantes = []\n",
        "    for c in range(cantidad_cursos):\n",
        "        restantes += [c] * cursos[c]\n",
        "    random.shuffle(restantes)\n",
        "\n",
        "    j = 0\n",
        "    for i in range(cantidad_alumnos):\n",
        "        if individual[i] is None:\n",
        "            individual[i] = restantes[j]\n",
        "            j += 1\n",
        "    return individual"
      ]
    },
    {
      "cell_type": "markdown",
      "metadata": {},
      "source": [
        "### **Paso 3: Fitness Function**"
      ]
    },
    {
      "cell_type": "code",
      "execution_count": 132,
      "metadata": {},
      "outputs": [],
      "source": [
        "def fitness(individual):\n",
        "    \"\"\"Calcula la utilidad total según las reglas de amistad y penalizaciones.\"\"\"\n",
        "    total = 0\n",
        "    for i, alumno in enumerate(alumnos):\n",
        "        curso = individual[i]\n",
        "        amigo1, amigo2 = alumnos_amigos[alumno]\n",
        "        i1, i2 = alumnos.index(amigo1), alumnos.index(amigo2)\n",
        "        c1, c2 = individual[i1], individual[i2]\n",
        "        if c1 == curso: total += 1\n",
        "        if c2 == curso: total += 1\n",
        "        if c1 == c2 and c1 != curso: total -= 3\n",
        "        if curso != c1 and curso != c2 and c1 != c2: total -= 1\n",
        "    return total"
      ]
    },
    {
      "cell_type": "markdown",
      "metadata": {},
      "source": [
        "### **Paso 4: Parent Selection**"
      ]
    },
    {
      "cell_type": "code",
      "execution_count": 133,
      "metadata": {},
      "outputs": [],
      "source": [
        "def tournament_selection(population, fitnesses):\n",
        "    \"\"\"Selecciona al mejor individuo de un torneo de k aleatorios.\"\"\"\n",
        "    participants = random.sample(list(zip(population, fitnesses)), tournament_size)\n",
        "    participants.sort(key=lambda x: x[1], reverse=True)\n",
        "    return deepcopy(participants[0][0])"
      ]
    },
    {
      "cell_type": "markdown",
      "metadata": {},
      "source": [
        "### **Paso 5: Cruza (crossover) + reparación del bloque y capacidades**"
      ]
    },
    {
      "cell_type": "code",
      "execution_count": 134,
      "metadata": {},
      "outputs": [],
      "source": [
        "def crossover(parent1, parent2):\n",
        "    \"\"\"Cruza uniformemente dos padres y repara el resultado.\"\"\"\n",
        "    child = [parent1[i] if random.random() < 0.5 else parent2[i] for i in range(cantidad_alumnos)]\n",
        "    block_course = child[block_indices[0]]\n",
        "    for idx in block_indices:\n",
        "        child[idx] = block_course\n",
        "    return repair(child)\n",
        "\n",
        "def repair(child):\n",
        "    \"\"\"Ajusta para que cada curso tenga la cantidad justa de alumnos.\"\"\"\n",
        "    conteos = [child.count(c) for c in range(cantidad_cursos)]\n",
        "    for c in range(cantidad_cursos):\n",
        "        while conteos[c] > capacidades[c]:\n",
        "            idxs = [i for i in range(cantidad_alumnos) if child[i] == c and i not in block_indices]\n",
        "            idx = random.choice(idxs)\n",
        "            for d in range(cantidad_cursos):\n",
        "                if conteos[d] < capacidades[d]:\n",
        "                    child[idx] = d\n",
        "                    conteos[c] -= 1\n",
        "                    conteos[d] += 1\n",
        "                    break\n",
        "    return child"
      ]
    },
    {
      "cell_type": "markdown",
      "metadata": {},
      "source": [
        "### **Paso 6: Mutation**"
      ]
    },
    {
      "cell_type": "code",
      "execution_count": 135,
      "metadata": {},
      "outputs": [],
      "source": [
        "def mutate(child):\n",
        "    \"\"\"Intercambia dos posiciones aleatorias (que no pertenezcan al bloque).\"\"\"\n",
        "    if random.random() < mutation_rate:\n",
        "        i, j = random.sample([x for x in range(cantidad_alumnos) if x not in block_indices], 2)\n",
        "        child[i], child[j] = child[j], child[i]\n",
        "    return child"
      ]
    },
    {
      "cell_type": "markdown",
      "metadata": {},
      "source": [
        "### **Paso 7: Replacement + Main Loop**"
      ]
    },
    {
      "cell_type": "code",
      "execution_count": 136,
      "metadata": {},
      "outputs": [],
      "source": [
        "# Inicializar población\n",
        "population = [create_individual() for _ in range(population_size)]\n",
        "fitnesses = [fitness(ind) for ind in population]\n",
        "\n",
        "# Bucle principal de evolución\n",
        "for _ in range(generations):\n",
        "    new_population = []\n",
        "    if elitism:\n",
        "        best_idx = max(range(population_size), key=lambda i: fitnesses[i])\n",
        "        new_population.append(deepcopy(population[best_idx]))\n",
        "    while len(new_population) < population_size:\n",
        "        p1 = tournament_selection(population, fitnesses)\n",
        "        p2 = tournament_selection(population, fitnesses)\n",
        "        child = crossover(p1, p2)\n",
        "        child = mutate(child)\n",
        "        new_population.append(child)\n",
        "    population = new_population\n",
        "    fitnesses = [fitness(ind) for ind in population]"
      ]
    },
    {
      "cell_type": "markdown",
      "metadata": {},
      "source": [
        "### **Paso 8: Muestro el Resultado Final**"
      ]
    },
    {
      "cell_type": "code",
      "execution_count": 137,
      "metadata": {},
      "outputs": [
        {
          "name": "stdout",
          "output_type": "stream",
          "text": [
            "Utilidad total mejor encontrada: 85\n",
            "\n",
            "Curso 1 (20 alumnos):\n",
            "['Diego', 'Elena', 'Francisco', 'Gabriela', 'Nicolas', 'Olivia', 'Pablo', 'Valeria', 'Walter', 'Xavier', 'Yara', 'Ricardo', 'Sabrina', 'Tadeo', 'Beltran', 'Catalina', 'Fabian', 'Hernan', 'Isidoro', 'Jimena'] \n",
            "\n",
            "Curso 2 (20 alumnos):\n",
            "['Hugo', 'Isabel', 'Juan', 'Raul', 'Sofia', 'Tomas', 'Ursula', 'Zoe', 'Kevin', 'Laura', 'Mateo', 'Natalia', 'Octavio', 'Paula', 'Victor', 'Wanda', 'Ximena', 'Yamila', 'Dario', 'Gisela'] \n",
            "\n",
            "Curso 3 (20 alumnos):\n",
            "['Ana', 'Bruno', 'Camila', 'Karla', 'Leonardo', 'Mariana', 'Andres', 'Belen', 'Carlos', 'Daniela', 'Esteban', 'Fernanda', 'Gustavo', 'Helena', 'Ignacio', 'Julieta', 'Emilia', 'Horacio', 'Luz', 'Martin'] \n",
            "\n"
          ]
        }
      ],
      "source": [
        "best = population[fitnesses.index(max(fitnesses))]\n",
        "best_value = max(fitnesses)\n",
        "\n",
        "print(f\"Utilidad total mejor encontrada: {best_value}\\n\")\n",
        "for c in range(cantidad_cursos):\n",
        "    grupo = [alumnos[i] for i in range(cantidad_alumnos) if best[i] == c]\n",
        "    print(f\"Curso {c+1} ({len(grupo)} alumnos):\")\n",
        "    print(grupo, \"\\n\")"
      ]
    }
  ],
  "metadata": {
    "colab": {
      "provenance": []
    },
    "kernelspec": {
      "display_name": "POO-env",
      "language": "python",
      "name": "python3"
    },
    "language_info": {
      "codemirror_mode": {
        "name": "ipython",
        "version": 3
      },
      "file_extension": ".py",
      "mimetype": "text/x-python",
      "name": "python",
      "nbconvert_exporter": "python",
      "pygments_lexer": "ipython3",
      "version": "3.11.5"
    }
  },
  "nbformat": 4,
  "nbformat_minor": 0
}

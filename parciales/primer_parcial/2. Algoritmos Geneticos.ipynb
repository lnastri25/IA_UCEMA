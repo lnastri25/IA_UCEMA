{
  "cells": [
    {
      "cell_type": "markdown",
      "id": "f8b663ea",
      "metadata": {
        "id": "f8b663ea"
      },
      "source": [
        "# Algoritmos Genéticos - Diseño de Menú para un Restaurante\n",
        "\n",
        "Un nuevo restaurante en la zona de microcentro debe armar el menú del almuerzo y cena para los **7 días de la semana**. Cuenta con **60 platos disponibles**, cada uno con:\n",
        "- Costo por porción (de 1 a 5)\n",
        "- Popularidad estimada (de 5 a 10)\n",
        "- Tipo de plato (italiano, carne, pescado, ensalada, etc.)\n",
        "\n",
        "El objetivo del restaurante es seleccionar un menú semanal (14 platos, uno por día y turno) que **maximice la diferencia entre popularidad y costo**, considerando además ciertas penalizaciones por:\n",
        "\n",
        "- Repetir un mismo plato dentro de la semana, y\n",
        "\n",
        "- Repetir el mismo tipo de plato en comidas consecutivas (almuerzo y cena del mismo día o cena de un día y almuerzo del día siguiente)."
      ]
    },
    {
      "cell_type": "markdown",
      "id": "wDrpnXfBfuOA",
      "metadata": {
        "id": "wDrpnXfBfuOA"
      },
      "source": [
        "## ¿Qué debes hacer?\n",
        "\n",
        "1- Crear, desde cero:\n",
        "- La función para **inicializar la población**.\n",
        "- La función de **aptitud** (fitness).\n",
        "- La función de **selección de padres** (elige un método y justifica por qué lo usaste).\n",
        "\n",
        "2- Corregir la función de crossover y la función de mutación que se presentan con errores intencionales.\n",
        "\n",
        "3- Integrar todas las funciones en el **loop del algoritmo genético**, ejecutarlo e imprimir:\n",
        "\n",
        "- El **mejor fitness de un individuo en cada generación** (de forma gráfica y analítica).\n",
        "- El **mejor menú** encontrado tras finalizar el loop.\n",
        "- El valor **fitness** del mejor menú.\n",
        "\n",
        "4- Realizar el punto 3 pero aplicando elitismo. Comentar qué diferencias encuentra entre los resultados obtenidos en el punto 3 y el punto 4.\n",
        "\n",
        "5- Justificar y comentar todas tus decisiones y el código que utilices."
      ]
    },
    {
      "cell_type": "code",
      "execution_count": 34,
      "id": "i6gLXKJATRh7",
      "metadata": {
        "id": "i6gLXKJATRh7"
      },
      "outputs": [],
      "source": [
        "import pandas as pd\n",
        "import random\n",
        "import matplotlib.pyplot as plt"
      ]
    },
    {
      "cell_type": "code",
      "execution_count": 35,
      "id": "94b9b0cd",
      "metadata": {
        "id": "94b9b0cd"
      },
      "outputs": [],
      "source": [
        "# Diccionario de 60 platos disponibles\n",
        "platos = {\n",
        "    'Sorrentinos de jamón y queso': {'costo': 3, 'popularidad': 9, 'tipo': 'italiano'},\n",
        "    'Lasaña de carne': {'costo': 4, 'popularidad': 8, 'tipo': 'italiano'},\n",
        "    'Risotto de hongos': {'costo': 5, 'popularidad': 8, 'tipo': 'italiano'},\n",
        "    'Pizza fugazzeta': {'costo': 2, 'popularidad': 9, 'tipo': 'italiano'},\n",
        "    'Canelones de verdura': {'costo': 3, 'popularidad': 7, 'tipo': 'italiano'},\n",
        "    'Asado con papas': {'costo': 5, 'popularidad': 10, 'tipo': 'carne'},\n",
        "    'Milanesa napolitana': {'costo': 4, 'popularidad': 9, 'tipo': 'carne'},\n",
        "    'Albóndigas en salsa': {'costo': 3, 'popularidad': 7, 'tipo': 'carne'},\n",
        "    'Estofado criollo': {'costo': 2, 'popularidad': 8, 'tipo': 'carne'},\n",
        "    'Matambre a la pizza': {'costo': 4, 'popularidad': 9, 'tipo': 'carne'},\n",
        "    'Filet de merluza con puré': {'costo': 3, 'popularidad': 8, 'tipo': 'pescado'},\n",
        "    'Salmón con papines': {'costo': 5, 'popularidad': 10, 'tipo': 'pescado'},\n",
        "    'Tarta de atún': {'costo': 2, 'popularidad': 6, 'tipo': 'pescado'},\n",
        "    'Empanadas de pescado': {'costo': 2, 'popularidad': 7, 'tipo': 'pescado'},\n",
        "    'Ensalada caprese': {'costo': 1, 'popularidad': 7, 'tipo': 'ensalada'},\n",
        "    'Mix verde con huevo y croutons': {'costo': 2, 'popularidad': 7, 'tipo': 'ensalada'},\n",
        "    'Ensalada de lentejas': {'costo': 2, 'popularidad': 6, 'tipo': 'ensalada'},\n",
        "    'Ensalada tibia con pollo grillado': {'costo': 3, 'popularidad': 8, 'tipo': 'ensalada'},\n",
        "    'Zapallitos rellenos': {'costo': 3, 'popularidad': 7, 'tipo': 'vegetariano'},\n",
        "    'Tarta de espinaca y ricota': {'costo': 2, 'popularidad': 6, 'tipo': 'vegetariano'},\n",
        "    'Milanesa de berenjena': {'costo': 3, 'popularidad': 8, 'tipo': 'vegetariano'},\n",
        "    'Tortilla de papas': {'costo': 2, 'popularidad': 8, 'tipo': 'vegetariano'},\n",
        "    'Chow Mein': {'costo': 2, 'popularidad': 8, 'tipo': 'oriental'},\n",
        "    'Pollo agridulce con arroz': {'costo': 4, 'popularidad': 8, 'tipo': 'oriental'},\n",
        "    'Wok de cerdo y verduras': {'costo': 4, 'popularidad': 7, 'tipo': 'oriental'},\n",
        "    'Ramen': {'costo': 3, 'popularidad': 6, 'tipo': 'oriental'},\n",
        "    'Guiso de lentejas vegano': {'costo': 2, 'popularidad': 8, 'tipo': 'vegano'},\n",
        "    'Medallones de mijo y calabaza': {'costo': 3, 'popularidad': 7, 'tipo': 'vegano'},\n",
        "    'Tacos veganos': {'costo': 3, 'popularidad': 8, 'tipo': 'vegano'},\n",
        "    'Bowl de quinoa y vegetales': {'costo': 4, 'popularidad': 9, 'tipo': 'vegano'},\n",
        "    'Locro': {'costo': 3, 'popularidad': 9, 'tipo': 'regional'},\n",
        "    'Humita en chala': {'costo': 2, 'popularidad': 8, 'tipo': 'regional'},\n",
        "    'Empanadas salteñas': {'costo': 2, 'popularidad': 9, 'tipo': 'carne'},\n",
        "    'Tamales': {'costo': 2, 'popularidad': 7, 'tipo': 'regional'},\n",
        "    'Polenta con tuco': {'costo': 2, 'popularidad': 7, 'tipo': 'italiano'},\n",
        "    'Ñoquis del 29': {'costo': 3, 'popularidad': 9, 'tipo': 'italiano'},\n",
        "    'Puchero': {'costo': 3, 'popularidad': 7, 'tipo': 'carne'},\n",
        "    'Canelones criollos': {'costo': 4, 'popularidad': 8, 'tipo': 'italiano'},\n",
        "    'Tarta de choclo': {'costo': 3, 'popularidad': 7, 'tipo': 'vegetariano'},\n",
        "    'Ensalada rusa': {'costo': 2, 'popularidad': 6, 'tipo': 'ensalada'},\n",
        "    'Berenjenas al escabeche': {'costo': 2, 'popularidad': 5, 'tipo': 'vegetariano'},\n",
        "    'Arroz con leche': {'costo': 1, 'popularidad': 6, 'tipo': 'postre'},\n",
        "    'Pastel de papa': {'costo': 3, 'popularidad': 9, 'tipo': 'carne'},\n",
        "    'Tarta pascualina': {'costo': 2, 'popularidad': 7, 'tipo': 'vegetariano'},\n",
        "    'Guiso carrero': {'costo': 3, 'popularidad': 8, 'tipo': 'carne'},\n",
        "    'Bife a la criolla': {'costo': 4, 'popularidad': 9, 'tipo': 'carne'},\n",
        "    'Fainá': {'costo': 2, 'popularidad': 6, 'tipo': 'vegetariano'},\n",
        "    'Revuelto gramajo': {'costo': 3, 'popularidad': 8, 'tipo': 'carne'},\n",
        "    'Milanesa a caballo': {'costo': 4, 'popularidad': 9, 'tipo': 'carne'},\n",
        "    'Tortilla santiagueña': {'costo': 2, 'popularidad': 7, 'tipo': 'regional'},\n",
        "    'Lengua a la vinagreta': {'costo': 2, 'popularidad': 5, 'tipo': 'carne'},\n",
        "    'Matambre arrollado': {'costo': 4, 'popularidad': 8, 'tipo': 'carne'},\n",
        "    'Costillitas de cerdo': {'costo': 5, 'popularidad': 9, 'tipo': 'carne'},\n",
        "    'Carne al horno con papas': {'costo': 4, 'popularidad': 9, 'tipo': 'carne'},\n",
        "    'Zapallo relleno': {'costo': 3, 'popularidad': 7, 'tipo': 'vegetariano'},\n",
        "    'Empanadas árabes': {'costo': 3, 'popularidad': 8, 'tipo': 'carne'},\n",
        "    'Garbanzos guisados': {'costo': 2, 'popularidad': 7, 'tipo': 'vegano'},\n",
        "    'Tallarines con estofado': {'costo': 3, 'popularidad': 8, 'tipo': 'italiano'},\n",
        "    'Sopa paraguaya': {'costo': 2, 'popularidad': 7, 'tipo': 'regional'},\n",
        "    'Croquetas de arroz': {'costo': 2, 'popularidad': 6, 'tipo': 'vegetariano'}\n",
        "}"
      ]
    },
    {
      "cell_type": "markdown",
      "id": "54afea7c",
      "metadata": {
        "id": "54afea7c"
      },
      "source": [
        "## Parte 1 – Genoma y generación de población\n",
        "\n",
        "Creá la función `generatePopulation()` para generar una lista de individuos, cada uno con 14 platos."
      ]
    },
    {
      "cell_type": "code",
      "execution_count": 36,
      "id": "a4fa7430",
      "metadata": {},
      "outputs": [],
      "source": [
        "def generar_poblacion_inicial(platos_dict, tamano_poblacion=50):\n",
        "    \n",
        "    todos_los_platos = list(platos_dict.keys())  # Lista con todos los nombres de platos disponibles\n",
        "    poblacion = []  # Lista donde se guardarán todos los menús generados\n",
        "\n",
        "    for _ in range(tamano_poblacion):  # Repetimos según el tamaño de la población deseado\n",
        "        random.shuffle(todos_los_platos)  # Mezclamos aleatoriamente los platos\n",
        "        menu = todos_los_platos[:14]  # Seleccionamos los primeros 14 platos para formar un menú semanal\n",
        "        poblacion.append(menu)  # Agregamos ese menú a la población\n",
        "\n",
        "    return poblacion  # Devolvemos la población completa\n"
      ]
    },
    {
      "cell_type": "markdown",
      "id": "461dca5f",
      "metadata": {
        "id": "461dca5f"
      },
      "source": [
        "## Parte 2 – Función de aptitud (fitness)\n",
        "\n",
        "Creá la función `fitness()` y decide si buscarás maximizar o minimizar el fitness total. Para calcular este valor debes saber que:\n",
        "\n",
        "- Fitness Total = Popularidad - Costo - Penalidades\n",
        "\n",
        "Y las penalidades son:\n",
        "\n",
        "- -2 si un plato se repite en la semana\n",
        "- -1 si un tipo de plato se repite en comidas consecutivas"
      ]
    },
    {
      "cell_type": "code",
      "execution_count": 37,
      "id": "edb5dfee",
      "metadata": {},
      "outputs": [],
      "source": [
        "def fitness(menu, platos_dict):\n",
        "    \n",
        "    total_popularidad = 0  # Suma total de popularidades del menú\n",
        "    total_costo = 0  # Suma total de costos del menú\n",
        "    penalizacion_repetidos = 0  # Penalización por repetir un mismo plato en la semana\n",
        "    penalizacion_tipos_consecutivos = 0  # Penalización por repetir tipo de plato entre comidas consecutivas\n",
        "\n",
        "    for plato in menu:\n",
        "        total_popularidad += platos_dict[plato]['popularidad']  # Sumo la popularidad del plato al total\n",
        "        total_costo += platos_dict[plato]['costo']  # Sumo el costo del plato al total\n",
        "\n",
        "    repeticiones = len(menu) - len(set(menu))  # Cuento cuántos platos están repetidos en el menú\n",
        "    penalizacion_repetidos = repeticiones * 2  # Penalizo con -2 por cada plato repetido\n",
        "\n",
        "    tipos = [platos_dict[plato]['tipo'] for plato in menu]  # Obtengo la secuencia de tipos de cada plato en el menú\n",
        "    for i in range(len(tipos) - 1):  # Recorro pares consecutivos de comidas\n",
        "        if tipos[i] == tipos[i+1]:\n",
        "            penalizacion_tipos_consecutivos += 1  # Penalizo con -1 si el tipo de comida se repite seguido\n",
        "\n",
        "    puntaje_total = total_popularidad - total_costo - penalizacion_repetidos - penalizacion_tipos_consecutivos  # Fitness final\n",
        "\n",
        "    return puntaje_total  # Devuelvo el valor de aptitud del menú\n"
      ]
    },
    {
      "cell_type": "markdown",
      "id": "1503b22e",
      "metadata": {
        "id": "1503b22e"
      },
      "source": [
        "## Parte 3 – Selección de padres\n",
        "\n",
        "Elige un método de selección de padres, justificando por qué elegiste ese método y creá la función `selectParents()`."
      ]
    },
    {
      "cell_type": "code",
      "execution_count": 38,
      "id": "08e76794",
      "metadata": {},
      "outputs": [],
      "source": [
        "def seleccionar_accept_reject(poblacion, funcion_fitness, platos_dict):\n",
        "    \n",
        "    puntajes = [funcion_fitness(menu, platos_dict) for menu in poblacion]  # Calculamos el fitness de cada menú\n",
        "    minimo = min(puntajes)  # Buscamos el puntaje mínimo\n",
        "\n",
        "    if minimo <= 0:\n",
        "        puntajes = [p + abs(minimo) + 1 for p in puntajes]  # Desplazamos todos los valores para que sean positivos\n",
        "\n",
        "    maximo = max(puntajes)  # Necesitamos el fitness máximo para definir la probabilidad de aceptación\n",
        "\n",
        "    puntajes_dict = {tuple(menu): f for menu, f in zip(poblacion, puntajes)}  # Asignamos el fitness a cada menú\n",
        "\n",
        "    while True:\n",
        "        menu_candidato = random.choice(poblacion)  # Elegimos un menú al azar\n",
        "        fitness_candidato = puntajes_dict[tuple(menu_candidato)]  # Buscamos su fitness\n",
        "        if random.uniform(0, maximo) < fitness_candidato:  # Aceptamos con probabilidad proporcional\n",
        "            return menu_candidato  # Devuelvo el menú aceptado\n"
      ]
    },
    {
      "cell_type": "code",
      "execution_count": 39,
      "id": "6d26c83b",
      "metadata": {},
      "outputs": [],
      "source": [
        "def seleccionar_dos_padres(poblacion, funcion_fitness, platos_dict):\n",
        "    \n",
        "    padre1 = seleccionar_accept_reject(poblacion, funcion_fitness, platos_dict)  # Primer padre\n",
        "    padre2 = seleccionar_accept_reject(poblacion, funcion_fitness, platos_dict)  # Segundo padre\n",
        "    \n",
        "    return padre1, padre2  # Devuelvo los dos menús seleccionados como padres\n"
      ]
    },
    {
      "cell_type": "markdown",
      "id": "2df0a11a",
      "metadata": {},
      "source": [
        "Se eligio el metodo de aceptar-rechazar debido a que es simple de implementar y permite una selección proporcional al fitness. Esto significa que los individuos más aptos tienen más probabilidades de ser seleccionados, lo que puede acelerar la convergencia hacia soluciones óptimas. Sin embargo, también se mantiene la diversidad genética al permitir que otros individuos menos aptos tengan la oportunidad de ser seleccionados, lo que puede ayudar a evitar caer en óptimos locales.\n"
      ]
    },
    {
      "cell_type": "markdown",
      "id": "29c627e6",
      "metadata": {
        "id": "29c627e6"
      },
      "source": [
        "## Parte 4 – Crossover\n",
        "\n",
        "Este código para la función crossover está incorrecto. Explica por qué y haz los cambios que consideres necesario para corregirlo.\n",
        "\n",
        "```python\n",
        "def crossover(population, padre1, padre2):\n",
        "    singlePoint = random.randint(1, len(population) - 1)\n",
        "    child = parentA[:singlePoint] + parentB[:singlePoint]\n",
        "\n",
        "    return child\n",
        "```"
      ]
    },
    {
      "cell_type": "markdown",
      "id": "df90c8a4",
      "metadata": {},
      "source": [
        "## ❌ Errores detectados en la función original de crossover\n",
        "\n",
        "1. Se usan variables incorrectas (`parentA`, `parentB`) en lugar de los parámetros `padre1`, `padre2`, lo que genera un `NameError`.\n",
        "2. La lógica de corte está mal: se toma el mismo segmento de ambos padres, generando un hijo incompleto y redundante.\n",
        "3. El hijo puede contener platos repetidos, lo que **viola la restricción del problema** (cada menú debe tener 14 platos únicos).\n",
        "4. No se controla que el hijo tenga exactamente 14 platos.\n"
      ]
    },
    {
      "cell_type": "code",
      "execution_count": 40,
      "id": "2c1343f0",
      "metadata": {},
      "outputs": [],
      "source": [
        "def crossover(padre1, padre2):\n",
        "    \n",
        "    punto_corte = random.randint(1, 13)  # Elegimos un punto de corte entre 1 y 13 (no extremos)\n",
        "    hijo = padre1[:punto_corte]  # Tomamos los primeros platos del padre1\n",
        "    \n",
        "    for plato in padre2:\n",
        "        if plato not in hijo:  # Solo agregamos si el plato no está ya en el hijo\n",
        "            hijo.append(plato)\n",
        "        if len(hijo) == 14:  # Si ya tenemos 14 platos, cortamos\n",
        "            break\n",
        "\n",
        "    return hijo  # Devolvemos el nuevo menú generado\n"
      ]
    },
    {
      "cell_type": "markdown",
      "id": "955b8486",
      "metadata": {
        "id": "955b8486"
      },
      "source": [
        "## Parte 5 – Mutación\n",
        "\n",
        "Este código para la función mutate está incorrecto. Explica por qué y haz los cambios que consideres necesario para corregirlo.\n",
        "\n",
        "```python\n",
        "def mutate(individuo):\n",
        "    for i in range(len(individuo)):\n",
        "      individuo[i] = random.choice()\n",
        "    return nuevo\n",
        "```"
      ]
    },
    {
      "cell_type": "markdown",
      "id": "ae3af305",
      "metadata": {},
      "source": [
        "## ❌ Errores detectados en la función original de mutación\n",
        "\n",
        "1. Se usa `random.choice()` sin pasarle una lista como argumento, lo que genera un `TypeError` al momento de ejecutarse.\n",
        "\n",
        "2. Recorre todo el individuo y reemplaza **cada plato**, lo cual no es una mutación puntual sino una regeneración completa del menú.\n",
        "\n",
        "3. No controla que los platos nuevos sean distintos a los que ya están en el menú, por lo tanto **puede introducir platos repetidos**, lo que **viola la restricción del problema**.\n",
        "\n",
        "4. Intenta devolver la variable `nuevo`, que **nunca fue creada**, lo que genera un `NameError`.\n"
      ]
    },
    {
      "cell_type": "code",
      "execution_count": 41,
      "id": "dbf9cab7",
      "metadata": {},
      "outputs": [],
      "source": [
        "def mutar_menu(menu, platos_dict, prob_mutacion=0.1):\n",
        "    \n",
        "    nuevo_menu = menu.copy()  # Hacemos una copia para no modificar el menú original\n",
        "\n",
        "    if random.random() < prob_mutacion:  # Solo mutamos si se cumple la probabilidad\n",
        "        posicion = random.randint(0, len(nuevo_menu) - 1)  # Elegimos una posición aleatoria en el menú\n",
        "\n",
        "        todos_los_platos = list(platos_dict.keys())  # Lista de platos disponibles\n",
        "        platos_posibles = list(set(todos_los_platos) - set(nuevo_menu))  # Platos que no están ya en el menú\n",
        "\n",
        "        if platos_posibles:  # Si hay platos posibles para reemplazar sin repetir\n",
        "            nuevo_plato = random.choice(platos_posibles)  # Elegimos un plato nuevo\n",
        "            nuevo_menu[posicion] = nuevo_plato  # Reemplazamos el plato en esa posición\n",
        "\n",
        "    return nuevo_menu  # Devolvemos el menú (mutado o no)\n"
      ]
    },
    {
      "cell_type": "markdown",
      "id": "272a94d0",
      "metadata": {
        "id": "272a94d0"
      },
      "source": [
        "## Parte 6 – Loop del AG\n",
        "\n",
        "1. Crear el loop del algoritmo genético.\n",
        "2. Definir tamaño de la población y tasa de mutación y explicar brevemente el por qué de su elección.\n",
        "3. Inicializar loop.\n",
        "4. Imprimir mejor menú y fitness final.\n",
        "5. Visualizar la evolución del mejor fitness por generación."
      ]
    },
    {
      "cell_type": "code",
      "execution_count": 42,
      "id": "51b8e428",
      "metadata": {},
      "outputs": [],
      "source": [
        "def algoritmo_genetico(platos_dict, generaciones=100, tamano_poblacion=50, tasa_mutacion=0.1):\n",
        "    \n",
        "    poblacion = generar_poblacion_inicial(platos_dict, tamano_poblacion)  # Creo la población inicial de menús\n",
        "    mejor_menu_ever = max(poblacion, key=lambda x: fitness(x, platos_dict))  # Guardo el mejor menú inicial\n",
        "    mejor_fitness_ever = fitness(mejor_menu_ever, platos_dict)  # Guardo su fitness\n",
        "    historial_fitness = []  # Guardo el mejor fitness de cada generación\n",
        "\n",
        "    for gen in range(generaciones):\n",
        "        nueva_poblacion = []\n",
        "\n",
        "        while len(nueva_poblacion) < tamano_poblacion:\n",
        "            padre1, padre2 = seleccionar_dos_padres(poblacion, fitness, platos_dict)  # Selecciono dos menús padres\n",
        "            hijo = crossover(padre1, padre2)  # Aplico crossover para crear un nuevo menú\n",
        "            hijo_mutado = mutar_menu(hijo, platos_dict, prob_mutacion=tasa_mutacion)  # Aplico mutación con baja probabilidad\n",
        "            nueva_poblacion.append(hijo_mutado)\n",
        "\n",
        "        poblacion = nueva_poblacion  # Reemplazo la población con la nueva generación\n",
        "        mejor_menu_gen = max(poblacion, key=lambda x: fitness(x, platos_dict))  # Mejor menú de esta generación\n",
        "        fitness_gen = fitness(mejor_menu_gen, platos_dict)  # Su fitness\n",
        "        historial_fitness.append(fitness_gen)\n",
        "\n",
        "        print(f\"Generación {gen+1}: Mejor fitness = {fitness_gen}\")\n",
        "\n",
        "        if fitness_gen > mejor_fitness_ever:  # Si encontramos uno mejor, lo actualizamos\n",
        "            mejor_menu_ever = mejor_menu_gen\n",
        "            mejor_fitness_ever = fitness_gen\n",
        "\n",
        "    return mejor_menu_ever, mejor_fitness_ever, historial_fitness\n"
      ]
    },
    {
      "cell_type": "code",
      "execution_count": 43,
      "id": "38629c80",
      "metadata": {},
      "outputs": [
        {
          "name": "stdout",
          "output_type": "stream",
          "text": [
            "Generación 1: Mejor fitness = 73\n",
            "Generación 2: Mejor fitness = 73\n",
            "Generación 3: Mejor fitness = 73\n",
            "Generación 4: Mejor fitness = 73\n",
            "Generación 5: Mejor fitness = 75\n",
            "Generación 6: Mejor fitness = 76\n",
            "Generación 7: Mejor fitness = 72\n",
            "Generación 8: Mejor fitness = 73\n",
            "Generación 9: Mejor fitness = 74\n",
            "Generación 10: Mejor fitness = 74\n",
            "Generación 11: Mejor fitness = 73\n",
            "Generación 12: Mejor fitness = 72\n",
            "Generación 13: Mejor fitness = 70\n",
            "Generación 14: Mejor fitness = 69\n",
            "Generación 15: Mejor fitness = 70\n",
            "Generación 16: Mejor fitness = 70\n",
            "Generación 17: Mejor fitness = 70\n",
            "Generación 18: Mejor fitness = 69\n",
            "Generación 19: Mejor fitness = 70\n",
            "Generación 20: Mejor fitness = 70\n",
            "Generación 21: Mejor fitness = 68\n",
            "Generación 22: Mejor fitness = 70\n",
            "Generación 23: Mejor fitness = 68\n",
            "Generación 24: Mejor fitness = 68\n",
            "Generación 25: Mejor fitness = 69\n",
            "Generación 26: Mejor fitness = 70\n",
            "Generación 27: Mejor fitness = 71\n",
            "Generación 28: Mejor fitness = 69\n",
            "Generación 29: Mejor fitness = 72\n",
            "Generación 30: Mejor fitness = 72\n",
            "Generación 31: Mejor fitness = 72\n",
            "Generación 32: Mejor fitness = 72\n",
            "Generación 33: Mejor fitness = 73\n",
            "Generación 34: Mejor fitness = 73\n",
            "Generación 35: Mejor fitness = 73\n",
            "Generación 36: Mejor fitness = 73\n",
            "Generación 37: Mejor fitness = 73\n",
            "Generación 38: Mejor fitness = 73\n",
            "Generación 39: Mejor fitness = 73\n",
            "Generación 40: Mejor fitness = 73\n",
            "Generación 41: Mejor fitness = 74\n",
            "Generación 42: Mejor fitness = 74\n",
            "Generación 43: Mejor fitness = 74\n",
            "Generación 44: Mejor fitness = 74\n",
            "Generación 45: Mejor fitness = 74\n",
            "Generación 46: Mejor fitness = 71\n",
            "Generación 47: Mejor fitness = 72\n",
            "Generación 48: Mejor fitness = 72\n",
            "Generación 49: Mejor fitness = 74\n",
            "Generación 50: Mejor fitness = 69\n",
            "Generación 51: Mejor fitness = 69\n",
            "Generación 52: Mejor fitness = 70\n",
            "Generación 53: Mejor fitness = 69\n",
            "Generación 54: Mejor fitness = 70\n",
            "Generación 55: Mejor fitness = 74\n",
            "Generación 56: Mejor fitness = 74\n",
            "Generación 57: Mejor fitness = 74\n",
            "Generación 58: Mejor fitness = 74\n",
            "Generación 59: Mejor fitness = 74\n",
            "Generación 60: Mejor fitness = 75\n",
            "Generación 61: Mejor fitness = 75\n",
            "Generación 62: Mejor fitness = 74\n",
            "Generación 63: Mejor fitness = 76\n",
            "Generación 64: Mejor fitness = 75\n",
            "Generación 65: Mejor fitness = 76\n",
            "Generación 66: Mejor fitness = 77\n",
            "Generación 67: Mejor fitness = 75\n",
            "Generación 68: Mejor fitness = 74\n",
            "Generación 69: Mejor fitness = 74\n",
            "Generación 70: Mejor fitness = 74\n",
            "Generación 71: Mejor fitness = 75\n",
            "Generación 72: Mejor fitness = 75\n",
            "Generación 73: Mejor fitness = 75\n",
            "Generación 74: Mejor fitness = 74\n",
            "Generación 75: Mejor fitness = 75\n",
            "Generación 76: Mejor fitness = 75\n",
            "Generación 77: Mejor fitness = 74\n",
            "Generación 78: Mejor fitness = 74\n",
            "Generación 79: Mejor fitness = 74\n",
            "Generación 80: Mejor fitness = 74\n",
            "Generación 81: Mejor fitness = 74\n",
            "Generación 82: Mejor fitness = 73\n",
            "Generación 83: Mejor fitness = 73\n",
            "Generación 84: Mejor fitness = 73\n",
            "Generación 85: Mejor fitness = 74\n",
            "Generación 86: Mejor fitness = 74\n",
            "Generación 87: Mejor fitness = 75\n",
            "Generación 88: Mejor fitness = 75\n",
            "Generación 89: Mejor fitness = 75\n",
            "Generación 90: Mejor fitness = 74\n",
            "Generación 91: Mejor fitness = 74\n",
            "Generación 92: Mejor fitness = 75\n",
            "Generación 93: Mejor fitness = 75\n",
            "Generación 94: Mejor fitness = 76\n",
            "Generación 95: Mejor fitness = 75\n",
            "Generación 96: Mejor fitness = 78\n",
            "Generación 97: Mejor fitness = 77\n",
            "Generación 98: Mejor fitness = 77\n",
            "Generación 99: Mejor fitness = 77\n",
            "Generación 100: Mejor fitness = 78\n",
            "\n",
            "📋 Mejor menú encontrado:\n",
            "Día 1 (Almuerzo): Pastel de papa\n",
            "Día 1 (Cena): Tallarines con estofado\n",
            "Día 2 (Almuerzo): Tarta de atún\n",
            "Día 2 (Cena): Estofado criollo\n",
            "Día 3 (Almuerzo): Pizza fugazzeta\n",
            "Día 3 (Cena): Ensalada caprese\n",
            "Día 4 (Almuerzo): Sorrentinos de jamón y queso\n",
            "Día 4 (Cena): Empanadas salteñas\n",
            "Día 5 (Almuerzo): Sopa paraguaya\n",
            "Día 5 (Cena): Tarta de choclo\n",
            "Día 6 (Almuerzo): Humita en chala\n",
            "Día 6 (Cena): Chow Mein\n",
            "Día 7 (Almuerzo): Tortilla santiagueña\n",
            "Día 7 (Cena): Carne al horno con papas\n",
            "\n",
            "⭐ Fitness total del mejor menú: 78\n"
          ]
        },
        {
          "name": "stderr",
          "output_type": "stream",
          "text": [
            "/var/folders/xx/hcklcr8s0rxd7p5fz63z342w0000gn/T/ipykernel_12793/4049670110.py:19: UserWarning: Glyph 128200 (\\N{CHART WITH UPWARDS TREND}) missing from current font.\n",
            "  plt.tight_layout()\n",
            "/Users/lolonastri/opt/anaconda3/envs/POO-env/lib/python3.11/site-packages/IPython/core/pylabtools.py:152: UserWarning: Glyph 128200 (\\N{CHART WITH UPWARDS TREND}) missing from current font.\n",
            "  fig.canvas.print_figure(bytes_io, **kw)\n"
          ]
        },
        {
          "data": {
            "image/png": "[encoded data removed]",
            "text/plain": [
              "<Figure size 1000x500 with 1 Axes>"
            ]
          },
          "metadata": {},
          "output_type": "display_data"
        }
      ],
      "source": [
        "# Ejecutamos el algoritmo\n",
        "mejor_menu, mejor_score, evolucion_fitness = algoritmo_genetico(platos, generaciones=100, tamano_poblacion=50, tasa_mutacion=0.1)\n",
        "\n",
        "# Mostramos el menú final\n",
        "print(\"\\n📋 Mejor menú encontrado:\")\n",
        "for i, plato in enumerate(mejor_menu):\n",
        "    turno = \"Almuerzo\" if i % 2 == 0 else \"Cena\"\n",
        "    print(f\"Día {i // 2 + 1} ({turno}): {plato}\")\n",
        "\n",
        "print(f\"\\n⭐ Fitness total del mejor menú: {mejor_score}\")\n",
        "\n",
        "# Graficamos la evolución del fitness\n",
        "plt.figure(figsize=(10, 5))\n",
        "plt.plot(evolucion_fitness, marker='o')\n",
        "plt.title(\"📈 Evolución del Mejor Fitness por Generación\")\n",
        "plt.xlabel(\"Generación\")\n",
        "plt.ylabel(\"Fitness\")\n",
        "plt.grid(True)\n",
        "plt.tight_layout()\n",
        "plt.show()\n"
      ]
    },
    {
      "cell_type": "markdown",
      "id": "e4193319",
      "metadata": {},
      "source": [
        "## ⚙️ Parámetros del algoritmo genético\n",
        "\n",
        "- **Tamaño de la población: 50**\n",
        "  Se eligió un valor moderado para mantener diversidad genética sin que el algoritmo sea muy costoso en términos de tiempo.\n",
        "\n",
        "- **Cantidad de generaciones: 100**\n",
        "  Permite al algoritmo converger y mejorar progresivamente el menú, sin hacerlo excesivamente largo.\n",
        "\n",
        "- **Tasa de mutación: 0.1 (10%)**\n",
        "  Se introduce variabilidad suficiente para evitar estancamiento en óptimos locales, pero sin alterar en exceso menús que ya funcionan bien.\n",
        "\n",
        "---\n",
        "\n",
        "El algoritmo evoluciona generación tras generación hasta encontrar un menú que maximiza la popularidad total, reduce el costo, y evita repeticiones tanto de platos como de tipos consecutivos. El gráfico final muestra cómo mejora el fitness a lo largo del tiempo.\n"
      ]
    }
  ],
  "metadata": {
    "colab": {
      "provenance": []
    },
    "kernelspec": {
      "display_name": "POO-env",
      "language": "python",
      "name": "python3"
    },
    "language_info": {
      "codemirror_mode": {
        "name": "ipython",
        "version": 3
      },
      "file_extension": ".py",
      "mimetype": "text/x-python",
      "name": "python",
      "nbconvert_exporter": "python",
      "pygments_lexer": "ipython3",
      "version": "3.11.5"
    }
  },
  "nbformat": 4,
  "nbformat_minor": 5
}

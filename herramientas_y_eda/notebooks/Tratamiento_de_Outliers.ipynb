{
  "nbformat": 4,
  "nbformat_minor": 0,
  "metadata": {
    "colab": {
      "provenance": []
    },
    "kernelspec": {
      "name": "python3",
      "display_name": "Python 3"
    },
    "language_info": {
      "name": "python"
    }
  },
  "cells": [
    {
      "cell_type": "code",
      "source": [
        "\n",
        "# Importing\n",
        "import sklearn\n",
        "from sklearn.datasets import load_diabetes\n",
        "import pandas as pd\n",
        "import numpy as np"
      ],
      "metadata": {
        "id": "uzmYnx2BHc_6"
      },
      "execution_count": 7,
      "outputs": []
    },
    {
      "cell_type": "code",
      "execution_count": 2,
      "metadata": {
        "id": "G_ycW75BHW82"
      },
      "outputs": [],
      "source": [
        "# Load the dataset\n",
        "diabetes = load_diabetes()\n"
      ]
    },
    {
      "cell_type": "code",
      "source": [
        "# Create the dataframe\n",
        "column_name = diabetes.feature_names\n",
        "df_diabetes = pd.DataFrame(diabetes.data)\n",
        "df_diabetes .columns = column_name\n",
        "df_diabetes .head()\n",
        "print(\"Old Shape: \", df_diabetes.shape)"
      ],
      "metadata": {
        "colab": {
          "base_uri": "https://localhost:8080/"
        },
        "id": "V-EJDeLlHlV3",
        "outputId": "a7ea606e-29cc-4e86-c8f8-518a5555349f"
      },
      "execution_count": 3,
      "outputs": [
        {
          "output_type": "stream",
          "name": "stdout",
          "text": [
            "Old Shape:  (442, 10)\n"
          ]
        }
      ]
    },
    {
      "cell_type": "code",
      "source": [
        "''' Detection '''\n",
        "# IQR\n",
        "# Calculate the upper and lower limits\n",
        "Q1 = df_diabetes['bmi'].quantile(0.25)\n",
        "Q3 = df_diabetes['bmi'].quantile(0.75)\n",
        "IQR = Q3 - Q1\n",
        "lower = Q1 - 1.5*IQR\n",
        "upper = Q3 + 1.5*IQR\n",
        "\n",
        "print (lower)\n",
        "print (upper)"
      ],
      "metadata": {
        "colab": {
          "base_uri": "https://localhost:8080/"
        },
        "id": "RClzuI4sHklN",
        "outputId": "1979e944-4181-46ea-ff13-06af22a3489d"
      },
      "execution_count": 5,
      "outputs": [
        {
          "output_type": "stream",
          "name": "stdout",
          "text": [
            "-0.13244469328909578\n",
            "0.1294636406639386\n"
          ]
        }
      ]
    },
    {
      "cell_type": "code",
      "source": [
        "import seaborn as sns\n",
        "sns.boxplot(data=df_diabetes,x=df_diabetes['bmi'])"
      ],
      "metadata": {
        "colab": {
          "base_uri": "https://localhost:8080/",
          "height": 466
        },
        "id": "OEnCk4jXIH7Q",
        "outputId": "700ab372-9d61-497e-b203-f3aa4440542c"
      },
      "execution_count": 11,
      "outputs": [
        {
          "output_type": "execute_result",
          "data": {
            "text/plain": [
              "<Axes: xlabel='bmi'>"
            ]
          },
          "metadata": {},
          "execution_count": 11
        },
        {
          "output_type": "display_data",
          "data": {
            "text/plain": [
              "<Figure size 640x480 with 1 Axes>"
            ],
            "image/png": "[encoded data removed]"
          },
          "metadata": {}
        }
      ]
    },
    {
      "cell_type": "code",
      "source": [
        "# Create arrays of Boolean values indicating the outlier rows\n",
        "upper_array = np.where(df_diabetes['bmi']>=upper)[0]\n",
        "lower_array = np.where(df_diabetes['bmi']<=lower)[0]\n",
        "print(upper_array)\n",
        "print(lower_array)\n"
      ],
      "metadata": {
        "colab": {
          "base_uri": "https://localhost:8080/"
        },
        "id": "35nx3S57Hi-h",
        "outputId": "7424cb19-a0b7-492f-b4df-de1e7a4c5f1b"
      },
      "execution_count": 9,
      "outputs": [
        {
          "output_type": "stream",
          "name": "stdout",
          "text": [
            "[256 366 367]\n",
            "[]\n"
          ]
        }
      ]
    },
    {
      "cell_type": "code",
      "source": [
        "# Removing the outliers\n",
        "df_diabetes.drop(index=upper_array, inplace=True)\n",
        "df_diabetes.drop(index=lower_array, inplace=True)"
      ],
      "metadata": {
        "id": "undwqw1ZHiN4"
      },
      "execution_count": 12,
      "outputs": []
    },
    {
      "cell_type": "code",
      "source": [
        "\n",
        "# Print the new shape of the DataFrame\n",
        "print(\"New Shape: \", df_diabetes.shape)"
      ],
      "metadata": {
        "colab": {
          "base_uri": "https://localhost:8080/"
        },
        "id": "aKU1jpYwHhd3",
        "outputId": "4507079d-2078-4e65-ce62-7c3cb25e96cc"
      },
      "execution_count": 13,
      "outputs": [
        {
          "output_type": "stream",
          "name": "stdout",
          "text": [
            "New Shape:  (439, 10)\n"
          ]
        }
      ]
    },
    {
      "cell_type": "code",
      "source": [
        "sns.boxplot(data=df_diabetes,x=df_diabetes['bmi'])"
      ],
      "metadata": {
        "colab": {
          "base_uri": "https://localhost:8080/",
          "height": 466
        },
        "id": "z6SPH_uaIW-B",
        "outputId": "5992fe9b-9f0a-4a2f-afe6-e05cf5a6fc74"
      },
      "execution_count": 14,
      "outputs": [
        {
          "output_type": "execute_result",
          "data": {
            "text/plain": [
              "<Axes: xlabel='bmi'>"
            ]
          },
          "metadata": {},
          "execution_count": 14
        },
        {
          "output_type": "display_data",
          "data": {
            "text/plain": [
              "<Figure size 640x480 with 1 Axes>"
            ],
            "image/png": "[encoded data removed]"
          },
          "metadata": {}
        }
      ]
    }
  ]
}
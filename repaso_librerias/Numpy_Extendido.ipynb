{
 "cells": [
  {
   "cell_type": "markdown",
   "metadata": {
    "id": "VBDkdKyNdpOO"
   },
   "source": [
    "Documentación completa en https://numpy.org/doc/stable/index.html"
   ]
  },
  {
   "cell_type": "code",
   "execution_count": null,
   "metadata": {
    "id": "Uh1DwotNduvI"
   },
   "outputs": [],
   "source": [
    "import pandas as pd\n",
    "import numpy as np"
   ]
  },
  {
   "cell_type": "code",
   "execution_count": null,
   "metadata": {
    "id": "00_Fnqk2k_Ap"
   },
   "outputs": [],
   "source": [
    "url = (\n",
    "    \"https://raw.githubusercontent.com/JoaquinAmatRodrigo/Estadistica-machine-learning-python/\"\n",
    "    \"master/data/SaratogaHouses.csv\"\n",
    ")\n",
    "datos = pd.read_csv(url, sep=\",\")"
   ]
  },
  {
   "cell_type": "code",
   "execution_count": null,
   "metadata": {
    "id": "KhN-aGhnlK5j"
   },
   "outputs": [],
   "source": [
    "# Se renombran las columnas para que sean más descriptivas\n",
    "datos.columns = [\"precio\", \"metros_totales\", \"antiguedad\", \"precio_terreno\", \"metros_habitables\",\n",
    "                 \"universitarios\", \"dormitorios\", \"chimenea\", \"banyos\", \"habitaciones\",\n",
    "                 \"calefaccion\",\"consumo_calefacion\", \"desague\", \"vistas_lago\", \"nueva_construccion\",\n",
    "                 \"aire_acondicionado\"]"
   ]
  },
  {
   "cell_type": "code",
   "execution_count": null,
   "metadata": {
    "colab": {
     "base_uri": "https://localhost:8080/",
     "height": 230
    },
    "executionInfo": {
     "elapsed": 790,
     "status": "ok",
     "timestamp": 1710816912695,
     "user": {
      "displayName": "Tomás Rubinstein",
      "userId": "12616130468164955397"
     },
     "user_tz": 180
    },
    "id": "Nq567Xn2lNhU",
    "outputId": "00e2b4fe-38ed-4101-aa52-47a33ab95463"
   },
   "outputs": [
    {
     "data": {
      "application/vnd.google.colaboratory.intrinsic+json": {
       "summary": "{\n  \"name\": \"datos\",\n  \"rows\": 1728,\n  \"fields\": [\n    {\n      \"column\": \"precio\",\n      \"properties\": {\n        \"dtype\": \"number\",\n        \"std\": 98441,\n        \"min\": 5000,\n        \"max\": 775000,\n        \"num_unique_values\": 751,\n        \"samples\": [\n          500000,\n          286000,\n          164400\n        ],\n        \"semantic_type\": \"\",\n        \"description\": \"\"\n      }\n    },\n    {\n      \"column\": \"metros_totales\",\n      \"properties\": {\n        \"dtype\": \"number\",\n        \"std\": 0.6986798788561125,\n        \"min\": 0.0,\n        \"max\": 12.2,\n        \"num_unique_values\": 170,\n        \"samples\": [\n          2.68,\n          1.8,\n          3.68\n        ],\n        \"semantic_type\": \"\",\n        \"description\": \"\"\n      }\n    },\n    {\n      \"column\": \"antiguedad\",\n      \"properties\": {\n        \"dtype\": \"number\",\n        \"std\": 29,\n        \"min\": 0,\n        \"max\": 225,\n        \"num_unique_values\": 136,\n        \"samples\": [\n          61,\n          125,\n          178\n        ],\n        \"semantic_type\": \"\",\n        \"description\": \"\"\n      }\n    },\n    {\n      \"column\": \"precio_terreno\",\n      \"properties\": {\n        \"dtype\": \"number\",\n        \"std\": 35021,\n        \"min\": 200,\n        \"max\": 412600,\n        \"num_unique_values\": 573,\n        \"samples\": [\n          24700,\n          4000,\n          45800\n        ],\n        \"semantic_type\": \"\",\n        \"description\": \"\"\n      }\n    },\n    {\n      \"column\": \"metros_habitables\",\n      \"properties\": {\n        \"dtype\": \"number\",\n        \"std\": 619,\n        \"min\": 616,\n        \"max\": 5228,\n        \"num_unique_values\": 877,\n        \"samples\": [\n          1093,\n          1528,\n          2088\n        ],\n        \"semantic_type\": \"\",\n        \"description\": \"\"\n      }\n    },\n    {\n      \"column\": \"universitarios\",\n      \"properties\": {\n        \"dtype\": \"number\",\n        \"std\": 10,\n        \"min\": 20,\n        \"max\": 82,\n        \"num_unique_values\": 32,\n        \"samples\": [\n          28,\n          30,\n          21\n        ],\n        \"semantic_type\": \"\",\n        \"description\": \"\"\n      }\n    },\n    {\n      \"column\": \"dormitorios\",\n      \"properties\": {\n        \"dtype\": \"number\",\n        \"std\": 0,\n        \"min\": 1,\n        \"max\": 7,\n        \"num_unique_values\": 7,\n        \"samples\": [\n          2,\n          3,\n          6\n        ],\n        \"semantic_type\": \"\",\n        \"description\": \"\"\n      }\n    },\n    {\n      \"column\": \"chimenea\",\n      \"properties\": {\n        \"dtype\": \"number\",\n        \"std\": 0,\n        \"min\": 0,\n        \"max\": 4,\n        \"num_unique_values\": 5,\n        \"samples\": [\n          0,\n          3,\n          2\n        ],\n        \"semantic_type\": \"\",\n        \"description\": \"\"\n      }\n    },\n    {\n      \"column\": \"banyos\",\n      \"properties\": {\n        \"dtype\": \"number\",\n        \"std\": 0.6583523976653212,\n        \"min\": 0.0,\n        \"max\": 4.5,\n        \"num_unique_values\": 9,\n        \"samples\": [\n          4.5,\n          2.5,\n          4.0\n        ],\n        \"semantic_type\": \"\",\n        \"description\": \"\"\n      }\n    },\n    {\n      \"column\": \"habitaciones\",\n      \"properties\": {\n        \"dtype\": \"number\",\n        \"std\": 2,\n        \"min\": 2,\n        \"max\": 12,\n        \"num_unique_values\": 11,\n        \"samples\": [\n          12,\n          5,\n          11\n        ],\n        \"semantic_type\": \"\",\n        \"description\": \"\"\n      }\n    },\n    {\n      \"column\": \"calefaccion\",\n      \"properties\": {\n        \"dtype\": \"category\",\n        \"num_unique_values\": 3,\n        \"samples\": [\n          \"electric\",\n          \"hot water/steam\",\n          \"hot air\"\n        ],\n        \"semantic_type\": \"\",\n        \"description\": \"\"\n      }\n    },\n    {\n      \"column\": \"consumo_calefacion\",\n      \"properties\": {\n        \"dtype\": \"category\",\n        \"num_unique_values\": 3,\n        \"samples\": [\n          \"electric\",\n          \"gas\",\n          \"oil\"\n        ],\n        \"semantic_type\": \"\",\n        \"description\": \"\"\n      }\n    },\n    {\n      \"column\": \"desague\",\n      \"properties\": {\n        \"dtype\": \"category\",\n        \"num_unique_values\": 3,\n        \"samples\": [\n          \"septic\",\n          \"public/commercial\",\n          \"none\"\n        ],\n        \"semantic_type\": \"\",\n        \"description\": \"\"\n      }\n    },\n    {\n      \"column\": \"vistas_lago\",\n      \"properties\": {\n        \"dtype\": \"category\",\n        \"num_unique_values\": 2,\n        \"samples\": [\n          \"Yes\",\n          \"No\"\n        ],\n        \"semantic_type\": \"\",\n        \"description\": \"\"\n      }\n    },\n    {\n      \"column\": \"nueva_construccion\",\n      \"properties\": {\n        \"dtype\": \"category\",\n        \"num_unique_values\": 2,\n        \"samples\": [\n          \"Yes\",\n          \"No\"\n        ],\n        \"semantic_type\": \"\",\n        \"description\": \"\"\n      }\n    },\n    {\n      \"column\": \"aire_acondicionado\",\n      \"properties\": {\n        \"dtype\": \"category\",\n        \"num_unique_values\": 2,\n        \"samples\": [\n          \"Yes\",\n          \"No\"\n        ],\n        \"semantic_type\": \"\",\n        \"description\": \"\"\n      }\n    }\n  ]\n}",
       "type": "dataframe",
       "variable_name": "datos"
      },
      "text/html": [
       "\n",
       "  <div id=\"df-0d30c585-5c84-4c75-b54e-888b088b1b27\" class=\"colab-df-container\">\n",
       "    <div>\n",
       "<style scoped>\n",
       "    .dataframe tbody tr th:only-of-type {\n",
       "        vertical-align: middle;\n",
       "    }\n",
       "\n",
       "    .dataframe tbody tr th {\n",
       "        vertical-align: top;\n",
       "    }\n",
       "\n",
       "    .dataframe thead th {\n",
       "        text-align: right;\n",
       "    }\n",
       "</style>\n",
       "<table border=\"1\" class=\"dataframe\">\n",
       "  <thead>\n",
       "    <tr style=\"text-align: right;\">\n",
       "      <th></th>\n",
       "      <th>precio</th>\n",
       "      <th>metros_totales</th>\n",
       "      <th>antiguedad</th>\n",
       "      <th>precio_terreno</th>\n",
       "      <th>metros_habitables</th>\n",
       "      <th>universitarios</th>\n",
       "      <th>dormitorios</th>\n",
       "      <th>chimenea</th>\n",
       "      <th>banyos</th>\n",
       "      <th>habitaciones</th>\n",
       "      <th>calefaccion</th>\n",
       "      <th>consumo_calefacion</th>\n",
       "      <th>desague</th>\n",
       "      <th>vistas_lago</th>\n",
       "      <th>nueva_construccion</th>\n",
       "      <th>aire_acondicionado</th>\n",
       "    </tr>\n",
       "  </thead>\n",
       "  <tbody>\n",
       "    <tr>\n",
       "      <th>0</th>\n",
       "      <td>132500</td>\n",
       "      <td>0.09</td>\n",
       "      <td>42</td>\n",
       "      <td>50000</td>\n",
       "      <td>906</td>\n",
       "      <td>35</td>\n",
       "      <td>2</td>\n",
       "      <td>1</td>\n",
       "      <td>1.0</td>\n",
       "      <td>5</td>\n",
       "      <td>electric</td>\n",
       "      <td>electric</td>\n",
       "      <td>septic</td>\n",
       "      <td>No</td>\n",
       "      <td>No</td>\n",
       "      <td>No</td>\n",
       "    </tr>\n",
       "    <tr>\n",
       "      <th>1</th>\n",
       "      <td>181115</td>\n",
       "      <td>0.92</td>\n",
       "      <td>0</td>\n",
       "      <td>22300</td>\n",
       "      <td>1953</td>\n",
       "      <td>51</td>\n",
       "      <td>3</td>\n",
       "      <td>0</td>\n",
       "      <td>2.5</td>\n",
       "      <td>6</td>\n",
       "      <td>hot water/steam</td>\n",
       "      <td>gas</td>\n",
       "      <td>septic</td>\n",
       "      <td>No</td>\n",
       "      <td>No</td>\n",
       "      <td>No</td>\n",
       "    </tr>\n",
       "    <tr>\n",
       "      <th>2</th>\n",
       "      <td>109000</td>\n",
       "      <td>0.19</td>\n",
       "      <td>133</td>\n",
       "      <td>7300</td>\n",
       "      <td>1944</td>\n",
       "      <td>51</td>\n",
       "      <td>4</td>\n",
       "      <td>1</td>\n",
       "      <td>1.0</td>\n",
       "      <td>8</td>\n",
       "      <td>hot water/steam</td>\n",
       "      <td>gas</td>\n",
       "      <td>public/commercial</td>\n",
       "      <td>No</td>\n",
       "      <td>No</td>\n",
       "      <td>No</td>\n",
       "    </tr>\n",
       "    <tr>\n",
       "      <th>3</th>\n",
       "      <td>155000</td>\n",
       "      <td>0.41</td>\n",
       "      <td>13</td>\n",
       "      <td>18700</td>\n",
       "      <td>1944</td>\n",
       "      <td>51</td>\n",
       "      <td>3</td>\n",
       "      <td>1</td>\n",
       "      <td>1.5</td>\n",
       "      <td>5</td>\n",
       "      <td>hot air</td>\n",
       "      <td>gas</td>\n",
       "      <td>septic</td>\n",
       "      <td>No</td>\n",
       "      <td>No</td>\n",
       "      <td>No</td>\n",
       "    </tr>\n",
       "  </tbody>\n",
       "</table>\n",
       "</div>\n",
       "    <div class=\"colab-df-buttons\">\n",
       "\n",
       "  <div class=\"colab-df-container\">\n",
       "    <button class=\"colab-df-convert\" onclick=\"convertToInteractive('df-0d30c585-5c84-4c75-b54e-888b088b1b27')\"\n",
       "            title=\"Convert this dataframe to an interactive table.\"\n",
       "            style=\"display:none;\">\n",
       "\n",
       "  <svg xmlns=\"http://www.w3.org/2000/svg\" height=\"24px\" viewBox=\"0 -960 960 960\">\n",
       "    <path d=\"M120-120v-720h720v720H120Zm60-500h600v-160H180v160Zm220 220h160v-160H400v160Zm0 220h160v-160H400v160ZM180-400h160v-160H180v160Zm440 0h160v-160H620v160ZM180-180h160v-160H180v160Zm440 0h160v-160H620v160Z\"/>\n",
       "  </svg>\n",
       "    </button>\n",
       "\n",
       "  <style>\n",
       "    .colab-df-container {\n",
       "      display:flex;\n",
       "      gap: 12px;\n",
       "    }\n",
       "\n",
       "    .colab-df-convert {\n",
       "      background-color: #E8F0FE;\n",
       "      border: none;\n",
       "      border-radius: 50%;\n",
       "      cursor: pointer;\n",
       "      display: none;\n",
       "      fill: #1967D2;\n",
       "      height: 32px;\n",
       "      padding: 0 0 0 0;\n",
       "      width: 32px;\n",
       "    }\n",
       "\n",
       "    .colab-df-convert:hover {\n",
       "      background-color: #E2EBFA;\n",
       "      box-shadow: 0px 1px 2px rgba(60, 64, 67, 0.3), 0px 1px 3px 1px rgba(60, 64, 67, 0.15);\n",
       "      fill: #174EA6;\n",
       "    }\n",
       "\n",
       "    .colab-df-buttons div {\n",
       "      margin-bottom: 4px;\n",
       "    }\n",
       "\n",
       "    [theme=dark] .colab-df-convert {\n",
       "      background-color: #3B4455;\n",
       "      fill: #D2E3FC;\n",
       "    }\n",
       "\n",
       "    [theme=dark] .colab-df-convert:hover {\n",
       "      background-color: #434B5C;\n",
       "      box-shadow: 0px 1px 3px 1px rgba(0, 0, 0, 0.15);\n",
       "      filter: drop-shadow(0px 1px 2px rgba(0, 0, 0, 0.3));\n",
       "      fill: #FFFFFF;\n",
       "    }\n",
       "  </style>\n",
       "\n",
       "    <script>\n",
       "      const buttonEl =\n",
       "        document.querySelector('#df-0d30c585-5c84-4c75-b54e-888b088b1b27 button.colab-df-convert');\n",
       "      buttonEl.style.display =\n",
       "        google.colab.kernel.accessAllowed ? 'block' : 'none';\n",
       "\n",
       "      async function convertToInteractive(key) {\n",
       "        const element = document.querySelector('#df-0d30c585-5c84-4c75-b54e-888b088b1b27');\n",
       "        const dataTable =\n",
       "          await google.colab.kernel.invokeFunction('convertToInteractive',\n",
       "                                                    [key], {});\n",
       "        if (!dataTable) return;\n",
       "\n",
       "        const docLinkHtml = 'Like what you see? Visit the ' +\n",
       "          '<a target=\"_blank\" href=https://colab.research.google.com/notebooks/data_table.ipynb>data table notebook</a>'\n",
       "          + ' to learn more about interactive tables.';\n",
       "        element.innerHTML = '';\n",
       "        dataTable['output_type'] = 'display_data';\n",
       "        await google.colab.output.renderOutput(dataTable, element);\n",
       "        const docLink = document.createElement('div');\n",
       "        docLink.innerHTML = docLinkHtml;\n",
       "        element.appendChild(docLink);\n",
       "      }\n",
       "    </script>\n",
       "  </div>\n",
       "\n",
       "\n",
       "<div id=\"df-60e15a6d-d8f8-4e8e-bf96-8673464ee087\">\n",
       "  <button class=\"colab-df-quickchart\" onclick=\"quickchart('df-60e15a6d-d8f8-4e8e-bf96-8673464ee087')\"\n",
       "            title=\"Suggest charts\"\n",
       "            style=\"display:none;\">\n",
       "\n",
       "<svg xmlns=\"http://www.w3.org/2000/svg\" height=\"24px\"viewBox=\"0 0 24 24\"\n",
       "     width=\"24px\">\n",
       "    <g>\n",
       "        <path d=\"M19 3H5c-1.1 0-2 .9-2 2v14c0 1.1.9 2 2 2h14c1.1 0 2-.9 2-2V5c0-1.1-.9-2-2-2zM9 17H7v-7h2v7zm4 0h-2V7h2v10zm4 0h-2v-4h2v4z\"/>\n",
       "    </g>\n",
       "</svg>\n",
       "  </button>\n",
       "\n",
       "<style>\n",
       "  .colab-df-quickchart {\n",
       "      --bg-color: #E8F0FE;\n",
       "      --fill-color: #1967D2;\n",
       "      --hover-bg-color: #E2EBFA;\n",
       "      --hover-fill-color: #174EA6;\n",
       "      --disabled-fill-color: #AAA;\n",
       "      --disabled-bg-color: #DDD;\n",
       "  }\n",
       "\n",
       "  [theme=dark] .colab-df-quickchart {\n",
       "      --bg-color: #3B4455;\n",
       "      --fill-color: #D2E3FC;\n",
       "      --hover-bg-color: #434B5C;\n",
       "      --hover-fill-color: #FFFFFF;\n",
       "      --disabled-bg-color: #3B4455;\n",
       "      --disabled-fill-color: #666;\n",
       "  }\n",
       "\n",
       "  .colab-df-quickchart {\n",
       "    background-color: var(--bg-color);\n",
       "    border: none;\n",
       "    border-radius: 50%;\n",
       "    cursor: pointer;\n",
       "    display: none;\n",
       "    fill: var(--fill-color);\n",
       "    height: 32px;\n",
       "    padding: 0;\n",
       "    width: 32px;\n",
       "  }\n",
       "\n",
       "  .colab-df-quickchart:hover {\n",
       "    background-color: var(--hover-bg-color);\n",
       "    box-shadow: 0 1px 2px rgba(60, 64, 67, 0.3), 0 1px 3px 1px rgba(60, 64, 67, 0.15);\n",
       "    fill: var(--button-hover-fill-color);\n",
       "  }\n",
       "\n",
       "  .colab-df-quickchart-complete:disabled,\n",
       "  .colab-df-quickchart-complete:disabled:hover {\n",
       "    background-color: var(--disabled-bg-color);\n",
       "    fill: var(--disabled-fill-color);\n",
       "    box-shadow: none;\n",
       "  }\n",
       "\n",
       "  .colab-df-spinner {\n",
       "    border: 2px solid var(--fill-color);\n",
       "    border-color: transparent;\n",
       "    border-bottom-color: var(--fill-color);\n",
       "    animation:\n",
       "      spin 1s steps(1) infinite;\n",
       "  }\n",
       "\n",
       "  @keyframes spin {\n",
       "    0% {\n",
       "      border-color: transparent;\n",
       "      border-bottom-color: var(--fill-color);\n",
       "      border-left-color: var(--fill-color);\n",
       "    }\n",
       "    20% {\n",
       "      border-color: transparent;\n",
       "      border-left-color: var(--fill-color);\n",
       "      border-top-color: var(--fill-color);\n",
       "    }\n",
       "    30% {\n",
       "      border-color: transparent;\n",
       "      border-left-color: var(--fill-color);\n",
       "      border-top-color: var(--fill-color);\n",
       "      border-right-color: var(--fill-color);\n",
       "    }\n",
       "    40% {\n",
       "      border-color: transparent;\n",
       "      border-right-color: var(--fill-color);\n",
       "      border-top-color: var(--fill-color);\n",
       "    }\n",
       "    60% {\n",
       "      border-color: transparent;\n",
       "      border-right-color: var(--fill-color);\n",
       "    }\n",
       "    80% {\n",
       "      border-color: transparent;\n",
       "      border-right-color: var(--fill-color);\n",
       "      border-bottom-color: var(--fill-color);\n",
       "    }\n",
       "    90% {\n",
       "      border-color: transparent;\n",
       "      border-bottom-color: var(--fill-color);\n",
       "    }\n",
       "  }\n",
       "</style>\n",
       "\n",
       "  <script>\n",
       "    async function quickchart(key) {\n",
       "      const quickchartButtonEl =\n",
       "        document.querySelector('#' + key + ' button');\n",
       "      quickchartButtonEl.disabled = true;  // To prevent multiple clicks.\n",
       "      quickchartButtonEl.classList.add('colab-df-spinner');\n",
       "      try {\n",
       "        const charts = await google.colab.kernel.invokeFunction(\n",
       "            'suggestCharts', [key], {});\n",
       "      } catch (error) {\n",
       "        console.error('Error during call to suggestCharts:', error);\n",
       "      }\n",
       "      quickchartButtonEl.classList.remove('colab-df-spinner');\n",
       "      quickchartButtonEl.classList.add('colab-df-quickchart-complete');\n",
       "    }\n",
       "    (() => {\n",
       "      let quickchartButtonEl =\n",
       "        document.querySelector('#df-60e15a6d-d8f8-4e8e-bf96-8673464ee087 button');\n",
       "      quickchartButtonEl.style.display =\n",
       "        google.colab.kernel.accessAllowed ? 'block' : 'none';\n",
       "    })();\n",
       "  </script>\n",
       "</div>\n",
       "\n",
       "    </div>\n",
       "  </div>\n"
      ],
      "text/plain": [
       "   precio  metros_totales  antiguedad  precio_terreno  metros_habitables  \\\n",
       "0  132500            0.09          42           50000                906   \n",
       "1  181115            0.92           0           22300               1953   \n",
       "2  109000            0.19         133            7300               1944   \n",
       "3  155000            0.41          13           18700               1944   \n",
       "\n",
       "   universitarios  dormitorios  chimenea  banyos  habitaciones  \\\n",
       "0              35            2         1     1.0             5   \n",
       "1              51            3         0     2.5             6   \n",
       "2              51            4         1     1.0             8   \n",
       "3              51            3         1     1.5             5   \n",
       "\n",
       "       calefaccion consumo_calefacion            desague vistas_lago  \\\n",
       "0         electric           electric             septic          No   \n",
       "1  hot water/steam                gas             septic          No   \n",
       "2  hot water/steam                gas  public/commercial          No   \n",
       "3          hot air                gas             septic          No   \n",
       "\n",
       "  nueva_construccion aire_acondicionado  \n",
       "0                 No                 No  \n",
       "1                 No                 No  \n",
       "2                 No                 No  \n",
       "3                 No                 No  "
      ]
     },
     "execution_count": 4,
     "metadata": {},
     "output_type": "execute_result"
    }
   ],
   "source": [
    "datos.head(4)"
   ]
  },
  {
   "cell_type": "code",
   "execution_count": null,
   "metadata": {
    "colab": {
     "base_uri": "https://localhost:8080/"
    },
    "executionInfo": {
     "elapsed": 467,
     "status": "ok",
     "timestamp": 1710816915191,
     "user": {
      "displayName": "Tomás Rubinstein",
      "userId": "12616130468164955397"
     },
     "user_tz": 180
    },
    "id": "fuYiUUbaRvo6",
    "outputId": "8461852d-91da-4cf8-a587-2a431c5c641f"
   },
   "outputs": [
    {
     "data": {
      "text/plain": [
       "array([1, 2, 3, 4, 5, 6])"
      ]
     },
     "execution_count": 5,
     "metadata": {},
     "output_type": "execute_result"
    }
   ],
   "source": [
    "# Crear matrices unidimensionales\n",
    "import numpy as np\n",
    "miArrayUnidimensional = np.array([1,2,3,4,5,6])\n",
    "miArrayUnidimensional"
   ]
  },
  {
   "cell_type": "code",
   "execution_count": null,
   "metadata": {
    "colab": {
     "base_uri": "https://localhost:8080/"
    },
    "executionInfo": {
     "elapsed": 272,
     "status": "ok",
     "timestamp": 1710816917699,
     "user": {
      "displayName": "Tomás Rubinstein",
      "userId": "12616130468164955397"
     },
     "user_tz": 180
    },
    "id": "EzYaYKCCShRf",
    "outputId": "4fe43c20-9539-4673-ccc8-25587dbb3e51"
   },
   "outputs": [
    {
     "data": {
      "text/plain": [
       "array([['A', 'B', 'C'],\n",
       "       ['D', 'E', 'F']], dtype='<U1')"
      ]
     },
     "execution_count": 6,
     "metadata": {},
     "output_type": "execute_result"
    }
   ],
   "source": [
    "# Crear matrices bidimensionales\n",
    "\n",
    "miArrayBidimensional = np.array([['A','B','C'],['D','E','F']])\n",
    "miArrayBidimensional"
   ]
  },
  {
   "cell_type": "code",
   "execution_count": null,
   "metadata": {
    "colab": {
     "base_uri": "https://localhost:8080/"
    },
    "executionInfo": {
     "elapsed": 1,
     "status": "ok",
     "timestamp": 1710816919157,
     "user": {
      "displayName": "Tomás Rubinstein",
      "userId": "12616130468164955397"
     },
     "user_tz": 180
    },
    "id": "oQcfqHouZl5w",
    "outputId": "89c4e953-22c2-447b-e8a6-8cd9dd2fe74c"
   },
   "outputs": [
    {
     "data": {
      "text/plain": [
       "array([[0, 1],\n",
       "       [5, 6],\n",
       "       [8, 9]])"
      ]
     },
     "execution_count": 7,
     "metadata": {},
     "output_type": "execute_result"
    }
   ],
   "source": [
    "# Crear matrices n-dimensionales\n",
    "\n",
    "miArrayNdimensional = np.array([[0,1],[5,6],[8,9]])\n",
    "miArrayNdimensional"
   ]
  },
  {
   "cell_type": "code",
   "execution_count": null,
   "metadata": {
    "colab": {
     "base_uri": "https://localhost:8080/"
    },
    "executionInfo": {
     "elapsed": 449,
     "status": "ok",
     "timestamp": 1710816920760,
     "user": {
      "displayName": "Tomás Rubinstein",
      "userId": "12616130468164955397"
     },
     "user_tz": 180
    },
    "id": "kLo15NHgTUhF",
    "outputId": "9588bb1f-ff9a-46b6-903e-65d84af03259"
   },
   "outputs": [
    {
     "name": "stdout",
     "output_type": "stream",
     "text": [
      "Uso de memoria utilizado una lista: 28000\n",
      "Uso de memoria utilizado numPy: 8000\n"
     ]
    }
   ],
   "source": [
    "# ¿Por qué usar NumPy en vez de las listas de Python?\n",
    "\n",
    "### Uso de Memoria\n",
    "import sys\n",
    "numerosLista = range(1000)\n",
    "print('Uso de memoria utilizado una lista:', sys.getsizeof(numerosLista[1]) * len (numerosLista))\n",
    "numerosNumPy = np.arange(1000)\n",
    "print('Uso de memoria utilizado numPy:', numerosNumPy.itemsize * numerosNumPy.size)"
   ]
  },
  {
   "cell_type": "code",
   "execution_count": null,
   "metadata": {
    "colab": {
     "base_uri": "https://localhost:8080/"
    },
    "executionInfo": {
     "elapsed": 390,
     "status": "ok",
     "timestamp": 1710816922242,
     "user": {
      "displayName": "Tomás Rubinstein",
      "userId": "12616130468164955397"
     },
     "user_tz": 180
    },
    "id": "VQw09Q8_YN3F",
    "outputId": "13461736-be74-441f-8506-bf00c82e9d0b"
   },
   "outputs": [
    {
     "name": "stdout",
     "output_type": "stream",
     "text": [
      "Primeros valores lista 0 2 4 6\n",
      "Primeros valores numPy 0 2 4 6\n"
     ]
    }
   ],
   "source": [
    "### Simplicidad de Operaciones\n",
    "tamanioLista = 1000000\n",
    "lista1 = range(tamanioLista)\n",
    "lista2 = range(tamanioLista)\n",
    "numpy1 = np.arange(tamanioLista)\n",
    "numpy2 = np.arange(tamanioLista)\n",
    "suma1 = [x + y for x, y in zip(lista1, lista2)]\n",
    "suma2 = numpy1 + numpy2\n",
    "print('Primeros valores lista', suma1[0], suma1[1], suma1[2], suma1[3])\n",
    "print('Primeros valores numPy', suma2[0], suma2[1], suma2[2], suma2[3])"
   ]
  },
  {
   "cell_type": "code",
   "execution_count": null,
   "metadata": {
    "colab": {
     "base_uri": "https://localhost:8080/"
    },
    "executionInfo": {
     "elapsed": 438,
     "status": "ok",
     "timestamp": 1710816923942,
     "user": {
      "displayName": "Tomás Rubinstein",
      "userId": "12616130468164955397"
     },
     "user_tz": 180
    },
    "id": "0-adCmf4X3zG",
    "outputId": "5f4efca9-8c29-46c0-d09d-9247ff3f5e96"
   },
   "outputs": [
    {
     "name": "stdout",
     "output_type": "stream",
     "text": [
      "Tiempo utilizando listas 207.00359344482422 seg.\n",
      "Tiempo utilizando numPy 6.560325622558594 seg.\n"
     ]
    }
   ],
   "source": [
    "### Velocidad\n",
    "import time\n",
    "tamanioLista = 1000000\n",
    "lista1 = range(tamanioLista)\n",
    "lista2 = range(tamanioLista)\n",
    "numpy1 = np.arange(tamanioLista)\n",
    "numpy2 = np.arange(tamanioLista)\n",
    "inicio1 = time.time()\n",
    "suma1 = [x + y for x, y in zip(lista1, lista2)]\n",
    "final1 = time.time()\n",
    "inicio2 = time.time()\n",
    "suma2 = numpy1 + numpy2\n",
    "final2 = time.time()\n",
    "print('Tiempo utilizando listas', (final1 - inicio1) * 1000, 'seg.')\n",
    "print('Tiempo utilizando numPy', (final2 - inicio2) * 1000, 'seg.')"
   ]
  },
  {
   "cell_type": "code",
   "execution_count": null,
   "metadata": {
    "colab": {
     "base_uri": "https://localhost:8080/"
    },
    "executionInfo": {
     "elapsed": 2,
     "status": "ok",
     "timestamp": 1710816924618,
     "user": {
      "displayName": "Tomás Rubinstein",
      "userId": "12616130468164955397"
     },
     "user_tz": 180
    },
    "id": "Uy2Nq6zoZMnv",
    "outputId": "583bdfaf-8a07-48b5-d3dc-a1a02ce72f8d"
   },
   "outputs": [
    {
     "data": {
      "text/plain": [
       "array([[0., 1.],\n",
       "       [5., 6.],\n",
       "       [8., 9.]])"
      ]
     },
     "execution_count": 11,
     "metadata": {},
     "output_type": "execute_result"
    }
   ],
   "source": [
    "# Especificar el tipo de dato\n",
    "n = np.array([[0,1],[5,6],[8,9]], dtype = np.float64)\n",
    "n"
   ]
  },
  {
   "cell_type": "markdown",
   "metadata": {
    "id": "g5yQb3P3XQGK"
   },
   "source": [
    "####Creación y Operaciones con Matrices"
   ]
  },
  {
   "cell_type": "code",
   "execution_count": null,
   "metadata": {
    "colab": {
     "base_uri": "https://localhost:8080/"
    },
    "executionInfo": {
     "elapsed": 2,
     "status": "ok",
     "timestamp": 1710816925907,
     "user": {
      "displayName": "Tomás Rubinstein",
      "userId": "12616130468164955397"
     },
     "user_tz": 180
    },
    "id": "kB1iMkEnaX7n",
    "outputId": "c6799ab0-92d5-4e46-9779-d6d780b162b9"
   },
   "outputs": [
    {
     "name": "stdout",
     "output_type": "stream",
     "text": [
      "Unidimensional [1. 1. 1. 1. 1.]\n",
      "N-dimensional [[1. 1. 1.]\n",
      " [1. 1. 1.]]\n"
     ]
    }
   ],
   "source": [
    "# Crear matrices inicializadas\n",
    "\n",
    "### Con 1\n",
    "unos = np.ones(5)\n",
    "print('Unidimensional', unos)\n",
    "unos = np.ones((2,3))\n",
    "print('N-dimensional', unos)"
   ]
  },
  {
   "cell_type": "code",
   "execution_count": null,
   "metadata": {
    "colab": {
     "base_uri": "https://localhost:8080/"
    },
    "executionInfo": {
     "elapsed": 2,
     "status": "ok",
     "timestamp": 1710816926620,
     "user": {
      "displayName": "Tomás Rubinstein",
      "userId": "12616130468164955397"
     },
     "user_tz": 180
    },
    "id": "SJPgWgA8a0_l",
    "outputId": "77cb5acc-38ab-4951-b5cb-01a18af6d0ac"
   },
   "outputs": [
    {
     "data": {
      "text/plain": [
       "array([[0., 0., 0.],\n",
       "       [0., 0., 0.]])"
      ]
     },
     "execution_count": 13,
     "metadata": {},
     "output_type": "execute_result"
    }
   ],
   "source": [
    "### Con 0\n",
    "ceros = np.zeros((2,3))\n",
    "ceros"
   ]
  },
  {
   "cell_type": "code",
   "execution_count": null,
   "metadata": {
    "colab": {
     "base_uri": "https://localhost:8080/"
    },
    "executionInfo": {
     "elapsed": 3,
     "status": "ok",
     "timestamp": 1710816927846,
     "user": {
      "displayName": "Tomás Rubinstein",
      "userId": "12616130468164955397"
     },
     "user_tz": 180
    },
    "id": "y0siulZacKoV",
    "outputId": "d7eee9a4-25a8-4bdb-d12f-5242d94aa390"
   },
   "outputs": [
    {
     "data": {
      "text/plain": [
       "array([[0.70893312, 0.19627933, 0.01748125],\n",
       "       [0.24696932, 0.20607059, 0.26438581]])"
      ]
     },
     "execution_count": 14,
     "metadata": {},
     "output_type": "execute_result"
    }
   ],
   "source": [
    "### Con números random\n",
    "random = np.random.random((2,3))\n",
    "random"
   ]
  },
  {
   "cell_type": "code",
   "execution_count": null,
   "metadata": {
    "colab": {
     "base_uri": "https://localhost:8080/"
    },
    "executionInfo": {
     "elapsed": 3,
     "status": "ok",
     "timestamp": 1710816928665,
     "user": {
      "displayName": "Tomás Rubinstein",
      "userId": "12616130468164955397"
     },
     "user_tz": 180
    },
    "id": "-u1Fao7XqOoL",
    "outputId": "5dea02a8-bae9-44ae-f86c-dc9fb54648b3"
   },
   "outputs": [
    {
     "data": {
      "text/plain": [
       "array([[1, 5, 6],\n",
       "       [9, 3, 8]])"
      ]
     },
     "execution_count": 15,
     "metadata": {},
     "output_type": "execute_result"
    }
   ],
   "source": [
    "### Con números random enteros desde/hasta\n",
    "random = np.random.randint(1,10,size=(2,3))\n",
    "random"
   ]
  },
  {
   "cell_type": "code",
   "execution_count": null,
   "metadata": {
    "colab": {
     "base_uri": "https://localhost:8080/"
    },
    "executionInfo": {
     "elapsed": 2,
     "status": "ok",
     "timestamp": 1710816929831,
     "user": {
      "displayName": "Tomás Rubinstein",
      "userId": "12616130468164955397"
     },
     "user_tz": 180
    },
    "id": "7Ata6rcCcwIP",
    "outputId": "7aeca237-847c-48a1-d5fc-c66026b62da4"
   },
   "outputs": [
    {
     "data": {
      "text/plain": [
       "array([[23, 23, 23],\n",
       "       [23, 23, 23]])"
      ]
     },
     "execution_count": 16,
     "metadata": {},
     "output_type": "execute_result"
    }
   ],
   "source": [
    "### Con un determinado valor\n",
    "valor = np.full((2,3),23)\n",
    "valor"
   ]
  },
  {
   "cell_type": "code",
   "execution_count": null,
   "metadata": {
    "colab": {
     "base_uri": "https://localhost:8080/"
    },
    "executionInfo": {
     "elapsed": 3,
     "status": "ok",
     "timestamp": 1710816930799,
     "user": {
      "displayName": "Tomás Rubinstein",
      "userId": "12616130468164955397"
     },
     "user_tz": 180
    },
    "id": "VKSUOksSeig4",
    "outputId": "03e235fb-0819-4717-f661-08c8b2566e70"
   },
   "outputs": [
    {
     "data": {
      "text/plain": [
       "array([ 0, 10, 20, 30, 40])"
      ]
     },
     "execution_count": 17,
     "metadata": {},
     "output_type": "execute_result"
    }
   ],
   "source": [
    "### Con valores espaciados uniformemente\n",
    "espaciados = np.arange(0,50,10)\n",
    "espaciados\n"
   ]
  },
  {
   "cell_type": "code",
   "execution_count": null,
   "metadata": {
    "colab": {
     "base_uri": "https://localhost:8080/"
    },
    "executionInfo": {
     "elapsed": 2,
     "status": "ok",
     "timestamp": 1710816931824,
     "user": {
      "displayName": "Tomás Rubinstein",
      "userId": "12616130468164955397"
     },
     "user_tz": 180
    },
    "id": "t3KntiMXfITF",
    "outputId": "08f602a8-015e-4895-e1da-e0c880bd4953"
   },
   "outputs": [
    {
     "data": {
      "text/plain": [
       "array([[1., 0., 0.],\n",
       "       [0., 1., 0.],\n",
       "       [0., 0., 1.]])"
      ]
     },
     "execution_count": 18,
     "metadata": {},
     "output_type": "execute_result"
    }
   ],
   "source": [
    "### Matriz identidad\n",
    "identidad = np.eye(3,3)\n",
    "identidad"
   ]
  },
  {
   "cell_type": "code",
   "execution_count": null,
   "metadata": {
    "colab": {
     "base_uri": "https://localhost:8080/"
    },
    "executionInfo": {
     "elapsed": 2,
     "status": "ok",
     "timestamp": 1710816932514,
     "user": {
      "displayName": "Tomás Rubinstein",
      "userId": "12616130468164955397"
     },
     "user_tz": 180
    },
    "id": "GBam91fKfi9J",
    "outputId": "e5fecdc9-5e21-49ee-d8a4-1c2394c6528b"
   },
   "outputs": [
    {
     "name": "stdout",
     "output_type": "stream",
     "text": [
      "Unidimensional: 1\n",
      "Bidimensional: 2\n",
      "N-dimensionanl: 4\n"
     ]
    }
   ],
   "source": [
    "# Conocer la dimension de una matriz\n",
    "m1 = np.ones(3)\n",
    "print('Unidimensional:', m1.ndim)\n",
    "m2 = np.ones((2,3))\n",
    "print('Bidimensional:', m2.ndim)\n",
    "m4 = np.ones((2,3,8,4))\n",
    "print('N-dimensionanl:', m4.ndim)"
   ]
  },
  {
   "cell_type": "code",
   "execution_count": null,
   "metadata": {
    "colab": {
     "base_uri": "https://localhost:8080/"
    },
    "executionInfo": {
     "elapsed": 2,
     "status": "ok",
     "timestamp": 1710816933777,
     "user": {
      "displayName": "Tomás Rubinstein",
      "userId": "12616130468164955397"
     },
     "user_tz": 180
    },
    "id": "cPs4-1Y_gWYg",
    "outputId": "9fb2d710-7ce1-416b-f0d0-30ca044cf3fd"
   },
   "outputs": [
    {
     "name": "stdout",
     "output_type": "stream",
     "text": [
      "default: float64\n",
      "int: int32\n"
     ]
    }
   ],
   "source": [
    "# Conocer el tipo de datos de una matriz\n",
    "m1 = np.ones(3)\n",
    "print('default:', m1.dtype)\n",
    "m2 = np.ones(3, dtype=np.int32)\n",
    "print('int:', m2.dtype)"
   ]
  },
  {
   "cell_type": "code",
   "execution_count": null,
   "metadata": {
    "colab": {
     "base_uri": "https://localhost:8080/"
    },
    "executionInfo": {
     "elapsed": 2,
     "status": "ok",
     "timestamp": 1710816934884,
     "user": {
      "displayName": "Tomás Rubinstein",
      "userId": "12616130468164955397"
     },
     "user_tz": 180
    },
    "id": "qht528I0g-3D",
    "outputId": "091ea5d2-ddd3-4130-af31-c4f71e75fe46"
   },
   "outputs": [
    {
     "name": "stdout",
     "output_type": "stream",
     "text": [
      "3 posiciones: 3\n",
      "12 posiciones: 12\n"
     ]
    }
   ],
   "source": [
    "# Conocer el tamaño de una matriz\n",
    "m1 = np.ones(3)\n",
    "print('3 posiciones:', m1.size)\n",
    "m2 = np.ones((3,4))\n",
    "print('12 posiciones:', m2.size)"
   ]
  },
  {
   "cell_type": "code",
   "execution_count": null,
   "metadata": {
    "colab": {
     "base_uri": "https://localhost:8080/"
    },
    "executionInfo": {
     "elapsed": 2,
     "status": "ok",
     "timestamp": 1710816936101,
     "user": {
      "displayName": "Tomás Rubinstein",
      "userId": "12616130468164955397"
     },
     "user_tz": 180
    },
    "id": "SAnppeTghTPd",
    "outputId": "fe6b0a50-5fec-4067-9472-98bad8abbfb9"
   },
   "outputs": [
    {
     "data": {
      "text/plain": [
       "(2, 3)"
      ]
     },
     "execution_count": 22,
     "metadata": {},
     "output_type": "execute_result"
    }
   ],
   "source": [
    "# Conocer la forma de una matriz\n",
    "m = np.ones((2,3))\n",
    "np.shape(m)"
   ]
  },
  {
   "cell_type": "code",
   "execution_count": null,
   "metadata": {
    "colab": {
     "base_uri": "https://localhost:8080/"
    },
    "executionInfo": {
     "elapsed": 2,
     "status": "ok",
     "timestamp": 1710816937231,
     "user": {
      "displayName": "Tomás Rubinstein",
      "userId": "12616130468164955397"
     },
     "user_tz": 180
    },
    "id": "9ny1PuCLjiTt",
    "outputId": "d8f38f45-b5ac-4412-833b-ae229db79153"
   },
   "outputs": [
    {
     "name": "stdout",
     "output_type": "stream",
     "text": [
      "3x2 [[1 2]\n",
      " [3 4]\n",
      " [5 6]]\n",
      "2x3 [[1 2 3]\n",
      " [4 5 6]]\n"
     ]
    }
   ],
   "source": [
    "# Cambio de tamaño y forma de la matriz\n",
    "m1 = np.array([[1,2],[3,4],[5,6]])\n",
    "print('3x2', m1)\n",
    "m2 = m1.reshape(2,3)\n",
    "print('2x3', m2)"
   ]
  },
  {
   "cell_type": "code",
   "execution_count": null,
   "metadata": {
    "colab": {
     "base_uri": "https://localhost:8080/"
    },
    "executionInfo": {
     "elapsed": 2,
     "status": "ok",
     "timestamp": 1710816938376,
     "user": {
      "displayName": "Tomás Rubinstein",
      "userId": "12616130468164955397"
     },
     "user_tz": 180
    },
    "id": "7EKlDc0pkb4m",
    "outputId": "99d71fb3-0e75-4851-afb5-15991d67a02b"
   },
   "outputs": [
    {
     "name": "stdout",
     "output_type": "stream",
     "text": [
      "3x2 [[1 2]\n",
      " [3 4]\n",
      " [5 6]]\n",
      "2x3 [[1 3 5]\n",
      " [2 4 6]]\n"
     ]
    }
   ],
   "source": [
    "# Transponer una matriz\n",
    "m1 = np.array([[1,2],[3,4],[5,6]])\n",
    "print('3x2', m1)\n",
    "m2 = m1.transpose()\n",
    "print('2x3', m2)"
   ]
  },
  {
   "cell_type": "code",
   "execution_count": null,
   "metadata": {
    "colab": {
     "base_uri": "https://localhost:8080/"
    },
    "executionInfo": {
     "elapsed": 3,
     "status": "ok",
     "timestamp": 1710816940180,
     "user": {
      "displayName": "Tomás Rubinstein",
      "userId": "12616130468164955397"
     },
     "user_tz": 180
    },
    "id": "gEkZb82GkoyY",
    "outputId": "b1fba4a5-3b32-44b6-b26b-41811921dffe"
   },
   "outputs": [
    {
     "data": {
      "text/plain": [
       "6"
      ]
     },
     "execution_count": 25,
     "metadata": {},
     "output_type": "execute_result"
    }
   ],
   "source": [
    "# Encontrar un elemento de una matriz\n",
    "m = np.array([[1,2,3,4],[4,5,6,7],[8,9,0,11]])\n",
    "m[1,2]"
   ]
  },
  {
   "cell_type": "code",
   "execution_count": null,
   "metadata": {
    "colab": {
     "base_uri": "https://localhost:8080/"
    },
    "executionInfo": {
     "elapsed": 2,
     "status": "ok",
     "timestamp": 1710816941707,
     "user": {
      "displayName": "Tomás Rubinstein",
      "userId": "12616130468164955397"
     },
     "user_tz": 180
    },
    "id": "A7auob7KlKTV",
    "outputId": "85a42191-8b36-4461-dbc9-25abcb0ae716"
   },
   "outputs": [
    {
     "data": {
      "text/plain": [
       "array([3, 6, 0])"
      ]
     },
     "execution_count": 26,
     "metadata": {},
     "output_type": "execute_result"
    }
   ],
   "source": [
    "# Encontrar varios elementos de una matriz\n",
    "m = np.array([[1,2,3,4],[4,5,6,7],[8,9,0,11]])\n",
    "m[0:,2]"
   ]
  },
  {
   "cell_type": "code",
   "execution_count": null,
   "metadata": {
    "colab": {
     "base_uri": "https://localhost:8080/"
    },
    "executionInfo": {
     "elapsed": 2,
     "status": "ok",
     "timestamp": 1710816942878,
     "user": {
      "displayName": "Tomás Rubinstein",
      "userId": "12616130468164955397"
     },
     "user_tz": 180
    },
    "id": "RJpmhPFblY5W",
    "outputId": "2b69f126-4f87-4510-8a9c-7165b7cdcde7"
   },
   "outputs": [
    {
     "name": "stdout",
     "output_type": "stream",
     "text": [
      "Suma: 77\n",
      "Mínimo: 11\n",
      "Máximo: 44\n",
      "Promedio: 25.666666666666668\n",
      "Desvío estandar: 13.719410418171119\n",
      "Raices cuadradas: [3.31662479 4.69041576 6.63324958]\n"
     ]
    }
   ],
   "source": [
    "# Operaciones matemáticas y estadísticas sobre una matriz\n",
    "m = np.array([11,22,44])\n",
    "print('Suma:', m.sum())\n",
    "print('Mínimo:', m.min())\n",
    "print('Máximo:', m.max())\n",
    "print('Promedio:', m.mean())\n",
    "print('Desvío estandar:', m.std())\n",
    "print('Raices cuadradas:', np.sqrt(m))"
   ]
  },
  {
   "cell_type": "code",
   "execution_count": null,
   "metadata": {
    "colab": {
     "base_uri": "https://localhost:8080/"
    },
    "executionInfo": {
     "elapsed": 475,
     "status": "ok",
     "timestamp": 1710816944440,
     "user": {
      "displayName": "Tomás Rubinstein",
      "userId": "12616130468164955397"
     },
     "user_tz": 180
    },
    "id": "cG9R6NmTmx4n",
    "outputId": "25840e95-6309-4849-a5d6-e15f751638ee"
   },
   "outputs": [
    {
     "name": "stdout",
     "output_type": "stream",
     "text": [
      "Suma: [2 4 8]\n",
      "Resta: [0 0 0]\n",
      "Multiplicación: [ 1  4 16]\n",
      "División: [1. 1. 1.]\n"
     ]
    }
   ],
   "source": [
    "# Operaciones matemáticas entre matrices (punto a punto)\n",
    "m1 = np.array([1,2,4])\n",
    "m2 = np.array([1,2,4])\n",
    "print('Suma:', m1+m2)\n",
    "print('Resta:', m2-m1)\n",
    "print('Multiplicación:', m2*m1)\n",
    "print('División:', m2/m1)"
   ]
  },
  {
   "cell_type": "code",
   "execution_count": null,
   "metadata": {
    "colab": {
     "base_uri": "https://localhost:8080/"
    },
    "executionInfo": {
     "elapsed": 4,
     "status": "ok",
     "timestamp": 1710816945535,
     "user": {
      "displayName": "Tomás Rubinstein",
      "userId": "12616130468164955397"
     },
     "user_tz": 180
    },
    "id": "AxhXr_o0oNau",
    "outputId": "e4b5c73f-6601-4eb5-9701-a2693eb3013f"
   },
   "outputs": [
    {
     "name": "stdout",
     "output_type": "stream",
     "text": [
      "m1: [[5 4 2]\n",
      " [4 7 4]\n",
      " [7 5 4]]\n",
      "m2 [[3 8]\n",
      " [6 7]\n",
      " [3 3]]\n"
     ]
    },
    {
     "data": {
      "text/plain": [
       "array([[ 45,  74],\n",
       "       [ 66,  93],\n",
       "       [ 63, 103]])"
      ]
     },
     "execution_count": 29,
     "metadata": {},
     "output_type": "execute_result"
    }
   ],
   "source": [
    "# Multiplicar matrices\n",
    "m1 = np.random.randint(1,10,size = (3,3))\n",
    "m2 = np.random.randint(1,10,size = (3,2))\n",
    "print('m1:',m1)\n",
    "print('m2',m2)\n",
    "np.matmul(m1,m2)"
   ]
  }
 ],
 "metadata": {
  "colab": {
   "provenance": []
  },
  "kernelspec": {
   "display_name": "POO-env",
   "language": "python",
   "name": "python3"
  },
  "language_info": {
   "name": "python",
   "version": "3.11.5"
  }
 },
 "nbformat": 4,
 "nbformat_minor": 0
}

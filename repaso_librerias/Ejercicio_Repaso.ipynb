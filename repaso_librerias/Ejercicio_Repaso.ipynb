{
  "cells": [
    {
      "cell_type": "markdown",
      "metadata": {
        "id": "Bp6z8yZNen_b"
      },
      "source": [
        "Dataset a usar: https://drive.google.com/file/d/1C7hJN-p_yZPV8fr5EKakRLpIf5KMz11O/view?usp=sharing\n",
        "\n",
        "Documentación del dataset: https://www.kaggle.com/datasets/abhinavshaw09/data-science-job-salaries-2024"
      ]
    },
    {
      "cell_type": "code",
      "execution_count": 214,
      "metadata": {
        "id": "w8mmavMOd__E"
      },
      "outputs": [],
      "source": [
        "import pandas as pd\n",
        "import numpy as np\n",
        "import matplotlib.pyplot as plt\n",
        "import seaborn as sns"
      ]
    },
    {
      "cell_type": "markdown",
      "metadata": {
        "id": "_43b-rW5euid"
      },
      "source": [
        "# Parte 1: Cargar el dataset\n",
        "### a. Modificar el nombre de al menos una columna"
      ]
    },
    {
      "cell_type": "code",
      "execution_count": 215,
      "metadata": {},
      "outputs": [
        {
          "data": {
            "text/html": [
              "<div>\n",
              "<style scoped>\n",
              "    .dataframe tbody tr th:only-of-type {\n",
              "        vertical-align: middle;\n",
              "    }\n",
              "\n",
              "    .dataframe tbody tr th {\n",
              "        vertical-align: top;\n",
              "    }\n",
              "\n",
              "    .dataframe thead th {\n",
              "        text-align: right;\n",
              "    }\n",
              "</style>\n",
              "<table border=\"1\" class=\"dataframe\">\n",
              "  <thead>\n",
              "    <tr style=\"text-align: right;\">\n",
              "      <th></th>\n",
              "      <th>work_year</th>\n",
              "      <th>experience_level</th>\n",
              "      <th>employment_type</th>\n",
              "      <th>job_title</th>\n",
              "      <th>salary</th>\n",
              "      <th>salary_currency</th>\n",
              "      <th>salary_in_usd</th>\n",
              "      <th>employee_residence</th>\n",
              "      <th>remote_ratio</th>\n",
              "      <th>company_location</th>\n",
              "      <th>company_size</th>\n",
              "    </tr>\n",
              "  </thead>\n",
              "  <tbody>\n",
              "    <tr>\n",
              "      <th>0</th>\n",
              "      <td>2024</td>\n",
              "      <td>SE</td>\n",
              "      <td>FT</td>\n",
              "      <td>AI Engineer</td>\n",
              "      <td>90000</td>\n",
              "      <td>USD</td>\n",
              "      <td>90000</td>\n",
              "      <td>AE</td>\n",
              "      <td>0</td>\n",
              "      <td>AE</td>\n",
              "      <td>L</td>\n",
              "    </tr>\n",
              "    <tr>\n",
              "      <th>1</th>\n",
              "      <td>2024</td>\n",
              "      <td>SE</td>\n",
              "      <td>FT</td>\n",
              "      <td>Machine Learning Engineer</td>\n",
              "      <td>180500</td>\n",
              "      <td>USD</td>\n",
              "      <td>180500</td>\n",
              "      <td>US</td>\n",
              "      <td>0</td>\n",
              "      <td>US</td>\n",
              "      <td>M</td>\n",
              "    </tr>\n",
              "    <tr>\n",
              "      <th>2</th>\n",
              "      <td>2024</td>\n",
              "      <td>SE</td>\n",
              "      <td>FT</td>\n",
              "      <td>Machine Learning Engineer</td>\n",
              "      <td>96200</td>\n",
              "      <td>USD</td>\n",
              "      <td>96200</td>\n",
              "      <td>US</td>\n",
              "      <td>0</td>\n",
              "      <td>US</td>\n",
              "      <td>M</td>\n",
              "    </tr>\n",
              "    <tr>\n",
              "      <th>3</th>\n",
              "      <td>2024</td>\n",
              "      <td>SE</td>\n",
              "      <td>FT</td>\n",
              "      <td>Machine Learning Engineer</td>\n",
              "      <td>235000</td>\n",
              "      <td>USD</td>\n",
              "      <td>235000</td>\n",
              "      <td>AU</td>\n",
              "      <td>0</td>\n",
              "      <td>AU</td>\n",
              "      <td>M</td>\n",
              "    </tr>\n",
              "    <tr>\n",
              "      <th>4</th>\n",
              "      <td>2024</td>\n",
              "      <td>SE</td>\n",
              "      <td>FT</td>\n",
              "      <td>Machine Learning Engineer</td>\n",
              "      <td>175000</td>\n",
              "      <td>USD</td>\n",
              "      <td>175000</td>\n",
              "      <td>AU</td>\n",
              "      <td>0</td>\n",
              "      <td>AU</td>\n",
              "      <td>M</td>\n",
              "    </tr>\n",
              "  </tbody>\n",
              "</table>\n",
              "</div>"
            ],
            "text/plain": [
              "   work_year experience_level employment_type                  job_title  \\\n",
              "0       2024               SE              FT                AI Engineer   \n",
              "1       2024               SE              FT  Machine Learning Engineer   \n",
              "2       2024               SE              FT  Machine Learning Engineer   \n",
              "3       2024               SE              FT  Machine Learning Engineer   \n",
              "4       2024               SE              FT  Machine Learning Engineer   \n",
              "\n",
              "   salary salary_currency  salary_in_usd employee_residence  remote_ratio  \\\n",
              "0   90000             USD          90000                 AE             0   \n",
              "1  180500             USD         180500                 US             0   \n",
              "2   96200             USD          96200                 US             0   \n",
              "3  235000             USD         235000                 AU             0   \n",
              "4  175000             USD         175000                 AU             0   \n",
              "\n",
              "  company_location company_size  \n",
              "0               AE            L  \n",
              "1               US            M  \n",
              "2               US            M  \n",
              "3               AU            M  \n",
              "4               AU            M  "
            ]
          },
          "execution_count": 215,
          "metadata": {},
          "output_type": "execute_result"
        }
      ],
      "source": [
        "salaries = pd.read_csv('dataframes/salaries.csv')\n",
        "salaries.head()\n"
      ]
    },
    {
      "cell_type": "code",
      "execution_count": 216,
      "metadata": {},
      "outputs": [
        {
          "data": {
            "text/plain": [
              "Index(['work_year', 'experience_level', 'employment_type', 'job_title',\n",
              "       'salary', 'salary_currency', 'salary_in_usd', 'employee_residence',\n",
              "       'remote_ratio', 'company_location', 'company_size'],\n",
              "      dtype='object')"
            ]
          },
          "execution_count": 216,
          "metadata": {},
          "output_type": "execute_result"
        }
      ],
      "source": [
        "salaries.columns"
      ]
    },
    {
      "cell_type": "code",
      "execution_count": 217,
      "metadata": {},
      "outputs": [],
      "source": [
        "salaries.rename(columns={'salary':'salario'}, inplace=True)"
      ]
    },
    {
      "cell_type": "markdown",
      "metadata": {},
      "source": [
        "### b. Agregar o eliminar al menos una columna (explicando el por qué de su decisión)"
      ]
    },
    {
      "cell_type": "code",
      "execution_count": 218,
      "metadata": {},
      "outputs": [
        {
          "data": {
            "text/plain": [
              "Index(['work_year', 'experience_level', 'employment_type', 'job_title',\n",
              "       'salario', 'salary_currency', 'salary_in_usd', 'employee_residence',\n",
              "       'remote_ratio', 'company_location', 'company_size'],\n",
              "      dtype='object')"
            ]
          },
          "execution_count": 218,
          "metadata": {},
          "output_type": "execute_result"
        }
      ],
      "source": [
        "salaries.columns"
      ]
    },
    {
      "cell_type": "code",
      "execution_count": 219,
      "metadata": {},
      "outputs": [],
      "source": [
        "salaries.drop(['salario', 'salary_currency'], axis=1, inplace=True)\n",
        "# Asumiendo que quiero realizar un análisis de empleos con moneda en USD dropeapmos las columnas de salario y salary currency"
      ]
    },
    {
      "cell_type": "markdown",
      "metadata": {},
      "source": [
        "### c. Reemplazar los valores o algún valor de alguna columna"
      ]
    },
    {
      "cell_type": "code",
      "execution_count": 220,
      "metadata": {},
      "outputs": [],
      "source": [
        "salaries['employment_type'].replace({'PT':'Part-time', 'FT':'Full-time', 'CT':'Contract', 'FL':'Freelance'}, inplace=True)\n",
        "salaries['experience_level'].replace({'N':'Entry-level / Junior', 'MI':'Mid-level / Intermediate', 'SE':'Senior-level / Expert', 'EX':'Executive-level / Director'}, inplace=True)"
      ]
    },
    {
      "cell_type": "markdown",
      "metadata": {
        "id": "1HpJlq66SBnq"
      },
      "source": [
        "# Parte 2: Contestar las siguientes preguntas de forma gráfica y analítica:"
      ]
    },
    {
      "cell_type": "markdown",
      "metadata": {},
      "source": [
        "### a. ¿Hay datos nulos, duplicados o outliers? En caso de haber, decidan qué hacer con ellos y expliquen su decisión."
      ]
    },
    {
      "cell_type": "markdown",
      "metadata": {},
      "source": [
        "##### Nulos & Duplicados"
      ]
    },
    {
      "cell_type": "markdown",
      "metadata": {},
      "source": [
        "``` python\n",
        "def validate_columns(df):\n",
        "    summary_df = df.describe(include='all').T\n",
        "    summary_df['Num_Null_Values'] = df.isnull().sum()\n",
        "    summary_df['%_Null_Values'] = (summary_df['Num_Null_Values'] / len(df)) * 100\n",
        "    sample_unique_values = df.sample(min(5, len(df)), axis=0).T\n",
        "    summary_df['Sample_Unique_Values'] = sample_unique_values.values.tolist()\n",
        "    summary_df = summary_df.rename(columns={'unique': 'Unique_Values', 'count': 'Num_Unique_Values'})\n",
        "    summary_df = summary_df[['Unique_Values', 'Num_Unique_Values', 'Num_Null_Values', '%_Null_Values', 'Sample_Unique_Values']]\n",
        "    return summary_df\n",
        "```"
      ]
    },
    {
      "cell_type": "code",
      "execution_count": 221,
      "metadata": {},
      "outputs": [
        {
          "data": {
            "text/html": [
              "<div>\n",
              "<style scoped>\n",
              "    .dataframe tbody tr th:only-of-type {\n",
              "        vertical-align: middle;\n",
              "    }\n",
              "\n",
              "    .dataframe tbody tr th {\n",
              "        vertical-align: top;\n",
              "    }\n",
              "\n",
              "    .dataframe thead th {\n",
              "        text-align: right;\n",
              "    }\n",
              "</style>\n",
              "<table border=\"1\" class=\"dataframe\">\n",
              "  <thead>\n",
              "    <tr style=\"text-align: right;\">\n",
              "      <th></th>\n",
              "      <th>Unique_Values</th>\n",
              "      <th>Num_Unique_Values</th>\n",
              "      <th>Num_Null_Values</th>\n",
              "      <th>%_Null_Values</th>\n",
              "      <th>Sample_Unique_Values</th>\n",
              "    </tr>\n",
              "  </thead>\n",
              "  <tbody>\n",
              "    <tr>\n",
              "      <th>work_year</th>\n",
              "      <td>NaN</td>\n",
              "      <td>13972.0</td>\n",
              "      <td>0</td>\n",
              "      <td>0.0</td>\n",
              "      <td>[2023, 2023, 2023, 2023, 2024]</td>\n",
              "    </tr>\n",
              "    <tr>\n",
              "      <th>experience_level</th>\n",
              "      <td>4</td>\n",
              "      <td>13972</td>\n",
              "      <td>0</td>\n",
              "      <td>0.0</td>\n",
              "      <td>[Senior-level / Expert, Senior-level / Expert,...</td>\n",
              "    </tr>\n",
              "    <tr>\n",
              "      <th>employment_type</th>\n",
              "      <td>4</td>\n",
              "      <td>13972</td>\n",
              "      <td>0</td>\n",
              "      <td>0.0</td>\n",
              "      <td>[Full-time, Full-time, Full-time, Full-time, F...</td>\n",
              "    </tr>\n",
              "    <tr>\n",
              "      <th>job_title</th>\n",
              "      <td>146</td>\n",
              "      <td>13972</td>\n",
              "      <td>0</td>\n",
              "      <td>0.0</td>\n",
              "      <td>[Machine Learning Engineer, Data Scientist, Re...</td>\n",
              "    </tr>\n",
              "    <tr>\n",
              "      <th>salary_in_usd</th>\n",
              "      <td>NaN</td>\n",
              "      <td>13972.0</td>\n",
              "      <td>0</td>\n",
              "      <td>0.0</td>\n",
              "      <td>[190000, 180000, 160000, 62500, 250000]</td>\n",
              "    </tr>\n",
              "    <tr>\n",
              "      <th>employee_residence</th>\n",
              "      <td>88</td>\n",
              "      <td>13972</td>\n",
              "      <td>0</td>\n",
              "      <td>0.0</td>\n",
              "      <td>[US, US, US, US, US]</td>\n",
              "    </tr>\n",
              "    <tr>\n",
              "      <th>remote_ratio</th>\n",
              "      <td>NaN</td>\n",
              "      <td>13972.0</td>\n",
              "      <td>0</td>\n",
              "      <td>0.0</td>\n",
              "      <td>[100, 100, 0, 100, 0]</td>\n",
              "    </tr>\n",
              "    <tr>\n",
              "      <th>company_location</th>\n",
              "      <td>77</td>\n",
              "      <td>13972</td>\n",
              "      <td>0</td>\n",
              "      <td>0.0</td>\n",
              "      <td>[US, US, US, US, US]</td>\n",
              "    </tr>\n",
              "    <tr>\n",
              "      <th>company_size</th>\n",
              "      <td>3</td>\n",
              "      <td>13972</td>\n",
              "      <td>0</td>\n",
              "      <td>0.0</td>\n",
              "      <td>[M, M, M, M, M]</td>\n",
              "    </tr>\n",
              "  </tbody>\n",
              "</table>\n",
              "</div>"
            ],
            "text/plain": [
              "                   Unique_Values Num_Unique_Values  Num_Null_Values  \\\n",
              "work_year                    NaN           13972.0                0   \n",
              "experience_level               4             13972                0   \n",
              "employment_type                4             13972                0   \n",
              "job_title                    146             13972                0   \n",
              "salary_in_usd                NaN           13972.0                0   \n",
              "employee_residence            88             13972                0   \n",
              "remote_ratio                 NaN           13972.0                0   \n",
              "company_location              77             13972                0   \n",
              "company_size                   3             13972                0   \n",
              "\n",
              "                    %_Null_Values  \\\n",
              "work_year                     0.0   \n",
              "experience_level              0.0   \n",
              "employment_type               0.0   \n",
              "job_title                     0.0   \n",
              "salary_in_usd                 0.0   \n",
              "employee_residence            0.0   \n",
              "remote_ratio                  0.0   \n",
              "company_location              0.0   \n",
              "company_size                  0.0   \n",
              "\n",
              "                                                 Sample_Unique_Values  \n",
              "work_year                              [2023, 2023, 2023, 2023, 2024]  \n",
              "experience_level    [Senior-level / Expert, Senior-level / Expert,...  \n",
              "employment_type     [Full-time, Full-time, Full-time, Full-time, F...  \n",
              "job_title           [Machine Learning Engineer, Data Scientist, Re...  \n",
              "salary_in_usd                 [190000, 180000, 160000, 62500, 250000]  \n",
              "employee_residence                               [US, US, US, US, US]  \n",
              "remote_ratio                                    [100, 100, 0, 100, 0]  \n",
              "company_location                                 [US, US, US, US, US]  \n",
              "company_size                                          [M, M, M, M, M]  "
            ]
          },
          "execution_count": 221,
          "metadata": {},
          "output_type": "execute_result"
        }
      ],
      "source": [
        "from funciones.funciones_repaso import validate_columns\n",
        "validate_columns(salaries)"
      ]
    },
    {
      "cell_type": "code",
      "execution_count": 222,
      "metadata": {},
      "outputs": [
        {
          "data": {
            "text/plain": [
              "work_year              int64\n",
              "experience_level      object\n",
              "employment_type       object\n",
              "job_title             object\n",
              "salary_in_usd          int64\n",
              "employee_residence    object\n",
              "remote_ratio           int64\n",
              "company_location      object\n",
              "company_size          object\n",
              "dtype: object"
            ]
          },
          "execution_count": 222,
          "metadata": {},
          "output_type": "execute_result"
        }
      ],
      "source": [
        "salaries.dtypes"
      ]
    },
    {
      "cell_type": "markdown",
      "metadata": {},
      "source": [
        "##### Outliers"
      ]
    },
    {
      "cell_type": "markdown",
      "metadata": {},
      "source": [
        "``` python\n",
        "def plot_outliers(df):\n",
        "    num_cols = df.select_dtypes(include=['float64', 'int64']).shape[1]\n",
        "    num_rows = (num_cols - 1) // 2 + 1\n",
        "    fig, axs = plt.subplots(num_rows, 2, figsize=(20, 5*num_rows))\n",
        "    axs = axs.flatten()\n",
        "    for i, col in enumerate(df.select_dtypes(include=['float64', 'int64']).columns):\n",
        "        box = axs[i].boxplot(df[col], patch_artist=True, boxprops=dict(facecolor='#336fa2'), medianprops=dict(color='black'))\n",
        "        for patch in box['fliers']:\n",
        "            patch.set_markerfacecolor('black')\n",
        "            patch.set_markeredgecolor('black')\n",
        "        axs[i].set_title(col)\n",
        "    plt.tight_layout()\n",
        "    plt.show()\n",
        "```"
      ]
    },
    {
      "cell_type": "code",
      "execution_count": 223,
      "metadata": {},
      "outputs": [
        {
          "data": {
            "image/png": "[encoded data removed]",
            "text/plain": [
              "<Figure size 2000x1000 with 4 Axes>"
            ]
          },
          "metadata": {},
          "output_type": "display_data"
        }
      ],
      "source": [
        "from funciones.funciones_repaso import plot_outliers\n",
        "plot_outliers(salaries)"
      ]
    },
    {
      "cell_type": "markdown",
      "metadata": {},
      "source": [
        "``` python\n",
        "def reconocimiento_de_outliers(df, column, scale_factor=1.5):\n",
        "    data = df[column]\n",
        "    q1 = data.quantile(0.25)\n",
        "    q3 = data.quantile(0.75)\n",
        "    iqr = q3 - q1\n",
        "    lower_bound = q1 - scale_factor * iqr\n",
        "    upper_bound = q3 + scale_factor * iqr\n",
        "    \n",
        "    outliers = (data < lower_bound) | (data > upper_bound)\n",
        "    outlier_values = data[outliers]\n",
        "\n",
        "    print(f\"Outliers de {column}:\")\n",
        "    print(outlier_values)\n",
        "    \n",
        "    return outliers, outlier_values\n",
        "```"
      ]
    },
    {
      "cell_type": "code",
      "execution_count": null,
      "metadata": {},
      "outputs": [
        {
          "name": "stdout",
          "output_type": "stream",
          "text": [
            "Outliers de salary_in_usd:\n",
            "63       600000\n",
            "65       600000\n",
            "73       500000\n",
            "103      334075\n",
            "129      333500\n",
            "          ...  \n",
            "13754    450000\n",
            "13899    416000\n",
            "13918    325000\n",
            "13964    423000\n",
            "13967    412000\n",
            "Name: salary_in_usd, Length: 253, dtype: int64\n"
          ]
        }
      ],
      "source": [
        "# from funciones.funciones_repaso import reconocimiento_de_outliers\n",
        "\n",
        "# outliers_salary_usd, outliers_salary_usd = reconocimiento_de_outliers(salaries, \"salary_in_usd\", 1.5)\n"
      ]
    },
    {
      "cell_type": "code",
      "execution_count": 225,
      "metadata": {},
      "outputs": [
        {
          "data": {
            "text/plain": [
              "Index(['work_year', 'experience_level', 'employment_type', 'job_title',\n",
              "       'salary_in_usd', 'employee_residence', 'remote_ratio',\n",
              "       'company_location', 'company_size'],\n",
              "      dtype='object')"
            ]
          },
          "execution_count": 225,
          "metadata": {},
          "output_type": "execute_result"
        }
      ],
      "source": [
        "salaries.columns"
      ]
    },
    {
      "cell_type": "code",
      "execution_count": 226,
      "metadata": {},
      "outputs": [],
      "source": [
        "from funciones.funciones_repaso import remove_outliers\n",
        "\n",
        "salaries = remove_outliers(salaries, \"salary_in_usd\", outliers_salary_usd)"
      ]
    },
    {
      "cell_type": "markdown",
      "metadata": {},
      "source": [
        "##### Si bien hay salarios que se presentan como outliers luego de haber realizado el grafico del boxplot mediante la funcion previamente definida, considero que NO hay que removerlos ya que los mismos son valores reales y no errores en la carga de datos."
      ]
    },
    {
      "cell_type": "markdown",
      "metadata": {},
      "source": [
        "### b. ¿Cuántos título de trabajo únicos hay? ¿Cuál es el tipo de trabajo más usual por seniority?"
      ]
    },
    {
      "cell_type": "code",
      "execution_count": 227,
      "metadata": {},
      "outputs": [
        {
          "name": "stdout",
          "output_type": "stream",
          "text": [
            "Hay 144 títulos de trabajo únicos\n"
          ]
        }
      ],
      "source": [
        "titulo_trabajo_unico = salaries['job_title'].nunique()\n",
        "print(f'Hay {titulo_trabajo_unico} títulos de trabajo únicos')"
      ]
    },
    {
      "cell_type": "markdown",
      "metadata": {},
      "source": [
        "### c. ¿Es verdad que los trabajadores de compañias grandes ganan más?"
      ]
    },
    {
      "cell_type": "code",
      "execution_count": 228,
      "metadata": {},
      "outputs": [
        {
          "data": {
            "text/html": [
              "<div>\n",
              "<style scoped>\n",
              "    .dataframe tbody tr th:only-of-type {\n",
              "        vertical-align: middle;\n",
              "    }\n",
              "\n",
              "    .dataframe tbody tr th {\n",
              "        vertical-align: top;\n",
              "    }\n",
              "\n",
              "    .dataframe thead th {\n",
              "        text-align: right;\n",
              "    }\n",
              "</style>\n",
              "<table border=\"1\" class=\"dataframe\">\n",
              "  <thead>\n",
              "    <tr style=\"text-align: right;\">\n",
              "      <th></th>\n",
              "      <th>company_size</th>\n",
              "      <th>salary_in_usd</th>\n",
              "    </tr>\n",
              "  </thead>\n",
              "  <tbody>\n",
              "    <tr>\n",
              "      <th>0</th>\n",
              "      <td>S</td>\n",
              "      <td>15100913</td>\n",
              "    </tr>\n",
              "    <tr>\n",
              "      <th>1</th>\n",
              "      <td>M</td>\n",
              "      <td>1853538590</td>\n",
              "    </tr>\n",
              "    <tr>\n",
              "      <th>2</th>\n",
              "      <td>L</td>\n",
              "      <td>129581873</td>\n",
              "    </tr>\n",
              "  </tbody>\n",
              "</table>\n",
              "</div>"
            ],
            "text/plain": [
              "  company_size  salary_in_usd\n",
              "0            S       15100913\n",
              "1            M     1853538590\n",
              "2            L      129581873"
            ]
          },
          "execution_count": 228,
          "metadata": {},
          "output_type": "execute_result"
        }
      ],
      "source": [
        "salaries.groupby(\"company_size\").agg({\"salary_in_usd\":\"sum\"}).sort_values(by=\"company_size\", ascending=False).reset_index()"
      ]
    },
    {
      "cell_type": "markdown",
      "metadata": {},
      "source": [
        "### d. ¿Es verdad que las personas que trabajan en una compañía de su mismo país tienen un salario mayor que los trabajadores internacionales?"
      ]
    },
    {
      "cell_type": "code",
      "execution_count": 229,
      "metadata": {},
      "outputs": [
        {
          "data": {
            "text/html": [
              "<div>\n",
              "<style scoped>\n",
              "    .dataframe tbody tr th:only-of-type {\n",
              "        vertical-align: middle;\n",
              "    }\n",
              "\n",
              "    .dataframe tbody tr th {\n",
              "        vertical-align: top;\n",
              "    }\n",
              "\n",
              "    .dataframe thead th {\n",
              "        text-align: right;\n",
              "    }\n",
              "</style>\n",
              "<table border=\"1\" class=\"dataframe\">\n",
              "  <thead>\n",
              "    <tr style=\"text-align: right;\">\n",
              "      <th></th>\n",
              "      <th>salary_in_usd</th>\n",
              "      <th>employee_residence</th>\n",
              "      <th>company_location</th>\n",
              "    </tr>\n",
              "  </thead>\n",
              "  <tbody>\n",
              "    <tr>\n",
              "      <th>0</th>\n",
              "      <td>90000</td>\n",
              "      <td>AE</td>\n",
              "      <td>AE</td>\n",
              "    </tr>\n",
              "    <tr>\n",
              "      <th>1</th>\n",
              "      <td>180500</td>\n",
              "      <td>US</td>\n",
              "      <td>US</td>\n",
              "    </tr>\n",
              "    <tr>\n",
              "      <th>2</th>\n",
              "      <td>96200</td>\n",
              "      <td>US</td>\n",
              "      <td>US</td>\n",
              "    </tr>\n",
              "    <tr>\n",
              "      <th>3</th>\n",
              "      <td>235000</td>\n",
              "      <td>AU</td>\n",
              "      <td>AU</td>\n",
              "    </tr>\n",
              "    <tr>\n",
              "      <th>4</th>\n",
              "      <td>175000</td>\n",
              "      <td>AU</td>\n",
              "      <td>AU</td>\n",
              "    </tr>\n",
              "    <tr>\n",
              "      <th>...</th>\n",
              "      <td>...</td>\n",
              "      <td>...</td>\n",
              "      <td>...</td>\n",
              "    </tr>\n",
              "    <tr>\n",
              "      <th>13966</th>\n",
              "      <td>165000</td>\n",
              "      <td>US</td>\n",
              "      <td>US</td>\n",
              "    </tr>\n",
              "    <tr>\n",
              "      <th>13968</th>\n",
              "      <td>151000</td>\n",
              "      <td>US</td>\n",
              "      <td>US</td>\n",
              "    </tr>\n",
              "    <tr>\n",
              "      <th>13969</th>\n",
              "      <td>105000</td>\n",
              "      <td>US</td>\n",
              "      <td>US</td>\n",
              "    </tr>\n",
              "    <tr>\n",
              "      <th>13970</th>\n",
              "      <td>100000</td>\n",
              "      <td>US</td>\n",
              "      <td>US</td>\n",
              "    </tr>\n",
              "    <tr>\n",
              "      <th>13971</th>\n",
              "      <td>94665</td>\n",
              "      <td>IN</td>\n",
              "      <td>IN</td>\n",
              "    </tr>\n",
              "  </tbody>\n",
              "</table>\n",
              "<p>13593 rows × 3 columns</p>\n",
              "</div>"
            ],
            "text/plain": [
              "       salary_in_usd employee_residence company_location\n",
              "0              90000                 AE               AE\n",
              "1             180500                 US               US\n",
              "2              96200                 US               US\n",
              "3             235000                 AU               AU\n",
              "4             175000                 AU               AU\n",
              "...              ...                ...              ...\n",
              "13966         165000                 US               US\n",
              "13968         151000                 US               US\n",
              "13969         105000                 US               US\n",
              "13970         100000                 US               US\n",
              "13971          94665                 IN               IN\n",
              "\n",
              "[13593 rows x 3 columns]"
            ]
          },
          "execution_count": 229,
          "metadata": {},
          "output_type": "execute_result"
        }
      ],
      "source": [
        "personas_mismo_pais_company = salaries[salaries['employee_residence'] == salaries['company_location']]\n",
        "personas_mismo_pais_company[['salary_in_usd', 'employee_residence', 'company_location']]"
      ]
    },
    {
      "cell_type": "code",
      "execution_count": 230,
      "metadata": {},
      "outputs": [
        {
          "name": "stdout",
          "output_type": "stream",
          "text": [
            "El salario promedio de las personas que trabajan en el mismo país que la empresa es de U$D 146320.59\n"
          ]
        }
      ],
      "source": [
        "salario_personas_mismo_pais_company = personas_mismo_pais_company[\"salary_in_usd\"].mean().__round__(2)\n",
        "print(f'El salario promedio de las personas que trabajan en el mismo país que la empresa es de U$D {salario_personas_mismo_pais_company}')"
      ]
    },
    {
      "cell_type": "code",
      "execution_count": 231,
      "metadata": {},
      "outputs": [
        {
          "data": {
            "text/html": [
              "<div>\n",
              "<style scoped>\n",
              "    .dataframe tbody tr th:only-of-type {\n",
              "        vertical-align: middle;\n",
              "    }\n",
              "\n",
              "    .dataframe tbody tr th {\n",
              "        vertical-align: top;\n",
              "    }\n",
              "\n",
              "    .dataframe thead th {\n",
              "        text-align: right;\n",
              "    }\n",
              "</style>\n",
              "<table border=\"1\" class=\"dataframe\">\n",
              "  <thead>\n",
              "    <tr style=\"text-align: right;\">\n",
              "      <th></th>\n",
              "      <th>salary_in_usd</th>\n",
              "      <th>employee_residence</th>\n",
              "      <th>company_location</th>\n",
              "    </tr>\n",
              "  </thead>\n",
              "  <tbody>\n",
              "    <tr>\n",
              "      <th>1978</th>\n",
              "      <td>27000</td>\n",
              "      <td>IN</td>\n",
              "      <td>AS</td>\n",
              "    </tr>\n",
              "    <tr>\n",
              "      <th>2882</th>\n",
              "      <td>63333</td>\n",
              "      <td>HR</td>\n",
              "      <td>HU</td>\n",
              "    </tr>\n",
              "    <tr>\n",
              "      <th>5156</th>\n",
              "      <td>50000</td>\n",
              "      <td>CZ</td>\n",
              "      <td>CA</td>\n",
              "    </tr>\n",
              "    <tr>\n",
              "      <th>5159</th>\n",
              "      <td>21000</td>\n",
              "      <td>PK</td>\n",
              "      <td>LU</td>\n",
              "    </tr>\n",
              "    <tr>\n",
              "      <th>5212</th>\n",
              "      <td>25000</td>\n",
              "      <td>UA</td>\n",
              "      <td>NL</td>\n",
              "    </tr>\n",
              "    <tr>\n",
              "      <th>...</th>\n",
              "      <td>...</td>\n",
              "      <td>...</td>\n",
              "      <td>...</td>\n",
              "    </tr>\n",
              "    <tr>\n",
              "      <th>13939</th>\n",
              "      <td>60000</td>\n",
              "      <td>RU</td>\n",
              "      <td>US</td>\n",
              "    </tr>\n",
              "    <tr>\n",
              "      <th>13947</th>\n",
              "      <td>18053</td>\n",
              "      <td>IN</td>\n",
              "      <td>AS</td>\n",
              "    </tr>\n",
              "    <tr>\n",
              "      <th>13949</th>\n",
              "      <td>62726</td>\n",
              "      <td>FR</td>\n",
              "      <td>LU</td>\n",
              "    </tr>\n",
              "    <tr>\n",
              "      <th>13960</th>\n",
              "      <td>130800</td>\n",
              "      <td>ES</td>\n",
              "      <td>US</td>\n",
              "    </tr>\n",
              "    <tr>\n",
              "      <th>13963</th>\n",
              "      <td>119059</td>\n",
              "      <td>SG</td>\n",
              "      <td>IL</td>\n",
              "    </tr>\n",
              "  </tbody>\n",
              "</table>\n",
              "<p>126 rows × 3 columns</p>\n",
              "</div>"
            ],
            "text/plain": [
              "       salary_in_usd employee_residence company_location\n",
              "1978           27000                 IN               AS\n",
              "2882           63333                 HR               HU\n",
              "5156           50000                 CZ               CA\n",
              "5159           21000                 PK               LU\n",
              "5212           25000                 UA               NL\n",
              "...              ...                ...              ...\n",
              "13939          60000                 RU               US\n",
              "13947          18053                 IN               AS\n",
              "13949          62726                 FR               LU\n",
              "13960         130800                 ES               US\n",
              "13963         119059                 SG               IL\n",
              "\n",
              "[126 rows x 3 columns]"
            ]
          },
          "execution_count": 231,
          "metadata": {},
          "output_type": "execute_result"
        }
      ],
      "source": [
        "personas_no_mismo_pais_company = salaries[salaries['employee_residence'] != salaries['company_location']]\n",
        "personas_no_mismo_pais_company[['salary_in_usd', 'employee_residence', 'company_location']]"
      ]
    },
    {
      "cell_type": "code",
      "execution_count": 232,
      "metadata": {},
      "outputs": [
        {
          "name": "stdout",
          "output_type": "stream",
          "text": [
            "El salario promedio de las personas que trabajan en el mismo país que la empresa es de U$D 73694.93\n"
          ]
        }
      ],
      "source": [
        "salario_personas_no_mismo_pais_company = personas_no_mismo_pais_company[\"salary_in_usd\"].mean().__round__(2)\n",
        "print(f'El salario promedio de las personas que trabajan en el mismo país que la empresa es de U$D {salario_personas_no_mismo_pais_company}')"
      ]
    },
    {
      "cell_type": "markdown",
      "metadata": {
        "id": "lBObybhfgS5a"
      },
      "source": [
        "# Parte 3: En base a la información presente en este dataset, planteen una hipótesis y compruebenla. Utilicen al menos un gráfico para demostrarlo."
      ]
    },
    {
      "cell_type": "markdown",
      "metadata": {},
      "source": [
        "##### Podemos asumir que el salario en el año 2020 en promedio fue menor debido a la pandemia"
      ]
    },
    {
      "cell_type": "code",
      "execution_count": 233,
      "metadata": {},
      "outputs": [
        {
          "data": {
            "text/html": [
              "<div>\n",
              "<style scoped>\n",
              "    .dataframe tbody tr th:only-of-type {\n",
              "        vertical-align: middle;\n",
              "    }\n",
              "\n",
              "    .dataframe tbody tr th {\n",
              "        vertical-align: top;\n",
              "    }\n",
              "\n",
              "    .dataframe thead th {\n",
              "        text-align: right;\n",
              "    }\n",
              "</style>\n",
              "<table border=\"1\" class=\"dataframe\">\n",
              "  <thead>\n",
              "    <tr style=\"text-align: right;\">\n",
              "      <th></th>\n",
              "      <th>work_year</th>\n",
              "      <th>salary_in_usd</th>\n",
              "    </tr>\n",
              "  </thead>\n",
              "  <tbody>\n",
              "    <tr>\n",
              "      <th>0</th>\n",
              "      <td>2020</td>\n",
              "      <td>90025.208333</td>\n",
              "    </tr>\n",
              "    <tr>\n",
              "      <th>1</th>\n",
              "      <td>2021</td>\n",
              "      <td>96963.018519</td>\n",
              "    </tr>\n",
              "    <tr>\n",
              "      <th>2</th>\n",
              "      <td>2022</td>\n",
              "      <td>133131.442483</td>\n",
              "    </tr>\n",
              "    <tr>\n",
              "      <th>3</th>\n",
              "      <td>2023</td>\n",
              "      <td>150292.844373</td>\n",
              "    </tr>\n",
              "    <tr>\n",
              "      <th>4</th>\n",
              "      <td>2024</td>\n",
              "      <td>144545.862716</td>\n",
              "    </tr>\n",
              "  </tbody>\n",
              "</table>\n",
              "</div>"
            ],
            "text/plain": [
              "   work_year  salary_in_usd\n",
              "0       2020   90025.208333\n",
              "1       2021   96963.018519\n",
              "2       2022  133131.442483\n",
              "3       2023  150292.844373\n",
              "4       2024  144545.862716"
            ]
          },
          "execution_count": 233,
          "metadata": {},
          "output_type": "execute_result"
        }
      ],
      "source": [
        "avg_salaries_per_year = salaries.groupby(\"work_year\").agg({\"salary_in_usd\":\"mean\"}).sort_values(by=\"work_year\").reset_index()\n",
        "avg_salaries_per_year"
      ]
    },
    {
      "cell_type": "code",
      "execution_count": 244,
      "metadata": {},
      "outputs": [
        {
          "data": {
            "text/plain": [
              "<Figure size 1000x600 with 0 Axes>"
            ]
          },
          "execution_count": 244,
          "metadata": {},
          "output_type": "execute_result"
        },
        {
          "data": {
            "image/png": "[encoded data removed]",
            "text/plain": [
              "<Figure size 1000x600 with 1 Axes>"
            ]
          },
          "metadata": {},
          "output_type": "display_data"
        },
        {
          "data": {
            "text/plain": [
              "<Figure size 1000x600 with 0 Axes>"
            ]
          },
          "metadata": {},
          "output_type": "display_data"
        }
      ],
      "source": [
        "avg_salaries_per_year.plot(kind='bar', x='work_year', y='salary_in_usd', color='black', figsize=(10, 6))\n",
        "plt.xlabel(\"Year\"), plt.ylabel(\"AVG Salary\"), plt.title('Salario promedio en USD por año de trabajo')\n",
        "plt.figure(figsize=(10, 6))\n",
        "\n"
      ]
    }
  ],
  "metadata": {
    "colab": {
      "provenance": []
    },
    "kernelspec": {
      "display_name": "POO-env",
      "language": "python",
      "name": "python3"
    },
    "language_info": {
      "codemirror_mode": {
        "name": "ipython",
        "version": 3
      },
      "file_extension": ".py",
      "mimetype": "text/x-python",
      "name": "python",
      "nbconvert_exporter": "python",
      "pygments_lexer": "ipython3",
      "version": "3.11.5"
    }
  },
  "nbformat": 4,
  "nbformat_minor": 0
}

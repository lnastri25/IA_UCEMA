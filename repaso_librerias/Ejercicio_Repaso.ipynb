{
  "cells": [
    {
      "cell_type": "markdown",
      "metadata": {
        "id": "Bp6z8yZNen_b"
      },
      "source": [
        "Dataset a usar: https://drive.google.com/file/d/1C7hJN-p_yZPV8fr5EKakRLpIf5KMz11O/view?usp=sharing\n",
        "\n",
        "Documentación del dataset: https://www.kaggle.com/datasets/abhinavshaw09/data-science-job-salaries-2024"
      ]
    },
    {
      "cell_type": "code",
      "execution_count": null,
      "metadata": {
        "id": "w8mmavMOd__E"
      },
      "outputs": [],
      "source": [
        "import pandas as pd\n",
        "import numpy as np\n",
        "import matplotlib.pyplot as plt\n",
        "import seaborn as sns"
      ]
    },
    {
      "cell_type": "markdown",
      "metadata": {
        "id": "_43b-rW5euid"
      },
      "source": [
        "##### **1. Cargar el dataset y:**\n",
        "a. Modificar el nombre de al menos una columna\n",
        "\n",
        "b. Agregar o eliminar al menos una columna (explicando el por qué de su decisión)\n",
        "\n",
        "c. Reemplazar los valores o algún valor de alguna columna"
      ]
    },
    {
      "cell_type": "markdown",
      "metadata": {
        "id": "1HpJlq66SBnq"
      },
      "source": [
        "##### **2. Contestar las siguientes preguntas de forma gráfica y analítica:**\n",
        "\n",
        "a. ¿Hay datos nulos, duplicados o outliers? En caso de haber, decidan qué hacer con ellos y expliquen su decisión.\n",
        "\n",
        "b. ¿Cuántos título de trabajo únicos hay? ¿Cuál es el tipo de trabajo más usual por seniority?\n",
        "\n",
        "c. ¿Es verdad que los trabajadores de compañias grandes ganan más?\n",
        "\n",
        "d. ¿Es verdad que las personas que trabajan en una compañía de su mismo país tienen un salario mayor que los trabajadores internacionales?"
      ]
    },
    {
      "cell_type": "markdown",
      "metadata": {
        "id": "lBObybhfgS5a"
      },
      "source": [
        "##### **3.** En base a la información presente en este dataset, planteen una hipótesis y compruebenla. Utilicen al menos un gráfico para demostrarlo."
      ]
    }
  ],
  "metadata": {
    "colab": {
      "provenance": []
    },
    "kernelspec": {
      "display_name": "POO-env",
      "language": "python",
      "name": "python3"
    },
    "language_info": {
      "name": "python",
      "version": "3.11.5"
    }
  },
  "nbformat": 4,
  "nbformat_minor": 0
}

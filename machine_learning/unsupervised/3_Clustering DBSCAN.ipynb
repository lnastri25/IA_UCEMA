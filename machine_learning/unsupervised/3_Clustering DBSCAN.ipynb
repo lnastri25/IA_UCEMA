{
 "cells": [
  {
   "cell_type": "markdown",
   "metadata": {
    "id": "GZfqh63vmjay"
   },
   "source": [
    "### CLUSTERING: DBSCAN"
   ]
  },
  {
   "cell_type": "code",
   "execution_count": 1,
   "metadata": {
    "colab": {
     "base_uri": "https://localhost:8080/"
    },
    "executionInfo": {
     "elapsed": 19613,
     "status": "ok",
     "timestamp": 1683066916034,
     "user": {
      "displayName": "Mariela Iaccarino",
      "userId": "17889100390871209666"
     },
     "user_tz": 180
    },
    "id": "BSvEaJkX_rT-",
    "outputId": "7e128318-b176-41d8-f1fc-cfe1fc9509ab"
   },
   "outputs": [
    {
     "name": "stdout",
     "output_type": "stream",
     "text": [
      "Collecting pydataset\n",
      "  Downloading pydataset-0.2.0.tar.gz (15.9 MB)\n",
      "\u001b[2K     \u001b[90m━━━━━━━━━━━━━━━━━━━━━━━━━━━━━━━━━━━━━━━━\u001b[0m \u001b[32m15.9/15.9 MB\u001b[0m \u001b[31m37.1 MB/s\u001b[0m eta \u001b[36m0:00:00\u001b[0m00:01\u001b[0m00:01\u001b[0m\n",
      "\u001b[?25h  Preparing metadata (setup.py) ... \u001b[?25ldone\n",
      "\u001b[?25hRequirement already satisfied: pandas in /Users/lolonastri/opt/anaconda3/envs/POO-env/lib/python3.11/site-packages (from pydataset) (2.1.4)\n",
      "Requirement already satisfied: numpy<2,>=1.23.2 in /Users/lolonastri/opt/anaconda3/envs/POO-env/lib/python3.11/site-packages (from pandas->pydataset) (1.25.2)\n",
      "Requirement already satisfied: python-dateutil>=2.8.2 in /Users/lolonastri/opt/anaconda3/envs/POO-env/lib/python3.11/site-packages (from pandas->pydataset) (2.8.2)\n",
      "Requirement already satisfied: pytz>=2020.1 in /Users/lolonastri/opt/anaconda3/envs/POO-env/lib/python3.11/site-packages (from pandas->pydataset) (2023.3.post1)\n",
      "Requirement already satisfied: tzdata>=2022.1 in /Users/lolonastri/opt/anaconda3/envs/POO-env/lib/python3.11/site-packages (from pandas->pydataset) (2023.3)\n",
      "Requirement already satisfied: six>=1.5 in /Users/lolonastri/opt/anaconda3/envs/POO-env/lib/python3.11/site-packages (from python-dateutil>=2.8.2->pandas->pydataset) (1.16.0)\n",
      "Building wheels for collected packages: pydataset\n",
      "  Building wheel for pydataset (setup.py) ... \u001b[?25ldone\n",
      "\u001b[?25h  Created wheel for pydataset: filename=pydataset-0.2.0-py3-none-any.whl size=15939414 sha256=6afc5dc8063bba5b5aea8f2874c7bfcce119f7ff0aa7cadd7db55808208b3c3f\n",
      "  Stored in directory: /Users/lolonastri/Library/Caches/pip/wheels/29/93/3f/af54c413cecaac292940342c61882d2a8848674175d0bb0889\n",
      "Successfully built pydataset\n",
      "Installing collected packages: pydataset\n",
      "Successfully installed pydataset-0.2.0\n"
     ]
    }
   ],
   "source": [
    "!pip install pydataset"
   ]
  },
  {
   "cell_type": "code",
   "execution_count": 2,
   "metadata": {
    "colab": {
     "base_uri": "https://localhost:8080/",
     "height": 225
    },
    "executionInfo": {
     "elapsed": 6915,
     "status": "ok",
     "timestamp": 1683066922945,
     "user": {
      "displayName": "Mariela Iaccarino",
      "userId": "17889100390871209666"
     },
     "user_tz": 180
    },
    "id": "3suQN760_iso",
    "outputId": "e5220c21-5d3b-4b92-e0db-3b73aa7bfc3f"
   },
   "outputs": [
    {
     "name": "stdout",
     "output_type": "stream",
     "text": [
      "Intel MKL WARNING: Support of Intel(R) Streaming SIMD Extensions 4.2 (Intel(R) SSE4.2) enabled only processors has been deprecated. Intel oneAPI Math Kernel Library 2025.0 will require Intel(R) Advanced Vector Extensions (Intel(R) AVX) instructions.\n",
      "Intel MKL WARNING: Support of Intel(R) Streaming SIMD Extensions 4.2 (Intel(R) SSE4.2) enabled only processors has been deprecated. Intel oneAPI Math Kernel Library 2025.0 will require Intel(R) Advanced Vector Extensions (Intel(R) AVX) instructions.\n",
      "initiated datasets repo at: /Users/lolonastri/.pydataset/\n"
     ]
    },
    {
     "data": {
      "text/html": [
       "<div>\n",
       "<style scoped>\n",
       "    .dataframe tbody tr th:only-of-type {\n",
       "        vertical-align: middle;\n",
       "    }\n",
       "\n",
       "    .dataframe tbody tr th {\n",
       "        vertical-align: top;\n",
       "    }\n",
       "\n",
       "    .dataframe thead th {\n",
       "        text-align: right;\n",
       "    }\n",
       "</style>\n",
       "<table border=\"1\" class=\"dataframe\">\n",
       "  <thead>\n",
       "    <tr style=\"text-align: right;\">\n",
       "      <th></th>\n",
       "      <th>Sepal.Length</th>\n",
       "      <th>Sepal.Width</th>\n",
       "      <th>Petal.Length</th>\n",
       "      <th>Petal.Width</th>\n",
       "      <th>Species</th>\n",
       "      <th>Color</th>\n",
       "    </tr>\n",
       "  </thead>\n",
       "  <tbody>\n",
       "    <tr>\n",
       "      <th>1</th>\n",
       "      <td>5.1</td>\n",
       "      <td>3.5</td>\n",
       "      <td>1.4</td>\n",
       "      <td>0.2</td>\n",
       "      <td>setosa</td>\n",
       "      <td>green</td>\n",
       "    </tr>\n",
       "    <tr>\n",
       "      <th>2</th>\n",
       "      <td>4.9</td>\n",
       "      <td>3.0</td>\n",
       "      <td>1.4</td>\n",
       "      <td>0.2</td>\n",
       "      <td>setosa</td>\n",
       "      <td>green</td>\n",
       "    </tr>\n",
       "    <tr>\n",
       "      <th>3</th>\n",
       "      <td>4.7</td>\n",
       "      <td>3.2</td>\n",
       "      <td>1.3</td>\n",
       "      <td>0.2</td>\n",
       "      <td>setosa</td>\n",
       "      <td>green</td>\n",
       "    </tr>\n",
       "    <tr>\n",
       "      <th>4</th>\n",
       "      <td>4.6</td>\n",
       "      <td>3.1</td>\n",
       "      <td>1.5</td>\n",
       "      <td>0.2</td>\n",
       "      <td>setosa</td>\n",
       "      <td>green</td>\n",
       "    </tr>\n",
       "    <tr>\n",
       "      <th>5</th>\n",
       "      <td>5.0</td>\n",
       "      <td>3.6</td>\n",
       "      <td>1.4</td>\n",
       "      <td>0.2</td>\n",
       "      <td>setosa</td>\n",
       "      <td>green</td>\n",
       "    </tr>\n",
       "  </tbody>\n",
       "</table>\n",
       "</div>"
      ],
      "text/plain": [
       "   Sepal.Length  Sepal.Width  Petal.Length  Petal.Width Species  Color\n",
       "1           5.1          3.5           1.4          0.2  setosa  green\n",
       "2           4.9          3.0           1.4          0.2  setosa  green\n",
       "3           4.7          3.2           1.3          0.2  setosa  green\n",
       "4           4.6          3.1           1.5          0.2  setosa  green\n",
       "5           5.0          3.6           1.4          0.2  setosa  green"
      ]
     },
     "execution_count": 2,
     "metadata": {},
     "output_type": "execute_result"
    }
   ],
   "source": [
    "from pydataset import data\n",
    "import numpy as np\n",
    "import pandas as pd\n",
    "import matplotlib.pyplot as plt\n",
    "from sklearn.cluster import DBSCAN\n",
    "\n",
    "# Carga del datset\n",
    "iris_original = data('iris')\n",
    "# Copia para luego validar\n",
    "iris = iris_original.copy()\n",
    "# Se eliminan las etiquetas\n",
    "del iris['Species']\n",
    "\n",
    "# Asignación de colores\n",
    "iris_original['Color']='red' # Nueva columna con el color\n",
    "iris_original.loc[iris_original.Species == \"setosa\",'Color']='green'\n",
    "iris_original.loc[iris_original.Species == \"versicolor\",'Color']='blue'\n",
    "iris_original.head()\n"
   ]
  },
  {
   "cell_type": "code",
   "execution_count": 3,
   "metadata": {
    "colab": {
     "base_uri": "https://localhost:8080/"
    },
    "executionInfo": {
     "elapsed": 356,
     "status": "ok",
     "timestamp": 1683066931804,
     "user": {
      "displayName": "Mariela Iaccarino",
      "userId": "17889100390871209666"
     },
     "user_tz": 180
    },
    "id": "q6M29jBy_isr",
    "outputId": "0fef0fb5-0973-4dd5-93ff-1ae94eaccbc0"
   },
   "outputs": [
    {
     "name": "stdout",
     "output_type": "stream",
     "text": [
      "{0, 1, -1}\n"
     ]
    }
   ],
   "source": [
    "from sklearn.cluster import DBSCAN\n",
    "import matplotlib.pyplot as plt\n",
    "\n",
    "# Get current size\n",
    "fig_size = plt.rcParams[\"figure.figsize\"]\n",
    "fig_size[0] = 16\n",
    "fig_size[1] = 9\n",
    "plt.rcParams[\"figure.figsize\"] = fig_size\n",
    " \n",
    "db = DBSCAN(eps=0.7, min_samples=10).fit(iris) # min_samples es el número mínimo de puntos para formar un cluster; mientras más alto sea, menos clusters se formarán\n",
    "\n",
    "cluster_labels = db.labels_\n",
    "print(set(cluster_labels))\n",
    "n_clusters = len(set(cluster_labels))"
   ]
  },
  {
   "cell_type": "code",
   "execution_count": 4,
   "metadata": {
    "colab": {
     "base_uri": "https://localhost:8080/"
    },
    "executionInfo": {
     "elapsed": 9,
     "status": "ok",
     "timestamp": 1683066922946,
     "user": {
      "displayName": "Mariela Iaccarino",
      "userId": "17889100390871209666"
     },
     "user_tz": 180
    },
    "id": "EKgyEyQL_ist",
    "outputId": "75fc5d2e-5426-47a8-ab0a-8eb4dcaf7891",
    "scrolled": true
   },
   "outputs": [
    {
     "data": {
      "text/plain": [
       "array([ 0,  0,  0,  0,  0,  0,  0,  0,  0,  0,  0,  0,  0,  0,  0,  0,  0,\n",
       "        0,  0,  0,  0,  0,  0,  0,  0,  0,  0,  0,  0,  0,  0,  0,  0,  0,\n",
       "        0,  0,  0,  0,  0,  0,  0,  0,  0,  0,  0,  0,  0,  0,  0,  0,  1,\n",
       "        1,  1,  1,  1,  1,  1, -1,  1,  1,  1,  1,  1,  1,  1,  1,  1,  1,\n",
       "        1,  1,  1,  1,  1,  1,  1,  1,  1,  1,  1,  1,  1,  1,  1,  1,  1,\n",
       "        1,  1,  1,  1,  1,  1,  1,  1,  1,  1,  1,  1,  1, -1,  1,  1,  1,\n",
       "        1,  1,  1, -1, -1,  1,  1,  1,  1,  1,  1,  1,  1,  1,  1, -1, -1,\n",
       "        1,  1,  1, -1,  1,  1,  1,  1,  1,  1,  1,  1, -1,  1,  1,  1,  1,\n",
       "        1,  1,  1,  1,  1,  1,  1,  1,  1,  1,  1,  1,  1,  1])"
      ]
     },
     "execution_count": 4,
     "metadata": {},
     "output_type": "execute_result"
    }
   ],
   "source": [
    "cluster_labels\n",
    "# inicializa en 0 pero usa -1\n",
    "# -1 significa que no pertenece a ningún cluster --> outlier"
   ]
  },
  {
   "cell_type": "code",
   "execution_count": 5,
   "metadata": {
    "colab": {
     "base_uri": "https://localhost:8080/"
    },
    "executionInfo": {
     "elapsed": 8,
     "status": "ok",
     "timestamp": 1683066922946,
     "user": {
      "displayName": "Mariela Iaccarino",
      "userId": "17889100390871209666"
     },
     "user_tz": 180
    },
    "id": "wYYiSK18_ist",
    "outputId": "8a12c84b-7709-492a-e2f2-48aac2959392"
   },
   "outputs": [
    {
     "data": {
      "text/plain": [
       "3"
      ]
     },
     "execution_count": 5,
     "metadata": {},
     "output_type": "execute_result"
    }
   ],
   "source": [
    "n_clusters"
   ]
  },
  {
   "cell_type": "code",
   "execution_count": 6,
   "metadata": {
    "colab": {
     "base_uri": "https://localhost:8080/",
     "height": 206
    },
    "executionInfo": {
     "elapsed": 531,
     "status": "ok",
     "timestamp": 1683066923470,
     "user": {
      "displayName": "Mariela Iaccarino",
      "userId": "17889100390871209666"
     },
     "user_tz": 180
    },
    "id": "TRFBBJgQ_isu",
    "outputId": "f4c7266f-16c1-4375-b4a6-1881941e54c8"
   },
   "outputs": [
    {
     "data": {
      "text/html": [
       "<div>\n",
       "<style scoped>\n",
       "    .dataframe tbody tr th:only-of-type {\n",
       "        vertical-align: middle;\n",
       "    }\n",
       "\n",
       "    .dataframe tbody tr th {\n",
       "        vertical-align: top;\n",
       "    }\n",
       "\n",
       "    .dataframe thead th {\n",
       "        text-align: right;\n",
       "    }\n",
       "</style>\n",
       "<table border=\"1\" class=\"dataframe\">\n",
       "  <thead>\n",
       "    <tr style=\"text-align: right;\">\n",
       "      <th></th>\n",
       "      <th>Sepal.Length</th>\n",
       "      <th>Sepal.Width</th>\n",
       "      <th>Petal.Length</th>\n",
       "      <th>Petal.Width</th>\n",
       "      <th>Species</th>\n",
       "      <th>Color</th>\n",
       "      <th>Cluster</th>\n",
       "    </tr>\n",
       "  </thead>\n",
       "  <tbody>\n",
       "    <tr>\n",
       "      <th>1</th>\n",
       "      <td>5.1</td>\n",
       "      <td>3.5</td>\n",
       "      <td>1.4</td>\n",
       "      <td>0.2</td>\n",
       "      <td>setosa</td>\n",
       "      <td>green</td>\n",
       "      <td>0</td>\n",
       "    </tr>\n",
       "    <tr>\n",
       "      <th>2</th>\n",
       "      <td>4.9</td>\n",
       "      <td>3.0</td>\n",
       "      <td>1.4</td>\n",
       "      <td>0.2</td>\n",
       "      <td>setosa</td>\n",
       "      <td>green</td>\n",
       "      <td>0</td>\n",
       "    </tr>\n",
       "    <tr>\n",
       "      <th>3</th>\n",
       "      <td>4.7</td>\n",
       "      <td>3.2</td>\n",
       "      <td>1.3</td>\n",
       "      <td>0.2</td>\n",
       "      <td>setosa</td>\n",
       "      <td>green</td>\n",
       "      <td>0</td>\n",
       "    </tr>\n",
       "    <tr>\n",
       "      <th>4</th>\n",
       "      <td>4.6</td>\n",
       "      <td>3.1</td>\n",
       "      <td>1.5</td>\n",
       "      <td>0.2</td>\n",
       "      <td>setosa</td>\n",
       "      <td>green</td>\n",
       "      <td>0</td>\n",
       "    </tr>\n",
       "    <tr>\n",
       "      <th>5</th>\n",
       "      <td>5.0</td>\n",
       "      <td>3.6</td>\n",
       "      <td>1.4</td>\n",
       "      <td>0.2</td>\n",
       "      <td>setosa</td>\n",
       "      <td>green</td>\n",
       "      <td>0</td>\n",
       "    </tr>\n",
       "  </tbody>\n",
       "</table>\n",
       "</div>"
      ],
      "text/plain": [
       "   Sepal.Length  Sepal.Width  Petal.Length  Petal.Width Species  Color  \\\n",
       "1           5.1          3.5           1.4          0.2  setosa  green   \n",
       "2           4.9          3.0           1.4          0.2  setosa  green   \n",
       "3           4.7          3.2           1.3          0.2  setosa  green   \n",
       "4           4.6          3.1           1.5          0.2  setosa  green   \n",
       "5           5.0          3.6           1.4          0.2  setosa  green   \n",
       "\n",
       "   Cluster  \n",
       "1        0  \n",
       "2        0  \n",
       "3        0  \n",
       "4        0  \n",
       "5        0  "
      ]
     },
     "execution_count": 6,
     "metadata": {},
     "output_type": "execute_result"
    }
   ],
   "source": [
    "# Añade las etiquetas al dataset original\n",
    "iris_original['Cluster']= cluster_labels\n",
    "iris_original.head()"
   ]
  },
  {
   "cell_type": "code",
   "execution_count": 7,
   "metadata": {
    "colab": {
     "base_uri": "https://localhost:8080/",
     "height": 206
    },
    "executionInfo": {
     "elapsed": 7,
     "status": "ok",
     "timestamp": 1683066923471,
     "user": {
      "displayName": "Mariela Iaccarino",
      "userId": "17889100390871209666"
     },
     "user_tz": 180
    },
    "id": "fvbwLdon_isu",
    "outputId": "60901d0b-9c36-41ad-a432-a58a392c9705"
   },
   "outputs": [
    {
     "data": {
      "text/html": [
       "<div>\n",
       "<style scoped>\n",
       "    .dataframe tbody tr th:only-of-type {\n",
       "        vertical-align: middle;\n",
       "    }\n",
       "\n",
       "    .dataframe tbody tr th {\n",
       "        vertical-align: top;\n",
       "    }\n",
       "\n",
       "    .dataframe thead th {\n",
       "        text-align: right;\n",
       "    }\n",
       "</style>\n",
       "<table border=\"1\" class=\"dataframe\">\n",
       "  <thead>\n",
       "    <tr style=\"text-align: right;\">\n",
       "      <th></th>\n",
       "      <th>Sepal.Length</th>\n",
       "      <th>Sepal.Width</th>\n",
       "      <th>Petal.Length</th>\n",
       "      <th>Petal.Width</th>\n",
       "      <th>Species</th>\n",
       "      <th>Color</th>\n",
       "      <th>Cluster</th>\n",
       "      <th>Color2</th>\n",
       "    </tr>\n",
       "  </thead>\n",
       "  <tbody>\n",
       "    <tr>\n",
       "      <th>1</th>\n",
       "      <td>5.1</td>\n",
       "      <td>3.5</td>\n",
       "      <td>1.4</td>\n",
       "      <td>0.2</td>\n",
       "      <td>setosa</td>\n",
       "      <td>green</td>\n",
       "      <td>0</td>\n",
       "      <td>cyan</td>\n",
       "    </tr>\n",
       "    <tr>\n",
       "      <th>2</th>\n",
       "      <td>4.9</td>\n",
       "      <td>3.0</td>\n",
       "      <td>1.4</td>\n",
       "      <td>0.2</td>\n",
       "      <td>setosa</td>\n",
       "      <td>green</td>\n",
       "      <td>0</td>\n",
       "      <td>cyan</td>\n",
       "    </tr>\n",
       "    <tr>\n",
       "      <th>3</th>\n",
       "      <td>4.7</td>\n",
       "      <td>3.2</td>\n",
       "      <td>1.3</td>\n",
       "      <td>0.2</td>\n",
       "      <td>setosa</td>\n",
       "      <td>green</td>\n",
       "      <td>0</td>\n",
       "      <td>cyan</td>\n",
       "    </tr>\n",
       "    <tr>\n",
       "      <th>4</th>\n",
       "      <td>4.6</td>\n",
       "      <td>3.1</td>\n",
       "      <td>1.5</td>\n",
       "      <td>0.2</td>\n",
       "      <td>setosa</td>\n",
       "      <td>green</td>\n",
       "      <td>0</td>\n",
       "      <td>cyan</td>\n",
       "    </tr>\n",
       "    <tr>\n",
       "      <th>5</th>\n",
       "      <td>5.0</td>\n",
       "      <td>3.6</td>\n",
       "      <td>1.4</td>\n",
       "      <td>0.2</td>\n",
       "      <td>setosa</td>\n",
       "      <td>green</td>\n",
       "      <td>0</td>\n",
       "      <td>cyan</td>\n",
       "    </tr>\n",
       "  </tbody>\n",
       "</table>\n",
       "</div>"
      ],
      "text/plain": [
       "   Sepal.Length  Sepal.Width  Petal.Length  Petal.Width Species  Color  \\\n",
       "1           5.1          3.5           1.4          0.2  setosa  green   \n",
       "2           4.9          3.0           1.4          0.2  setosa  green   \n",
       "3           4.7          3.2           1.3          0.2  setosa  green   \n",
       "4           4.6          3.1           1.5          0.2  setosa  green   \n",
       "5           5.0          3.6           1.4          0.2  setosa  green   \n",
       "\n",
       "   Cluster Color2  \n",
       "1        0   cyan  \n",
       "2        0   cyan  \n",
       "3        0   cyan  \n",
       "4        0   cyan  \n",
       "5        0   cyan  "
      ]
     },
     "execution_count": 7,
     "metadata": {},
     "output_type": "execute_result"
    }
   ],
   "source": [
    "# Asigna colores a cada clúster\n",
    "iris_original['Color2']='yellow' # Nueva columna con el color\n",
    "iris_original.loc[iris_original.Cluster == 1,'Color2']='brown'\n",
    "iris_original.loc[iris_original.Cluster == 0,'Color2']='cyan'\n",
    "iris_original.head()"
   ]
  },
  {
   "cell_type": "code",
   "execution_count": 8,
   "metadata": {
    "colab": {
     "base_uri": "https://localhost:8080/"
    },
    "executionInfo": {
     "elapsed": 6,
     "status": "ok",
     "timestamp": 1683066923471,
     "user": {
      "displayName": "Mariela Iaccarino",
      "userId": "17889100390871209666"
     },
     "user_tz": 180
    },
    "id": "DHu89KSN_isv",
    "outputId": "c1399ac4-98d8-4e48-d78c-a5f9d12c666b"
   },
   "outputs": [
    {
     "name": "stdout",
     "output_type": "stream",
     "text": [
      "Cluster     -1   0   1\n",
      "Species               \n",
      "setosa       0  50   0\n",
      "versicolor   2   0  48\n",
      "virginica    6   0  44\n"
     ]
    }
   ],
   "source": [
    "ct = pd.crosstab(\n",
    "    iris_original['Species'],\n",
    "    iris_original['Cluster'])\n",
    "print(ct)"
   ]
  },
  {
   "cell_type": "code",
   "execution_count": 9,
   "metadata": {
    "colab": {
     "base_uri": "https://localhost:8080/",
     "height": 619
    },
    "executionInfo": {
     "elapsed": 1270,
     "status": "ok",
     "timestamp": 1683066924737,
     "user": {
      "displayName": "Mariela Iaccarino",
      "userId": "17889100390871209666"
     },
     "user_tz": 180
    },
    "id": "94_vG4fo_isv",
    "outputId": "5a2c7ceb-8d2c-4aae-9f52-9c54a09be38c",
    "scrolled": false
   },
   "outputs": [
    {
     "data": {
      "image/png": "[encoded data removed]",
      "text/plain": [
       "<Figure size 1400x700 with 2 Axes>"
      ]
     },
     "metadata": {},
     "output_type": "display_data"
    }
   ],
   "source": [
    "from pylab import rcParams\n",
    "\n",
    "rcParams['figure.figsize'] = 14, 7\n",
    "# Subplots para comparar la clusterización con los datos etiquetados: Información de pètalos\n",
    "fig, axes = plt.subplots(nrows=1, ncols=2)\n",
    "\n",
    "# Primer subplot\n",
    "# Selecciona las observaciones de cada especie y las presenta en scatter plots\n",
    "specie = iris_original.loc[iris_original.Species == 'setosa',:]\n",
    "specie.plot(ax=axes[0,],x='Petal.Length', y='Petal.Width',\n",
    "          c=specie.Color,kind='scatter')\n",
    "specie = iris_original.loc[iris_original.Species == 'versicolor',:]\n",
    "specie.plot(ax=axes[0,],x='Petal.Length', y='Petal.Width',\n",
    "          c=specie.Color,kind='scatter')\n",
    "specie = iris_original.loc[iris_original.Species == 'virginica',:]\n",
    "ax1=specie.plot(ax=axes[0,],x='Petal.Length', y='Petal.Width',\n",
    "          c=specie.Color,kind='scatter')\n",
    "# Añade leyenda\n",
    "ax1.legend(('setosa', 'versicolor', 'virginica'), loc='best') \n",
    "\n",
    "\n",
    "# Segundo subplot\n",
    "# Selecciona las observaciones de cada clúster y las presenta en scatter plots\n",
    "cluster = iris_original.loc[iris_original.Cluster == 0,:]\n",
    "cluster.plot(ax=axes[1,],x='Petal.Length', y='Petal.Width',\n",
    "          c=cluster.Color2,kind='scatter')\n",
    "cluster = iris_original.loc[iris_original.Cluster == 1,:]\n",
    "cluster.plot(ax=axes[1,],x='Petal.Length', y='Petal.Width',\n",
    "          c=cluster.Color2,kind='scatter')\n",
    "cluster = iris_original.loc[iris_original.Cluster == -1,:]\n",
    "ax2=cluster.plot(ax=axes[1,],x='Petal.Length', y='Petal.Width',\n",
    "          c=cluster.Color2,kind='scatter')\n",
    "# Añade leyenda\n",
    "ax2.legend(('Clúster 0','Clúster 1','Outliers'), loc='best') \n",
    "\n",
    "plt.show()"
   ]
  },
  {
   "cell_type": "code",
   "execution_count": 10,
   "metadata": {
    "colab": {
     "base_uri": "https://localhost:8080/",
     "height": 620
    },
    "executionInfo": {
     "elapsed": 871,
     "status": "ok",
     "timestamp": 1683066925604,
     "user": {
      "displayName": "Mariela Iaccarino",
      "userId": "17889100390871209666"
     },
     "user_tz": 180
    },
    "id": "b-mJPWrm_isw",
    "outputId": "a40bcf48-e550-4b48-dbf1-a764e6bfa131"
   },
   "outputs": [
    {
     "data": {
      "image/png": "[encoded data removed]",
      "text/plain": [
       "<Figure size 1400x700 with 2 Axes>"
      ]
     },
     "metadata": {},
     "output_type": "display_data"
    }
   ],
   "source": [
    "from pylab import rcParams\n",
    "\n",
    "rcParams['figure.figsize'] = 14, 7\n",
    "# Subplots para comparar la clusterización con los datos etiquetados: Información de sèpalos\n",
    "fig, axes = plt.subplots(nrows=1, ncols=2)\n",
    "\n",
    "# Primer subplot\n",
    "# Selecciona las observaciones de cada especie y las presenta en scatter plots\n",
    "specie = iris_original.loc[iris_original.Species == 'setosa',:]\n",
    "specie.plot(ax=axes[0,],x='Sepal.Length', y='Sepal.Width',\n",
    "          c=specie.Color,kind='scatter')\n",
    "specie = iris_original.loc[iris_original.Species == 'versicolor',:]\n",
    "specie.plot(ax=axes[0,],x='Sepal.Length', y='Sepal.Width',\n",
    "          c=specie.Color,kind='scatter')\n",
    "specie = iris_original.loc[iris_original.Species == 'virginica',:]\n",
    "ax1=specie.plot(ax=axes[0,],x='Sepal.Length', y='Sepal.Width',\n",
    "          c=specie.Color,kind='scatter')\n",
    "\n",
    "# Añade leyenda\n",
    "ax1.legend(('setosa', 'versicolor', 'virginica'), loc='best') \n",
    "\n",
    "\n",
    "\n",
    "# Segundo subplot\n",
    "# Selecciona las observaciones de cada clúster y las presenta en scatter plots\n",
    "cluster = iris_original.loc[iris_original.Cluster == 0,:]\n",
    "cluster.plot(ax=axes[1,],x='Sepal.Length', y='Sepal.Width',\n",
    "          c=cluster.Color2,kind='scatter')\n",
    "cluster = iris_original.loc[iris_original.Cluster == 1,:]\n",
    "cluster.plot(ax=axes[1,],x='Sepal.Length', y='Sepal.Width',\n",
    "          c=cluster.Color2,kind='scatter')\n",
    "cluster = iris_original.loc[iris_original.Cluster == -1,:]\n",
    "ax2=cluster.plot(ax=axes[1,],x='Sepal.Length', y='Sepal.Width',\n",
    "          c=cluster.Color2,kind='scatter')\n",
    "\n",
    "# Añade leyenda\n",
    "ax2.legend(('Clúster 0','Clùster 1','Outliers'), loc='best') \n",
    "\n",
    "\n",
    "plt.show()"
   ]
  },
  {
   "cell_type": "code",
   "execution_count": 11,
   "metadata": {
    "colab": {
     "base_uri": "https://localhost:8080/"
    },
    "executionInfo": {
     "elapsed": 8,
     "status": "ok",
     "timestamp": 1683066925604,
     "user": {
      "displayName": "Mariela Iaccarino",
      "userId": "17889100390871209666"
     },
     "user_tz": 180
    },
    "id": "YXs-1uwr_isy",
    "outputId": "01451246-5638-4ccb-a7c6-a6b45b72094f"
   },
   "outputs": [
    {
     "name": "stdout",
     "output_type": "stream",
     "text": [
      "Cluster     -1   0   1\n",
      "Species               \n",
      "setosa       0  50   0\n",
      "versicolor   2   0  48\n",
      "virginica    6   0  44\n"
     ]
    }
   ],
   "source": [
    "ct = pd.crosstab(\n",
    "    iris_original['Species'],\n",
    "    iris_original['Cluster'])\n",
    "print(ct)"
   ]
  }
 ],
 "metadata": {
  "colab": {
   "provenance": []
  },
  "kernelspec": {
   "display_name": "POO-env",
   "language": "python",
   "name": "python3"
  },
  "language_info": {
   "codemirror_mode": {
    "name": "ipython",
    "version": 3
   },
   "file_extension": ".py",
   "mimetype": "text/x-python",
   "name": "python",
   "nbconvert_exporter": "python",
   "pygments_lexer": "ipython3",
   "version": "3.11.5"
  }
 },
 "nbformat": 4,
 "nbformat_minor": 0
}

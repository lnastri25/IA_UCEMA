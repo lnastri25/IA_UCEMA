{
  "nbformat": 4,
  "nbformat_minor": 0,
  "metadata": {
    "colab": {
      "provenance": []
    },
    "kernelspec": {
      "name": "python3",
      "display_name": "Python 3"
    }
  },
  "cells": [
    {
      "cell_type": "markdown",
      "metadata": {
        "id": "3fX7mfDI-Myo"
      },
      "source": [
        "# Introducción al procesamiento de texto en Python\n",
        "\n",
        "### Procesamiento del Lenguaje Natural\n",
        "\n"
      ]
    },
    {
      "cell_type": "markdown",
      "metadata": {
        "id": "ur6eynOKAXVi"
      },
      "source": [
        "# Trabajando con cadenas de texto en Python \n"
      ]
    },
    {
      "cell_type": "markdown",
      "metadata": {
        "id": "oeSF56lGPdB-"
      },
      "source": [
        "El tipo de datos básico para representar texto en Python es el *string*. Un objeto cadena o *string* se define generalmente asignando a una variable una cadena de texto definida entre comillas simples (`'`) o dobles (`\"`) o convirtiendo otro tipo de datos (como los numéricos) en una cadena utilizando la función `str()`."
      ]
    },
    {
      "cell_type": "code",
      "metadata": {
        "id": "7iKGUx0oDEeM",
        "colab": {
          "base_uri": "https://localhost:8080/"
        },
        "outputId": "e3a89478-8348-4ad6-d907-d75d54b6a186"
      },
      "source": [
        "# Define string variables\n",
        "t1='this is a string'\n",
        "print(t1)\n",
        "t2 =\"t2 too!\"\n",
        "print(t2)"
      ],
      "execution_count": null,
      "outputs": [
        {
          "output_type": "stream",
          "name": "stdout",
          "text": [
            "this is a string\n",
            "t2 too!\n"
          ]
        }
      ]
    },
    {
      "cell_type": "code",
      "metadata": {
        "id": "jknu1MMmDupn",
        "colab": {
          "base_uri": "https://localhost:8080/"
        },
        "outputId": "866da27c-fb8a-4fa8-8aff-8cafaf37f72f"
      },
      "source": [
        "# Convert a number to string\n",
        "n = 500\n",
        "print(n)\n",
        "print(type(n))\n",
        "n_string = str(n)\n",
        "print(n_string)\n",
        "print(type(n_string))"
      ],
      "execution_count": null,
      "outputs": [
        {
          "output_type": "stream",
          "name": "stdout",
          "text": [
            "500\n",
            "<class 'int'>\n",
            "500\n",
            "<class 'str'>\n"
          ]
        }
      ]
    },
    {
      "cell_type": "markdown",
      "metadata": {
        "id": "vbemSFuiEPEM"
      },
      "source": [
        "## Métodos del objeto *string*\n",
        "\n",
        "Python se considera generalmente una buena opción cuando se trata de trabajar con archivos de texto de cualquier tipo y tamaño, ya que el objeto *string* tiene un gran número de métodos incorporados que facilitan su manipulación."
      ]
    },
    {
      "cell_type": "markdown",
      "metadata": {
        "id": "xXvikszCgjSM"
      },
      "source": [
        "Para utilizar los objetos predefinidos en Python (como el objeto *string*) y acceder a sus métodos y/o atributos solo necesitamos saber:\n",
        "* Para utilizar los métodos de un objeto `my_object`, utilizar siempre la sintaxis `my_object.method()`.\n",
        "\n",
        "* Si queremos saber qué métodos tiene un objeto en Google Colab, podemos escribir `my_object` y esperar, y Google Colab produce una lista de todos los métodos disponibles para ese objeto.\n",
        "\n",
        "* Todos los métodos del objeto *string* devuelven un nuevo valor como salida. El *string* original no se modifica.\n",
        "\n",
        "Algunos de estos métodos son:\n"
      ]
    },
    {
      "cell_type": "markdown",
      "metadata": {
        "id": "Lf1-xK6TK5qg"
      },
      "source": [
        "* `.capitalize ()`: convierte la primera letra de la cadena en mayúscula."
      ]
    },
    {
      "cell_type": "code",
      "metadata": {
        "id": "i1ck8TBeFC7b",
        "colab": {
          "base_uri": "https://localhost:8080/",
          "height": 36
        },
        "outputId": "1b809d86-5c2c-4ca8-d014-56d3201dbc6d"
      },
      "source": [
        "t1.capitalize()"
      ],
      "execution_count": null,
      "outputs": [
        {
          "output_type": "execute_result",
          "data": {
            "application/vnd.google.colaboratory.intrinsic+json": {
              "type": "string"
            },
            "text/plain": [
              "'This is a string'"
            ]
          },
          "metadata": {},
          "execution_count": 3
        }
      ]
    },
    {
      "cell_type": "markdown",
      "metadata": {
        "id": "IcQXrge_1ctB"
      },
      "source": [
        "* `.upper()`/`.lower()`: convierte todos los caracteres de la cadena de texto en mayúsculas/minúsculas."
      ]
    },
    {
      "cell_type": "code",
      "metadata": {
        "id": "lJkL8-kS1xsg",
        "colab": {
          "base_uri": "https://localhost:8080/"
        },
        "outputId": "c045a2ff-2716-45be-8c2c-7ecb995a1104"
      },
      "source": [
        "t_upper = t1.upper()\n",
        "print(t_upper)\n",
        "t_lower = t_upper.lower()\n",
        "print(t_lower)"
      ],
      "execution_count": null,
      "outputs": [
        {
          "output_type": "stream",
          "text": [
            "THIS IS A STRING\n",
            "this is a string\n"
          ],
          "name": "stdout"
        }
      ]
    },
    {
      "cell_type": "markdown",
      "metadata": {
        "id": "BVZNdSifK2uy"
      },
      "source": [
        "* `.replace ('s1', 's2')`: sustituye los caracteres de la cadena `'s1'` por los caracteres de la cadena `' s2'`."
      ]
    },
    {
      "cell_type": "code",
      "metadata": {
        "id": "lzlk206NLb8K",
        "colab": {
          "base_uri": "https://localhost:8080/",
          "height": 36
        },
        "outputId": "eacf6882-3ef0-4c26-8f9c-409cac80f5a1"
      },
      "source": [
        "t1.replace(' ', ',')"
      ],
      "execution_count": null,
      "outputs": [
        {
          "output_type": "execute_result",
          "data": {
            "application/vnd.google.colaboratory.intrinsic+json": {
              "type": "string"
            },
            "text/plain": [
              "'this,is,a,string'"
            ]
          },
          "metadata": {},
          "execution_count": 5
        }
      ]
    },
    {
      "cell_type": "markdown",
      "metadata": {
        "id": "3B8okwnsLsfU"
      },
      "source": [
        "* `.strip ('s1')`:  directamente elimina de la cadena los caracteres de `'s1'` que estén al principio o final de la cadena."
      ]
    },
    {
      "cell_type": "code",
      "metadata": {
        "id": "8CBhRvF0L5fi",
        "colab": {
          "base_uri": "https://localhost:8080/",
          "height": 36
        },
        "outputId": "98c6c00c-4751-463d-c462-0b6ee58cbee0"
      },
      "source": [
        "'http://www.python.org'.strip('/tph:')"
      ],
      "execution_count": null,
      "outputs": [
        {
          "output_type": "execute_result",
          "data": {
            "application/vnd.google.colaboratory.intrinsic+json": {
              "type": "string"
            },
            "text/plain": [
              "'www.python.org'"
            ]
          },
          "metadata": {},
          "execution_count": 6
        }
      ]
    },
    {
      "cell_type": "code",
      "metadata": {
        "colab": {
          "base_uri": "https://localhost:8080/",
          "height": 36
        },
        "id": "yNrwz5Hguotk",
        "outputId": "a9fe02ef-2f2f-4b74-a9b7-5ab3b0b524c4"
      },
      "source": [
        "',,,,,rrttgg.....banana....rr'.strip(\",.grt\")"
      ],
      "execution_count": null,
      "outputs": [
        {
          "output_type": "execute_result",
          "data": {
            "application/vnd.google.colaboratory.intrinsic+json": {
              "type": "string"
            },
            "text/plain": [
              "'banana'"
            ]
          },
          "metadata": {},
          "execution_count": 7
        }
      ]
    },
    {
      "cell_type": "markdown",
      "metadata": {
        "id": "T95ut-GiGF8J"
      },
      "source": [
        "* .`find ('s') `: dentro del *string* busca la cadena `'s'` y obtiene su posición a partir de la primera letra del *string*. Si hay varias ocurrencias, devuelve la primera posición. En caso de no encontrarla, devuelve un `-1`."
      ]
    },
    {
      "cell_type": "code",
      "metadata": {
        "id": "ue9BHdTkz8OJ",
        "colab": {
          "base_uri": "https://localhost:8080/"
        },
        "outputId": "66a7e096-6d78-4894-a29d-9906ee080436"
      },
      "source": [
        "t1.find('string')"
      ],
      "execution_count": null,
      "outputs": [
        {
          "output_type": "execute_result",
          "data": {
            "text/plain": [
              "10"
            ]
          },
          "metadata": {},
          "execution_count": 8
        }
      ]
    },
    {
      "cell_type": "code",
      "metadata": {
        "id": "vz1AwT0Az8Rv",
        "colab": {
          "base_uri": "https://localhost:8080/"
        },
        "outputId": "565c0ef1-2dd3-44a0-e668-301366ff692f"
      },
      "source": [
        " t1.find('word')"
      ],
      "execution_count": null,
      "outputs": [
        {
          "output_type": "execute_result",
          "data": {
            "text/plain": [
              "-1"
            ]
          },
          "metadata": {},
          "execution_count": 9
        }
      ]
    },
    {
      "cell_type": "markdown",
      "metadata": {
        "id": "twmsmpS9L-WL"
      },
      "source": [
        "* `.split ('s')`:  divide el texto en varias cadenas utilizando el carácter `'s'` como separador."
      ]
    },
    {
      "cell_type": "code",
      "metadata": {
        "id": "AUHku0QXFS6z",
        "colab": {
          "base_uri": "https://localhost:8080/"
        },
        "outputId": "122b1df3-249c-4de9-9ba6-4be860e268dd"
      },
      "source": [
        "# Split by the character 'i'\n",
        "print(t1.split('i'))\n",
        "# Split by the character ' ' (blank space)\n",
        "print(t1.split(' '))\n",
        "\n",
        "# If a splitter character is not provided, by default, the blank space is used\n",
        "print(t1.split())\n"
      ],
      "execution_count": null,
      "outputs": [
        {
          "output_type": "stream",
          "text": [
            "['th', 's ', 's a str', 'ng']\n",
            "['this', 'is', 'a', 'string']\n",
            "['this', 'is', 'a', 'string']\n"
          ],
          "name": "stdout"
        }
      ]
    },
    {
      "cell_type": "markdown",
      "metadata": {
        "id": "lMN8b1sqk-kZ"
      },
      "source": [
        "*Nota*: al aplicar el método `.split()`, el carácter separador `s` desaparece de las cadenas resultantes. Y además, el resultado del método es una lista con varios elementos donde cada elemento es un *string*. Más adelante revisaremos qué son las listas de Python y cómo operar con ellas."
      ]
    },
    {
      "cell_type": "markdown",
      "metadata": {
        "id": "3dwVveKQ0t4j"
      },
      "source": [
        "* `s.join ([list])`:  une los elementos de la lista con el carácter `'s'` y crea una nueva cadena. Es decir, permite deshacer lo que hace el método `.split ('s')`."
      ]
    },
    {
      "cell_type": "code",
      "metadata": {
        "id": "3rxliAT41FFj",
        "colab": {
          "base_uri": "https://localhost:8080/",
          "height": 54
        },
        "outputId": "a8c1e8db-bb94-4d17-c28e-b5a9fdfdefdf"
      },
      "source": [
        "splitted_list = t1.split(' ')\n",
        "print(splitted_list)\n",
        "' '.join(splitted_list)"
      ],
      "execution_count": null,
      "outputs": [
        {
          "output_type": "stream",
          "text": [
            "['this', 'is', 'a', 'string']\n"
          ],
          "name": "stdout"
        },
        {
          "output_type": "execute_result",
          "data": {
            "application/vnd.google.colaboratory.intrinsic+json": {
              "type": "string"
            },
            "text/plain": [
              "'this is a string'"
            ]
          },
          "metadata": {
            "tags": []
          },
          "execution_count": 200
        }
      ]
    },
    {
      "cell_type": "markdown",
      "metadata": {
        "id": "jnOmwZ-qIeVa"
      },
      "source": [
        "Muchas veces se concatena el uso de `split()` y `.join()` para eliminar múltiples espacios entre las palabras."
      ]
    },
    {
      "cell_type": "code",
      "metadata": {
        "colab": {
          "base_uri": "https://localhost:8080/"
        },
        "id": "nN_dc_4zIuPM",
        "outputId": "a4a9702e-8840-4a48-c00b-b071a5252a8b"
      },
      "source": [
        "t1='This    is a    string'\n",
        "print(t1)\n",
        "print(' '.join(t1.split()))"
      ],
      "execution_count": null,
      "outputs": [
        {
          "output_type": "stream",
          "text": [
            "This    is a    string\n",
            "This is a string\n"
          ],
          "name": "stdout"
        }
      ]
    },
    {
      "cell_type": "markdown",
      "metadata": {
        "id": "txaRjxe3BUmi"
      },
      "source": [
        "* `.isalpha`: devuelve `True` si todos los caracteres de la cadena son letras del alfabeto (`a`-`z`)."
      ]
    },
    {
      "cell_type": "code",
      "metadata": {
        "colab": {
          "base_uri": "https://localhost:8080/"
        },
        "id": "15m4CGdsBoHI",
        "outputId": "a250c6b1-2438-4dbb-f1d4-34b636c535fe"
      },
      "source": [
        "txt = \"CompanyX\"\n",
        "x = txt.isalpha()\n",
        "print(x) "
      ],
      "execution_count": null,
      "outputs": [
        {
          "output_type": "stream",
          "text": [
            "True\n"
          ],
          "name": "stdout"
        }
      ]
    },
    {
      "cell_type": "code",
      "metadata": {
        "colab": {
          "base_uri": "https://localhost:8080/"
        },
        "id": "5Zz15CmcBzQz",
        "outputId": "b9a93e0b-fe57-4d79-d756-b93159193a65"
      },
      "source": [
        "txt = \"Company10\"\n",
        "x = txt.isalpha()\n",
        "print(x) "
      ],
      "execution_count": null,
      "outputs": [
        {
          "output_type": "stream",
          "text": [
            "False\n"
          ],
          "name": "stdout"
        }
      ]
    },
    {
      "cell_type": "markdown",
      "metadata": {
        "id": "NJxKZ2g_B1l4"
      },
      "source": [
        "* `.isalnum`: devuelve `True` si todos los caracteres de la cadena son letras del alfabeto (`a`-`z`) ó dígitos (`0`-`9`)."
      ]
    },
    {
      "cell_type": "code",
      "metadata": {
        "colab": {
          "base_uri": "https://localhost:8080/"
        },
        "id": "Lb0F01-oB4B0",
        "outputId": "f8ac78ba-1bea-4313-a68f-91b5b558a3ad"
      },
      "source": [
        "txt = \"Company10\"\n",
        "x = txt.isalnum()\n",
        "print(x) "
      ],
      "execution_count": null,
      "outputs": [
        {
          "output_type": "stream",
          "text": [
            "True\n"
          ],
          "name": "stdout"
        }
      ]
    },
    {
      "cell_type": "code",
      "metadata": {
        "colab": {
          "base_uri": "https://localhost:8080/"
        },
        "id": "EbfN_CX0B9GI",
        "outputId": "e96712af-2aa2-4058-cdcd-a6f504a2352c"
      },
      "source": [
        "name = \"M234onica\"\n",
        "print(name.isalnum())\n",
        "\n",
        "# Now it contains whitespace\n",
        "name = \"M3onica Gell22er \"\n",
        "print(name.isalnum())\n",
        "\n",
        "name = \"Mo3nicaGell22er\"\n",
        "print(name.isalnum())\n",
        "\n",
        "name = \"133\"\n",
        "print(name.isalnum())"
      ],
      "execution_count": null,
      "outputs": [
        {
          "output_type": "stream",
          "text": [
            "True\n",
            "False\n",
            "True\n",
            "True\n"
          ],
          "name": "stdout"
        }
      ]
    },
    {
      "cell_type": "markdown",
      "metadata": {
        "id": "hvlIHtjI4wpk"
      },
      "source": [
        "* `isdecimal()`: devuelve `True` si todos los caracteres de una cadena son dígitos (`0`-`9`)."
      ]
    },
    {
      "cell_type": "code",
      "metadata": {
        "colab": {
          "base_uri": "https://localhost:8080/"
        },
        "id": "8tND15J6CT1c",
        "outputId": "c8d103c1-1d32-4f17-ccff-aaf5491fae83"
      },
      "source": [
        "s = \"28212\"\n",
        "print(s.isdecimal())\n",
        "\n",
        "# contains alphabets\n",
        "s = \"32ladk3\"\n",
        "print(s.isdecimal())\n",
        "\n",
        "# contains alphabets and spaces\n",
        "s = \"Mo3 nicaG el l22er\"\n",
        "print(s.isdecimal())"
      ],
      "execution_count": null,
      "outputs": [
        {
          "output_type": "stream",
          "text": [
            "True\n",
            "False\n",
            "False\n"
          ],
          "name": "stdout"
        }
      ]
    },
    {
      "cell_type": "markdown",
      "metadata": {
        "id": "BNWOeQksCok9"
      },
      "source": [
        "* `isdigit()`: también devuelve `True` si todos los caracteres de una cadena son dígitos (`0`-`9`) pero, a diferencia de al anterior, incluye subíndices y superíndices."
      ]
    },
    {
      "cell_type": "code",
      "metadata": {
        "colab": {
          "base_uri": "https://localhost:8080/"
        },
        "id": "0zwrgN6WCleh",
        "outputId": "8a951196-5c70-472e-a901-0e6c6d0fe283"
      },
      "source": [
        "s = '\\u00B23455'\n",
        "print(s)\n",
        "print(s.isdigit())\n",
        "print(s.isdecimal())"
      ],
      "execution_count": null,
      "outputs": [
        {
          "output_type": "stream",
          "text": [
            "²3455\n",
            "True\n",
            "False\n"
          ],
          "name": "stdout"
        }
      ]
    },
    {
      "cell_type": "markdown",
      "metadata": {
        "id": "dKnZjQzxDMI3"
      },
      "source": [
        "* `.startswith()`/ `.endswith()`: comprueban si una cadena comienza/acaba con una subcadena especificada."
      ]
    },
    {
      "cell_type": "code",
      "metadata": {
        "colab": {
          "base_uri": "https://localhost:8080/"
        },
        "id": "zti9u3qfDsm0",
        "outputId": "b95a3eee-8171-4a1d-d068-3cccd030417e"
      },
      "source": [
        "t1='This is a string'\n",
        "print(t1.startswith('This'))\n",
        "print(t1.endswith('string'))"
      ],
      "execution_count": null,
      "outputs": [
        {
          "output_type": "stream",
          "text": [
            "True\n",
            "True\n"
          ],
          "name": "stdout"
        }
      ]
    },
    {
      "cell_type": "markdown",
      "metadata": {
        "id": "rHJPubH10X9Z"
      },
      "source": [
        "Puede encontrar una lista de todos los métodos disponibles de los objetos de cadena en [este enlace](https://www.w3schools.com/python/python_ref_string.asp)"
      ]
    },
    {
      "cell_type": "markdown",
      "metadata": {
        "id": "1Rcb9J2xNLqr"
      },
      "source": [
        "## Longitud de una cadena\n",
        "Para obtener la longitud de una cadena, utilizamos la función `len ()` .\n",
        "\n",
        "*Nota:* `len ()` es una función de Python, compartida con otros tipos de datos, no es exclusiva de los strings. Por esta razón, **no** es un método de los objetos string y su sintaxis no es `cadena.len` sino `len(cadena)`."
      ]
    },
    {
      "cell_type": "code",
      "metadata": {
        "id": "qQrY54E4NUTZ",
        "colab": {
          "base_uri": "https://localhost:8080/"
        },
        "outputId": "af0a7ca3-f46e-4f96-f999-af697a4017f0"
      },
      "source": [
        "mystring = \"Hello everyone!\"\n",
        "len(mystring)"
      ],
      "execution_count": null,
      "outputs": [
        {
          "output_type": "execute_result",
          "data": {
            "text/plain": [
              "15"
            ]
          },
          "metadata": {
            "tags": []
          },
          "execution_count": 209
        }
      ]
    },
    {
      "cell_type": "markdown",
      "metadata": {
        "id": "mVrq0-4b2IMl"
      },
      "source": [
        "## Comprobar si una cadena está presente o no\n",
        "Se pueden utilizar las palabras clave `in` o` not in` para comprobar si una determinada frase o carácter está presente o no dentro de una cadena. Estas palabras clave son operadores lógicos, por lo que devuelven un valor booleano (`True` o ` False`)."
      ]
    },
    {
      "cell_type": "code",
      "metadata": {
        "id": "0mCGPEug4Wpz",
        "colab": {
          "base_uri": "https://localhost:8080/"
        },
        "outputId": "cf6e9c45-59a6-475a-ffe5-950f640180a9"
      },
      "source": [
        "\"everyone\" in mystring"
      ],
      "execution_count": null,
      "outputs": [
        {
          "output_type": "execute_result",
          "data": {
            "text/plain": [
              "True"
            ]
          },
          "metadata": {
            "tags": []
          },
          "execution_count": 210
        }
      ]
    },
    {
      "cell_type": "code",
      "metadata": {
        "id": "KDaF2loj4fLf",
        "colab": {
          "base_uri": "https://localhost:8080/"
        },
        "outputId": "3ff44af2-004a-4aa8-d863-d3a296e12e10"
      },
      "source": [
        "\"everyone\" not in mystring"
      ],
      "execution_count": null,
      "outputs": [
        {
          "output_type": "execute_result",
          "data": {
            "text/plain": [
              "False"
            ]
          },
          "metadata": {
            "tags": []
          },
          "execution_count": 211
        }
      ]
    },
    {
      "cell_type": "code",
      "metadata": {
        "id": "uC1bUQg44h-P",
        "colab": {
          "base_uri": "https://localhost:8080/"
        },
        "outputId": "72e014e3-6563-439a-85e8-d31338f52941"
      },
      "source": [
        "\"everybody\" in mystring"
      ],
      "execution_count": null,
      "outputs": [
        {
          "output_type": "execute_result",
          "data": {
            "text/plain": [
              "False"
            ]
          },
          "metadata": {
            "tags": []
          },
          "execution_count": 212
        }
      ]
    },
    {
      "cell_type": "markdown",
      "metadata": {
        "id": "XaRyG9CXMpu_"
      },
      "source": [
        "## Indexación de *strings*\n",
        "\n",
        "Las cadenas son como *arrays* de caracteres, donde cada carácter es simplemente una cadena con una longitud de 1. Así que se puede acceder a los elementos de la cadena de varias maneras:\n",
        "* Podemos recuperar un solo carácter utilizando corchetes e indicando la posición específica de un carácter a recuperar. Por ejemplo, `my_string[position]`  devolvería el carácter situado en `position` dentro de la cadena `my_string`.\n",
        "* Para obtener una parte de una cadena podemos indicar las posiciones de inicio y fin (`[start:end]`). La cadena devuelta comenzará en el carácter situado en la posición `start` (incluido) y terminará en la posición indicada por `end`, pero esta última no será incluida.\n",
        "\n",
        "Además, se puede indexar hacia atrás con índices negativos y si la posición inicial no está incluida, se asume que es la primera y si la posición final no está incluida se asume que es la última.\n",
        "\n",
        "¡¡¡**Importante**: en Python la indexación comienza en 0!!! Es decir, el primer elemento está en la posición 0.\n",
        "\n"
      ]
    },
    {
      "cell_type": "markdown",
      "metadata": {
        "id": "pZIjDB4_oH2O"
      },
      "source": [
        "### Ejercicio\n",
        "Analiza el siguiente código e intenta adivinar lo que devuelve antes de ejecutarlo"
      ]
    },
    {
      "cell_type": "code",
      "metadata": {
        "id": "JAfvORHbn_-t"
      },
      "source": [
        "mystring = \"Hello everyone!\""
      ],
      "execution_count": null,
      "outputs": []
    },
    {
      "cell_type": "code",
      "metadata": {
        "id": "kHXkc5elPo60",
        "colab": {
          "base_uri": "https://localhost:8080/",
          "height": 36
        },
        "outputId": "09ea2c63-49c6-4cc8-8c8c-07057014378a"
      },
      "source": [
        "mystring[0]"
      ],
      "execution_count": null,
      "outputs": [
        {
          "output_type": "execute_result",
          "data": {
            "application/vnd.google.colaboratory.intrinsic+json": {
              "type": "string"
            },
            "text/plain": [
              "'H'"
            ]
          },
          "metadata": {},
          "execution_count": 12
        }
      ]
    },
    {
      "cell_type": "code",
      "metadata": {
        "id": "N8zpGw3MP0j-",
        "colab": {
          "base_uri": "https://localhost:8080/",
          "height": 36
        },
        "outputId": "8d4f12a1-2172-4615-c19a-57b7311b65d7"
      },
      "source": [
        "mystring[1:5]"
      ],
      "execution_count": null,
      "outputs": [
        {
          "output_type": "execute_result",
          "data": {
            "application/vnd.google.colaboratory.intrinsic+json": {
              "type": "string"
            },
            "text/plain": [
              "'ello'"
            ]
          },
          "metadata": {},
          "execution_count": 13
        }
      ]
    },
    {
      "cell_type": "code",
      "metadata": {
        "id": "klg55LHFQYHW",
        "colab": {
          "base_uri": "https://localhost:8080/",
          "height": 36
        },
        "outputId": "b23c8303-5649-45ce-9c5d-711da3550e52"
      },
      "source": [
        "mystring[:5]"
      ],
      "execution_count": null,
      "outputs": [
        {
          "output_type": "execute_result",
          "data": {
            "application/vnd.google.colaboratory.intrinsic+json": {
              "type": "string"
            },
            "text/plain": [
              "'Hello'"
            ]
          },
          "metadata": {},
          "execution_count": 14
        }
      ]
    },
    {
      "cell_type": "code",
      "metadata": {
        "id": "fD0kms_KytyP",
        "colab": {
          "base_uri": "https://localhost:8080/",
          "height": 36
        },
        "outputId": "90429286-e7fb-47fc-bf70-b1aea5432617"
      },
      "source": [
        "mystring[8:]"
      ],
      "execution_count": null,
      "outputs": [
        {
          "output_type": "execute_result",
          "data": {
            "application/vnd.google.colaboratory.intrinsic+json": {
              "type": "string"
            },
            "text/plain": [
              "'eryone!'"
            ]
          },
          "metadata": {},
          "execution_count": 15
        }
      ]
    },
    {
      "cell_type": "code",
      "metadata": {
        "id": "MxR0exiXyt8j",
        "colab": {
          "base_uri": "https://localhost:8080/",
          "height": 36
        },
        "outputId": "0d0d2f8e-718d-4e49-a7ff-75b8782d711c"
      },
      "source": [
        "mystring[-1]"
      ],
      "execution_count": null,
      "outputs": [
        {
          "output_type": "execute_result",
          "data": {
            "application/vnd.google.colaboratory.intrinsic+json": {
              "type": "string"
            },
            "text/plain": [
              "'!'"
            ]
          },
          "metadata": {},
          "execution_count": 16
        }
      ]
    },
    {
      "cell_type": "code",
      "metadata": {
        "id": "kQMRxf39yuD7",
        "colab": {
          "base_uri": "https://localhost:8080/",
          "height": 36
        },
        "outputId": "4b658519-a0ab-4429-c8ec-57750bd04f30"
      },
      "source": [
        "mystring[-6:]"
      ],
      "execution_count": null,
      "outputs": [
        {
          "output_type": "execute_result",
          "data": {
            "application/vnd.google.colaboratory.intrinsic+json": {
              "type": "string"
            },
            "text/plain": [
              "'ryone!'"
            ]
          },
          "metadata": {},
          "execution_count": 17
        }
      ]
    },
    {
      "cell_type": "markdown",
      "metadata": {
        "id": "V179hLutPoM_"
      },
      "source": [
        "## Concatenación de *strings*\n",
        "Se pueden concatenar o combinar dos o más cadenas de texto con el símbolo `+`. "
      ]
    },
    {
      "cell_type": "code",
      "metadata": {
        "id": "QR8X9n4GGBfC",
        "colab": {
          "base_uri": "https://localhost:8080/",
          "height": 36
        },
        "outputId": "2076909b-004c-4b6a-8e32-d3c932d9dc0e"
      },
      "source": [
        "t1=\"Hello\"\n",
        "t2=\"everyone\"\n",
        "t1+t2"
      ],
      "execution_count": null,
      "outputs": [
        {
          "output_type": "execute_result",
          "data": {
            "application/vnd.google.colaboratory.intrinsic+json": {
              "type": "string"
            },
            "text/plain": [
              "'Helloeveryone'"
            ]
          },
          "metadata": {},
          "execution_count": 18
        }
      ]
    },
    {
      "cell_type": "code",
      "metadata": {
        "id": "gSK8fobw5r11",
        "colab": {
          "base_uri": "https://localhost:8080/",
          "height": 36
        },
        "outputId": "63838c53-6040-4a3b-cdc6-78ead3b9e281"
      },
      "source": [
        "t1+\" \"+t2"
      ],
      "execution_count": null,
      "outputs": [
        {
          "output_type": "execute_result",
          "data": {
            "application/vnd.google.colaboratory.intrinsic+json": {
              "type": "string"
            },
            "text/plain": [
              "'Hello everyone'"
            ]
          },
          "metadata": {},
          "execution_count": 19
        }
      ]
    },
    {
      "cell_type": "code",
      "metadata": {
        "id": "gh5huBNz5vZE",
        "colab": {
          "base_uri": "https://localhost:8080/",
          "height": 36
        },
        "outputId": "6570d386-5e9f-4548-9812-8f8d48fcc484"
      },
      "source": [
        " t1 +\" \" + t2 + \"!\" "
      ],
      "execution_count": null,
      "outputs": [
        {
          "output_type": "execute_result",
          "data": {
            "application/vnd.google.colaboratory.intrinsic+json": {
              "type": "string"
            },
            "text/plain": [
              "'Hello everyone!'"
            ]
          },
          "metadata": {},
          "execution_count": 20
        }
      ]
    },
    {
      "cell_type": "markdown",
      "metadata": {
        "id": "LuwiPp596EIn"
      },
      "source": [
        "Y... ¿podemos combinar texto y números? Intentémoslo."
      ]
    },
    {
      "cell_type": "code",
      "metadata": {
        "id": "axCEBcGC51-M",
        "colab": {
          "base_uri": "https://localhost:8080/",
          "height": 191
        },
        "outputId": "da746aee-487f-4975-850c-a698c9b5856b"
      },
      "source": [
        "result = 5 + 2\n",
        "\"The result is: \" + result"
      ],
      "execution_count": null,
      "outputs": [
        {
          "output_type": "error",
          "ename": "TypeError",
          "evalue": "ignored",
          "traceback": [
            "\u001b[0;31m---------------------------------------------------------------------------\u001b[0m",
            "\u001b[0;31mTypeError\u001b[0m                                 Traceback (most recent call last)",
            "\u001b[0;32m<ipython-input-21-a290119a7645>\u001b[0m in \u001b[0;36m<module>\u001b[0;34m()\u001b[0m\n\u001b[1;32m      1\u001b[0m \u001b[0mresult\u001b[0m \u001b[0;34m=\u001b[0m \u001b[0;36m5\u001b[0m \u001b[0;34m+\u001b[0m \u001b[0;36m2\u001b[0m\u001b[0;34m\u001b[0m\u001b[0;34m\u001b[0m\u001b[0m\n\u001b[0;32m----> 2\u001b[0;31m \u001b[0;34m\"The result is: \"\u001b[0m \u001b[0;34m+\u001b[0m \u001b[0mresult\u001b[0m\u001b[0;34m\u001b[0m\u001b[0;34m\u001b[0m\u001b[0m\n\u001b[0m",
            "\u001b[0;31mTypeError\u001b[0m: can only concatenate str (not \"int\") to str"
          ]
        }
      ]
    },
    {
      "cell_type": "markdown",
      "metadata": {
        "id": "sc_96LTJ6bxN"
      },
      "source": [
        "Como podemos ver, ¡¡¡genera un error!!! Esto es porque sólo podemos concatenar cadenas con cadenas. Si queremos hacerlo, tendremos que pasar la variable `result` a cadena con la función `str()`.\n",
        "\n",
        "*Nota*: Observa cómo Google Colab da formato a la salida de error, indicando exactamente la línea donde falla y el tipo de error `TypeError: must be str, not int`. Además, proporciona un enlace para buscar este error en Stack Overflow y encontrar posibles soluciones.\n",
        "\n",
        "\n"
      ]
    },
    {
      "cell_type": "code",
      "metadata": {
        "id": "lMCBhhz96aI6",
        "colab": {
          "base_uri": "https://localhost:8080/",
          "height": 36
        },
        "outputId": "c4960451-cabc-4b8c-c3fe-2d30531915f8"
      },
      "source": [
        "result = 5 + 2  # Aquí + suma porque combina dos variables de tipo int\n",
        "\"The result is: \" + str(result)  # Aquí + contatena porque combina dos string "
      ],
      "execution_count": null,
      "outputs": [
        {
          "output_type": "execute_result",
          "data": {
            "application/vnd.google.colaboratory.intrinsic+json": {
              "type": "string"
            },
            "text/plain": [
              "'The result is: 7'"
            ]
          },
          "metadata": {},
          "execution_count": 22
        }
      ]
    },
    {
      "cell_type": "markdown",
      "metadata": {
        "id": "a449cnanbRQU"
      },
      "source": [
        "##  Formatear cadenas de texto\n",
        "\n",
        "Una forma más versátil de combinar texto con otros tipos de datos es la que ofrece la función `format()`. Nos permite incluir con `{ }` indicadores de posisicición de variables a incluir en el texto. Los marcadores de posición pueden identificarse utilizando índices con nombre `{variable_name}`, índices numerados `{0}`, o incluso marcadores de posición vacíos `{}`.\n"
      ]
    },
    {
      "cell_type": "code",
      "metadata": {
        "id": "ZG1_JTmF8MQb",
        "colab": {
          "base_uri": "https://localhost:8080/"
        },
        "outputId": "7ed7a305-4d9d-4fc2-b038-f1c05bb880ed"
      },
      "source": [
        "quantity = 3\n",
        "itemno = 567\n",
        "price = 49.95\n",
        "myorder = \"I want {} pieces of item {} for {} dollars.\"\n",
        "print(myorder.format(quantity, itemno, price))"
      ],
      "execution_count": null,
      "outputs": [
        {
          "output_type": "stream",
          "text": [
            "I want 3 pieces of item 567 for 49.95 dollars.\n"
          ],
          "name": "stdout"
        }
      ]
    },
    {
      "cell_type": "code",
      "metadata": {
        "id": "kb-gjnV-8Rr4",
        "colab": {
          "base_uri": "https://localhost:8080/"
        },
        "outputId": "fa95e83c-4ac5-43e0-91b4-88c145e4d5ba"
      },
      "source": [
        "quantity = 3\n",
        "itemno = 567\n",
        "price = 49.95\n",
        "# Now, we include the positions of the variables: 2 (price), 0 (quantity) and 1 (price)\n",
        "myorder = \"I want to pay {2} dollars for {0} pieces of item {1}.\"\n",
        "print(myorder.format(quantity, itemno, price))"
      ],
      "execution_count": null,
      "outputs": [
        {
          "output_type": "stream",
          "text": [
            "I want to pay 49.95 dollars for 3 pieces of item 567.\n"
          ],
          "name": "stdout"
        }
      ]
    },
    {
      "cell_type": "code",
      "metadata": {
        "colab": {
          "base_uri": "https://localhost:8080/"
        },
        "id": "WiFu2ni3y6wa",
        "outputId": "6016acbb-ba33-4e86-a288-78897392cdd1"
      },
      "source": [
        "print('Coordinates: {latitude}, {longitude}'.format(latitude='37.24N', longitude='-115.81W'))"
      ],
      "execution_count": null,
      "outputs": [
        {
          "output_type": "stream",
          "text": [
            "Coordinates: 37.24N, -115.81W\n"
          ],
          "name": "stdout"
        }
      ]
    },
    {
      "cell_type": "code",
      "metadata": {
        "colab": {
          "base_uri": "https://localhost:8080/"
        },
        "id": "ZSuvE00Bzds8",
        "outputId": "0fab2409-94ff-4490-e7d3-2228f9f8a018"
      },
      "source": [
        "print('Coordinates: {%s}, {%s}'%('37.24N','-115.81W'))"
      ],
      "execution_count": null,
      "outputs": [
        {
          "output_type": "stream",
          "text": [
            "Coordinates: {37.24N}, {-115.81W}\n"
          ],
          "name": "stdout"
        }
      ]
    },
    {
      "cell_type": "code",
      "metadata": {
        "colab": {
          "base_uri": "https://localhost:8080/"
        },
        "id": "ZwCJZf9qzphB",
        "outputId": "57eacee6-6ca3-4fea-eb36-2d4b9e4fdbd3"
      },
      "source": [
        "print('Coordinates: {%.2f%s}, {%.2f%s}'%(37.24,'N',-115.81,'W'))"
      ],
      "execution_count": null,
      "outputs": [
        {
          "output_type": "stream",
          "text": [
            "Coordinates: {37.24N}, {-115.81W}\n"
          ],
          "name": "stdout"
        }
      ]
    },
    {
      "cell_type": "code",
      "metadata": {
        "colab": {
          "base_uri": "https://localhost:8080/"
        },
        "id": "cMi14WMwz2Mx",
        "outputId": "e158c3ec-3d16-4110-e741-bca79acd4fa5"
      },
      "source": [
        "print('Coordinates: {%.1f%s}, {%.1f%s}'%(37.24,'N',-115.81,'W'))"
      ],
      "execution_count": null,
      "outputs": [
        {
          "output_type": "stream",
          "text": [
            "Coordinates: {37.2N}, {-115.8W}\n"
          ],
          "name": "stdout"
        }
      ]
    },
    {
      "cell_type": "markdown",
      "metadata": {
        "id": "NJR3HO2C8vY2"
      },
      "source": [
        "### Ejercicio\n",
        "Completa los siguientes ejercicios"
      ]
    },
    {
      "cell_type": "code",
      "metadata": {
        "id": "LULtZNFW8yeM"
      },
      "source": [
        "str1 = '\"Hola\" is how we say \"hello\" in Spanish.'\n",
        "str2 = \"Strings can also be defined with quotes; try to be sistematic and consistent.\""
      ],
      "execution_count": null,
      "outputs": []
    },
    {
      "cell_type": "markdown",
      "metadata": {
        "id": "UxasIpZQxK5Z"
      },
      "source": [
        "* Imprime la cadena `str1` y comprueba su tipo"
      ]
    },
    {
      "cell_type": "code",
      "metadata": {
        "id": "N29iTpc79kvN",
        "colab": {
          "base_uri": "https://localhost:8080/"
        },
        "outputId": "3d127689-0d97-4354-9a8e-26033814f1b5"
      },
      "source": [
        "#<SOL>\n",
        "print(str1)\n",
        "print(type(str1))\n",
        "#</SOL>"
      ],
      "execution_count": null,
      "outputs": [
        {
          "output_type": "stream",
          "text": [
            "\"Hola\" is how we say \"hello\" in Spanish.\n",
            "<class 'str'>\n"
          ],
          "name": "stdout"
        }
      ]
    },
    {
      "cell_type": "markdown",
      "metadata": {
        "id": "z9M_952GxR_I"
      },
      "source": [
        "* Imprime los 5 primeros caracteres de `str1`."
      ]
    },
    {
      "cell_type": "code",
      "metadata": {
        "id": "CLkNJEDD9myb",
        "colab": {
          "base_uri": "https://localhost:8080/"
        },
        "outputId": "23751d13-5fe3-41c3-ca3d-4356029f5e59"
      },
      "source": [
        "#<SOL>\n",
        "print(str1[0:5])\n",
        "#</SOL>"
      ],
      "execution_count": null,
      "outputs": [
        {
          "output_type": "stream",
          "text": [
            "\"Hola\n"
          ],
          "name": "stdout"
        }
      ]
    },
    {
      "cell_type": "markdown",
      "metadata": {
        "id": "wLXX98L0xcOz"
      },
      "source": [
        "* Une `str1` y `str2`"
      ]
    },
    {
      "cell_type": "code",
      "metadata": {
        "id": "sc59-kuc9qOc",
        "colab": {
          "base_uri": "https://localhost:8080/"
        },
        "outputId": "f0b52872-1c35-4e63-fc3c-c6738b328e02"
      },
      "source": [
        "#<SOL>\n",
        "print(str1 + str2)\n",
        "#</SOL>"
      ],
      "execution_count": null,
      "outputs": [
        {
          "output_type": "stream",
          "text": [
            "\"Hola\" is how we say \"hello\" in Spanish.Strings can also be defined with quotes; try to be sistematic and consistent.\n"
          ],
          "name": "stdout"
        }
      ]
    },
    {
      "cell_type": "markdown",
      "metadata": {
        "id": "-AkaKI4-xhtL"
      },
      "source": [
        "* Convierte `str1` a minúsculas."
      ]
    },
    {
      "cell_type": "code",
      "metadata": {
        "id": "muarOO559sPk",
        "colab": {
          "base_uri": "https://localhost:8080/"
        },
        "outputId": "6ce3bdce-fd03-41a9-e0a4-19b5d6d673ef"
      },
      "source": [
        "#<SOL>\n",
        "print(str1.lower())\n",
        "#</SOL>"
      ],
      "execution_count": null,
      "outputs": [
        {
          "output_type": "stream",
          "text": [
            "\"hola\" is how we say \"hello\" in spanish.\n"
          ],
          "name": "stdout"
        }
      ]
    },
    {
      "cell_type": "markdown",
      "metadata": {
        "id": "sqK7tGQAxp2O"
      },
      "source": [
        "* Convierte `str1` a mayúsculas."
      ]
    },
    {
      "cell_type": "code",
      "metadata": {
        "id": "NAPrANnl9snE",
        "colab": {
          "base_uri": "https://localhost:8080/"
        },
        "outputId": "026dbba4-e2ec-4efd-f541-bd6ab04aae19"
      },
      "source": [
        "#<SOL>\n",
        "print(str1.upper())\n",
        "#</SOL>"
      ],
      "execution_count": null,
      "outputs": [
        {
          "output_type": "stream",
          "text": [
            "\"HOLA\" IS HOW WE SAY \"HELLO\" IN SPANISH.\n"
          ],
          "name": "stdout"
        }
      ]
    },
    {
      "cell_type": "markdown",
      "metadata": {
        "id": "sxfemyHqx1jr"
      },
      "source": [
        "* Obten el número de caracteres en `str1`"
      ]
    },
    {
      "cell_type": "code",
      "metadata": {
        "id": "6HuLmXQG9w18",
        "colab": {
          "base_uri": "https://localhost:8080/"
        },
        "outputId": "c9223712-c268-4472-eff2-e0e8486e5ffa"
      },
      "source": [
        "#<SOL>\n",
        "print(len(str1))\n",
        "#</SOL>"
      ],
      "execution_count": null,
      "outputs": [
        {
          "output_type": "stream",
          "text": [
            "40\n"
          ],
          "name": "stdout"
        }
      ]
    },
    {
      "cell_type": "markdown",
      "metadata": {
        "id": "C16xjFrlx5qu"
      },
      "source": [
        "* Reemplazar el carácter `h` en `str1` por el carácter `H`"
      ]
    },
    {
      "cell_type": "code",
      "metadata": {
        "id": "pw7lGyLq9ze9",
        "colab": {
          "base_uri": "https://localhost:8080/"
        },
        "outputId": "47017efa-2b0b-4027-c2ee-a693095e5064"
      },
      "source": [
        "#<SOL>\n",
        "print(str1.replace('h','H'))\n",
        "#</SOL>"
      ],
      "execution_count": null,
      "outputs": [
        {
          "output_type": "stream",
          "text": [
            "\"Hola\" is How we say \"Hello\" in SpanisH.\n"
          ],
          "name": "stdout"
        }
      ]
    },
    {
      "cell_type": "markdown",
      "metadata": {
        "id": "pAsmSzYlGLrY"
      },
      "source": [
        "* Comprueba si `str1` solo tiene letras "
      ]
    },
    {
      "cell_type": "code",
      "metadata": {
        "colab": {
          "base_uri": "https://localhost:8080/"
        },
        "id": "oj7s1QS4GLCI",
        "outputId": "085be82a-92f0-48e5-d49c-9321e6a6730c"
      },
      "source": [
        "#<SOL>\n",
        "print(str1.isalpha())\n",
        "#</SOL>"
      ],
      "execution_count": null,
      "outputs": [
        {
          "output_type": "stream",
          "text": [
            "False\n"
          ],
          "name": "stdout"
        }
      ]
    },
    {
      "cell_type": "markdown",
      "metadata": {
        "id": "AeWtpRYgx__V"
      },
      "source": [
        "## Cadenas predefinidas y `translate`\n",
        "\n",
        "La librería `string` incluye varias cadenas de texto predefinidas, con dígitos, signos de puntuación, etc, que pueden ser de utilidad para procesar otras cadenas de texto. Para acceder a ellas solo tenemos que importar la librería `string` y cargar la cadena que nos interese."
      ]
    },
    {
      "cell_type": "code",
      "metadata": {
        "colab": {
          "base_uri": "https://localhost:8080/",
          "height": 36
        },
        "id": "nqMEKJiRyEgr",
        "outputId": "603c823a-6138-4147-adc9-6aa1ef1cfe51"
      },
      "source": [
        " import string\n",
        " string.digits"
      ],
      "execution_count": null,
      "outputs": [
        {
          "output_type": "execute_result",
          "data": {
            "application/vnd.google.colaboratory.intrinsic+json": {
              "type": "string"
            },
            "text/plain": [
              "'0123456789'"
            ]
          },
          "metadata": {},
          "execution_count": 38
        }
      ]
    },
    {
      "cell_type": "code",
      "metadata": {
        "colab": {
          "base_uri": "https://localhost:8080/",
          "height": 36
        },
        "id": "tqlPbizSyinp",
        "outputId": "de78bf09-0306-4056-b283-b9bcd4bdc0f3"
      },
      "source": [
        "string.punctuation"
      ],
      "execution_count": null,
      "outputs": [
        {
          "output_type": "execute_result",
          "data": {
            "application/vnd.google.colaboratory.intrinsic+json": {
              "type": "string"
            },
            "text/plain": [
              "'!\"#$%&\\'()*+,-./:;<=>?@[\\\\]^_`{|}~'"
            ]
          },
          "metadata": {},
          "execution_count": 39
        }
      ]
    },
    {
      "cell_type": "code",
      "metadata": {
        "colab": {
          "base_uri": "https://localhost:8080/",
          "height": 36
        },
        "id": "99fzOCtCymRy",
        "outputId": "31bc41a6-32a4-4080-cb31-ba16885d49ca"
      },
      "source": [
        "string.whitespace"
      ],
      "execution_count": null,
      "outputs": [
        {
          "output_type": "execute_result",
          "data": {
            "application/vnd.google.colaboratory.intrinsic+json": {
              "type": "string"
            },
            "text/plain": [
              "' \\t\\n\\r\\x0b\\x0c'"
            ]
          },
          "metadata": {},
          "execution_count": 40
        }
      ]
    },
    {
      "cell_type": "markdown",
      "metadata": {
        "id": "FdDlCn_RHCkn"
      },
      "source": [
        "Consideremos ahora que tenemos el siguiente texto:"
      ]
    },
    {
      "cell_type": "code",
      "metadata": {
        "id": "iC_1CsjZ00dn"
      },
      "source": [
        "text = 'Thu Mar 18 09:22:07.436 <airportd[181]> _processIPv4Changes: ARP/NDP offloads disabled, not programming the offload'"
      ],
      "execution_count": null,
      "outputs": []
    },
    {
      "cell_type": "markdown",
      "metadata": {
        "id": "SxIISCRd1qST"
      },
      "source": [
        "y queremos eliminar los signos de puntuación y los dígitos. Lo podemos hacer fácilmente comprobando si cada símbolo de puntuación o dígito está en el texto y remplazandolo por nada `''`:"
      ]
    },
    {
      "cell_type": "code",
      "metadata": {
        "colab": {
          "base_uri": "https://localhost:8080/"
        },
        "id": "rUV03DIb1vrt",
        "outputId": "9b27dcc0-cc16-4fa0-eb20-5d29f7fe2a75"
      },
      "source": [
        "clean_text = text\n",
        "print(text)\n",
        "for punct in string.punctuation:\n",
        "  clean_text = clean_text.replace(punct,'')\n",
        "print(clean_text)\n",
        "for digit in string.digits:\n",
        "  clean_text = clean_text.replace(digit,'')\n",
        "for space in string.whitespace:\n",
        "  clean_text = clean_text.replace(space,'')\n",
        "print(clean_text)"
      ],
      "execution_count": null,
      "outputs": [
        {
          "output_type": "stream",
          "text": [
            "Thu Mar 18 09:22:07.436 <airportd[181]> _processIPv4Changes: ARP/NDP offloads disabled, not programming the offload\n",
            "Thu Mar 18 092207436 airportd181 processIPv4Changes ARPNDP offloads disabled not programming the offload\n",
            "ThuMarairportdprocessIPvChangesARPNDPoffloadsdisablednotprogrammingtheoffload\n"
          ],
          "name": "stdout"
        }
      ]
    },
    {
      "cell_type": "markdown",
      "metadata": {
        "id": "QNpMOnLj0zhk"
      },
      "source": [
        "Aunque esto puede hacerse de manera más eficiente, en una sola línea, con la función `translate`. Para utilizar `translate` tenemos que definir una tabla de traducción definiendo:\n",
        "\n",
        "`str.maketrans('abcd','0123','xyz')` \n",
        "\n",
        "de este modo indica que `'a'` se sustituye por `'0'`, `'b'` por `'1'`, .... y que, además, los caracteres `'x'`, `'y'` y `'z'` se eliminan."
      ]
    },
    {
      "cell_type": "code",
      "metadata": {
        "colab": {
          "base_uri": "https://localhost:8080/"
        },
        "id": "buQN4VVE019m",
        "outputId": "6ebcc5f7-0cc7-47dd-f4c4-e7f1373e2b90"
      },
      "source": [
        "list_exclude = string.punctuation + string.digits\n",
        "table_translate = str.maketrans('','', list_exclude)\n",
        "clean_text = text.translate(table_translate)\n",
        "print(clean_text)\n"
      ],
      "execution_count": null,
      "outputs": [
        {
          "output_type": "stream",
          "text": [
            "Thu Mar   airportd processIPvChanges ARPNDP offloads disabled not programming the offload\n"
          ],
          "name": "stdout"
        }
      ]
    },
    {
      "cell_type": "markdown",
      "metadata": {
        "id": "ikjJ-gZJ5tc_"
      },
      "source": [
        "Un uso bastante común de `translate()` es la eliminación de acentos. Así, por ejemplo,"
      ]
    },
    {
      "cell_type": "code",
      "metadata": {
        "colab": {
          "base_uri": "https://localhost:8080/"
        },
        "id": "7WV1yDXW5V9J",
        "outputId": "ce56589f-2122-4c9b-c517-1b76ea475901"
      },
      "source": [
        "text = '¡El veloz murciélago hindú comía feliz cardillo y kiwi!. La cigüeña tocaba el saxofón detrás del palenque, o ¿no?'\n",
        "table_translate = str.maketrans('áéíóú','aeiou', string.punctuation+'¿¡')\n",
        "clean_text = text.translate(table_translate)\n",
        "print(clean_text)"
      ],
      "execution_count": null,
      "outputs": [
        {
          "output_type": "stream",
          "text": [
            "El veloz murcielago hindu comia feliz cardillo y kiwi La cigüeña tocaba el saxofon detras del palenque o no\n"
          ],
          "name": "stdout"
        }
      ]
    },
    {
      "cell_type": "markdown",
      "metadata": {
        "id": "7UQwp2sL6w58"
      },
      "source": [
        "*Nota*: en `string.punctuation` solo están los signos de puntuación en inglés."
      ]
    },
    {
      "cell_type": "markdown",
      "metadata": {
        "id": "OqiaiXQ3ILSh"
      },
      "source": [
        "# Colecciones de datos en Python\n",
        "\n",
        "Hay cuatro tipos de colecciones que nos permiten recoger o tener datos agrupados en Python:"
      ]
    },
    {
      "cell_type": "markdown",
      "metadata": {
        "id": "JjC2ZcRR_mZs"
      },
      "source": [
        "* La **lista** es una colección ordenada que podemos modificar y que admite miembros duplicados."
      ]
    },
    {
      "cell_type": "code",
      "metadata": {
        "colab": {
          "base_uri": "https://localhost:8080/"
        },
        "id": "j5z3trEl9Kvo",
        "outputId": "2fa76fbf-c806-4053-830a-6af8dbcd71b7"
      },
      "source": [
        "myList = [\"apple\", \"banana\", \"pear\", \"orange\", \"lemon\", \"cherry\", \"kiwi\", \"melon\", \"mango\"]\n",
        "print(myList)"
      ],
      "execution_count": null,
      "outputs": [
        {
          "output_type": "stream",
          "text": [
            "['apple', 'banana', 'pear', 'orange', 'lemon', 'cherry', 'kiwi', 'melon', 'mango']\n"
          ],
          "name": "stdout"
        }
      ]
    },
    {
      "cell_type": "markdown",
      "metadata": {
        "id": "yNpgNBMS_ez3"
      },
      "source": [
        "* La **tupla** es una colección ordenada e inalterable de elementos que también admite elementos duplicados. La diferencia con las listas es que no permite modificar sus elementos."
      ]
    },
    {
      "cell_type": "code",
      "metadata": {
        "colab": {
          "base_uri": "https://localhost:8080/"
        },
        "id": "nAWGqF5H9JCz",
        "outputId": "9afd5c65-cedf-40c6-f27c-eaa4c93476f9"
      },
      "source": [
        "myTuple = (\"apple\", \"banana\", \"pear\", \"orange\")\n",
        "print(myTuple)"
      ],
      "execution_count": null,
      "outputs": [
        {
          "output_type": "stream",
          "text": [
            "('apple', 'banana', 'pear', 'orange')\n"
          ],
          "name": "stdout"
        }
      ]
    },
    {
      "cell_type": "markdown",
      "metadata": {
        "id": "kgaOsDJp_ufv"
      },
      "source": [
        " * El **conjunto** es una colección de elementos que no está ordenada ni indexada y en la que no puede haber miembros duplicados.\n"
      ]
    },
    {
      "cell_type": "code",
      "metadata": {
        "colab": {
          "base_uri": "https://localhost:8080/"
        },
        "id": "WH8b7LBJ_1oG",
        "outputId": "60771375-b547-462f-a955-773feb3bc7c7"
      },
      "source": [
        "mySet = {\"apple\", \"banana\", \"pear\", \"kiwi\", \"melon\", \"mango\"}\n",
        "print(mySet)"
      ],
      "execution_count": null,
      "outputs": [
        {
          "output_type": "stream",
          "text": [
            "{'pear', 'melon', 'mango', 'kiwi', 'apple', 'banana'}\n"
          ],
          "name": "stdout"
        }
      ]
    },
    {
      "cell_type": "markdown",
      "metadata": {
        "id": "ULhm_HOQAK6z"
      },
      "source": [
        "* El **diccionario** es una colección de elementos no ordenados, modificables e indexados que no admite miembros duplicados."
      ]
    },
    {
      "cell_type": "code",
      "metadata": {
        "colab": {
          "base_uri": "https://localhost:8080/"
        },
        "id": "Qc4DWBADATi5",
        "outputId": "1d1d0533-037b-4ee2-cd73-c9db2a39c9ae"
      },
      "source": [
        "mydict = {\n",
        "  \"name\": \"Ana\",\n",
        "  \"surname\": \"García\",\n",
        "  \"age\": 25\n",
        "}\n",
        "print(mydict)"
      ],
      "execution_count": null,
      "outputs": [
        {
          "output_type": "stream",
          "text": [
            "{'name': 'Ana', 'surname': 'García', 'age': 25}\n"
          ],
          "name": "stdout"
        }
      ]
    },
    {
      "cell_type": "markdown",
      "metadata": {
        "id": "-VqYf9w3JnyC"
      },
      "source": [
        "\n",
        "Cuando se elige un tipo de colección, es útil entender las propiedades de ese tipo. Elegir el tipo correcto para un conjunto de datos concreto puede significar la conservación del significado, y puede significar una mayor eficiencia o seguridad. A continuación, vamos a revisar las operaciones principales de las listas y los diccionarios ya que son los dos tipos de colecciones con los que más vamos a trabajar en este curso."
      ]
    },
    {
      "cell_type": "markdown",
      "metadata": {
        "id": "uvBkjwAGLJI1"
      },
      "source": [
        "## Listas en Python\n",
        "\n",
        "Como hemos indicado, una lista es una colección ordenada de elementos que podemos modificar y que admite elementos repetidos. Es uno de los tipos más habituales a la hora de programar en Python, por lo que son múltiples las operaciones que podemos realizar con las listas. A continuación  mostramos algunos ejemplos de las más comunes.\n",
        "\n"
      ]
    },
    {
      "cell_type": "markdown",
      "metadata": {
        "id": "5xlvuvNj7Sci"
      },
      "source": [
        "### Crear una lista\n",
        "En Python, las listas se escriben con corchetes `[ ]`. Así que para crear una lista, podemos simplemente incluir una serie de elementos separados por comas entre los corchetes:"
      ]
    },
    {
      "cell_type": "code",
      "metadata": {
        "id": "r73b2--fLOdU",
        "colab": {
          "base_uri": "https://localhost:8080/"
        },
        "outputId": "bd2c8c6a-2711-4951-f83a-2a6375c822ca"
      },
      "source": [
        "myList = [\"apple\", \"banana\", \"pear\", \"orange\", \"lemon\", \"cherry\", \"kiwi\", \"melon\", \"mango\"]\n",
        "print(myList)"
      ],
      "execution_count": null,
      "outputs": [
        {
          "output_type": "stream",
          "text": [
            "['apple', 'banana', 'pear', 'orange', 'lemon', 'cherry', 'kiwi', 'melon', 'mango']\n"
          ],
          "name": "stdout"
        }
      ]
    },
    {
      "cell_type": "markdown",
      "metadata": {
        "id": "t-SJBOnd7sVr"
      },
      "source": [
        "Podemos definir una lista vacía si no incluimos elementos"
      ]
    },
    {
      "cell_type": "code",
      "metadata": {
        "id": "PKrSVCvW7Rzj",
        "colab": {
          "base_uri": "https://localhost:8080/"
        },
        "outputId": "6b2a26b5-4cf2-4a1b-b18c-faeda78b0dbc"
      },
      "source": [
        "myEmpty_List = []\n",
        "print(myEmpty_List)"
      ],
      "execution_count": null,
      "outputs": [
        {
          "output_type": "stream",
          "text": [
            "[]\n"
          ],
          "name": "stdout"
        }
      ]
    },
    {
      "cell_type": "markdown",
      "metadata": {
        "id": "rVXnWE7VY7w-"
      },
      "source": [
        "También puedes crear una lista con el constructor `list ()`."
      ]
    },
    {
      "cell_type": "code",
      "metadata": {
        "id": "CCwXI_EYZAeD",
        "colab": {
          "base_uri": "https://localhost:8080/"
        },
        "outputId": "5f511fec-5f5a-462b-f58e-daa0846b6a21"
      },
      "source": [
        "myList2 =list([ \"lemon\", \"cherry\", \"kiwi\", \"mango\"])\n",
        "print(myList2)"
      ],
      "execution_count": null,
      "outputs": [
        {
          "output_type": "stream",
          "text": [
            "['lemon', 'cherry', 'kiwi', 'mango']\n"
          ],
          "name": "stdout"
        }
      ]
    },
    {
      "cell_type": "markdown",
      "metadata": {
        "id": "k1JuRM37LQso"
      },
      "source": [
        "### Indexación de elementos\n",
        "Podemos acceder a sus elementos indexando la lista de forma similar a los caracteres de un *string* o cadena.\n",
        "\n",
        "Analiza los siguientes ejemplos intentando adivinar la salida que vamos a obtener antes de ejecutarlos..."
      ]
    },
    {
      "cell_type": "code",
      "metadata": {
        "id": "Y3-q1iM7LQ8F",
        "colab": {
          "base_uri": "https://localhost:8080/"
        },
        "outputId": "424e8b50-a987-43e2-ff6f-c67756d02a0f"
      },
      "source": [
        "print(myList[1])"
      ],
      "execution_count": null,
      "outputs": [
        {
          "output_type": "stream",
          "text": [
            "banana\n"
          ],
          "name": "stdout"
        }
      ]
    },
    {
      "cell_type": "code",
      "metadata": {
        "id": "n2-bDIFrLbyE",
        "colab": {
          "base_uri": "https://localhost:8080/"
        },
        "outputId": "efdab72b-77e9-4051-926b-64d4258a3c27"
      },
      "source": [
        "print(myList[3:5])"
      ],
      "execution_count": null,
      "outputs": [
        {
          "output_type": "stream",
          "text": [
            "['orange', 'lemon']\n"
          ],
          "name": "stdout"
        }
      ]
    },
    {
      "cell_type": "code",
      "metadata": {
        "id": "BqsfyRH0Ldmt",
        "colab": {
          "base_uri": "https://localhost:8080/"
        },
        "outputId": "d670376a-ccef-4220-b66a-97d2ce8a9fba"
      },
      "source": [
        "print(myList[:4])"
      ],
      "execution_count": null,
      "outputs": [
        {
          "output_type": "stream",
          "text": [
            "['apple', 'banana', 'pear', 'orange']\n"
          ],
          "name": "stdout"
        }
      ]
    },
    {
      "cell_type": "code",
      "metadata": {
        "id": "Ot8hJyNWLgUe",
        "colab": {
          "base_uri": "https://localhost:8080/"
        },
        "outputId": "a59ec6ce-b07d-4dac-fee8-6a009d26ff48"
      },
      "source": [
        "print(myList[5:])"
      ],
      "execution_count": null,
      "outputs": [
        {
          "output_type": "stream",
          "text": [
            "['cherry', 'kiwi', 'melon', 'mango']\n"
          ],
          "name": "stdout"
        }
      ]
    },
    {
      "cell_type": "code",
      "metadata": {
        "id": "HVlxCAIRLhxe",
        "colab": {
          "base_uri": "https://localhost:8080/"
        },
        "outputId": "e5ecf0fe-ec89-420c-9f09-e1efb07f4b1c"
      },
      "source": [
        "print(myList[-1])"
      ],
      "execution_count": null,
      "outputs": [
        {
          "output_type": "stream",
          "text": [
            "mango\n"
          ],
          "name": "stdout"
        }
      ]
    },
    {
      "cell_type": "code",
      "metadata": {
        "id": "MqbqkSqmyJ34",
        "colab": {
          "base_uri": "https://localhost:8080/"
        },
        "outputId": "a1ecf80f-ac15-457f-825a-bf38849341ba"
      },
      "source": [
        "print(myList[-5:-1])"
      ],
      "execution_count": null,
      "outputs": [
        {
          "output_type": "stream",
          "text": [
            "['lemon', 'cherry', 'kiwi', 'melon']\n"
          ],
          "name": "stdout"
        }
      ]
    },
    {
      "cell_type": "markdown",
      "metadata": {
        "id": "PQAON6rDLtEB"
      },
      "source": [
        "### Comprobar la presencia de un elemento\n",
        "Podemos utilizar la palabra clave `in` para comprobar si un elemento está en una lista:"
      ]
    },
    {
      "cell_type": "code",
      "metadata": {
        "id": "6T_b_qR1Lz53",
        "colab": {
          "base_uri": "https://localhost:8080/"
        },
        "outputId": "236bf236-bac4-45d4-da7e-1c45af9b6907"
      },
      "source": [
        "\"melon\" in myList"
      ],
      "execution_count": null,
      "outputs": [
        {
          "output_type": "execute_result",
          "data": {
            "text/plain": [
              "True"
            ]
          },
          "metadata": {},
          "execution_count": 59
        }
      ]
    },
    {
      "cell_type": "code",
      "metadata": {
        "id": "cFzyaGOf6GBy",
        "colab": {
          "base_uri": "https://localhost:8080/"
        },
        "outputId": "3302137c-5b55-4b5e-8690-d598f4395d32"
      },
      "source": [
        "\"banana\" in myList"
      ],
      "execution_count": null,
      "outputs": [
        {
          "output_type": "execute_result",
          "data": {
            "text/plain": [
              "True"
            ]
          },
          "metadata": {},
          "execution_count": 60
        }
      ]
    },
    {
      "cell_type": "markdown",
      "metadata": {
        "id": "xAIcpmf6L2zP"
      },
      "source": [
        "### Calcular la longitud de una lista\n",
        "Podemos utilizar la función `len ()` para calcular el número de elementos de la lista:"
      ]
    },
    {
      "cell_type": "code",
      "metadata": {
        "id": "Pko2SVnxL3ZK",
        "colab": {
          "base_uri": "https://localhost:8080/"
        },
        "outputId": "f6863782-1408-49be-b6b1-0355e863ac90"
      },
      "source": [
        "print(len(myList))"
      ],
      "execution_count": null,
      "outputs": [
        {
          "output_type": "stream",
          "text": [
            "9\n"
          ],
          "name": "stdout"
        }
      ]
    },
    {
      "cell_type": "markdown",
      "metadata": {
        "id": "UxtWV-UsYC1R"
      },
      "source": [
        "### Concatenar listas\n",
        "Podemos utilizar el operador `+` para crear una nueva lista uniendo los elementos de las dos listas\n"
      ]
    },
    {
      "cell_type": "code",
      "metadata": {
        "id": "64kOeSktYLAM",
        "colab": {
          "base_uri": "https://localhost:8080/"
        },
        "outputId": "0dbc8035-fe02-4195-ab17-75b13b77d0f5"
      },
      "source": [
        "myUnionList = myList + myList2\n",
        "print(myUnionList)"
      ],
      "execution_count": null,
      "outputs": [
        {
          "output_type": "stream",
          "text": [
            "['apple', 'banana', 'pear', 'orange', 'lemon', 'cherry', 'kiwi', 'melon', 'mango', 'lemon', 'cherry', 'kiwi', 'mango']\n"
          ],
          "name": "stdout"
        }
      ]
    },
    {
      "cell_type": "markdown",
      "metadata": {
        "id": "oOTwSZLBLnu9"
      },
      "source": [
        "### Modificación de elementos de la lista\n",
        "Podemos modificar el valor de un elemento de la lista, accediendo a él directamente:"
      ]
    },
    {
      "cell_type": "code",
      "metadata": {
        "id": "0FyAxTD3Lqcj",
        "colab": {
          "base_uri": "https://localhost:8080/"
        },
        "outputId": "13eb0a4c-bb8e-428c-847e-190acfc45479"
      },
      "source": [
        "myList[1] = \"blackberry\"\n",
        "print(myList)"
      ],
      "execution_count": null,
      "outputs": [
        {
          "output_type": "stream",
          "text": [
            "['apple', 'blackberry', 'pear', 'orange', 'lemon', 'cherry', 'kiwi', 'melon', 'mango']\n"
          ],
          "name": "stdout"
        }
      ]
    },
    {
      "cell_type": "markdown",
      "metadata": {
        "id": "QBGK0QPP5mVo"
      },
      "source": [
        "E incluir un elemento repetido:"
      ]
    },
    {
      "cell_type": "code",
      "metadata": {
        "id": "I6hT7fH75rqD",
        "colab": {
          "base_uri": "https://localhost:8080/"
        },
        "outputId": "4b4cd9a4-c4db-450e-f525-72e2d51053e7"
      },
      "source": [
        "myList[1] = \"apple\"\n",
        "print(myList)"
      ],
      "execution_count": null,
      "outputs": [
        {
          "output_type": "stream",
          "text": [
            "['apple', 'apple', 'pear', 'orange', 'lemon', 'cherry', 'kiwi', 'melon', 'mango']\n"
          ],
          "name": "stdout"
        }
      ]
    },
    {
      "cell_type": "markdown",
      "metadata": {
        "id": "BDcZz1NXLtJj"
      },
      "source": [
        "Podemos añadir elementos al final de una lista utilizando el método `append ()`:"
      ]
    },
    {
      "cell_type": "code",
      "metadata": {
        "id": "ouz82w2-L8o7",
        "colab": {
          "base_uri": "https://localhost:8080/"
        },
        "outputId": "411d239f-f338-406c-a185-602b4aafe71e"
      },
      "source": [
        "myList.append(\"higo\")\n",
        "print(myList)"
      ],
      "execution_count": null,
      "outputs": [
        {
          "output_type": "stream",
          "text": [
            "['apple', 'apple', 'pear', 'orange', 'lemon', 'cherry', 'kiwi', 'melon', 'mango', 'higo']\n"
          ],
          "name": "stdout"
        }
      ]
    },
    {
      "cell_type": "markdown",
      "metadata": {
        "id": "0kwp8kYuLtOj"
      },
      "source": [
        "O utilizar el método `insert ()` para añadir un elemento en una posición específica:"
      ]
    },
    {
      "cell_type": "code",
      "metadata": {
        "id": "28a_UiPTMAYG",
        "colab": {
          "base_uri": "https://localhost:8080/"
        },
        "outputId": "4a8fbe24-71cb-4e03-f81e-bed90628f198"
      },
      "source": [
        "myList.insert(1, \"banana\")\n",
        "print(myList)"
      ],
      "execution_count": null,
      "outputs": [
        {
          "output_type": "stream",
          "text": [
            "['apple', 'banana', 'apple', 'pear', 'orange', 'lemon', 'cherry', 'kiwi', 'melon', 'mango', 'higo']\n"
          ],
          "name": "stdout"
        }
      ]
    },
    {
      "cell_type": "markdown",
      "metadata": {
        "id": "_lqVJ170LtSv"
      },
      "source": [
        "Si queremos eliminar elementos de la lista, tenemos varias opciones:\n",
        "\n",
        "* El método `remove ()` elimina el elemento indicado.\n"
      ]
    },
    {
      "cell_type": "code",
      "metadata": {
        "id": "SUsiYnhvMKDu",
        "colab": {
          "base_uri": "https://localhost:8080/"
        },
        "outputId": "82305383-9c0a-4a2d-ef78-1c8a9c420982"
      },
      "source": [
        "myList.remove(\"pear\")\n",
        "print(myList)"
      ],
      "execution_count": null,
      "outputs": [
        {
          "output_type": "stream",
          "text": [
            "['apple', 'banana', 'apple', 'orange', 'lemon', 'cherry', 'kiwi', 'melon', 'mango', 'higo']\n"
          ],
          "name": "stdout"
        }
      ]
    },
    {
      "cell_type": "markdown",
      "metadata": {
        "id": "o4HFGKB-9wAI"
      },
      "source": [
        "Si tenemos un elemento que se repite, `remove ()` sólo lo elimina de su primera posición"
      ]
    },
    {
      "cell_type": "code",
      "metadata": {
        "id": "VDeQiUN19sDV",
        "colab": {
          "base_uri": "https://localhost:8080/"
        },
        "outputId": "7690d0c6-e098-4d65-a269-f39c879ec383"
      },
      "source": [
        "myList.remove(\"apple\")\n",
        "print(myList)"
      ],
      "execution_count": null,
      "outputs": [
        {
          "output_type": "stream",
          "text": [
            "['banana', 'apple', 'orange', 'lemon', 'cherry', 'kiwi', 'melon', 'mango', 'higo']\n"
          ],
          "name": "stdout"
        }
      ]
    },
    {
      "cell_type": "markdown",
      "metadata": {
        "id": "JVJ0qQo9-VMQ"
      },
      "source": [
        "* El método `pop ()` elimina el elemento indicado por su índice o posición (si no indicamos ningún índice, se elimina el último) \n",
        "\n"
      ]
    },
    {
      "cell_type": "code",
      "metadata": {
        "id": "amcuVKIkML7C",
        "colab": {
          "base_uri": "https://localhost:8080/"
        },
        "outputId": "3e972b7f-ac15-42a9-ea1d-79aa3c455e24"
      },
      "source": [
        "myList.pop(4)\n",
        "print(myList)"
      ],
      "execution_count": null,
      "outputs": [
        {
          "output_type": "stream",
          "text": [
            "['banana', 'apple', 'orange', 'lemon', 'kiwi', 'melon', 'mango', 'higo']\n"
          ],
          "name": "stdout"
        }
      ]
    },
    {
      "cell_type": "code",
      "metadata": {
        "id": "4f9RkKCb-Hvw",
        "colab": {
          "base_uri": "https://localhost:8080/"
        },
        "outputId": "70016dee-b8ba-4f42-bbcd-88315a9b971a"
      },
      "source": [
        "myList.pop()\n",
        "print(myList)"
      ],
      "execution_count": null,
      "outputs": [
        {
          "output_type": "stream",
          "text": [
            "['banana', 'apple', 'orange', 'lemon', 'kiwi', 'melon', 'mango']\n"
          ],
          "name": "stdout"
        }
      ]
    },
    {
      "cell_type": "markdown",
      "metadata": {
        "id": "yIEKNfhe-XZI"
      },
      "source": [
        "* La palabra clave `del` nos permite eliminar un elemento indicado por su índice o incluso eliminar toda la lista si no indicamos ningún elemento concreto\n",
        "\n"
      ]
    },
    {
      "cell_type": "code",
      "metadata": {
        "id": "zBtghV1EMQWJ",
        "colab": {
          "base_uri": "https://localhost:8080/"
        },
        "outputId": "c4a4d873-eef7-4b9d-e13c-bca1114c5193"
      },
      "source": [
        "del myList[0]\n",
        "print(myList)"
      ],
      "execution_count": null,
      "outputs": [
        {
          "output_type": "stream",
          "text": [
            "['apple', 'orange', 'lemon', 'kiwi', 'melon', 'mango']\n"
          ],
          "name": "stdout"
        }
      ]
    },
    {
      "cell_type": "code",
      "metadata": {
        "id": "lO9pdHPVMQY1",
        "colab": {
          "base_uri": "https://localhost:8080/",
          "height": 228
        },
        "outputId": "0ebe894b-117a-4c0a-a89e-e08a7937caee"
      },
      "source": [
        "myList2 = ['lemon', 'cherry', 'kiwi']\n",
        "print(myList2)\n",
        "del myList2\n",
        "print(myList2)"
      ],
      "execution_count": null,
      "outputs": [
        {
          "output_type": "stream",
          "text": [
            "['lemon', 'cherry', 'kiwi']\n"
          ],
          "name": "stdout"
        },
        {
          "output_type": "error",
          "ename": "NameError",
          "evalue": "ignored",
          "traceback": [
            "\u001b[0;31m---------------------------------------------------------------------------\u001b[0m",
            "\u001b[0;31mNameError\u001b[0m                                 Traceback (most recent call last)",
            "\u001b[0;32m<ipython-input-72-cd5ce6c888db>\u001b[0m in \u001b[0;36m<module>\u001b[0;34m()\u001b[0m\n\u001b[1;32m      2\u001b[0m \u001b[0mprint\u001b[0m\u001b[0;34m(\u001b[0m\u001b[0mmyList2\u001b[0m\u001b[0;34m)\u001b[0m\u001b[0;34m\u001b[0m\u001b[0;34m\u001b[0m\u001b[0m\n\u001b[1;32m      3\u001b[0m \u001b[0;32mdel\u001b[0m \u001b[0mmyList2\u001b[0m\u001b[0;34m\u001b[0m\u001b[0;34m\u001b[0m\u001b[0m\n\u001b[0;32m----> 4\u001b[0;31m \u001b[0mprint\u001b[0m\u001b[0;34m(\u001b[0m\u001b[0mmyList2\u001b[0m\u001b[0;34m)\u001b[0m\u001b[0;34m\u001b[0m\u001b[0;34m\u001b[0m\u001b[0m\n\u001b[0m",
            "\u001b[0;31mNameError\u001b[0m: name 'myList2' is not defined"
          ]
        }
      ]
    },
    {
      "cell_type": "markdown",
      "metadata": {
        "id": "ls0p6FIs-vGE"
      },
      "source": [
        "* El método `clear ()` nos permite vaciar la lista"
      ]
    },
    {
      "cell_type": "code",
      "metadata": {
        "id": "Y4E9kZeFMQb9",
        "colab": {
          "base_uri": "https://localhost:8080/"
        },
        "outputId": "f1e3662f-7b86-4bba-bad6-7a82959e5d16"
      },
      "source": [
        "myList2 = ['lemon', 'cherry', 'kiwi']\n",
        "print(myList2)\n",
        "myList2.clear()\n",
        "print(myList2)"
      ],
      "execution_count": null,
      "outputs": [
        {
          "output_type": "stream",
          "text": [
            "['lemon', 'cherry', 'kiwi']\n",
            "[]\n"
          ],
          "name": "stdout"
        }
      ]
    },
    {
      "cell_type": "markdown",
      "metadata": {
        "id": "g8RPifx5_s0r"
      },
      "source": [
        "## Diccionarios de Python \n",
        "\n",
        "Un diccionario es una colección de elementos desordenados, modificables e indexados sin entradas duplicadas. \n",
        "\n",
        "Los diccionarios se escriben con llaves `{ }`, y su característica principal radica en que cada elemento tiene una clave para facilitar la indexación de los valores del diccionario. Así, cada elemento del diccionario es un par `{clave:valor}` (`{key:value}`).\n"
      ]
    },
    {
      "cell_type": "markdown",
      "metadata": {
        "id": "4YF1j4kL_s01"
      },
      "source": [
        "### Crear un diccionario\n",
        "En Python, los diccionarios se escriben con llaves y cada entrada debe indicarse con un par clave-valor. Por ejemplo:"
      ]
    },
    {
      "cell_type": "code",
      "metadata": {
        "id": "64liPP1L_s07",
        "colab": {
          "base_uri": "https://localhost:8080/"
        },
        "outputId": "a04365ef-273c-4547-c49b-f4508a9b8fc2"
      },
      "source": [
        "mydict = {\n",
        "  \"name\": \"Ana\",\n",
        "  \"surname\": \"García\",\n",
        "  \"age\": 25\n",
        "}\n",
        "print(mydict)"
      ],
      "execution_count": null,
      "outputs": [
        {
          "output_type": "stream",
          "text": [
            "{'name': 'Ana', 'surname': 'García', 'age': 25}\n"
          ],
          "name": "stdout"
        }
      ]
    },
    {
      "cell_type": "markdown",
      "metadata": {
        "id": "FmYUJgEbDIdg"
      },
      "source": [
        "Obsérvese el uso de dos puntos `:` para la asignación clave-valor."
      ]
    },
    {
      "cell_type": "markdown",
      "metadata": {
        "id": "2xDLiZrKCveL"
      },
      "source": [
        "De esta forma, podemos crear un diccionario con 3 entradas asociadas a las claves \"nombre\", \"apellido\", \"edad\" y, para cada clave, hemos guardado también su valor asociado. \n",
        "\n",
        "De esta forma, los diccionarios nos permiten crear estructuras muy flexibles donde almacenar información de forma estructurada. \n",
        "\n",
        "Podemos crear un diccionario vacío si no incluimos ningún elemento:"
      ]
    },
    {
      "cell_type": "code",
      "metadata": {
        "id": "LXdjeVED5EMh",
        "colab": {
          "base_uri": "https://localhost:8080/"
        },
        "outputId": "b27bdada-f881-4341-a392-fa854998d142"
      },
      "source": [
        "myemptydict = {}\n",
        "print(myemptydict)"
      ],
      "execution_count": null,
      "outputs": [
        {
          "output_type": "stream",
          "text": [
            "{}\n"
          ],
          "name": "stdout"
        }
      ]
    },
    {
      "cell_type": "markdown",
      "metadata": {
        "id": "9BfQ3_i4IzFR"
      },
      "source": [
        "O utilizar el constructor `dict()`:\n"
      ]
    },
    {
      "cell_type": "code",
      "metadata": {
        "id": "DnWuFkP0I9t1",
        "colab": {
          "base_uri": "https://localhost:8080/"
        },
        "outputId": "e564c67a-bfdf-4a32-e230-bb2ad0556242"
      },
      "source": [
        "mydict2 = dict(name = \"Juan\", surname =\"Pérez\", age =30)\n",
        "print(mydict2)"
      ],
      "execution_count": null,
      "outputs": [
        {
          "output_type": "stream",
          "text": [
            "{'name': 'Juan', 'surname': 'Pérez', 'age': 30}\n"
          ],
          "name": "stdout"
        }
      ]
    },
    {
      "cell_type": "markdown",
      "metadata": {
        "id": "5_vnSB2BJm-C"
      },
      "source": [
        "Tenga en cuenta que ahora las claves no se proporcionan como literales de cadena y que utilizamos el signo `=`   en lugar de `:` para la asignación clave-valor."
      ]
    },
    {
      "cell_type": "markdown",
      "metadata": {
        "id": "Fp5ETF2A41Fl"
      },
      "source": [
        "### Acceso a las claves y valores\n",
        "\n",
        "Una vez creado el diccionario, podemos acceder a un valor concreto a través de su clave:"
      ]
    },
    {
      "cell_type": "code",
      "metadata": {
        "id": "TiX0TIjxDRDh",
        "colab": {
          "base_uri": "https://localhost:8080/",
          "height": 36
        },
        "outputId": "173c1221-101c-4216-d400-14d823c1bde9"
      },
      "source": [
        "mydict[\"name\"]"
      ],
      "execution_count": null,
      "outputs": [
        {
          "output_type": "execute_result",
          "data": {
            "application/vnd.google.colaboratory.intrinsic+json": {
              "type": "string"
            },
            "text/plain": [
              "'Ana'"
            ]
          },
          "metadata": {},
          "execution_count": 77
        }
      ]
    },
    {
      "cell_type": "markdown",
      "metadata": {
        "id": "_9fKkH1o4OV4"
      },
      "source": [
        "Observe que para acceder al elemento, llamamos al diccionario indicando la clave asociada al valor deseado entre corchetes.\n",
        "\n",
        "Los diccionarios también tienen un método `.get()` que proporcionará el mismo resultado:"
      ]
    },
    {
      "cell_type": "code",
      "metadata": {
        "id": "di1UchcA4qUq",
        "colab": {
          "base_uri": "https://localhost:8080/",
          "height": 36
        },
        "outputId": "04b88d9e-6959-4e0a-e586-27ff0025576d"
      },
      "source": [
        "mydict.get(\"name\")"
      ],
      "execution_count": null,
      "outputs": [
        {
          "output_type": "execute_result",
          "data": {
            "application/vnd.google.colaboratory.intrinsic+json": {
              "type": "string"
            },
            "text/plain": [
              "'Ana'"
            ]
          },
          "metadata": {},
          "execution_count": 78
        }
      ]
    },
    {
      "cell_type": "markdown",
      "metadata": {
        "id": "3Pn5lS2s7CfY"
      },
      "source": [
        "Podemos cambiar el valor de una entrada específica accediendo con su clave:"
      ]
    },
    {
      "cell_type": "code",
      "metadata": {
        "id": "x_ibvyMG7R77",
        "colab": {
          "base_uri": "https://localhost:8080/",
          "height": 36
        },
        "outputId": "ee5d608a-8285-4212-b52a-696a1f14366d"
      },
      "source": [
        "mydict[\"name\"]='Marta'\n",
        "mydict.get(\"name\")"
      ],
      "execution_count": null,
      "outputs": [
        {
          "output_type": "execute_result",
          "data": {
            "application/vnd.google.colaboratory.intrinsic+json": {
              "type": "string"
            },
            "text/plain": [
              "'Marta'"
            ]
          },
          "metadata": {},
          "execution_count": 79
        }
      ]
    },
    {
      "cell_type": "markdown",
      "metadata": {
        "id": "wBHngKl9DDK7"
      },
      "source": [
        "Obsérvese el uso de `=` en lugar de `:` para la asignación"
      ]
    },
    {
      "cell_type": "markdown",
      "metadata": {
        "id": "BO-lke09_XiN"
      },
      "source": [
        "Si intentamos acceder a una clave que no existe, obtenemos un error"
      ]
    },
    {
      "cell_type": "code",
      "metadata": {
        "id": "pwmc5txS_pYa",
        "colab": {
          "base_uri": "https://localhost:8080/",
          "height": 172
        },
        "outputId": "cebc0e5a-a82f-49a6-b2c4-4d173c326f23"
      },
      "source": [
        "mydict[\"status\"]"
      ],
      "execution_count": null,
      "outputs": [
        {
          "output_type": "error",
          "ename": "KeyError",
          "evalue": "ignored",
          "traceback": [
            "\u001b[0;31m---------------------------------------------------------------------------\u001b[0m",
            "\u001b[0;31mKeyError\u001b[0m                                  Traceback (most recent call last)",
            "\u001b[0;32m<ipython-input-80-77a7060e4a5a>\u001b[0m in \u001b[0;36m<module>\u001b[0;34m()\u001b[0m\n\u001b[0;32m----> 1\u001b[0;31m \u001b[0mmydict\u001b[0m\u001b[0;34m[\u001b[0m\u001b[0;34m\"status\"\u001b[0m\u001b[0;34m]\u001b[0m\u001b[0;34m\u001b[0m\u001b[0;34m\u001b[0m\u001b[0m\n\u001b[0m",
            "\u001b[0;31mKeyError\u001b[0m: 'status'"
          ]
        }
      ]
    },
    {
      "cell_type": "markdown",
      "metadata": {
        "id": "SuWBeaTxBCr-"
      },
      "source": [
        "Podemos evitar este error, utilizando la función get "
      ]
    },
    {
      "cell_type": "code",
      "metadata": {
        "id": "GnRtjrV5AHR5"
      },
      "source": [
        "if mydict.get(\"status\") is not None:\n",
        "  print(mydict[\"status\"])"
      ],
      "execution_count": null,
      "outputs": []
    },
    {
      "cell_type": "markdown",
      "metadata": {
        "id": "3i6oV7A16KVF"
      },
      "source": [
        "Si necesitamos acceder a todos los pares clave-valor, puede utilizar el método `.items()`"
      ]
    },
    {
      "cell_type": "code",
      "metadata": {
        "id": "7GPtjxrg6wN5",
        "colab": {
          "base_uri": "https://localhost:8080/"
        },
        "outputId": "50a9d4a0-47ce-4aa1-dad3-ba758be2c2bc"
      },
      "source": [
        "mydict.items()"
      ],
      "execution_count": null,
      "outputs": [
        {
          "output_type": "execute_result",
          "data": {
            "text/plain": [
              "dict_items([('name', 'Marta'), ('surname', 'García'), ('age', 25)])"
            ]
          },
          "metadata": {},
          "execution_count": 82
        }
      ]
    },
    {
      "cell_type": "markdown",
      "metadata": {
        "id": "lU0inZz-6jvR"
      },
      "source": [
        "Tenga en cuenta que este método devuelve una lista de todos los pares clave-valor, donde cada par se devuelve como una tupla."
      ]
    },
    {
      "cell_type": "markdown",
      "metadata": {
        "id": "XqU_xOys7Z3F"
      },
      "source": [
        "También podemos acceder de forma independiente a todas las claves o a todos los valores utilizando los métodos `.keys()` o `.values()`, respectivamente."
      ]
    },
    {
      "cell_type": "code",
      "metadata": {
        "id": "nBf_IZPn_s1M",
        "colab": {
          "base_uri": "https://localhost:8080/"
        },
        "outputId": "bced2930-3a86-4a5b-e5fd-ba9421afa68f"
      },
      "source": [
        "mydict.keys()"
      ],
      "execution_count": null,
      "outputs": [
        {
          "output_type": "execute_result",
          "data": {
            "text/plain": [
              "dict_keys(['name', 'surname', 'age'])"
            ]
          },
          "metadata": {},
          "execution_count": 83
        }
      ]
    },
    {
      "cell_type": "code",
      "metadata": {
        "id": "F7Q4fFnr7-UP",
        "colab": {
          "base_uri": "https://localhost:8080/"
        },
        "outputId": "910596d5-e408-4f68-915d-379adcf577fd"
      },
      "source": [
        "mydict.values()"
      ],
      "execution_count": null,
      "outputs": [
        {
          "output_type": "execute_result",
          "data": {
            "text/plain": [
              "dict_values(['Marta', 'García', 25])"
            ]
          },
          "metadata": {},
          "execution_count": 84
        }
      ]
    },
    {
      "cell_type": "markdown",
      "metadata": {
        "id": "hJur-w4k8a6V"
      },
      "source": [
        "Se puede iterar sobre los elementos de un diccionario utilizando un bucle `for`. Para ello, solo hay que tener en cuenta que los elementos devueltos son las claves del diccionario:\n"
      ]
    },
    {
      "cell_type": "code",
      "metadata": {
        "id": "h-nIQn-H-IPt",
        "colab": {
          "base_uri": "https://localhost:8080/"
        },
        "outputId": "fb5a848e-0c23-4458-f687-40a697d19bb2"
      },
      "source": [
        "for key in mydict:\n",
        "  print(key)"
      ],
      "execution_count": null,
      "outputs": [
        {
          "output_type": "stream",
          "text": [
            "name\n",
            "surname\n",
            "age\n"
          ],
          "name": "stdout"
        }
      ]
    },
    {
      "cell_type": "code",
      "metadata": {
        "id": "WF9Ox1QQ-iNH",
        "colab": {
          "base_uri": "https://localhost:8080/"
        },
        "outputId": "07cddfb0-50f3-47e6-d208-7ff84049ffb1"
      },
      "source": [
        "# We can use these keys to return the values\n",
        "for key in mydict:\n",
        "  print(mydict[key])"
      ],
      "execution_count": null,
      "outputs": [
        {
          "output_type": "stream",
          "text": [
            "Marta\n",
            "García\n",
            "25\n"
          ],
          "name": "stdout"
        }
      ]
    },
    {
      "cell_type": "markdown",
      "metadata": {
        "id": "mxysI-oD-Ooa"
      },
      "source": [
        "Pero podemos utilizar los métodos `.items` o `.values` para iterar sobre otros elementos"
      ]
    },
    {
      "cell_type": "code",
      "metadata": {
        "id": "2Ii6_KrQ-wsg",
        "colab": {
          "base_uri": "https://localhost:8080/"
        },
        "outputId": "7c88b8ac-08b6-4229-c8db-ed8a4bd6c91e"
      },
      "source": [
        "for value in mydict.values():\n",
        "  print(value)\n"
      ],
      "execution_count": null,
      "outputs": [
        {
          "output_type": "stream",
          "text": [
            "Marta\n",
            "García\n",
            "25\n"
          ],
          "name": "stdout"
        }
      ]
    },
    {
      "cell_type": "code",
      "metadata": {
        "id": "r66PmYSu-2Gh",
        "colab": {
          "base_uri": "https://localhost:8080/"
        },
        "outputId": "73a4c181-6273-49a6-b459-599164c846ff"
      },
      "source": [
        "for key, value in mydict.items():\n",
        "  print(key, value)"
      ],
      "execution_count": null,
      "outputs": [
        {
          "output_type": "stream",
          "text": [
            "name Marta\n",
            "surname García\n",
            "age 25\n"
          ],
          "name": "stdout"
        }
      ]
    },
    {
      "cell_type": "markdown",
      "metadata": {
        "id": "WLwOiVWRCIfb"
      },
      "source": [
        "### Añadir y eliminar elementos\n",
        "\n",
        "Para añadir una nueva entrada (clave-valor) a un diccionario, podemos simplemente utilizar una nueva clave y asignarle un valor:\n",
        "\n"
      ]
    },
    {
      "cell_type": "code",
      "metadata": {
        "id": "nj8t38vACh5S",
        "colab": {
          "base_uri": "https://localhost:8080/"
        },
        "outputId": "c4adbe7f-31fb-4169-882e-aae3dff64822"
      },
      "source": [
        "mydict[\"status\"] = 'single'\n",
        "print(mydict)"
      ],
      "execution_count": null,
      "outputs": [
        {
          "output_type": "stream",
          "text": [
            "{'name': 'Marta', 'surname': 'García', 'age': 25, 'status': 'single'}\n"
          ],
          "name": "stdout"
        }
      ]
    },
    {
      "cell_type": "markdown",
      "metadata": {
        "id": "MqrGr21IGzmc"
      },
      "source": [
        "O podemos utilizar el método `.update()`:"
      ]
    },
    {
      "cell_type": "code",
      "metadata": {
        "id": "MQVIa8ruG7M2",
        "colab": {
          "base_uri": "https://localhost:8080/"
        },
        "outputId": "ca1f2046-cc58-4b01-b675-63c6e99af42b"
      },
      "source": [
        "mydict.update({\"job\":'teacher'})\n",
        "print(mydict)"
      ],
      "execution_count": null,
      "outputs": [
        {
          "output_type": "stream",
          "text": [
            "{'name': 'Marta', 'surname': 'García', 'age': 25, 'status': 'single', 'job': 'teacher'}\n"
          ],
          "name": "stdout"
        }
      ]
    },
    {
      "cell_type": "markdown",
      "metadata": {
        "id": "agoqGPCrHnSb"
      },
      "source": [
        "Aunque, en general, este método actualiza el diccionario con elementos de otro diccionario. En caso de que el otro diccionario tenga nuevos valores clave, éstos se añaden como nuevos elementos; en caso contrario, se actualizan los valores asociados. Por ejemplo:"
      ]
    },
    {
      "cell_type": "code",
      "metadata": {
        "id": "GWCId2cQIKdX",
        "colab": {
          "base_uri": "https://localhost:8080/"
        },
        "outputId": "20e6f6e7-c528-4ee2-d755-ae144e4ddff5"
      },
      "source": [
        "mydict2 = {1: \"one\", 2: \"three\"}\n",
        "dictnew = {2: \"two\", 3: \"three\"}\n",
        "\n",
        "mydict2.update(dictnew)\n",
        "print(mydict2)"
      ],
      "execution_count": null,
      "outputs": [
        {
          "output_type": "stream",
          "text": [
            "{1: 'one', 2: 'two', 3: 'three'}\n"
          ],
          "name": "stdout"
        }
      ]
    },
    {
      "cell_type": "markdown",
      "metadata": {
        "id": "6Tscsp-ACjSo"
      },
      "source": [
        "Para eliminar elementos de un diccionario, podemos utilizar los siguientes métodos:\n",
        "* `.pop()` o `del` (esta última es una función de Python): eliminan el elemento asociado a una clave determinada.\n",
        "\n",
        "* `.popitem()`: elimina el último elemento insertado.\n"
      ]
    },
    {
      "cell_type": "code",
      "metadata": {
        "id": "3PEC4N20Ci6d",
        "colab": {
          "base_uri": "https://localhost:8080/"
        },
        "outputId": "db733a98-ad5a-44a2-8906-4e500e20494a"
      },
      "source": [
        "print(mydict)\n",
        "mydict.popitem() \n",
        "print(mydict)"
      ],
      "execution_count": null,
      "outputs": [
        {
          "output_type": "stream",
          "text": [
            "{'name': 'Marta', 'surname': 'García', 'age': 25, 'status': 'single', 'job': 'teacher'}\n",
            "{'name': 'Marta', 'surname': 'García', 'age': 25, 'status': 'single'}\n"
          ],
          "name": "stdout"
        }
      ]
    },
    {
      "cell_type": "code",
      "metadata": {
        "id": "_N6BIbtYFFjn",
        "colab": {
          "base_uri": "https://localhost:8080/"
        },
        "outputId": "8a9f0ac7-dc79-411f-b3f9-9c069f2cd6d2"
      },
      "source": [
        "mydict.pop(\"age\") \n",
        "print(mydict)"
      ],
      "execution_count": null,
      "outputs": [
        {
          "output_type": "stream",
          "text": [
            "{'name': 'Marta', 'surname': 'García', 'status': 'single'}\n"
          ],
          "name": "stdout"
        }
      ]
    },
    {
      "cell_type": "code",
      "metadata": {
        "id": "9owdzBQBFdOJ",
        "colab": {
          "base_uri": "https://localhost:8080/"
        },
        "outputId": "38758cb6-2f72-4b63-b74a-c786c3b523fa"
      },
      "source": [
        "del mydict[\"name\"]\n",
        "print(mydict)"
      ],
      "execution_count": null,
      "outputs": [
        {
          "output_type": "stream",
          "text": [
            "{'surname': 'García', 'status': 'single'}\n"
          ],
          "name": "stdout"
        }
      ]
    },
    {
      "cell_type": "markdown",
      "metadata": {
        "id": "PiRcwStoFlnr"
      },
      "source": [
        "O incluso podemos utilizar `del` para eliminar el diccionario completo"
      ]
    },
    {
      "cell_type": "code",
      "metadata": {
        "id": "AXOATvhxFriK",
        "colab": {
          "base_uri": "https://localhost:8080/",
          "height": 191
        },
        "outputId": "68995f4a-625c-4fa4-d9df-9542be28e9cd"
      },
      "source": [
        "del mydict\n",
        "print(mydict)"
      ],
      "execution_count": null,
      "outputs": [
        {
          "output_type": "error",
          "ename": "NameError",
          "evalue": "ignored",
          "traceback": [
            "\u001b[0;31m---------------------------------------------------------------------------\u001b[0m",
            "\u001b[0;31mNameError\u001b[0m                                 Traceback (most recent call last)",
            "\u001b[0;32m<ipython-input-95-2a0d72ed7222>\u001b[0m in \u001b[0;36m<module>\u001b[0;34m()\u001b[0m\n\u001b[1;32m      1\u001b[0m \u001b[0;32mdel\u001b[0m \u001b[0mmydict\u001b[0m\u001b[0;34m\u001b[0m\u001b[0;34m\u001b[0m\u001b[0m\n\u001b[0;32m----> 2\u001b[0;31m \u001b[0mprint\u001b[0m\u001b[0;34m(\u001b[0m\u001b[0mmydict\u001b[0m\u001b[0;34m)\u001b[0m\u001b[0;34m\u001b[0m\u001b[0;34m\u001b[0m\u001b[0m\n\u001b[0m",
            "\u001b[0;31mNameError\u001b[0m: name 'mydict' is not defined"
          ]
        }
      ]
    },
    {
      "cell_type": "markdown",
      "metadata": {
        "id": "fvUeh81FF2oV"
      },
      "source": [
        "Si sólo queremos eliminar los elementos del diccionario, sin borrar la variable, podemos utilizar el método `.clear`:"
      ]
    },
    {
      "cell_type": "code",
      "metadata": {
        "id": "BkmfhdwBF29a",
        "colab": {
          "base_uri": "https://localhost:8080/"
        },
        "outputId": "654e2ab3-440e-4123-e9ea-9d5974e5efe0"
      },
      "source": [
        "mydict = {\n",
        "  \"name\": \"Ana\",\n",
        "  \"surname\": \"García\",\n",
        "  \"age\": 25\n",
        "}\n",
        "print(mydict)"
      ],
      "execution_count": null,
      "outputs": [
        {
          "output_type": "stream",
          "text": [
            "{'name': 'Ana', 'surname': 'García', 'age': 25}\n"
          ],
          "name": "stdout"
        }
      ]
    },
    {
      "cell_type": "code",
      "metadata": {
        "id": "8mXMSUCrGU4_",
        "colab": {
          "base_uri": "https://localhost:8080/"
        },
        "outputId": "3522a363-b1e8-4177-9b8e-4f2a6401ac2a"
      },
      "source": [
        "mydict.clear()\n",
        "print(mydict)"
      ],
      "execution_count": null,
      "outputs": [
        {
          "output_type": "stream",
          "text": [
            "{}\n"
          ],
          "name": "stdout"
        }
      ]
    },
    {
      "cell_type": "markdown",
      "metadata": {
        "id": "oht2DGtm8XUS"
      },
      "source": [
        "## Estructuras anidadas\n",
        "\n",
        "En Python podemos crear estructuras anidadas. Por ejemplo, podemos crear:\n",
        "\n",
        "**Diccionarios anidados**: Es un diccionario que contiene muchos diccionarios.\n",
        "\n",
        "**Lista de diccionarios**: Es una lista donde cada elemento es un diccionario. En estas estructuras es bastante común que todos los diccionarios tengan las mismas claves, aunque esto no es obligatorio.  \n"
      ]
    },
    {
      "cell_type": "code",
      "metadata": {
        "id": "RKZcc0efLKvI",
        "colab": {
          "base_uri": "https://localhost:8080/"
        },
        "outputId": "e6894808-8c39-4dc4-bf4a-44de38d42e11"
      },
      "source": [
        "# Example of a neted dictionary\n",
        "children = {\n",
        "  \"child1\" : {\n",
        "    \"name\" : \"Alex\",\n",
        "    \"age\" : 4\n",
        "  },\n",
        "  \"child2\" : {\n",
        "    \"name\" : \"Eva\",\n",
        "    \"year\" : 7\n",
        "  },\n",
        "  \"child3\" : {\n",
        "    \"name\" : \"Daniel\",\n",
        "    \"year\" : 11\n",
        "  }\n",
        "}\n",
        "print(children)"
      ],
      "execution_count": null,
      "outputs": [
        {
          "output_type": "stream",
          "text": [
            "{'child1': {'name': 'Alex', 'age': 4}, 'child2': {'name': 'Eva', 'year': 7}, 'child3': {'name': 'Daniel', 'year': 11}}\n"
          ],
          "name": "stdout"
        }
      ]
    },
    {
      "cell_type": "code",
      "metadata": {
        "id": "jh6jrri_Lvy3",
        "colab": {
          "base_uri": "https://localhost:8080/"
        },
        "outputId": "34fac094-f01f-439e-b655-93c2d7a76e42"
      },
      "source": [
        "# Example of a list of dictionaries\n",
        "\n",
        "children = [{\n",
        "    \"name\" : \"Alex\",\n",
        "    \"age\" : 4\n",
        "  }, {\n",
        "    \"name\" : \"Eva\",\n",
        "    \"year\" : 7\n",
        "  }, {\n",
        "    \"name\" : \"Daniel\",\n",
        "    \"year\" : 11\n",
        "  }]\n",
        "print(children)"
      ],
      "execution_count": null,
      "outputs": [
        {
          "output_type": "stream",
          "text": [
            "[{'name': 'Alex', 'age': 4}, {'name': 'Eva', 'year': 7}, {'name': 'Daniel', 'year': 11}]\n"
          ],
          "name": "stdout"
        }
      ]
    },
    {
      "cell_type": "markdown",
      "metadata": {
        "id": "sB70VS1LRtyU"
      },
      "source": [
        "**Ejercicios con diccionarios**\n",
        "\n",
        "Vamos a crear un diccionario con la información de tus compañeros de clase, utilizando el nombre como clave y sus estudios (titulación) como valores. Para este ejercicio, es suficiente con que incluyas los datos de 5 o 6 compañeros (puedes utilizar el chat para compartir esta información)."
      ]
    },
    {
      "cell_type": "code",
      "metadata": {
        "id": "c0z0YEZcSnFJ",
        "colab": {
          "base_uri": "https://localhost:8080/"
        },
        "outputId": "eb4e8b7b-c20a-4e94-e3c2-0a65ad689725"
      },
      "source": [
        "#<SOL>\n",
        "classmates={'Maria':'Telecomunication Eng', 'Pablo': 'Computer Science', 'Marta':'Maths', 'Ana': 'Computer Science', 'Antonio' :'Telecomunication Eng'}\n",
        "print(classmates)\n",
        "#</SOL>"
      ],
      "execution_count": null,
      "outputs": [
        {
          "output_type": "stream",
          "text": [
            "{'Maria': 'Telecomunication Eng', 'Pablo': 'Computer Science', 'Marta': 'Maths', 'Ana': 'Computer Science', 'Antonio': 'Telecomunication Eng'}\n"
          ],
          "name": "stdout"
        }
      ]
    },
    {
      "cell_type": "markdown",
      "metadata": {
        "id": "Mkjn_JLyT72I"
      },
      "source": [
        "Ahora resuelve los siguientes ejercicios o preguntas:\n",
        "* ¿Qué titulación ha estudiado Maria?\n",
        "* Actualiza el diccionario con información de otro compañero\n",
        "* Crea una lista con los nombres de todos los compañeros de clase que están en tu diccionario\n",
        "* ¿Cuánta gente ha estudiado `Computer Science`?\n"
      ]
    },
    {
      "cell_type": "code",
      "metadata": {
        "id": "zBbxp2MaT7dj",
        "colab": {
          "base_uri": "https://localhost:8080/",
          "height": 36
        },
        "outputId": "058e10ed-8374-4ea4-e1dc-3879ae660f12"
      },
      "source": [
        "#<SOL>\n",
        "classmates['Maria']\n",
        "#</SOL>"
      ],
      "execution_count": null,
      "outputs": [
        {
          "output_type": "execute_result",
          "data": {
            "application/vnd.google.colaboratory.intrinsic+json": {
              "type": "string"
            },
            "text/plain": [
              "'Telecomunication Eng'"
            ]
          },
          "metadata": {},
          "execution_count": 101
        }
      ]
    },
    {
      "cell_type": "code",
      "metadata": {
        "id": "W8FfCaaRv6qO"
      },
      "source": [
        "#<SOL>\n",
        "classmates['Vanessa'] = 'Telecomunication Eng'\n",
        "#</SOL>"
      ],
      "execution_count": null,
      "outputs": []
    },
    {
      "cell_type": "code",
      "metadata": {
        "id": "sLRJ1TsFwAah",
        "colab": {
          "base_uri": "https://localhost:8080/"
        },
        "outputId": "ee484aae-ad64-4b63-d203-5aa07bca8fab"
      },
      "source": [
        "#<SOL>\n",
        "classmates.keys()\n",
        "#</SOL>"
      ],
      "execution_count": null,
      "outputs": [
        {
          "output_type": "execute_result",
          "data": {
            "text/plain": [
              "dict_keys(['Maria', 'Pablo', 'Marta', 'Ana', 'Antonio', 'Vanessa'])"
            ]
          },
          "metadata": {},
          "execution_count": 103
        }
      ]
    },
    {
      "cell_type": "code",
      "metadata": {
        "id": "wwmt_f_TwDRD",
        "colab": {
          "base_uri": "https://localhost:8080/"
        },
        "outputId": "db994904-ab30-4390-85f8-d11552520324"
      },
      "source": [
        "#<SOL>\n",
        "num=0\n",
        "for val in classmates.values():\n",
        "  if val ==   'Computer Science':\n",
        "    num +=1\n",
        "print(num)\n",
        "#</SOL>"
      ],
      "execution_count": null,
      "outputs": [
        {
          "output_type": "stream",
          "text": [
            "2\n"
          ],
          "name": "stdout"
        }
      ]
    },
    {
      "cell_type": "markdown",
      "metadata": {
        "id": "eKqCOgWw8-hD"
      },
      "source": [
        "# Comprensión de listas (List Comprehension)\n",
        "\n",
        "La comprensión de listas es una forma elegante de crear listas en Python a partir de listas (o iteradores) existentes. \n",
        "\n",
        "Para definir una nueva lista en Python usando la comprensión de listas definiremos una expresión entre corchetes, pero en lugar de la lista de elementos dentro de ella, definiremos una expresión seguida de un bucle `for`: \n",
        "\n",
        "`nueva_lista = [(operación sobre elemento) for elemento in iterador]`\n",
        "\n",
        "Esta expresión permite tomar elementos de nuestro iterador (que puede ser otra lista), aplicar una operación sobre ellos, y generar los nuevos elementos que se añaden automáticamente en `nueva_lista`.\n",
        "\n",
        "Esta sintaxis hace que esta nueva forma de definir listas sea más compacta y rápida que la definición normal.\n",
        "\n",
        "Veamos cómo funciona esto con algunos ejemplos:\n"
      ]
    },
    {
      "cell_type": "markdown",
      "metadata": {
        "id": "EEuoPfWT5nvp"
      },
      "source": [
        "**Ejemplo 1**: Vamos a crear una lista con los caracteres de la frase \"¡Hello world!\" "
      ]
    },
    {
      "cell_type": "code",
      "metadata": {
        "id": "OewT74U4ZNKL",
        "colab": {
          "base_uri": "https://localhost:8080/"
        },
        "outputId": "547b05a3-8667-4bb2-e0a3-c83908eb9de7"
      },
      "source": [
        "# Standard solution\n",
        "sentence = \"Hello world!\"\n",
        "mylist= []\n",
        "for char in sentence:\n",
        "  mylist.append(char)\n",
        "\n",
        "print(mylist)"
      ],
      "execution_count": null,
      "outputs": [
        {
          "output_type": "stream",
          "text": [
            "['H', 'e', 'l', 'l', 'o', ' ', 'w', 'o', 'r', 'l', 'd', '!']\n"
          ],
          "name": "stdout"
        }
      ]
    },
    {
      "cell_type": "code",
      "metadata": {
        "id": "9h55o7dfZNHR",
        "colab": {
          "base_uri": "https://localhost:8080/"
        },
        "outputId": "3e56ddb6-b069-403e-fcc0-d76ac2070020"
      },
      "source": [
        "# List comprehension\n",
        "sentence = \"Hello world!\"\n",
        "mylist2 = [char for char in sentence]\n",
        "print(mylist2)"
      ],
      "execution_count": null,
      "outputs": [
        {
          "output_type": "stream",
          "text": [
            "['H', 'e', 'l', 'l', 'o', ' ', 'w', 'o', 'r', 'l', 'd', '!']\n"
          ],
          "name": "stdout"
        }
      ]
    },
    {
      "cell_type": "markdown",
      "metadata": {
        "id": "n6WjKljW6d-I"
      },
      "source": [
        "**Ejemplo 2**: Calculemos el cuadrado del número de 0 a 10"
      ]
    },
    {
      "cell_type": "code",
      "metadata": {
        "id": "5MWprkubZNEH",
        "colab": {
          "base_uri": "https://localhost:8080/"
        },
        "outputId": "735aaf08-0b2c-4674-9b74-299bb47c4a5f"
      },
      "source": [
        "# Standard solution\n",
        "mylist= []\n",
        "for num in range(11):\n",
        "  mylist.append(num**2)\n",
        "\n",
        "print(mylist)"
      ],
      "execution_count": null,
      "outputs": [
        {
          "output_type": "stream",
          "text": [
            "[0, 1, 4, 9, 16, 25, 36, 49, 64, 81, 100]\n"
          ],
          "name": "stdout"
        }
      ]
    },
    {
      "cell_type": "code",
      "metadata": {
        "id": "CoG20htEZNBN",
        "colab": {
          "base_uri": "https://localhost:8080/"
        },
        "outputId": "8e270471-9b65-42fb-817b-1b3b4031413d"
      },
      "source": [
        "# List comprehension\n",
        "mylist2 = [num**2 for num in range(11)]\n",
        "print(mylist2)"
      ],
      "execution_count": null,
      "outputs": [
        {
          "output_type": "stream",
          "text": [
            "[0, 1, 4, 9, 16, 25, 36, 49, 64, 81, 100]\n"
          ],
          "name": "stdout"
        }
      ]
    },
    {
      "cell_type": "markdown",
      "metadata": {
        "id": "zCTwxuzd63_j"
      },
      "source": [
        "#### If...else con la comprensión de listas\n",
        "\n",
        "La comprensión de listas también nos permite incluir declaraciones `if... else...` en su definición.\n",
        "\n",
        "Por ejemplo, en el Ejemplo 2, podemos calcular el cuadrado de sólo los números impares entre 0 y 10."
      ]
    },
    {
      "cell_type": "code",
      "metadata": {
        "id": "VKFjL_i67h1s",
        "colab": {
          "base_uri": "https://localhost:8080/"
        },
        "outputId": "58c5da81-bfa2-4428-f6d6-bea6b6601574"
      },
      "source": [
        "# Standard solution\n",
        "mylist= []\n",
        "for num in range(11):\n",
        "  if (num % 2) != 0:\n",
        "    mylist.append(num**2)\n",
        "\n",
        "print(mylist)"
      ],
      "execution_count": null,
      "outputs": [
        {
          "output_type": "stream",
          "text": [
            "[1, 9, 25, 49, 81]\n"
          ],
          "name": "stdout"
        }
      ]
    },
    {
      "cell_type": "code",
      "metadata": {
        "id": "c0XpK7jK7teS",
        "colab": {
          "base_uri": "https://localhost:8080/"
        },
        "outputId": "713fcb21-2dc4-4532-c6f1-944b644fcf25"
      },
      "source": [
        "# List comprehension\n",
        "mylist2 = [num**2 for num in range(11) if (num % 2) != 0]\n",
        "print(mylist2)"
      ],
      "execution_count": null,
      "outputs": [
        {
          "output_type": "stream",
          "text": [
            "[1, 9, 25, 49, 81]\n"
          ],
          "name": "stdout"
        }
      ]
    },
    {
      "cell_type": "markdown",
      "metadata": {
        "id": "gTFEfiuS73nR"
      },
      "source": [
        "O podemos calcular el cuadrado de los números impares y el cubo de los pares."
      ]
    },
    {
      "cell_type": "code",
      "metadata": {
        "id": "wU2MJzhw72TR",
        "colab": {
          "base_uri": "https://localhost:8080/"
        },
        "outputId": "dfa055a7-6485-4063-e871-2479b571c5e9"
      },
      "source": [
        "# Standard solution\n",
        "mylist= []\n",
        "for num in range(11):\n",
        "  if (num % 2) != 0:\n",
        "    mylist.append(num**2)\n",
        "  else:\n",
        "    mylist.append(num**3)\n",
        "print(mylist)"
      ],
      "execution_count": null,
      "outputs": [
        {
          "output_type": "stream",
          "text": [
            "[0, 1, 8, 9, 64, 25, 216, 49, 512, 81, 1000]\n"
          ],
          "name": "stdout"
        }
      ]
    },
    {
      "cell_type": "code",
      "metadata": {
        "id": "ZEX_JsZm8LB7",
        "colab": {
          "base_uri": "https://localhost:8080/"
        },
        "outputId": "abbe2e2a-aeb0-41a4-c94e-9fc9b13f5bf1"
      },
      "source": [
        "# List comprehension\n",
        "mylist2 = [num**2 if (num % 2) != 0 else num**3 for num in range(11)]\n",
        "print(mylist2)"
      ],
      "execution_count": null,
      "outputs": [
        {
          "output_type": "stream",
          "text": [
            "[0, 1, 8, 9, 64, 25, 216, 49, 512, 81, 1000]\n"
          ],
          "name": "stdout"
        }
      ]
    },
    {
      "cell_type": "markdown",
      "metadata": {
        "id": "tAm1ZP3D8fCh"
      },
      "source": [
        "#### Comprensión de diccionarios / Dictionary Comprehension\n",
        "\n",
        "Podemos crear un diccionario con el uso de una sintaxis similar utilizando llaves en lugar de corchetes e indicando los pares `clave:valor` en lugar de los elementos de la lista.\n"
      ]
    },
    {
      "cell_type": "markdown",
      "metadata": {
        "id": "28sWaBLJ9qOL"
      },
      "source": [
        "**Ejemplo 3**: Vamos a calcular un diccionario con pares `{número: número**2}` donde el número es la clave y el valor su cuadrado."
      ]
    },
    {
      "cell_type": "code",
      "metadata": {
        "id": "WnDm4_aS9CNp",
        "colab": {
          "base_uri": "https://localhost:8080/"
        },
        "outputId": "d4e86ee5-a2b9-4ac2-b47e-05aa27f0c2f2"
      },
      "source": [
        "# Dict comprehension\n",
        "mydict = {num:num**2 for num in range(11)}\n",
        "print(mydict)"
      ],
      "execution_count": null,
      "outputs": [
        {
          "output_type": "stream",
          "text": [
            "{0: 0, 1: 1, 2: 4, 3: 9, 4: 16, 5: 25, 6: 36, 7: 49, 8: 64, 9: 81, 10: 100}\n"
          ],
          "name": "stdout"
        }
      ]
    },
    {
      "cell_type": "code",
      "metadata": {
        "id": "goda63uq-MKI",
        "colab": {
          "base_uri": "https://localhost:8080/"
        },
        "outputId": "c510cea4-ae6d-41b1-a6bd-958fa4c02d18"
      },
      "source": [
        "mydict[6]"
      ],
      "execution_count": null,
      "outputs": [
        {
          "output_type": "execute_result",
          "data": {
            "text/plain": [
              "36"
            ]
          },
          "metadata": {},
          "execution_count": 114
        }
      ]
    },
    {
      "cell_type": "markdown",
      "metadata": {
        "id": "Xs2JmnRMvpvq"
      },
      "source": [
        "## ¿Por qué listas o diccionarios comprimidos?\n",
        "\n",
        "Este tipo de sintáxis no solo nos permite ahorrar líneas de código, sino que además es más eficiente computacionalmente hablando. Veámoslo con un ejemplo..."
      ]
    },
    {
      "cell_type": "code",
      "metadata": {
        "colab": {
          "base_uri": "https://localhost:8080/"
        },
        "id": "NAcETjZFwxk5",
        "outputId": "4d1fe27f-ff41-4e3a-bab5-3858fd3cab2f"
      },
      "source": [
        "import time\n",
        "MILLION_NUMBERS = list(range(1000000))\n",
        "\n",
        "output = []\n",
        "start_time = time.time()\n",
        "for element in MILLION_NUMBERS:\n",
        "    if not element % 2:\n",
        "        output.append(element)\n",
        "elapsed_time = time.time() - start_time\n",
        "print(elapsed_time)"
      ],
      "execution_count": null,
      "outputs": [
        {
          "output_type": "stream",
          "text": [
            "0.1503603458404541\n"
          ],
          "name": "stdout"
        }
      ]
    },
    {
      "cell_type": "code",
      "metadata": {
        "colab": {
          "base_uri": "https://localhost:8080/"
        },
        "id": "FrEYrw0xw3Nl",
        "outputId": "373bb709-a061-47ae-f89b-e076d79865aa"
      },
      "source": [
        "start_time = time.time()\n",
        "output = [number for number in MILLION_NUMBERS if not number % 2]\n",
        "elapsed_time = time.time() - start_time\n",
        "print(elapsed_time)"
      ],
      "execution_count": null,
      "outputs": [
        {
          "output_type": "stream",
          "text": [
            "0.08549904823303223\n"
          ],
          "name": "stdout"
        }
      ]
    },
    {
      "cell_type": "markdown",
      "metadata": {
        "id": "nX9bmWypvfxp"
      },
      "source": [
        "# Expresiones regulares\n",
        "\n",
        "Las expresiones regulares (llamadas REs, o regexes, o patrones regex) son esencialmente un pequeño lenguaje de programación altamente especializado y muy eficiente para la búsqueda de patrones en documentos de texto. Para trabajar con ellas solo tenemos que importar la librería `re`.\n",
        "\n",
        "Esta librería nos permite detectar patrones en nuestras cadenas de texto, contestando a preguntas del tipo *¿Coincide esta cadena con el patrón?*, o *¿Existe una coincidencia del patrón en alguna parte de esta cadena?*. También se puede utilizar `re` para modificar una cadena o dividirla.\n"
      ]
    },
    {
      "cell_type": "code",
      "metadata": {
        "id": "Hx5_QecXHwUJ"
      },
      "source": [
        "import re"
      ],
      "execution_count": null,
      "outputs": []
    },
    {
      "cell_type": "markdown",
      "metadata": {
        "id": "2Vk1ITHbGTZr"
      },
      "source": [
        "## Búsqueda de patrones\n",
        "\n",
        "Consideremos que definimos un framento de una cadena de texto (`pattern`) como nuestro patrón a buscar, a partir de este patrón la librería `re` nos proporciona las siguientes funciones:\n",
        "\n",
        "* `match()` : Determina si `pattern` está presente al principio de la cadena.\n",
        "\n",
        "* `search()` : Recorre una cadena, buscando cualquier lugar en el que esta `pattern` coincida. Si `pattern` aparece en varias posiciones, devuelve la primera coincidencia.\n",
        "\n",
        "* `findall()` / `finditer()` : Encuentra todas las subcadenas en las que coincide la `pattern`, y las devuelve como una lista/iterador.\n"
      ]
    },
    {
      "cell_type": "code",
      "metadata": {
        "id": "6WRB5gltH1I-"
      },
      "source": [
        "pattern = 'this'\n",
        "text = 'Does this text match the pattern?'"
      ],
      "execution_count": null,
      "outputs": []
    },
    {
      "cell_type": "code",
      "metadata": {
        "colab": {
          "base_uri": "https://localhost:8080/"
        },
        "id": "Dw_FbdYgH3lb",
        "outputId": "a69c9730-5ba7-4254-e4e6-8d75068fc38b"
      },
      "source": [
        "# Example with match\n",
        "result = re.match(pattern, text)\n",
        "print(result) "
      ],
      "execution_count": null,
      "outputs": [
        {
          "output_type": "stream",
          "text": [
            "None\n"
          ],
          "name": "stdout"
        }
      ]
    },
    {
      "cell_type": "code",
      "metadata": {
        "colab": {
          "base_uri": "https://localhost:8080/"
        },
        "id": "w7xqFGVqIAhF",
        "outputId": "8f80c98d-942c-4b47-99fd-13d0064cdda7"
      },
      "source": [
        "# Example with match\n",
        "result = re.match('Does', text)\n",
        "print(result) "
      ],
      "execution_count": null,
      "outputs": [
        {
          "output_type": "stream",
          "text": [
            "<re.Match object; span=(0, 4), match='Does'>\n"
          ],
          "name": "stdout"
        }
      ]
    },
    {
      "cell_type": "code",
      "metadata": {
        "colab": {
          "base_uri": "https://localhost:8080/"
        },
        "id": "LGJH7Nf5PADK",
        "outputId": "185afdce-ae5a-4dfa-8211-824d518a12e3"
      },
      "source": [
        "# Example with search\n",
        "result = re.search(pattern, text)\n",
        "print(result) "
      ],
      "execution_count": null,
      "outputs": [
        {
          "output_type": "stream",
          "text": [
            "<re.Match object; span=(5, 9), match='this'>\n"
          ],
          "name": "stdout"
        }
      ]
    },
    {
      "cell_type": "markdown",
      "metadata": {
        "id": "bDFUDFAqlmJu"
      },
      "source": [
        "Como podemos ver en estos ejemplos, los métodos `match()` y `search()` devuelven `None` si no se encuentra ninguna coincidencia y si tienen éxito, devuelven un Objeto `re.Match` que contiene información sobre la coincidencia:\n",
        "* `group()`: devuelve el texto que coincide con la expresion regular.\n",
        "* `start()`: devuelve la posición inicial de la coincidencia.\n",
        "* `end()`: devuelve la posición final de la coincidencia.\n",
        "* `span()`: devuelve una tupla con la posición inicial y final de la coincidencia.\n",
        "\n",
        "Además, incluye el atributo `.string` con la cadena original sobre la que se ha realizado la búsqueda.\n",
        "\n"
      ]
    },
    {
      "cell_type": "code",
      "metadata": {
        "colab": {
          "base_uri": "https://localhost:8080/"
        },
        "id": "Gk3Sz4_XIHm-",
        "outputId": "6a06fa51-bcd9-4465-858d-1d60ff75b27e"
      },
      "source": [
        "# Text matching the regular expression\n",
        "print(result.group())\n",
        "# Position where the match starts\n",
        "print(result.start()) \n",
        "# Position where the match ends\n",
        "print(result.end())  \n",
        "# Tuple with positions where the match starts and ends\n",
        "print(result.span())   \n",
        "\n",
        "# String on which the search has been performed\n",
        "print(result.string) "
      ],
      "execution_count": null,
      "outputs": [
        {
          "output_type": "stream",
          "text": [
            "this\n",
            "5\n",
            "9\n",
            "(5, 9)\n",
            "Does this text match the pattern?\n"
          ],
          "name": "stdout"
        }
      ]
    },
    {
      "cell_type": "code",
      "metadata": {
        "colab": {
          "base_uri": "https://localhost:8080/"
        },
        "id": "JS7b9SCsIVuV",
        "outputId": "18e84d5a-b55e-48a4-9577-403a04c2c6ec"
      },
      "source": [
        "print('Found \"{}\"\\nin \"{}\"\\nfrom {} to {} (\"{}\")'.format(result.group(), result.string, result.start(), result.end(), text[result.start():result.end()]))"
      ],
      "execution_count": null,
      "outputs": [
        {
          "output_type": "stream",
          "text": [
            "Found \"this\"\n",
            "in \"Does this text match the pattern?\"\n",
            "from 5 to 9 (\"this\")\n"
          ],
          "name": "stdout"
        }
      ]
    },
    {
      "cell_type": "markdown",
      "metadata": {
        "id": "yUfZSE_SPdtb"
      },
      "source": [
        "A diferencia de `match()` y `search()`, el método `findall()` devuelve una lista con todos los fragmentos de texto que coinciden con la expresión regular y  `finditer()` que devuelve un iterador de objetos `re.Match`.  Veámoslo con un ejemplo:"
      ]
    },
    {
      "cell_type": "code",
      "metadata": {
        "colab": {
          "base_uri": "https://localhost:8080/"
        },
        "id": "TqzQKQEUIrdv",
        "outputId": "f786a5a3-b1d5-4063-cceb-2e9bb8ae7b73"
      },
      "source": [
        "# Example with findall() \n",
        "\n",
        "text = 'abbaaabbbbaaaaa'\n",
        "pattern = 'ab'\n",
        "for match in re.findall(pattern, text):\n",
        "    print('Found {}'.format(match))  \n"
      ],
      "execution_count": null,
      "outputs": [
        {
          "output_type": "stream",
          "text": [
            "Found ab\n",
            "Found ab\n"
          ],
          "name": "stdout"
        }
      ]
    },
    {
      "cell_type": "code",
      "metadata": {
        "colab": {
          "base_uri": "https://localhost:8080/"
        },
        "id": "4cKKlihyK8uu",
        "outputId": "2f7f0801-8fb7-48c1-e737-3657feba9a70"
      },
      "source": [
        "# Example with finditer()\n",
        "for match in re.finditer(pattern, text):\n",
        "    s = match.start()\n",
        "    e = match.end()\n",
        "    print('Found {!r} at {:d}:{:d}'.format(\n",
        "        text[s:e], s, e))"
      ],
      "execution_count": null,
      "outputs": [
        {
          "output_type": "stream",
          "text": [
            "Found 'ab' at 0:2\n",
            "Found 'ab' at 5:7\n"
          ],
          "name": "stdout"
        }
      ]
    },
    {
      "cell_type": "markdown",
      "metadata": {
        "id": "HCaO6mE3EdBi"
      },
      "source": [
        "## Definición de patrones \n",
        "\n",
        "En ocasones no queremos definir una cadena de texto concreta a buscar, sino definir un patrón que indique  una determinada estructura a buscar. Para definir estos patrones de búsqueda `re` utiliza una serie de *metacaracteres* especiales:\n",
        "\n",
        "`. ^ $ * + ? { } [ ] \\ | ( )`\n",
        "\n",
        "A continuación, iremos viendo cómo se usan estos metacaracteres y qué funcionalides nos dan."
      ]
    },
    {
      "cell_type": "markdown",
      "metadata": {
        "id": "LlSBLjubKkIP"
      },
      "source": [
        "### Definición del patrón\n",
        "\n",
        "`[` y `]` se utilizan para especificar un conjunto de caracteres con los que se desea coincidir. Los caracteres se pueden enumerar individualmente, o se puede indicar un rango de caracteres dando dos caracteres y separándolos con un `'-'`. \n",
        "\n",
        "Por ejemplo, `[abc]` coincidirá con cualquiera de los caracteres `a`, `b` o `c`; esto es lo mismo que `[a-c]`, que utiliza un rango para expresar el mismo conjunto de caracteres. Por ejemplo, si queremos decir que nuestro patrón es cualquier letra minúscula, podemos definirlo como `[a-z]`.\n"
      ]
    },
    {
      "cell_type": "code",
      "metadata": {
        "colab": {
          "base_uri": "https://localhost:8080/"
        },
        "id": "CduU1Z2IE6vF",
        "outputId": "283b9c86-9ff8-42a7-ab49-6fe0eccef34f"
      },
      "source": [
        "# Find vowels\n",
        "text = 'Does this text match the pattern?'\n",
        "pattern='[aeiou]'\n",
        "for match in re.finditer(pattern, text):\n",
        "    s = match.start()\n",
        "    e = match.end()\n",
        "    print('Found {} at {}:{}'.format(text[s:e], s, e))"
      ],
      "execution_count": null,
      "outputs": [
        {
          "output_type": "stream",
          "text": [
            "Found o at 1:2\n",
            "Found e at 2:3\n",
            "Found i at 7:8\n",
            "Found e at 11:12\n",
            "Found a at 16:17\n",
            "Found e at 23:24\n",
            "Found a at 26:27\n",
            "Found e at 29:30\n"
          ],
          "name": "stdout"
        }
      ]
    },
    {
      "cell_type": "code",
      "metadata": {
        "colab": {
          "base_uri": "https://localhost:8080/"
        },
        "id": "5o29ZrSdM79o",
        "outputId": "b00634b9-d9e3-4429-d8b2-05088cd4853c"
      },
      "source": [
        "# Find capital letters\n",
        "text = 'Does This Text Match the Pattern?'\n",
        "pattern='[A-Z]'\n",
        "for match in re.finditer(pattern, text):\n",
        "    s = match.start()\n",
        "    e = match.end()\n",
        "    print('Found {} at {}:{}'.format(text[s:e], s, e))"
      ],
      "execution_count": null,
      "outputs": [
        {
          "output_type": "stream",
          "text": [
            "Found D at 0:1\n",
            "Found T at 5:6\n",
            "Found T at 10:11\n",
            "Found M at 15:16\n",
            "Found P at 25:26\n"
          ],
          "name": "stdout"
        }
      ]
    },
    {
      "cell_type": "markdown",
      "metadata": {
        "id": "GaTbGCpBUPEw"
      },
      "source": [
        "### Códigos escapados \n",
        "\n",
        "Si cada vez que quisiéramos definir un patrón variable tuviéramos que crear rangos, acabaríamos generando expresiones regulares gigantes. Por suerte su sintaxis también acepta una serie de caracteres escapados que tienen un significo único. Algunos de los más importantes son:\n",
        "\n",
        "Código |\tSignificado\n",
        "-----| ------\n",
        "\\d |\tnumérico\n",
        "\\D |\tno numérico\n",
        "\\s |\tespacio en blanco\n",
        "\\S |\tno espacio en blanco\n",
        "\\w |\talfanumérico\n",
        "\\W |\tno alfanumérico\n",
        "\n",
        "El problema que encontraremos en Python a la hora de definir código escapado, es que las cadenas no tienen en cuenta el `'\\'` a no ser que especifiquemos que son cadenas en crudo (*raw*), por lo que tendremos que precedir las expresiones regulares con una `'r'`.\n",
        "\n",
        "*Nota*: por regla general las expresiones regulares las definiremos como raw `'r'` para evitar cualquier mala interpretación de los caracteres escapados."
      ]
    },
    {
      "cell_type": "code",
      "metadata": {
        "id": "IXfJ4K0jQKv5"
      },
      "source": [
        "# Function to analyze the search of several patterns\n",
        "def buscar(patrones, texto):\n",
        "    for patron in patrones:\n",
        "        print(re.findall(patron, texto))\n"
      ],
      "execution_count": null,
      "outputs": []
    },
    {
      "cell_type": "code",
      "metadata": {
        "colab": {
          "base_uri": "https://localhost:8080/"
        },
        "id": "TJDjYM1FUiEM",
        "outputId": "92482cf3-54c1-4a38-bdf3-692f7bbccf54"
      },
      "source": [
        "texto = \"Python se creó en el año 1991 con el número de versión 0.9.0.\"\n",
        "\n",
        "patrones = [r'\\d', r'\\D', r'\\s', r'\\S', r'\\w', r'\\W'] \n",
        "buscar(patrones, texto)"
      ],
      "execution_count": null,
      "outputs": [
        {
          "output_type": "stream",
          "text": [
            "['1', '9', '9', '1', '0', '9', '0']\n",
            "['P', 'y', 't', 'h', 'o', 'n', ' ', 's', 'e', ' ', 'c', 'r', 'e', 'ó', ' ', 'e', 'n', ' ', 'e', 'l', ' ', 'a', 'ñ', 'o', ' ', ' ', 'c', 'o', 'n', ' ', 'e', 'l', ' ', 'n', 'ú', 'm', 'e', 'r', 'o', ' ', 'd', 'e', ' ', 'v', 'e', 'r', 's', 'i', 'ó', 'n', ' ', '.', '.', '.']\n",
            "[' ', ' ', ' ', ' ', ' ', ' ', ' ', ' ', ' ', ' ', ' ', ' ']\n",
            "['P', 'y', 't', 'h', 'o', 'n', 's', 'e', 'c', 'r', 'e', 'ó', 'e', 'n', 'e', 'l', 'a', 'ñ', 'o', '1', '9', '9', '1', 'c', 'o', 'n', 'e', 'l', 'n', 'ú', 'm', 'e', 'r', 'o', 'd', 'e', 'v', 'e', 'r', 's', 'i', 'ó', 'n', '0', '.', '9', '.', '0', '.']\n",
            "['P', 'y', 't', 'h', 'o', 'n', 's', 'e', 'c', 'r', 'e', 'ó', 'e', 'n', 'e', 'l', 'a', 'ñ', 'o', '1', '9', '9', '1', 'c', 'o', 'n', 'e', 'l', 'n', 'ú', 'm', 'e', 'r', 'o', 'd', 'e', 'v', 'e', 'r', 's', 'i', 'ó', 'n', '0', '9', '0']\n",
            "[' ', ' ', ' ', ' ', ' ', ' ', ' ', ' ', ' ', ' ', ' ', ' ', '.', '.', '.']\n"
          ],
          "name": "stdout"
        }
      ]
    },
    {
      "cell_type": "markdown",
      "metadata": {
        "id": "qnH3_oETRbyc"
      },
      "source": [
        "### Patrones con varios valores\n",
        "\n",
        "Si queremos comprobar varias posibilidades, podemos utilizar el metacarácter `|` a modo de `OR`:\n"
      ]
    },
    {
      "cell_type": "code",
      "metadata": {
        "colab": {
          "base_uri": "https://localhost:8080/"
        },
        "id": "Yf83RmnMR7k9",
        "outputId": "03ff66b3-06c2-4cb4-c77f-930b599791a5"
      },
      "source": [
        "texto = \"hola adios hello bye\"\n",
        "patrones = [r'hola|hello'] \n",
        "buscar(patrones, texto)"
      ],
      "execution_count": null,
      "outputs": [
        {
          "output_type": "stream",
          "text": [
            "['hola', 'hello']\n"
          ],
          "name": "stdout"
        }
      ]
    },
    {
      "cell_type": "markdown",
      "metadata": {
        "id": "r7x-HqldLR-z"
      },
      "source": [
        "### Incluyendo repeticiones\n",
        "\n",
        "Hay varias formas de expresar la repetición en un patrón. En la siguiente tabla, resumimos como usarlas.\n",
        "\n",
        " Metacarácter \t|  Descripción\n",
        " --- | ---\n",
        "`*` | se repite\tcero o más, similar a `{0,}`.\n",
        "`+` |\tse repite una o más, similar a `{1,}`.\n",
        "`?` |\tse repite cero o una, similar a `{0,1}`.\n",
        "`{n}` |\tse repite exactamente n veces.\n",
        "`{n,}` |\tse repite por lo menos n veces.\n",
        "`{n,m}` |\tse repite por lo menos n pero no más de m veces.\n",
        "\n",
        "Así, por ejemplo, un patrón seguido por el metacarácter `*` indica que debe repetirse cero o más veces (permitiendo que un patrón se repita cero veces significa que no necesita aparecer en absoluto para que coincida). "
      ]
    },
    {
      "cell_type": "code",
      "metadata": {
        "colab": {
          "base_uri": "https://localhost:8080/"
        },
        "id": "uIoMu3CbFMEk",
        "outputId": "eaec1d28-8dc5-4e8e-e461-7671f27d9069"
      },
      "source": [
        "texto = \"Python se creó en el año 1991 con el número de versión 0.9.0.\"\n",
        "\n",
        "patrones = [r'\\d+', r'\\D+', r'\\s+', r'\\S+', r'\\w+', r'\\W+'] \n",
        "buscar(patrones, texto)"
      ],
      "execution_count": null,
      "outputs": [
        {
          "output_type": "stream",
          "text": [
            "['1991', '0', '9', '0']\n",
            "['Python se creó en el año ', ' con el número de versión ', '.', '.', '.']\n",
            "[' ', ' ', ' ', ' ', ' ', ' ', ' ', ' ', ' ', ' ', ' ', ' ']\n",
            "['Python', 'se', 'creó', 'en', 'el', 'año', '1991', 'con', 'el', 'número', 'de', 'versión', '0.9.0.']\n",
            "['Python', 'se', 'creó', 'en', 'el', 'año', '1991', 'con', 'el', 'número', 'de', 'versión', '0', '9', '0']\n",
            "[' ', ' ', ' ', ' ', ' ', ' ', ' ', ' ', ' ', ' ', ' ', ' ', '.', '.', '.']\n"
          ],
          "name": "stdout"
        }
      ]
    },
    {
      "cell_type": "code",
      "metadata": {
        "id": "ELVcoBAhQKyX"
      },
      "source": [
        "texto = \"hla hola hoola hooola hooooola\""
      ],
      "execution_count": null,
      "outputs": []
    },
    {
      "cell_type": "code",
      "metadata": {
        "colab": {
          "base_uri": "https://localhost:8080/"
        },
        "id": "EHz9wvf_Swmq",
        "outputId": "4c1747aa-fa10-40c2-8d3d-bb16e3742cf0"
      },
      "source": [
        "patrones = [r'hla', r'hola', r'hoola']\n",
        "buscar(patrones, texto)"
      ],
      "execution_count": null,
      "outputs": [
        {
          "output_type": "stream",
          "text": [
            "['hla']\n",
            "['hola']\n",
            "['hoola']\n"
          ],
          "name": "stdout"
        }
      ]
    },
    {
      "cell_type": "code",
      "metadata": {
        "colab": {
          "base_uri": "https://localhost:8080/"
        },
        "id": "fZQKtt6FSQM_",
        "outputId": "0318b04b-e190-4ffa-f22a-10a6b5172ffd"
      },
      "source": [
        "patrones = [r'ho',r'ho*',r'ho*la',r'hu*la']\n",
        "buscar(patrones, texto)"
      ],
      "execution_count": null,
      "outputs": [
        {
          "output_type": "stream",
          "text": [
            "['ho', 'ho', 'ho', 'ho']\n",
            "['h', 'ho', 'hoo', 'hooo', 'hooooo']\n",
            "['hla', 'hola', 'hoola', 'hooola', 'hooooola']\n",
            "['hla']\n"
          ],
          "name": "stdout"
        }
      ]
    },
    {
      "cell_type": "code",
      "metadata": {
        "colab": {
          "base_uri": "https://localhost:8080/"
        },
        "id": "9CiqLiKwSS7p",
        "outputId": "f07ab226-059f-451c-ac66-2ef1a6f57090"
      },
      "source": [
        "patrones = [r'ho*', r'ho+']  \n",
        "buscar(patrones, texto)"
      ],
      "execution_count": null,
      "outputs": [
        {
          "output_type": "stream",
          "text": [
            "['h', 'ho', 'hoo', 'hooo', 'hooooo']\n",
            "['ho', 'hoo', 'hooo', 'hooooo']\n"
          ],
          "name": "stdout"
        }
      ]
    },
    {
      "cell_type": "code",
      "metadata": {
        "colab": {
          "base_uri": "https://localhost:8080/"
        },
        "id": "zjXRU19jSVNM",
        "outputId": "73727b85-966a-4aff-f37a-a9532d671621"
      },
      "source": [
        "patrones = [r'ho*', r'ho+', r'ho?', r'ho?la']\n",
        "buscar(patrones, texto)"
      ],
      "execution_count": null,
      "outputs": [
        {
          "output_type": "stream",
          "text": [
            "['h', 'ho', 'hoo', 'hooo', 'hooooo']\n",
            "['ho', 'hoo', 'hooo', 'hooooo']\n",
            "['h', 'ho', 'ho', 'ho', 'ho']\n",
            "['hla', 'hola']\n"
          ],
          "name": "stdout"
        }
      ]
    },
    {
      "cell_type": "code",
      "metadata": {
        "colab": {
          "base_uri": "https://localhost:8080/"
        },
        "id": "4GSYqDhlSXs_",
        "outputId": "21e3cc73-09f1-40e5-d6e3-33b3e91b11ec"
      },
      "source": [
        "patrones = [r'ho{0}la', r'ho{1}la', r'ho{2}la']\n",
        "buscar(patrones, texto)"
      ],
      "execution_count": null,
      "outputs": [
        {
          "output_type": "stream",
          "text": [
            "['hla']\n",
            "['hola']\n",
            "['hoola']\n"
          ],
          "name": "stdout"
        }
      ]
    },
    {
      "cell_type": "code",
      "metadata": {
        "colab": {
          "base_uri": "https://localhost:8080/"
        },
        "id": "G6yGP5a0SaPl",
        "outputId": "4d2dec9a-06ee-490c-8e9a-57be15b56f31"
      },
      "source": [
        "patrones = [r'ho{0,1}la', r'ho{1,2}la', r'ho{2,9}la']\n",
        "buscar(patrones, texto)"
      ],
      "execution_count": null,
      "outputs": [
        {
          "output_type": "stream",
          "text": [
            "['hla', 'hola']\n",
            "['hola', 'hoola']\n",
            "['hoola', 'hooola', 'hooooola']\n"
          ],
          "name": "stdout"
        }
      ]
    },
    {
      "cell_type": "code",
      "metadata": {
        "colab": {
          "base_uri": "https://localhost:8080/"
        },
        "id": "cS_xCdeLSiZf",
        "outputId": "4004a763-f311-405f-f7d4-e3ed09b3018d"
      },
      "source": [
        "texto = \"haala heeela haaeela hiiiila hoooooola\"\n",
        "\n",
        "patrones = [r'h[ae]la', r'h[ae]*la', r'h[io]{3,9}la']\n",
        "buscar(patrones, texto)\n"
      ],
      "execution_count": null,
      "outputs": [
        {
          "output_type": "stream",
          "text": [
            "[]\n",
            "['haala', 'heeela', 'haaeela']\n",
            "['hiiiila', 'hoooooola']\n"
          ],
          "name": "stdout"
        }
      ]
    },
    {
      "cell_type": "markdown",
      "metadata": {
        "id": "eEWiGukXmIs6"
      },
      "source": [
        "### Delimitadores\n",
        "\n",
        "Esta clase de metacaracteres nos permite delimitar dónde queremos buscar los patrones de búsqueda. Los principales son:\n",
        "\n",
        "Metacarácter |\tDescripción\n",
        "----| -----\n",
        "^ |\tinicio de texto.\n",
        "$ |\tfin de texto.\n",
        ". |\tcualquier carácter en el texto.\n",
        "\\b |\testá al principio (o al final) de una palabra.\n",
        "\\B |\tno está al principio (o al final) de una palabra.\n"
      ]
    },
    {
      "cell_type": "code",
      "metadata": {
        "colab": {
          "base_uri": "https://localhost:8080/"
        },
        "id": "sfpiUo4rovCc",
        "outputId": "faa2c5b6-75e1-4050-b547-90d4757c0032"
      },
      "source": [
        "texto = \"Python se creó en el año 1991 con el número de versión 0.9.0. Python debe su nombre a la afición de su creador por los humoristas británicos Monty Python\"\n",
        "# Buscamos \"Python\" al principio y al final de texto\n",
        "patrones = [r'^Python', r'Python$'] \n",
        "buscar(patrones, texto)"
      ],
      "execution_count": null,
      "outputs": [
        {
          "output_type": "stream",
          "text": [
            "['Python']\n",
            "['Python']\n"
          ],
          "name": "stdout"
        }
      ]
    },
    {
      "cell_type": "code",
      "metadata": {
        "colab": {
          "base_uri": "https://localhost:8080/"
        },
        "id": "bsdaOVsltrGJ",
        "outputId": "7c91a0cf-5d23-4299-b18c-eaa0668e8920"
      },
      "source": [
        "# Buscamos palabras que comiencen por P y acaben en n y tengan 4 caracteres (los que sean) en medio\n",
        "patrones = [r'P....n'] \n",
        "buscar(patrones, texto)"
      ],
      "execution_count": null,
      "outputs": [
        {
          "output_type": "stream",
          "text": [
            "['Python', 'Python', 'Python']\n"
          ],
          "name": "stdout"
        }
      ]
    },
    {
      "cell_type": "code",
      "metadata": {
        "colab": {
          "base_uri": "https://localhost:8080/"
        },
        "id": "5w6ZHMoAssJJ",
        "outputId": "d5d01ee1-7771-408f-bf75-d85cbf3cfc49"
      },
      "source": [
        "# Buscamos palabras que comiencen por M seguidas de caracteres (los que sean) y luego lleven la cadena \"Python\"\n",
        "patrones = ['M.* Python'] \n",
        "buscar(patrones, texto)"
      ],
      "execution_count": null,
      "outputs": [
        {
          "output_type": "stream",
          "text": [
            "['Monty Python']\n"
          ],
          "name": "stdout"
        }
      ]
    },
    {
      "cell_type": "markdown",
      "metadata": {
        "id": "Mz9sKPWVxXGF"
      },
      "source": [
        "*Nota*: tenemos que usar '\\\\.' si queremos indicar que nuestro patrón contiene el caracter '.'"
      ]
    },
    {
      "cell_type": "code",
      "metadata": {
        "colab": {
          "base_uri": "https://localhost:8080/"
        },
        "id": "qn3apCatxVzF",
        "outputId": "2283723b-eed7-4bcd-d8e5-52367eb05c1d"
      },
      "source": [
        "patrones = [r'0\\.9\\.0'] \n",
        "buscar(patrones, texto)"
      ],
      "execution_count": null,
      "outputs": [
        {
          "output_type": "stream",
          "text": [
            "['0.9.0']\n"
          ],
          "name": "stdout"
        }
      ]
    },
    {
      "cell_type": "markdown",
      "metadata": {
        "id": "y-CxjqiVHuzC"
      },
      "source": [
        "**Ejercicio**: Antes de ejecutar la siguiente celda, indique que está buscando cada expresión regular"
      ]
    },
    {
      "cell_type": "code",
      "metadata": {
        "colab": {
          "base_uri": "https://localhost:8080/"
        },
        "id": "9mkYNO3rrbmm",
        "outputId": "7a25ff79-752a-421a-cc5c-2e413721fbb3"
      },
      "source": [
        "texto = \"Python se creó en el año 1991 con el número de versión 0.9.0.  Python debe su nombre a la afición de su creador por los humoristas británicos Monty Python\"\n",
        "\n",
        "patrones = [r'\\bP', r'n\\b', r'\\B[a-o]', r'[a-o]\\B'] \n",
        "buscar(patrones, texto)"
      ],
      "execution_count": null,
      "outputs": [
        {
          "output_type": "stream",
          "text": [
            "['P', 'P', 'P']\n",
            "['n', 'n', 'n', 'n', 'n', 'n', 'n']\n",
            "['h', 'o', 'n', 'e', 'e', 'n', 'l', 'o', 'o', 'n', 'l', 'm', 'e', 'o', 'e', 'e', 'i', 'n', 'h', 'o', 'n', 'e', 'b', 'e', 'o', 'm', 'b', 'e', 'a', 'f', 'i', 'c', 'i', 'n', 'e', 'e', 'a', 'd', 'o', 'o', 'o', 'm', 'o', 'i', 'a', 'i', 'n', 'i', 'c', 'o', 'o', 'n', 'h', 'o', 'n']\n",
            "['h', 'o', 'c', 'e', 'e', 'e', 'a', 'c', 'o', 'e', 'n', 'm', 'e', 'd', 'e', 'i', 'h', 'o', 'd', 'e', 'b', 'n', 'o', 'm', 'b', 'l', 'a', 'f', 'i', 'c', 'i', 'd', 'c', 'e', 'a', 'd', 'o', 'o', 'l', 'o', 'h', 'm', 'o', 'i', 'a', 'b', 'i', 'n', 'i', 'c', 'o', 'o', 'n', 'h', 'o']\n"
          ],
          "name": "stdout"
        }
      ]
    },
    {
      "cell_type": "markdown",
      "metadata": {
        "id": "zsKZTytBH7bU"
      },
      "source": [
        "##### Solución\n"
      ]
    },
    {
      "cell_type": "markdown",
      "metadata": {
        "id": "svT3Mq1rJNTD"
      },
      "source": [
        "* `r'\\bP'`: inicio/fin de palabra seguido `'P'`, es decir, `'P'` al principio de palabra.\n",
        "* `r'n\\b'`:  `'n'` seguido de inicio/fin de palabra, es decir, `'n'` al final de palabra.\n",
        "* `r'\\B[a-o]'`: No está inicio/fin de palabra seguido caracteres entre `a` y `o`. Cualquier caracter entre `a-o` que no esté al principio de palabra.\n",
        "* `r'[a-o]\\B'`: caracteres entre `a` y `o` seguido de no está inicio/fin de palabra. Cualquier caracter entre `a-o` que no esté al final de palabra."
      ]
    },
    {
      "cell_type": "markdown",
      "metadata": {
        "id": "GeF5B37hTwus"
      },
      "source": [
        "### Patrón por exclusión `[^ ]`\n",
        "\n",
        "Cuando definimos nuestros patrones podemos utilizar el operador de exclusión `[^ ]` para indicar una búsqueda contraria:"
      ]
    },
    {
      "cell_type": "code",
      "metadata": {
        "id": "32oYgsy6Qrjk",
        "colab": {
          "base_uri": "https://localhost:8080/"
        },
        "outputId": "6d5761f3-d0b7-4d2d-c6b2-7dc9e6289cae"
      },
      "source": [
        "patrones = [r'\\b[^P]', r'[^n]\\b'] \n",
        "buscar(patrones, texto)"
      ],
      "execution_count": null,
      "outputs": [
        {
          "output_type": "stream",
          "text": [
            "[' ', 's', ' ', 'c', ' ', 'e', ' ', 'e', ' ', 'a', ' ', '1', ' ', 'c', ' ', 'e', ' ', 'n', ' ', 'd', ' ', 'v', ' ', '0', '.', '9', '.', '0', '.', ' ', 'd', ' ', 's', ' ', 'n', ' ', 'a', ' ', 'l', ' ', 'a', ' ', 'd', ' ', 's', ' ', 'c', ' ', 'p', ' ', 'l', ' ', 'h', ' ', 'b', ' ', 'M', ' ']\n",
            "[' ', 'e', ' ', 'ó', ' ', ' ', 'l', ' ', 'o', ' ', '1', ' ', ' ', 'l', ' ', 'o', ' ', 'e', ' ', ' ', '0', '.', '9', '.', '0', ' ', ' ', 'e', ' ', 'u', ' ', 'e', ' ', 'a', ' ', 'a', ' ', ' ', 'e', ' ', 'u', ' ', 'r', ' ', 'r', ' ', 's', ' ', 's', ' ', 's', ' ', 'y', ' ']\n"
          ],
          "name": "stdout"
        }
      ]
    },
    {
      "cell_type": "markdown",
      "metadata": {
        "id": "6UT6gtFCJ5mE"
      },
      "source": [
        "*Nota*: en la búsqueda, al indicar principio o final de palabra, también incluye los espacios porque son considerados palabras en sí."
      ]
    },
    {
      "cell_type": "code",
      "metadata": {
        "colab": {
          "base_uri": "https://localhost:8080/"
        },
        "id": "yl4VzRL4T1Kk",
        "outputId": "78ba9fac-537e-456a-f33e-34ecbb76ef47"
      },
      "source": [
        "texto = \"hala hela hila hola hula\"\n",
        "\n",
        "patrones = [r'hola', r'h[^o]la'] \n",
        "buscar(patrones, texto)\n"
      ],
      "execution_count": null,
      "outputs": [
        {
          "output_type": "stream",
          "text": [
            "['hola']\n",
            "['hala', 'hela', 'hila', 'hula']\n"
          ],
          "name": "stdout"
        }
      ]
    },
    {
      "cell_type": "markdown",
      "metadata": {
        "id": "CIeAOxlhrwHt"
      },
      "source": [
        "*Nota*: vea la difenrencia entre usar `^` para buscar el patrón al inicio del texto o aquí que va entre `[^ ]` para indicar exclusión."
      ]
    },
    {
      "cell_type": "markdown",
      "metadata": {
        "id": "tiyDQ2KAvnqf"
      },
      "source": [
        "#### Ejercicio\n",
        "\n",
        "Escriba las expresiones regulares que le permiten extraer del siguiente texto:\n",
        "* Las palabras que empienzan por `'P'` (queremos toda la palabra no sólo el carácter `'P'`)\n",
        "* Los años (secuencias de 4 dígitos)\n",
        "* Las versiones de código (secuencias de 3 dígitos separadas por `'.'`) "
      ]
    },
    {
      "cell_type": "code",
      "metadata": {
        "id": "_kXXdegPUgol"
      },
      "source": [
        "texto = \"Python se creó en el año 1991 con el número de versión 0.9.0 en los Países Bajos. A día de hoy ya vamos por la versión 3.X-X. Python debe su nombre a la afición de su creador por los humoristas británicos Monty Python\""
      ],
      "execution_count": null,
      "outputs": []
    },
    {
      "cell_type": "markdown",
      "metadata": {
        "id": "UHwdx1BlUdXy"
      },
      "source": [
        "#### Solución"
      ]
    },
    {
      "cell_type": "code",
      "metadata": {
        "colab": {
          "base_uri": "https://localhost:8080/"
        },
        "id": "ibPssjs1t5f9",
        "outputId": "980470a6-216a-4508-f26f-34367d88c1ef"
      },
      "source": [
        "#<SOL>\n",
        "patrones = [r'\\bP\\w*', r'\\d{4}', r'\\d\\.\\d\\.\\d'] \n",
        "buscar(patrones, texto)\n",
        "#</SOL>"
      ],
      "execution_count": null,
      "outputs": [
        {
          "output_type": "stream",
          "text": [
            "['Python', 'Países', 'Python', 'Python']\n",
            "['1991']\n",
            "['0.9.0']\n"
          ],
          "name": "stdout"
        }
      ]
    },
    {
      "cell_type": "markdown",
      "metadata": {
        "id": "9p8fwL4xkXXl"
      },
      "source": [
        "## Coincidencias con grupos\n",
        "\n",
        "La búsqueda de coincidencias de patrones es la base de las poderosas capacidades proporcionadas por expresiones regulares. Agregando grupos a un patrón aísla partes del texto que coincide, expandiendo las capacidades para crear un analizador. Los grupos se definen al adjuntar patrones entre paréntesis.\n",
        "\n"
      ]
    },
    {
      "cell_type": "code",
      "metadata": {
        "colab": {
          "base_uri": "https://localhost:8080/"
        },
        "id": "_2a5mdVbkele",
        "outputId": "9be1b15f-2223-4685-d87b-d60c700dd671"
      },
      "source": [
        "texto = \"haala heeela hiiiila hoooooola\"\n",
        "\n",
        "patrones = [r'h(aa)la', r'h(ee)la', r'h(ii)la', r'h(oo)la']\n",
        "buscar(patrones, texto)"
      ],
      "execution_count": null,
      "outputs": [
        {
          "output_type": "stream",
          "text": [
            "['aa']\n",
            "[]\n",
            "[]\n",
            "[]\n"
          ],
          "name": "stdout"
        }
      ]
    },
    {
      "cell_type": "markdown",
      "metadata": {
        "id": "AzHQNTqKlRHY"
      },
      "source": [
        "Cualquier expresión regular completa se puede convertir en un grupo y ser anidada dentro de una expresión más grande. Todos los modificadores de repetición pueden ser aplicados a un grupo como un todo, requiriendo que todo el patrón de grupo se repita."
      ]
    },
    {
      "cell_type": "code",
      "metadata": {
        "colab": {
          "base_uri": "https://localhost:8080/"
        },
        "id": "xnfdYKHmkwHr",
        "outputId": "a536ee61-777d-4064-a2f1-ebafe422583d"
      },
      "source": [
        "texto = \"hla hoola hooola hoooola hoooooola\"\n",
        "\n",
        "patrones = [r'h(oo)la', r'h(oo)*la', r'h(oo)+la', r'h(oo)?la']\n",
        "buscar(patrones, texto)"
      ],
      "execution_count": null,
      "outputs": [
        {
          "output_type": "stream",
          "text": [
            "['oo']\n",
            "['', 'oo', 'oo', 'oo']\n",
            "['oo', 'oo', 'oo']\n",
            "['', 'oo']\n"
          ],
          "name": "stdout"
        }
      ]
    },
    {
      "cell_type": "markdown",
      "metadata": {
        "id": "JVkcqBAJkXUr"
      },
      "source": [
        "De hecho, podemos buscar varios grupos dentro de una misma expresión regular "
      ]
    },
    {
      "cell_type": "code",
      "metadata": {
        "colab": {
          "base_uri": "https://localhost:8080/"
        },
        "id": "mazVsFKFVv73",
        "outputId": "1ee067d2-1656-4fa7-a454-4eb1b8edb481"
      },
      "source": [
        "# Busqueda de varios grupos\n",
        "texto = \"hla hoola hooola hoooola hoooooola\"\n",
        "\n",
        "patrones = [r'(h(oo)*la)']\n",
        "buscar(patrones, texto)"
      ],
      "execution_count": null,
      "outputs": [
        {
          "output_type": "stream",
          "text": [
            "[('hla', ''), ('hoola', 'oo'), ('hoooola', 'oo'), ('hoooooola', 'oo')]\n"
          ],
          "name": "stdout"
        }
      ]
    },
    {
      "cell_type": "markdown",
      "metadata": {
        "id": "Mru35iqi7_GB"
      },
      "source": [
        "Ahora podemos acceder a los diferentes grupos de la búsqueda con la función `group()` e indicando el índice. Veamos esto con el siguiente ejemplo..."
      ]
    },
    {
      "cell_type": "code",
      "metadata": {
        "colab": {
          "base_uri": "https://localhost:8080/"
        },
        "id": "9W86fwEI7cYp",
        "outputId": "20cce6b5-44d9-438d-a1ac-40b188a43c98"
      },
      "source": [
        "# Busqueda de varios grupos\n",
        "patron = r\"(\\w+) (\\w+)\"\n",
        "busqueda = re.match(patron, \"Fernando García\")\n",
        "busqueda"
      ],
      "execution_count": null,
      "outputs": [
        {
          "output_type": "execute_result",
          "data": {
            "text/plain": [
              "<re.Match object; span=(0, 15), match='Fernando García'>"
            ]
          },
          "metadata": {},
          "execution_count": 151
        }
      ]
    },
    {
      "cell_type": "code",
      "metadata": {
        "colab": {
          "base_uri": "https://localhost:8080/"
        },
        "id": "6K6imZxv7fVy",
        "outputId": "06f8d4e1-2586-4382-d1db-e7b32804f11c"
      },
      "source": [
        "# Accediendo a los grupos por sus indices\n",
        "# grupo 1\n",
        "print(busqueda.group(1))\n",
        "# grupo 2\n",
        "print(busqueda.group(2))"
      ],
      "execution_count": null,
      "outputs": [
        {
          "output_type": "stream",
          "text": [
            "Fernando\n",
            "García\n"
          ],
          "name": "stdout"
        }
      ]
    },
    {
      "cell_type": "markdown",
      "metadata": {
        "id": "4dLl4d7S8RgU"
      },
      "source": [
        "También podemos definir alias en la expresión regular para luego facilitar el acceso. Para ello solo hay que usar esta secuencia `(?P<alias>patron)` al definir el patrón."
      ]
    },
    {
      "cell_type": "code",
      "metadata": {
        "colab": {
          "base_uri": "https://localhost:8080/"
        },
        "id": "U4vMwydn8QrD",
        "outputId": "9581daf9-a821-4f19-a54d-699001527bc7"
      },
      "source": [
        "# Accediendo a los grupos por nombres\n",
        "patron = r\"(?P<nombre>\\w+) (?P<apellido>\\w+)\"\n",
        "busqueda = re.match(patron, \"Antonio Sánchez\")\n",
        "\n",
        "# grupo nombre\n",
        "print(busqueda.group(\"nombre\"))\n",
        "\n",
        "# grupo apellido\n",
        "print(busqueda.group(\"apellido\"))"
      ],
      "execution_count": null,
      "outputs": [
        {
          "output_type": "stream",
          "text": [
            "Antonio\n",
            "Sánchez\n"
          ],
          "name": "stdout"
        }
      ]
    },
    {
      "cell_type": "markdown",
      "metadata": {
        "id": "QhJAklByWrmF"
      },
      "source": [
        "Incluso, podemos usar el método `.groupdict()` para que esta información nos la devuelvada en un diccionario."
      ]
    },
    {
      "cell_type": "code",
      "metadata": {
        "colab": {
          "base_uri": "https://localhost:8080/"
        },
        "id": "ldZiW6JnWUSh",
        "outputId": "c4a5f0ee-df52-40d7-f31f-e6f69e78b7b0"
      },
      "source": [
        "# Generando un diccionario con los  grupos creados\n",
        "patron = r\"(?P<nombre>\\w+) (?P<apellido>\\w+)\"\n",
        "mydict_busqueda = re.match(patron, \"Antonio Sánchez\").groupdict()\n",
        "mydict_busqueda"
      ],
      "execution_count": null,
      "outputs": [
        {
          "output_type": "execute_result",
          "data": {
            "text/plain": [
              "{'apellido': 'Sánchez', 'nombre': 'Antonio'}"
            ]
          },
          "metadata": {},
          "execution_count": 154
        }
      ]
    },
    {
      "cell_type": "markdown",
      "metadata": {
        "id": "NVkB04FCSBpw"
      },
      "source": [
        "### Repeticiones de grupos: `'\\N'`\n",
        "\n",
        "Incluir `'\\N'` en nuestro patrón nos permite encontrar repeticiones de un grupo N veces (donde N es el número indicado en `\\N`). Por ejemplo\n"
      ]
    },
    {
      "cell_type": "code",
      "metadata": {
        "colab": {
          "base_uri": "https://localhost:8080/"
        },
        "id": "bKRQo7mvxBke",
        "outputId": "2a38734c-baa8-42bf-830e-4f72cb737d3f"
      },
      "source": [
        "busqueda = re.search(r'(\\b\\w+) \\1', 'Antonio Sánchez Sánchez')\n",
        "print(busqueda)"
      ],
      "execution_count": null,
      "outputs": [
        {
          "output_type": "stream",
          "text": [
            "<re.Match object; span=(8, 23), match='Sánchez Sánchez'>\n"
          ],
          "name": "stdout"
        }
      ]
    },
    {
      "cell_type": "markdown",
      "metadata": {
        "id": "H06rBgzvyL3j"
      },
      "source": [
        "Nos permite encontrar cualquier palabra repetida. Aunque nótese que al incluir un espacio entre el grupo y `'\\1'` encuentra `'Lopez Lopez'` y no `'LopezLopez'`."
      ]
    },
    {
      "cell_type": "code",
      "metadata": {
        "colab": {
          "base_uri": "https://localhost:8080/"
        },
        "id": "zNxSSBzByjqW",
        "outputId": "9b184f8f-d65e-427e-e96c-99e64dabc46d"
      },
      "source": [
        "busqueda = re.search(r'(\\b\\w+) \\1', 'Antonio SánchezSánchez')\n",
        "print(busqueda)"
      ],
      "execution_count": null,
      "outputs": [
        {
          "output_type": "stream",
          "text": [
            "None\n"
          ],
          "name": "stdout"
        }
      ]
    },
    {
      "cell_type": "code",
      "metadata": {
        "colab": {
          "base_uri": "https://localhost:8080/"
        },
        "id": "J3dcPdI3ynYX",
        "outputId": "d293596c-fb07-4e3c-ff7d-aba6d0a5a341"
      },
      "source": [
        "busqueda = re.search(r'(\\b\\w+)\\1', 'Antonio SánchezSánchez')\n",
        "print(busqueda)"
      ],
      "execution_count": null,
      "outputs": [
        {
          "output_type": "stream",
          "text": [
            "<re.Match object; span=(8, 22), match='SánchezSánchez'>\n"
          ],
          "name": "stdout"
        }
      ]
    },
    {
      "cell_type": "markdown",
      "metadata": {
        "id": "XjoHg7_Z2ymg"
      },
      "source": [
        "## Compiladores de expresiones regulares\n",
        "\n",
        "Cada vez que definimos la expresión regular y la usamos para buscar nuestro patrón, Python internamente tiene que compilar el patrón para así hacer la búsqueda. Lógicamente, si una misma expresión va a usarse varias veces, estaríamos generando reiteradamente las versiones compiladas de nuestros patrones de manera innecesaria. Para evitar esto podemos compilar al principio (y una sola vez) las expresiones regulares."
      ]
    },
    {
      "cell_type": "code",
      "metadata": {
        "colab": {
          "base_uri": "https://localhost:8080/"
        },
        "id": "DK2-AC8C2yEw",
        "outputId": "641e403f-bd7f-447a-8baf-a82f48aa6278"
      },
      "source": [
        "import time\n",
        "texto = \"Python se creó en el año 1991 con el número de versión 0.9.0. Python debe su nombre a la afición de su creador por los humoristas británicos Monty Python\"\n",
        "\n",
        "start = time.time()\n",
        "for i in range(100000):\n",
        "  re.findall('M.* Python', texto)\n",
        "delay=time.time()-start \n",
        "print(delay)"
      ],
      "execution_count": null,
      "outputs": [
        {
          "output_type": "stream",
          "text": [
            "0.12301850318908691\n"
          ],
          "name": "stdout"
        }
      ]
    },
    {
      "cell_type": "code",
      "metadata": {
        "colab": {
          "base_uri": "https://localhost:8080/"
        },
        "id": "4efUNy4O4DoW",
        "outputId": "7c24ff29-a580-4104-ff3a-014a8fca1538"
      },
      "source": [
        "start = time.time()\n",
        "patrones = re.compile('M.* Python')\n",
        "for i in range(100000):\n",
        "  patrones.findall(texto)\n",
        "delay=time.time()-start \n",
        "print(delay)"
      ],
      "execution_count": null,
      "outputs": [
        {
          "output_type": "stream",
          "text": [
            "0.046330928802490234\n"
          ],
          "name": "stdout"
        }
      ]
    },
    {
      "cell_type": "markdown",
      "metadata": {
        "id": "x29ibBomyuHd"
      },
      "source": [
        "## Otras utilidades de las expresiones regulares: Modificando el texto de entrada\n",
        "\n",
        "Además de buscar coincidencias de nuestro patrón de búsqueda en un texto, podemos utilizar ese mismo patrón para realizar modificaciones al texto de entrada. Para estos casos podemos utilizar los siguientes métodos:\n",
        "\n",
        " *  `split()`: El cual divide el texto en una lista, realizando las divisiones del texto en cada lugar donde se cumple con la expresion regular.\n",
        " *   `sub()`: El cual encuentra todos los subtextos donde existe una coincidencia con la expresion regular y luego los reemplaza con un nuevo texto.\n",
        " * `subn()`: El cual es similar al anterior pero además de devolver el nuevo texto, también devuelve el número de reemplazos que realizó.\n"
      ]
    },
    {
      "cell_type": "code",
      "metadata": {
        "id": "T3vczlcmy9sW"
      },
      "source": [
        "# texto de entrada\n",
        "becquer = \"\"\"Podrá nublarse el sol eternamente; \n",
        "Podrá secarse en un instante el mar; \n",
        "Podrá romperse el eje de la tierra \n",
        "como un débil cristal. \n",
        "¡Todo sucederá! Podrá la muerte \n",
        "cubrirme con su fúnebre crespón; \n",
        "Pero jamás en mí podrá apagarse \n",
        "la llama de tu amor.\"\"\""
      ],
      "execution_count": null,
      "outputs": []
    },
    {
      "cell_type": "code",
      "metadata": {
        "id": "D5x8hx5vy_k6"
      },
      "source": [
        "# patron para dividir donde no encuentre un carácter alfanumerico\n",
        "patron = re.compile(r'\\W+')"
      ],
      "execution_count": null,
      "outputs": []
    },
    {
      "cell_type": "code",
      "metadata": {
        "colab": {
          "base_uri": "https://localhost:8080/"
        },
        "id": "PTBfydiUzCeX",
        "outputId": "2470ab94-5f03-4216-d8e3-1b8572a3cac4"
      },
      "source": [
        "palabras = patron.split(becquer)\n",
        "palabras[:10]  # 10 primeras palabras"
      ],
      "execution_count": null,
      "outputs": [
        {
          "output_type": "execute_result",
          "data": {
            "text/plain": [
              "['Podrá',\n",
              " 'nublarse',\n",
              " 'el',\n",
              " 'sol',\n",
              " 'eternamente',\n",
              " 'Podrá',\n",
              " 'secarse',\n",
              " 'en',\n",
              " 'un',\n",
              " 'instante']"
            ]
          },
          "metadata": {},
          "execution_count": 162
        }
      ]
    },
    {
      "cell_type": "code",
      "metadata": {
        "colab": {
          "base_uri": "https://localhost:8080/"
        },
        "id": "TtZn65lfzE2P",
        "outputId": "f9a01144-8c01-47f4-d987-40924f04c40f"
      },
      "source": [
        "re.split(r'\\n', becquer)  # Dividiendo por líneas"
      ],
      "execution_count": null,
      "outputs": [
        {
          "output_type": "execute_result",
          "data": {
            "text/plain": [
              "['Podrá nublarse el sol eternamente; ',\n",
              " 'Podrá secarse en un instante el mar; ',\n",
              " 'Podrá romperse el eje de la tierra ',\n",
              " 'como un débil cristal. ',\n",
              " '¡Todo sucederá! Podrá la muerte ',\n",
              " 'cubrirme con su fúnebre crespón; ',\n",
              " 'Pero jamás en mí podrá apagarse ',\n",
              " 'la llama de tu amor.']"
            ]
          },
          "metadata": {},
          "execution_count": 163
        }
      ]
    },
    {
      "cell_type": "code",
      "metadata": {
        "colab": {
          "base_uri": "https://localhost:8080/"
        },
        "id": "anW7y0IdzKnO",
        "outputId": "74c02257-5d16-47d4-9372-58a36c730741"
      },
      "source": [
        "# Utilizando un valor máximo de divisiones\n",
        "patron.split(becquer, 5)"
      ],
      "execution_count": null,
      "outputs": [
        {
          "output_type": "execute_result",
          "data": {
            "text/plain": [
              "['Podrá',\n",
              " 'nublarse',\n",
              " 'el',\n",
              " 'sol',\n",
              " 'eternamente',\n",
              " 'Podrá secarse en un instante el mar; \\nPodrá romperse el eje de la tierra \\ncomo un débil cristal. \\n¡Todo sucederá! Podrá la muerte \\ncubrirme con su fúnebre crespón; \\nPero jamás en mí podrá apagarse \\nla llama de tu amor.']"
            ]
          },
          "metadata": {},
          "execution_count": 164
        }
      ]
    },
    {
      "cell_type": "code",
      "metadata": {
        "colab": {
          "base_uri": "https://localhost:8080/"
        },
        "id": "PJpYhpQXzOYD",
        "outputId": "1c1fd2be-eb4d-410c-b4c7-508e5c856d47"
      },
      "source": [
        "# Cambiando \"Podrá\" o \"podra\" por \"Puede\"\n",
        "podra = re.compile(r'\\b(P|p)odrá\\b')\n",
        "puede = podra.sub(\"Puede\", becquer)\n",
        "print(puede)"
      ],
      "execution_count": null,
      "outputs": [
        {
          "output_type": "stream",
          "text": [
            "Puede nublarse el sol eternamente; \n",
            "Puede secarse en un instante el mar; \n",
            "Puede romperse el eje de la tierra \n",
            "como un débil cristal. \n",
            "¡Todo sucederá! Puede la muerte \n",
            "cubrirme con su fúnebre crespón; \n",
            "Pero jamás en mí Puede apagarse \n",
            "la llama de tu amor.\n"
          ],
          "name": "stdout"
        }
      ]
    },
    {
      "cell_type": "code",
      "metadata": {
        "colab": {
          "base_uri": "https://localhost:8080/"
        },
        "id": "Nyojkk_YzQlZ",
        "outputId": "f9ceeb88-e59b-47e2-e1fb-679665348320"
      },
      "source": [
        "# Limitando el número de reemplazos\n",
        "puede = podra.sub(\"Puede\", becquer, 2)\n",
        "print(puede)"
      ],
      "execution_count": null,
      "outputs": [
        {
          "output_type": "stream",
          "text": [
            "Puede nublarse el sol eternamente; \n",
            "Puede secarse en un instante el mar; \n",
            "Podrá romperse el eje de la tierra \n",
            "como un débil cristal. \n",
            "¡Todo sucederá! Podrá la muerte \n",
            "cubrirme con su fúnebre crespón; \n",
            "Pero jamás en mí podrá apagarse \n",
            "la llama de tu amor.\n"
          ],
          "name": "stdout"
        }
      ]
    },
    {
      "cell_type": "code",
      "metadata": {
        "colab": {
          "base_uri": "https://localhost:8080/"
        },
        "id": "T8RVI44_zbSy",
        "outputId": "9c92f46f-53fe-467a-ea01-93cebae5c15b"
      },
      "source": [
        "# Utilizando subn\n",
        "re.subn(r'\\b(P|p)odrá\\b', \"Puede\", becquer)  # se realizaron 5 reemplazos"
      ],
      "execution_count": null,
      "outputs": [
        {
          "output_type": "execute_result",
          "data": {
            "text/plain": [
              "('Puede nublarse el sol eternamente; \\nPuede secarse en un instante el mar; \\nPuede romperse el eje de la tierra \\ncomo un débil cristal. \\n¡Todo sucederá! Puede la muerte \\ncubrirme con su fúnebre crespón; \\nPero jamás en mí Puede apagarse \\nla llama de tu amor.',\n",
              " 5)"
            ]
          },
          "metadata": {},
          "execution_count": 167
        }
      ]
    },
    {
      "cell_type": "markdown",
      "metadata": {
        "id": "B44QOpGU0GxR"
      },
      "source": [
        "##  *Flags* de compilación\n",
        "\n",
        "Las banderas o *flags* de compilación permiten modificar algunos aspectos de cómo funcionan las expresiones regulares. \n",
        "Algunos de los *flags* de compilación que podemos encontrar son:\n",
        "*  `IGNORECASE`, `I`: Para realizar búsquedas sin tener en cuenta las minúsculas o mayúsculas.\n",
        "*   `VERBOSE`, `X`: Que habilita el modo *verbose*, el cual permite organizar el patrón de búsqueda de una forma que sea más sencillo de entender y leer.\n",
        "*    `MULTILINE`, `M`: Que habilita la coincidencia en múltiples líneas, afectando el funcionamiento de los metacaracteres `^` and `$`.\n",
        "\n",
        "Como vemos, todas ellas están disponibles en el módulo `re` bajo dos nombres, un nombre largo como `IGNORECASE` y una forma abreviada de una sola letra como `I`. Múltiples banderas pueden ser especificadas utilizando el operador OR `\"|\"`; por ejemplo, `re.I` | `RE.M` establece la bandera `I` o `M`.\n"
      ]
    },
    {
      "cell_type": "code",
      "metadata": {
        "colab": {
          "base_uri": "https://localhost:8080/"
        },
        "id": "czsmuJOo0Jbm",
        "outputId": "373c3000-2301-4f13-96df-251e088c3b2b"
      },
      "source": [
        "# Ejemplo de IGNORECASE\n",
        "# Cambiando \"Podrá\" o \"podra\" por \"Puede\"\n",
        "podra = re.compile(r'podrá\\b', re.I)  # el patrón se vuelve más sencillo\n",
        "puede = podra.sub(\"puede\", becquer)\n",
        "print(puede)"
      ],
      "execution_count": null,
      "outputs": [
        {
          "output_type": "stream",
          "text": [
            "puede nublarse el sol eternamente; \n",
            "puede secarse en un instante el mar; \n",
            "puede romperse el eje de la tierra \n",
            "como un débil cristal. \n",
            "¡Todo sucederá! puede la muerte \n",
            "cubrirme con su fúnebre crespón; \n",
            "Pero jamás en mí puede apagarse \n",
            "la llama de tu amor.\n"
          ],
          "name": "stdout"
        }
      ]
    },
    {
      "cell_type": "markdown",
      "metadata": {
        "id": "KjlUKOYUMpUq"
      },
      "source": [
        "Veamos la utilidad del *flag* verbose definiendo una expresión regular bastante compleja para encontrar emails dentro de un texto:"
      ]
    },
    {
      "cell_type": "code",
      "metadata": {
        "id": "zIUF8YG-0h64"
      },
      "source": [
        "# Ejemplo de VERBOSE\n",
        "mail = re.compile(r\"\"\"\n",
        "\\b             # comienzo de delimitador de palabra\n",
        "[\\w.%+-]+      # usuario: Cualquier carácter alfanumerico mas los signos (.%+-)\n",
        "@              # seguido de @\n",
        "[\\w.-]+        # dominio: Cualquier carácter alfanumerico mas los signos (.-)\n",
        "\\.             # seguido de .\n",
        "[a-zA-Z]{2,6}  # dominio de alto nivel: 2 a 6 letras en minúsculas o mayúsculas.\n",
        "\\b             # fin de delimitador de palabra\n",
        "\"\"\", re.X)"
      ],
      "execution_count": null,
      "outputs": []
    },
    {
      "cell_type": "code",
      "metadata": {
        "id": "a_rzhngY0kLN"
      },
      "source": [
        "mails = \"\"\"antonio.perez@hotmail.com, Antonio Perez Lopez,\n",
        "foo bar, aperez@hotmail.com.ar, mario@github.io, \n",
        "https://mariowebpage.com.ar, https://mario.github.io, \n",
        "python@python, mario@mydominio.com.ar, pythonAR@python.pythonAR\n",
        "\"\"\""
      ],
      "execution_count": null,
      "outputs": []
    },
    {
      "cell_type": "code",
      "metadata": {
        "colab": {
          "base_uri": "https://localhost:8080/"
        },
        "id": "_hA8Bdjm0nRW",
        "outputId": "4f998309-2f0d-432d-b69e-f06310e8adfc"
      },
      "source": [
        "# filtrando los mails con estructura válida\n",
        "mail.findall(mails)"
      ],
      "execution_count": null,
      "outputs": [
        {
          "output_type": "execute_result",
          "data": {
            "text/plain": [
              "['antonio.perez@hotmail.com',\n",
              " 'aperez@hotmail.com.ar',\n",
              " 'mario@github.io',\n",
              " 'mario@mydominio.com.ar']"
            ]
          },
          "metadata": {},
          "execution_count": 171
        }
      ]
    },
    {
      "cell_type": "code",
      "metadata": {
        "colab": {
          "base_uri": "https://localhost:8080/"
        },
        "id": "2hrtQreY2iJO",
        "outputId": "53271bb5-d2b1-416a-d6e0-484f8feb8022"
      },
      "source": [
        "# Sin dividir por líneas: '^' es el principio de texto\n",
        "texto = \"Python se creó en el año 1991 con el número de versión 0.9.0. \\nPython debe su nombre a la afición de su creador por los humoristas británicos Monty Python\"\n",
        "print(texto)\n",
        "patron =re.compile(r'^Python') \n",
        "patron.findall(texto)"
      ],
      "execution_count": null,
      "outputs": [
        {
          "output_type": "stream",
          "text": [
            "Python se creó en el año 1991 con el número de versión 0.9.0. \n",
            "Python debe su nombre a la afición de su creador por los humoristas británicos Monty Python\n"
          ],
          "name": "stdout"
        },
        {
          "output_type": "execute_result",
          "data": {
            "text/plain": [
              "['Python']"
            ]
          },
          "metadata": {},
          "execution_count": 172
        }
      ]
    },
    {
      "cell_type": "code",
      "metadata": {
        "colab": {
          "base_uri": "https://localhost:8080/"
        },
        "id": "idmzun1J1Lmb",
        "outputId": "61653f5b-abf5-427c-c223-9f7a341e9030"
      },
      "source": [
        "# Con división por líneas: '^' es el principio de cada línea\n",
        "texto = \"Python se creó en el año 1991 con el número de versión 0.9.0. \\nPython debe su nombre a la afición de su creador por los humoristas británicos Monty Python\"\n",
        "print(texto)\n",
        "patron =re.compile(r'^Python', re.M) \n",
        "patron.findall(texto)\n"
      ],
      "execution_count": null,
      "outputs": [
        {
          "output_type": "stream",
          "text": [
            "Python se creó en el año 1991 con el número de versión 0.9.0. \n",
            "Python debe su nombre a la afición de su creador por los humoristas británicos Monty Python\n"
          ],
          "name": "stdout"
        },
        {
          "output_type": "execute_result",
          "data": {
            "text/plain": [
              "['Python', 'Python']"
            ]
          },
          "metadata": {},
          "execution_count": 173
        }
      ]
    },
    {
      "cell_type": "markdown",
      "metadata": {
        "id": "W2nsADWY11sh"
      },
      "source": [
        "### Ejercicio: Validando una fecha\n",
        "\n",
        "Escriba la expresión regular que le permita validar una fecha con la estructura `dd/mm/yyyy` y compruebe que funciona correctamente sobre los siguiente ejemplos:"
      ]
    },
    {
      "cell_type": "code",
      "metadata": {
        "id": "J_mnP0eqNzWB"
      },
      "source": [
        "# Incluya aquí su expresión regular para validar una fecha\n",
        "#<SOL>\n",
        "fecha = re.compile(r'^(0?[1-9]|[12][0-9]|3[01])/(0?[1-9]|1[012])/((19|20)\\d\\d)$')\n",
        "#</SOL>"
      ],
      "execution_count": null,
      "outputs": []
    },
    {
      "cell_type": "code",
      "metadata": {
        "id": "X5ZTIQnM16nU",
        "colab": {
          "base_uri": "https://localhost:8080/"
        },
        "outputId": "7a251242-2901-43a0-95b7-d8de1308480a"
      },
      "source": [
        "# validando 13/02/1982\n",
        "print(fecha.search(\"13/02/1982\"))\n",
        "\n",
        "# no valida 13-02-1982\n",
        "print(fecha.search(\"13-02-1982\"))\n",
        "\n",
        "# no valida 32/12/2015\n",
        "print(fecha.search(\"32/12/2015\"))\n",
        "\n",
        "# no valida 30/14/2015\n",
        "print(fecha.search(\"30/14/2015\"))\n",
        "\n"
      ],
      "execution_count": null,
      "outputs": [
        {
          "output_type": "stream",
          "text": [
            "<re.Match object; span=(0, 10), match='13/02/1982'>\n",
            "None\n",
            "None\n",
            "None\n"
          ],
          "name": "stdout"
        }
      ]
    },
    {
      "cell_type": "code",
      "metadata": {
        "id": "vBqXxyOvOGNA"
      },
      "source": [],
      "execution_count": null,
      "outputs": []
    }
  ]
}